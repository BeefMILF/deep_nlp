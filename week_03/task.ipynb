{
  "nbformat": 4,
  "nbformat_minor": 0,
  "metadata": {
    "colab": {
      "name": "Week 03 - Word Embeddings (Part 2).ipynb",
      "version": "0.3.2",
      "provenance": [],
      "collapsed_sections": []
    },
    "kernelspec": {
      "name": "python3",
      "display_name": "Python 3"
    },
    "accelerator": "GPU"
  },
  "cells": [
    {
      "metadata": {
        "id": "9vacV4BIFI8l",
        "colab_type": "code",
        "colab": {}
      },
      "cell_type": "code",
      "source": [
        "!pip3 -qq install torch==0.4.1\n",
        "!pip install -q --upgrade nltk gensim bokeh pandas\n",
        "\n",
        "!wget -O quora.zip -qq --no-check-certificate \"https://drive.google.com/uc?export=download&id=1ERtxpdWOgGQ3HOigqAMHTJjmOE_tWvoF\"\n",
        "!unzip quora.zip\n",
        "\n",
        "import nltk\n",
        "nltk.download('punkt')"
      ],
      "execution_count": 0,
      "outputs": []
    },
    {
      "metadata": {
        "id": "XIFSTdJG95SZ",
        "colab_type": "code",
        "colab": {}
      },
      "cell_type": "code",
      "source": [
        "import time\n",
        "import math\n",
        "import numpy as np\n",
        "import matplotlib.pyplot as plt\n",
        "from IPython.display import clear_output\n",
        "%matplotlib inline\n",
        "\n",
        "import torch\n",
        "import torch.autograd as autograd\n",
        "import torch.nn as nn\n",
        "import torch.nn.functional as F\n",
        "import torch.optim as optim \n",
        "\n",
        "np.random.seed(42)"
      ],
      "execution_count": 0,
      "outputs": []
    },
    {
      "metadata": {
        "id": "lbpWIAreB6ky",
        "colab_type": "text"
      },
      "cell_type": "markdown",
      "source": [
        "# Введение в PyTorch"
      ]
    },
    {
      "metadata": {
        "id": "_M0mMOadG8aZ",
        "colab_type": "text"
      },
      "cell_type": "markdown",
      "source": [
        "PyTorch - это один из самых известных фреймворков для работы с нейронными сетями.\n",
        "\n",
        "Почему именно он? Ну, он няшен, питоняч и проще в отладке - по сравнению с монстрами типа tensoflow (хотя tf 2.0 с eager execution будет примерно таким же).\n",
        "\n",
        "И вообще, мы тут не фреймворки, а сеточки учить собирались :)\n",
        "\n"
      ]
    },
    {
      "metadata": {
        "id": "vsScdJ7DLZCm",
        "colab_type": "text"
      },
      "cell_type": "markdown",
      "source": [
        "## Автоматическое дифференцирование"
      ]
    },
    {
      "metadata": {
        "id": "bY9FHLM-M4aW",
        "colab_type": "text"
      },
      "cell_type": "markdown",
      "source": [
        "### Графы вычислений"
      ]
    },
    {
      "metadata": {
        "id": "KkvCloDpNXdH",
        "colab_type": "text"
      },
      "cell_type": "markdown",
      "source": [
        "Графы вычислений - это такой удобный способ быстро считать градиенты сложных-пресложных функций.\n",
        "\n",
        "Например, функция\n",
        "\n",
        "$$f = (x + y) \\cdot z$$\n",
        "\n",
        "представится графом\n",
        "\n",
        "![graph](https://image.ibb.co/mWM0Lx/1_6o_Utr7_ENFHOK7_J4l_XJtw1g.png =500x)  \n",
        "*From [Backpropagation, Intuitions - CS231n](http://cs231n.github.io/optimization-2/)*\n",
        "\n",
        "**Задание** Зададим значения $x, y, z$ (зеленым на картинке). Как посчитать $\\frac{\\partial f}{\\partial x}, \\frac{\\partial f}{\\partial y}, \\frac{\\partial f}{\\partial z}$? (*Вспоминаем, что такое backpropagation*)\n",
        "\n",
        "В PyTorch такие вычисления делаются очень просто.\n",
        "\n",
        "Сначала определяется функция - просто последовательность операций:"
      ]
    },
    {
      "metadata": {
        "id": "lw4ASRktLdO4",
        "colab_type": "code",
        "colab": {}
      },
      "cell_type": "code",
      "source": [
        "x = torch.tensor(-2., requires_grad=True)\n",
        "y = torch.tensor(5., requires_grad=True)\n",
        "z = torch.tensor(-4., requires_grad=True)\n",
        "\n",
        "q = x + y\n",
        "f = q * z"
      ],
      "execution_count": 0,
      "outputs": []
    },
    {
      "metadata": {
        "id": "-78COM99N8YL",
        "colab_type": "text"
      },
      "cell_type": "markdown",
      "source": [
        "А затем говорим ей: \"Посчитай градиенты, пожалуйста\""
      ]
    },
    {
      "metadata": {
        "id": "9FOlPMIQMfbq",
        "colab_type": "code",
        "colab": {
          "base_uri": "https://localhost:8080/",
          "height": 68
        },
        "outputId": "11866301-cdf4-4c23-f44e-031ecc6ca8cc"
      },
      "cell_type": "code",
      "source": [
        "f.backward()\n",
        "\n",
        "print('df/dz =', z.grad)\n",
        "print('df/dx =', x.grad)\n",
        "print('df/dy =', y.grad)"
      ],
      "execution_count": 4,
      "outputs": [
        {
          "output_type": "stream",
          "text": [
            "df/dz = tensor(3.)\n",
            "df/dx = tensor(-4.)\n",
            "df/dy = tensor(-4.)\n"
          ],
          "name": "stdout"
        }
      ]
    },
    {
      "metadata": {
        "id": "JotDf1naGU-R",
        "colab_type": "text"
      },
      "cell_type": "markdown",
      "source": [
        "Вызов метода `backward()` вычисляет градиенты для всех тензоров, у которых `requires_grad == True`.\n",
        "\n",
        "Есть еще альтернативный способ не вычислять градиенты - пользоваться менеджерами контекста ([Locally disabling gradient computation](https://pytorch.org/docs/stable/autograd.html#locally-disabling-gradient-computation)):\n",
        "```python\n",
        "torch.autograd.no_grad()\n",
        "torch.autograd.enable_grad()\n",
        "torch.autograd.set_grad_enabled(mode)\n",
        "\n",
        "```"
      ]
    },
    {
      "metadata": {
        "id": "WQEJeqfnJPpA",
        "colab_type": "code",
        "colab": {
          "base_uri": "https://localhost:8080/",
          "height": 68
        },
        "outputId": "c526b4e5-c240-4c45-9f12-c73290c22129"
      },
      "cell_type": "code",
      "source": [
        "with torch.autograd.no_grad():\n",
        "    x = torch.tensor(-2., requires_grad=True)\n",
        "    y = torch.tensor(5., requires_grad=True)\n",
        "    q = x + y\n",
        "\n",
        "z = torch.tensor(-4., requires_grad=True)\n",
        "f = q * z\n",
        "\n",
        "f.backward()\n",
        "\n",
        "print('df/dz =', z.grad)\n",
        "print('df/dx =', x.grad)\n",
        "print('df/dy =', y.grad)"
      ],
      "execution_count": 5,
      "outputs": [
        {
          "output_type": "stream",
          "text": [
            "df/dz = tensor(3.)\n",
            "df/dx = None\n",
            "df/dy = None\n"
          ],
          "name": "stdout"
        }
      ]
    },
    {
      "metadata": {
        "id": "tSiB1CGyJMzt",
        "colab_type": "text"
      },
      "cell_type": "markdown",
      "source": [
        "Подробнее о том, как работает autograd, можно почитать здесь: [Autograd mechanics](https://pytorch.org/docs/stable/notes/autograd.html).\n",
        "\n",
        "В целом, любой тензор в pytorch - аналог многомерных матриц в numpy.\n",
        "\n",
        "Он содержит данные:"
      ]
    },
    {
      "metadata": {
        "id": "DY2CcCw2Gmgq",
        "colab_type": "code",
        "colab": {
          "base_uri": "https://localhost:8080/",
          "height": 34
        },
        "outputId": "067c6bb6-c674-4261-fad3-bd0764860ba2"
      },
      "cell_type": "code",
      "source": [
        "x.data"
      ],
      "execution_count": 6,
      "outputs": [
        {
          "output_type": "execute_result",
          "data": {
            "text/plain": [
              "tensor(-2.)"
            ]
          },
          "metadata": {
            "tags": []
          },
          "execution_count": 6
        }
      ]
    },
    {
      "metadata": {
        "id": "zYxD8N_9GpJl",
        "colab_type": "text"
      },
      "cell_type": "markdown",
      "source": [
        "Накопленный градиент:"
      ]
    },
    {
      "metadata": {
        "id": "wYCD5P24GufX",
        "colab_type": "code",
        "colab": {}
      },
      "cell_type": "code",
      "source": [
        "x.grad"
      ],
      "execution_count": 0,
      "outputs": []
    },
    {
      "metadata": {
        "id": "jwLx4szvGwMb",
        "colab_type": "text"
      },
      "cell_type": "markdown",
      "source": [
        "Функцию, как градиент считать:"
      ]
    },
    {
      "metadata": {
        "id": "TTfGdUF_GzV8",
        "colab_type": "code",
        "colab": {}
      },
      "cell_type": "code",
      "source": [
        "q.grad_fn"
      ],
      "execution_count": 0,
      "outputs": []
    },
    {
      "metadata": {
        "id": "VgK1Esa6HHAB",
        "colab_type": "text"
      },
      "cell_type": "markdown",
      "source": [
        "И всякую дополнительную метаинформацию:"
      ]
    },
    {
      "metadata": {
        "id": "Nazaer0AG4pL",
        "colab_type": "code",
        "colab": {
          "base_uri": "https://localhost:8080/",
          "height": 34
        },
        "outputId": "93bc5507-cb5f-48be-a5aa-fefb65688906"
      },
      "cell_type": "code",
      "source": [
        "x.type(), x.shape, x.device, x.layout"
      ],
      "execution_count": 9,
      "outputs": [
        {
          "output_type": "execute_result",
          "data": {
            "text/plain": [
              "('torch.FloatTensor', torch.Size([]), device(type='cpu'), torch.strided)"
            ]
          },
          "metadata": {
            "tags": []
          },
          "execution_count": 9
        }
      ]
    },
    {
      "metadata": {
        "id": "WvLFlc4iQOQv",
        "colab_type": "text"
      },
      "cell_type": "markdown",
      "source": [
        "Зачем... У меня один вопрос - зачем вот это вот нам нужно?"
      ]
    },
    {
      "metadata": {
        "id": "FlhLBWwHG3Xe",
        "colab_type": "text"
      },
      "cell_type": "markdown",
      "source": [
        "### Задача для разминки"
      ]
    },
    {
      "metadata": {
        "id": "kaqtIIvJOEut",
        "colab_type": "text"
      },
      "cell_type": "markdown",
      "source": [
        "Чтобы разобраться - решим простенькую задачу на линейную регрессию:"
      ]
    },
    {
      "metadata": {
        "id": "QDZpEHF8AKH2",
        "colab_type": "code",
        "colab": {
          "base_uri": "https://localhost:8080/",
          "height": 265
        },
        "outputId": "b08335e9-ce7e-499a-8403-9e776b12aa3c"
      },
      "cell_type": "code",
      "source": [
        "w_orig, b_orig = 2.6, -0.4\n",
        "\n",
        "X = np.random.rand(100) * 10. - 5.\n",
        "y_orig = w_orig * X + b_orig\n",
        "\n",
        "y = y_orig + np.random.randn(100)\n",
        "\n",
        "plt.plot(X, y, '.')\n",
        "plt.plot(X, y_orig)\n",
        "plt.show()"
      ],
      "execution_count": 10,
      "outputs": [
        {
          "output_type": "display_data",
          "data": {
            "image/png": "[encoded data removed]",
            "text/plain": [
              "<matplotlib.figure.Figure at 0x7f457aa570f0>"
            ]
          },
          "metadata": {
            "tags": []
          }
        }
      ]
    },
    {
      "metadata": {
        "id": "r2K5MVtiSGuC",
        "colab_type": "text"
      },
      "cell_type": "markdown",
      "source": [
        "Хочется прикрутить сюда backpropagation, да.\n",
        "\n",
        "Есть два параметра $w$ и $b$ - их нужно подобрать такими, чтобы они были как можно ближе к исходным $w_{orig}, b_{orig}$.\n",
        "\n",
        "Что будем оптимизировать? Оптимизировать будем MSE:\n",
        "$$J(w, b) = \\frac{1}{N} \\sum_{i=1}^N || \\hat y_i - y_i(w, b)||^2 =\\frac{1}{N} \\sum_{i=1}^N || \\hat y_i - (w \\cdot x_i + b)||^2. $$\n",
        "\n",
        "С такой функций потерь можем запустить простой градиентный спуск (даже не стохастический пока):\n",
        "$$w_{t+1} := w_t - \\alpha \\cdot \\frac{\\partial J}{\\partial w}(w_t, b_t)$$\n",
        "$$b_{t+1} := w_t - \\alpha \\cdot \\frac{\\partial J}{\\partial b}(w_t, b_t)$$\n",
        "\n",
        "**Задание** Реализовать оптимизацию на чистом numpy.\n",
        "\n",
        "Для этого нужно:\n",
        "1. Посчитать значение функции на прямом проходе: $y(w, b) = w \\cdot x + b$;\n",
        "2. Подумать и посчитать градиенты $\\frac{\\partial J}{\\partial w}, \\frac{\\partial J}{\\partial b}$ на обратном проходе;\n",
        "3. Сдвинуть $w, b$ по антиградиентам."
      ]
    },
    {
      "metadata": {
        "id": "VKbqTNVXFB3A",
        "colab_type": "code",
        "colab": {
          "base_uri": "https://localhost:8080/",
          "height": 282
        },
        "outputId": "3139b5a9-52de-45b1-c6ce-c42f6a063f3f"
      },
      "cell_type": "code",
      "source": [
        "def display_progress(epoch, loss, w, b, X, y, y_pred):\n",
        "    clear_output(True)\n",
        "    print('Epoch = {}, Loss = {}, w = {}, b = {}'.format(epoch, loss, w, b))\n",
        "    plt.plot(X, y, '.')\n",
        "    plt.plot(X, y_pred)\n",
        "    plt.show()\n",
        "    time.sleep(1)\n",
        "\n",
        "\n",
        "w = np.random.randn()\n",
        "b = np.random.randn()\n",
        "\n",
        "alpha = 0.01\n",
        "\n",
        "for i in range(100):\n",
        "    y_pred = X * w + b\n",
        "\n",
        "    loss = np.mean((y - y_pred) ** 2)\n",
        "\n",
        "    w_grad = 2 * np.mean((y_pred - y) * X)\n",
        "    b_grad = 2 * np.mean(y_pred - y)\n",
        "\n",
        "    w -= alpha * w_grad\n",
        "    b -= alpha * b_grad\n",
        "    \n",
        "    if (i + 1) % 5 == 0:\n",
        "        display_progress(i + 1, loss, w, b, X, y, y_pred)"
      ],
      "execution_count": 11,
      "outputs": [
        {
          "output_type": "stream",
          "text": [
            "Epoch = 100, Loss = 0.8660062702228742, w = 2.5631309345346254, b = -0.1746547738005121\n"
          ],
          "name": "stdout"
        },
        {
          "output_type": "display_data",
          "data": {
            "image/png": "[encoded data removed]",
            "text/plain": [
              "<matplotlib.figure.Figure at 0x7f45765aad68>"
            ]
          },
          "metadata": {
            "tags": []
          }
        }
      ]
    },
    {
      "metadata": {
        "id": "X8WgWrF4C2WK",
        "colab_type": "text"
      },
      "cell_type": "markdown",
      "source": [
        "На PyTorch то же самое сделать несколько проще - подсчет прямого прохода копируется почти дословно.\n",
        "\n",
        "Обратный проход мы уже умеем - нужно просто вызвать `loss.backward()`.\n",
        "\n",
        "Для обновления `w` и `b` нужно иметь в виду следующее. Во-первых, pytorch не даст просто так обновить их:"
      ]
    },
    {
      "metadata": {
        "id": "Zx4DoGeBMJd4",
        "colab_type": "code",
        "colab": {
          "base_uri": "https://localhost:8080/",
          "height": 34
        },
        "outputId": "7fcffcde-0363-4ff7-ea5d-ec985e97899a"
      },
      "cell_type": "code",
      "source": [
        "try:\n",
        "    w = torch.randn(1, requires_grad=True)\n",
        "\n",
        "    w -= 1.\n",
        "except RuntimeError:\n",
        "    print('Не надо так...')"
      ],
      "execution_count": 12,
      "outputs": [
        {
          "output_type": "stream",
          "text": [
            "Не надо так...\n"
          ],
          "name": "stdout"
        }
      ]
    },
    {
      "metadata": {
        "id": "8OjoUh-SMPBt",
        "colab_type": "text"
      },
      "cell_type": "markdown",
      "source": [
        "Проблема в сложности поддержки in-place операций для работы autograd ([In place operations with autograd](https://pytorch.org/docs/stable/notes/autograd.html#in-place-operations-with-autograd)).\n",
        "\n",
        "Но нам и не нужна поддержка градиентов! Мы не будем делать backward pass через эту операцию - нужно всего лишь обновить значение переменной. Чтобы сделать это, можно воспользовать контекстом `no_grad`, либо производить обновление непосредственно буфера, который использует данный тензор:"
      ]
    },
    {
      "metadata": {
        "id": "zegkKd-cMOMj",
        "colab_type": "code",
        "colab": {}
      },
      "cell_type": "code",
      "source": [
        "w.data -= 1."
      ],
      "execution_count": 0,
      "outputs": []
    },
    {
      "metadata": {
        "id": "YVlaIdvHNXR_",
        "colab_type": "text"
      },
      "cell_type": "markdown",
      "source": [
        "Другое, что нужно помнить - градиенты в тензорах накапливаются. Между вызовами `loss.backward()` нужно обнулять градиенты у `w` и `b`:\n",
        "```python\n",
        "w.grad.zero_()\n",
        "b.grad.zero_()\n",
        "```\n",
        "\n",
        "**Задание** Реализовать линейную регрессию на pytorch."
      ]
    },
    {
      "metadata": {
        "id": "VRqxypuEU2ig",
        "colab_type": "code",
        "colab": {
          "base_uri": "https://localhost:8080/",
          "height": 282
        },
        "outputId": "5e7d15b8-2b6f-4e61-9460-bb4fc49f41b0"
      },
      "cell_type": "code",
      "source": [
        "X = torch.as_tensor(X).float()\n",
        "y = torch.as_tensor(y).float()\n",
        "\n",
        "w = torch.randn(1, requires_grad=True)\n",
        "b = torch.randn(1, requires_grad=True)\n",
        "\n",
        "for i in range(100):\n",
        "    y_pred = X * w + b\n",
        "\n",
        "    loss = ((y - y_pred) ** 2).mean()\n",
        "    loss.backward()\n",
        "    \n",
        "    w.data -= alpha * w.grad\n",
        "    b.data -= alpha * b.grad\n",
        "    \n",
        "    w.grad.zero_()\n",
        "    b.grad.zero_()\n",
        "    \n",
        "    if (i + 1) % 5 == 0:\n",
        "        display_progress(i + 1, loss, w.item(), b.item(), \n",
        "                         X.data.numpy(), y.data.numpy(), y_pred.data.numpy())"
      ],
      "execution_count": 14,
      "outputs": [
        {
          "output_type": "stream",
          "text": [
            "Epoch = 100, Loss = 0.8070520162582397, w = 2.554830551147461, b = -0.39349082112312317\n"
          ],
          "name": "stdout"
        },
        {
          "output_type": "display_data",
          "data": {
            "image/png": "[encoded data removed]",
            "text/plain": [
              "<matplotlib.figure.Figure at 0x7f45765c0a90>"
            ]
          },
          "metadata": {
            "tags": []
          }
        }
      ]
    },
    {
      "metadata": {
        "id": "KaKTKN_fOvo-",
        "colab_type": "text"
      },
      "cell_type": "markdown",
      "source": [
        "Думать нужно уже гораздо меньше, да? :)\n",
        "\n",
        "Про другие фишки низкоуровнего pytorch можно почитать здесь: [PyTorch — ваш новый фреймворк глубокого обучения](https://habr.com/post/334380/) (статья веселая, но немного устарела, читать лучше с оглядкой на [PyTorch 0.4.0 Migration Guide](https://pytorch.org/blog/pytorch-0_4_0-migration-guide/))"
      ]
    },
    {
      "metadata": {
        "id": "pZNq6ujzPtvd",
        "colab_type": "text"
      },
      "cell_type": "markdown",
      "source": [
        "## Word embeddings и высокоуровневый API PyTorch"
      ]
    },
    {
      "metadata": {
        "id": "ITLgcVz66AfV",
        "colab_type": "text"
      },
      "cell_type": "markdown",
      "source": [
        "Займёмся рассмотрением высокоуровневого API - в нем уже реализованы разные классы-запчасти для обучения нейронок.\n",
        "\n",
        "Будем решать всё ту же задачу, что и в прошлый раз - обучение словных эмбеддингов, только теперь мы будем учить их самостоятельно!\n",
        "\n",
        "Для начала нужно подготовить данные для обучения.\n",
        "\n",
        "Соберем и токенизируем тексты:"
      ]
    },
    {
      "metadata": {
        "id": "hKKb9Ya8hzIb",
        "colab_type": "code",
        "colab": {}
      },
      "cell_type": "code",
      "source": [
        "import pandas as pd\n",
        "from nltk.tokenize import word_tokenize\n",
        "\n",
        "quora_data = pd.read_csv('train.csv')\n",
        "\n",
        "quora_data.question1 = quora_data.question1.replace(np.nan, '', regex=True)\n",
        "quora_data.question2 = quora_data.question2.replace(np.nan, '', regex=True)\n",
        "\n",
        "texts = list(pd.concat([quora_data.question1, quora_data.question2]).unique())\n",
        "\n",
        "tokenized_texts = [word_tokenize(text.lower()) for text in texts]"
      ],
      "execution_count": 0,
      "outputs": []
    },
    {
      "metadata": {
        "id": "QYoj91iDDDfT",
        "colab_type": "text"
      },
      "cell_type": "markdown",
      "source": [
        "Соберем индекс самых частотных слов:"
      ]
    },
    {
      "metadata": {
        "id": "5PL471pGjuVN",
        "colab_type": "code",
        "colab": {
          "base_uri": "https://localhost:8080/",
          "height": 105
        },
        "outputId": "e6722e34-b508-49f2-8271-a473e632bdf0"
      },
      "cell_type": "code",
      "source": [
        "from collections import Counter\n",
        "\n",
        "MIN_COUNT = 5\n",
        "\n",
        "words_counter = Counter(token for tokens in tokenized_texts for token in tokens)\n",
        "word2index = {\n",
        "    '<unk>': 0\n",
        "}\n",
        "\n",
        "for word, count in words_counter.most_common():\n",
        "    if count < MIN_COUNT:\n",
        "        break\n",
        "        \n",
        "    word2index[word] = len(word2index)\n",
        "    \n",
        "index2word = [word for word, _ in sorted(word2index.items(), key=lambda x: x[1])]\n",
        "    \n",
        "print('Vocabulary size:', len(word2index))\n",
        "print('Tokens count:', sum(len(tokens) for tokens in tokenized_texts))\n",
        "print('Unknown tokens appeared:', sum(1 for tokens in tokenized_texts for token in tokens if token not in word2index))\n",
        "print('Most freq words:', index2word[1:21])"
      ],
      "execution_count": 16,
      "outputs": [
        {
          "output_type": "stream",
          "text": [
            "Vocabulary size: 28657\n",
            "Tokens count: 6969174\n",
            "Unknown tokens appeared: 123674\n",
            "Most freq words: ['?', 'the', 'what', 'is', 'a', 'i', 'to', 'in', 'how', 'of', 'do', 'are', 'and', 'for', ',', 'can', 'you', 'why', 'it', 'my']\n"
          ],
          "name": "stdout"
        }
      ]
    },
    {
      "metadata": {
        "id": "DF5mYpCsE9Uh",
        "colab_type": "text"
      },
      "cell_type": "markdown",
      "source": [
        "### Skip-Gram Word2vec"
      ]
    },
    {
      "metadata": {
        "id": "om1IG5XEMGRa",
        "colab_type": "text"
      },
      "cell_type": "markdown",
      "source": [
        "Начнем с skip-gram модели обучения word2vec.\n",
        "\n",
        "Это простая модель всего из двух слоев. Ее идея - учить вектора эмбеддингов такими, чтобы по ним можно было как можно лучше предсказать контекст соответствующих слов. То есть если мы хорошо научились кодировать слова, с которыми встречается данное - значит, мы что-то знаем и о нем самом. Например, естественным образом получится, что слова, встречающиеся в одинаковых контекстах (скажем, `apple` и `orange`)  будут иметь близкие вектора эмбеддингов.\n",
        "\n",
        "![](https://ask.qcloudimg.com/http-save/yehe-1565119/pv4604cabp.jpeg =600x)  \n",
        "*From cs224n, Lecture 2*\n",
        "\n",
        "Для этого мы моделируем вероятности $\\{P(w_{c+j}|w_c):  j = c-k, ..., c+k, k \\neq c\\}$, где $k$ - размер контекстного окна, $c$ - индекс центрального слова.\n",
        "\n",
        "Соберем такую модель: будем учить пару матриц $U$ - матрицу эмбеддингов, которую потом и возьмем для своих задач, и $V$ - матрицу выходного слоя.\n",
        "\n",
        "Каждому слову в словаре соответствует строка в матрице $U$ и столбец $V$.\n",
        "\n",
        "![skip-gram](https://image.ibb.co/khFXu9/Skip_gram.png =500x)\n",
        "\n",
        "Что тут происходит? Слово отображается в эмбеддинг - строку $u_c$. Дальше этот эмбеддинг умножается на матрицу $V$. \n",
        "\n",
        "В итоге получаем набор числе $v_j^T u_c$ - степень похожести слова с номером $j$ и нашего слова.\n",
        "\n",
        "Преобразуем эти числа в что-то вроде вероятностей - воспользуемся функцией softmax: $P(i) = \\frac{e^{x_i}}{\\sum_j e^{x_j}}$.\n",
        "\n",
        "А дальше будем считать кросс-энтропийные потери:\n",
        "\n",
        "$$-\\sum_{-k \\leq j \\leq k, j \\neq 0} \\log \\frac{\\exp(v_{c+j}^T u_c)}{\\sum_{i=1}^{|V|} \\exp(v_i^T u_c)} \\to \\min_{U, V}.$$\n",
        "\n",
        "В итоге, вектор $u_c$ будет приближаться к векторам $v_{c_j}$ из его контекста.\n",
        "\n",
        "Реализуем это всё, чтобы разобраться.\n",
        "\n",
        "#### Генерация батчей\n",
        "\n",
        "Для начала нужно собрать контексты."
      ]
    },
    {
      "metadata": {
        "id": "ocrsXgaynYPG",
        "colab_type": "code",
        "colab": {}
      },
      "cell_type": "code",
      "source": [
        "def build_contexts(tokenized_texts, window_size):\n",
        "    contexts = []\n",
        "    for tokens in tokenized_texts:\n",
        "        for i in range(len(tokens)):\n",
        "            central_word = tokens[i]\n",
        "            context = [tokens[i + delta] for delta in range(-window_size, window_size + 1) \n",
        "                       if delta != 0 and i + delta >= 0 and i + delta < len(tokens)]\n",
        "\n",
        "            contexts.append((central_word, context))\n",
        "            \n",
        "    return contexts"
      ],
      "execution_count": 0,
      "outputs": []
    },
    {
      "metadata": {
        "id": "AQBa6yQ9BXjp",
        "colab_type": "code",
        "colab": {}
      },
      "cell_type": "code",
      "source": [
        "contexts = build_contexts(tokenized_texts, window_size=2)"
      ],
      "execution_count": 0,
      "outputs": []
    },
    {
      "metadata": {
        "id": "KyQNK-9SBdb9",
        "colab_type": "code",
        "colab": {
          "base_uri": "https://localhost:8080/",
          "height": 102
        },
        "outputId": "9b112742-6be1-4b9f-b5cd-89045dbbe843"
      },
      "cell_type": "code",
      "source": [
        "contexts[:5]"
      ],
      "execution_count": 19,
      "outputs": [
        {
          "output_type": "execute_result",
          "data": {
            "text/plain": [
              "[('what', ['is', 'the']),\n",
              " ('is', ['what', 'the', 'step']),\n",
              " ('the', ['what', 'is', 'step', 'by']),\n",
              " ('step', ['is', 'the', 'by', 'step']),\n",
              " ('by', ['the', 'step', 'step', 'guide'])]"
            ]
          },
          "metadata": {
            "tags": []
          },
          "execution_count": 19
        }
      ]
    },
    {
      "metadata": {
        "id": "pbQKln_6yC4l",
        "colab_type": "text"
      },
      "cell_type": "markdown",
      "source": [
        "Преобразуем слова в индексы."
      ]
    },
    {
      "metadata": {
        "id": "hOPRlKlLvUBA",
        "colab_type": "code",
        "colab": {}
      },
      "cell_type": "code",
      "source": [
        "contexts = [(word2index.get(central_word, 0), [word2index.get(word, 0) for word in context]) \n",
        "            for central_word, context in contexts]"
      ],
      "execution_count": 0,
      "outputs": []
    },
    {
      "metadata": {
        "id": "GYmrAi9gyIe-",
        "colab_type": "text"
      },
      "cell_type": "markdown",
      "source": [
        "Реализуем генератор батчей для нашей нейронки:"
      ]
    },
    {
      "metadata": {
        "id": "6opX5cEp8LxC",
        "colab_type": "code",
        "colab": {}
      },
      "cell_type": "code",
      "source": [
        "import random\n",
        "\n",
        "def make_skip_gram_batchs_iter(contexts, window_size, num_skips, batch_size):\n",
        "    assert batch_size % num_skips == 0\n",
        "    assert num_skips <= 2 * window_size\n",
        "    \n",
        "    central_words = [word for word, context in contexts if len(context) == 2 * window_size and word != 0]\n",
        "    contexts = [context for word, context in contexts if len(context) == 2 * window_size and word != 0]\n",
        "    \n",
        "    batch_size = int(batch_size / num_skips)\n",
        "    batchs_count = int(math.ceil(len(contexts) / batch_size))\n",
        "    \n",
        "    print('Initializing batchs generator with {} batchs per epoch'.format(batchs_count))\n",
        "    \n",
        "    while True:\n",
        "        indices = np.arange(len(contexts))\n",
        "        np.random.shuffle(indices)\n",
        "\n",
        "        for i in range(batchs_count):\n",
        "            batch_begin, batch_end = i * batch_size, min((i + 1) * batch_size, len(contexts))\n",
        "            batch_indices = indices[batch_begin: batch_end]\n",
        "\n",
        "            batch_data, batch_labels = [], []\n",
        "\n",
        "            for data_ind in batch_indices:\n",
        "                central_word, context = central_words[data_ind], contexts[data_ind]\n",
        "                \n",
        "                words_to_use = random.sample(context, num_skips)\n",
        "                batch_data.extend([central_word] * num_skips)\n",
        "                batch_labels.extend(words_to_use)\n",
        "            \n",
        "            yield batch_data, batch_labels"
      ],
      "execution_count": 0,
      "outputs": []
    },
    {
      "metadata": {
        "id": "g0D79MwB_gMe",
        "colab_type": "code",
        "colab": {
          "base_uri": "https://localhost:8080/",
          "height": 34
        },
        "outputId": "697489e7-158a-42d9-8683-54200df21e8e"
      },
      "cell_type": "code",
      "source": [
        "batch, labels = next(make_skip_gram_batchs_iter(contexts, window_size=2, num_skips=2, batch_size=32))"
      ],
      "execution_count": 22,
      "outputs": [
        {
          "output_type": "stream",
          "text": [
            "Initializing batchs generator with 295210 batchs per epoch\n"
          ],
          "name": "stdout"
        }
      ]
    },
    {
      "metadata": {
        "id": "6DXjZS3JyQZh",
        "colab_type": "text"
      },
      "cell_type": "markdown",
      "source": [
        "#### nn.Sequential\n",
        "\n",
        "Простейший способ реализовать модель на PyTorch - использовать модуль `nn.Sequential`. В нем нужно просто перечислить все слои, и он будет применять их последовательно."
      ]
    },
    {
      "metadata": {
        "id": "WRw9Z4G__46O",
        "colab_type": "code",
        "colab": {}
      },
      "cell_type": "code",
      "source": [
        "model = nn.Sequential(\n",
        "    nn.Embedding(len(word2index), 32),\n",
        "    nn.Linear(32, len(word2index))\n",
        ")"
      ],
      "execution_count": 0,
      "outputs": []
    },
    {
      "metadata": {
        "id": "Ysn0DDpLyj1S",
        "colab_type": "text"
      },
      "cell_type": "markdown",
      "source": [
        "Еще одна особенность pytorch, о которой до сих пор не говорили - поддержка вычислений на видеокарте. На видеокарте большинство нейронок считается гораздо быстрее благодаря высокой параллелизации. Сказать pytorch'у, чтобы он считал на видеокарте, очень просто:"
      ]
    },
    {
      "metadata": {
        "id": "EfmaUi3Uy9YT",
        "colab_type": "code",
        "colab": {
          "base_uri": "https://localhost:8080/",
          "height": 85
        },
        "outputId": "e8a60035-138c-4e56-e5a6-bd052b674a87"
      },
      "cell_type": "code",
      "source": [
        "model.cuda()"
      ],
      "execution_count": 24,
      "outputs": [
        {
          "output_type": "execute_result",
          "data": {
            "text/plain": [
              "Sequential(\n",
              "  (0): Embedding(28657, 32)\n",
              "  (1): Linear(in_features=32, out_features=28657, bias=True)\n",
              ")"
            ]
          },
          "metadata": {
            "tags": []
          },
          "execution_count": 24
        }
      ]
    },
    {
      "metadata": {
        "id": "a3c3UEa2zHhk",
        "colab_type": "text"
      },
      "cell_type": "markdown",
      "source": [
        "либо"
      ]
    },
    {
      "metadata": {
        "id": "OHxAg5ZWzEKT",
        "colab_type": "code",
        "colab": {}
      },
      "cell_type": "code",
      "source": [
        "device = torch.device(\"cuda\")\n",
        "\n",
        "model = model.to(device)"
      ],
      "execution_count": 0,
      "outputs": []
    },
    {
      "metadata": {
        "id": "pHi1CL2pzxOg",
        "colab_type": "text"
      },
      "cell_type": "markdown",
      "source": [
        "Создать тензоры на видеокарте можно, например, так:"
      ]
    },
    {
      "metadata": {
        "id": "Ycx1O3_SzvmC",
        "colab_type": "code",
        "colab": {}
      },
      "cell_type": "code",
      "source": [
        "batch = torch.cuda.LongTensor(batch)\n",
        "labels = torch.cuda.LongTensor(labels)"
      ],
      "execution_count": 0,
      "outputs": []
    },
    {
      "metadata": {
        "id": "YtLMvOO2z3c8",
        "colab_type": "text"
      },
      "cell_type": "markdown",
      "source": [
        "Заставить модель посчитать значение можно так:"
      ]
    },
    {
      "metadata": {
        "id": "N9wTpewTz3Dk",
        "colab_type": "code",
        "colab": {}
      },
      "cell_type": "code",
      "source": [
        "logits = model(batch)"
      ],
      "execution_count": 0,
      "outputs": []
    },
    {
      "metadata": {
        "id": "dWJmDy_uzJgD",
        "colab_type": "text"
      },
      "cell_type": "markdown",
      "source": [
        "Теперь нам нужна функция потерь"
      ]
    },
    {
      "metadata": {
        "id": "h7rlD62_ykYl",
        "colab_type": "code",
        "colab": {}
      },
      "cell_type": "code",
      "source": [
        "loss_function = nn.CrossEntropyLoss().cuda() "
      ],
      "execution_count": 0,
      "outputs": []
    },
    {
      "metadata": {
        "id": "OxLBiBua0OZM",
        "colab_type": "text"
      },
      "cell_type": "markdown",
      "source": [
        "Посчитать значение можно так:"
      ]
    },
    {
      "metadata": {
        "id": "fCaTB5cc0GVw",
        "colab_type": "code",
        "colab": {}
      },
      "cell_type": "code",
      "source": [
        "loss = loss_function(logits, labels)"
      ],
      "execution_count": 0,
      "outputs": []
    },
    {
      "metadata": {
        "id": "gAwx-pck0RxX",
        "colab_type": "text"
      },
      "cell_type": "markdown",
      "source": [
        "А теперь, конечно же, backprop!"
      ]
    },
    {
      "metadata": {
        "id": "JWt6gL0_0Npp",
        "colab_type": "code",
        "colab": {}
      },
      "cell_type": "code",
      "source": [
        "loss.backward()"
      ],
      "execution_count": 0,
      "outputs": []
    },
    {
      "metadata": {
        "id": "ZJkDOl6szRLm",
        "colab_type": "text"
      },
      "cell_type": "markdown",
      "source": [
        "И, наконец, оптимизатор.\n",
        "\n",
        "Будем использовать Adam. Интерфейс - передать список оптимизируемых параметров и learning rate."
      ]
    },
    {
      "metadata": {
        "id": "5-b5CIARzQ6m",
        "colab_type": "code",
        "colab": {}
      },
      "cell_type": "code",
      "source": [
        "optimizer = optim.Adam(model.parameters(), lr=0.01) "
      ],
      "execution_count": 0,
      "outputs": []
    },
    {
      "metadata": {
        "id": "ju5lO0Xi0hsV",
        "colab_type": "text"
      },
      "cell_type": "markdown",
      "source": [
        "Оптимизация идет просто - нужно вызвать `step()`:"
      ]
    },
    {
      "metadata": {
        "id": "_9QK7nHu0Zw8",
        "colab_type": "code",
        "colab": {
          "base_uri": "https://localhost:8080/",
          "height": 323
        },
        "outputId": "b7033ffe-75b5-4572-fc9e-42a369cc026d"
      },
      "cell_type": "code",
      "source": [
        "print(model[1].weight)\n",
        "\n",
        "optimizer.step()\n",
        "\n",
        "print(model[1].weight)"
      ],
      "execution_count": 32,
      "outputs": [
        {
          "output_type": "stream",
          "text": [
            "Parameter containing:\n",
            "tensor([[-0.1489, -0.1388,  0.0433,  ...,  0.0225, -0.1270,  0.1069],\n",
            "        [-0.1357,  0.1315, -0.1572,  ..., -0.0995, -0.0827,  0.1011],\n",
            "        [ 0.0267, -0.0071,  0.1244,  ..., -0.0480,  0.0165, -0.0099],\n",
            "        ...,\n",
            "        [ 0.0497,  0.0177, -0.1657,  ..., -0.1449, -0.0221,  0.0277],\n",
            "        [-0.1002,  0.1391, -0.0053,  ..., -0.1345,  0.1640, -0.0071],\n",
            "        [-0.0551, -0.1068, -0.0598,  ...,  0.1517,  0.1154,  0.0208]],\n",
            "       device='cuda:0', requires_grad=True)\n",
            "Parameter containing:\n",
            "tensor([[-0.1589, -0.1488,  0.0333,  ...,  0.0125, -0.1170,  0.1169],\n",
            "        [-0.1457,  0.1415, -0.1672,  ..., -0.1095, -0.0927,  0.1111],\n",
            "        [ 0.0367, -0.0171,  0.1344,  ..., -0.0380,  0.0265,  0.0001],\n",
            "        ...,\n",
            "        [ 0.0401,  0.0080, -0.1559,  ..., -0.1533, -0.0126,  0.0373],\n",
            "        [-0.0905,  0.1297,  0.0044,  ..., -0.1437,  0.1541,  0.0013],\n",
            "        [-0.0453, -0.1165, -0.0500,  ...,  0.1420,  0.1055,  0.0165]],\n",
            "       device='cuda:0', requires_grad=True)\n"
          ],
          "name": "stdout"
        }
      ]
    },
    {
      "metadata": {
        "id": "Hnxyk1ew0pSk",
        "colab_type": "text"
      },
      "cell_type": "markdown",
      "source": [
        "И последнее - нужно обнулить градиенты!"
      ]
    },
    {
      "metadata": {
        "id": "uMsuvEP90svi",
        "colab_type": "code",
        "colab": {}
      },
      "cell_type": "code",
      "source": [
        "optimizer.zero_grad()"
      ],
      "execution_count": 0,
      "outputs": []
    },
    {
      "metadata": {
        "id": "PibTw33Azg7q",
        "colab_type": "text"
      },
      "cell_type": "markdown",
      "source": [
        "#### Реализация обучения skip-gram модели\n",
        "\n",
        "Наконец, напишем цикл обучения - как уже было с линейной регрессией.\n",
        "\n",
        " **Задание** Заполните цикл."
      ]
    },
    {
      "metadata": {
        "id": "ewGMgYTXANzz",
        "colab_type": "code",
        "colab": {
          "base_uri": "https://localhost:8080/",
          "height": 1065
        },
        "outputId": "d5d9cb6b-6c2b-4e9c-9f66-b874e32bdbfe"
      },
      "cell_type": "code",
      "source": [
        "loss_every_nsteps = 1000\n",
        "total_loss = 0\n",
        "start_time = time.time()\n",
        "\n",
        "for step, (batch, labels) in enumerate(make_skip_gram_batchs_iter(contexts, window_size=2, num_skips=4, batch_size=128)):\n",
        "    batch = torch.cuda.LongTensor(batch)\n",
        "    labels = torch.cuda.LongTensor(labels)\n",
        "\n",
        "    logits = model(batch)\n",
        "    \n",
        "    loss = loss_function(logits, labels)\n",
        "    loss.backward()\n",
        "\n",
        "    optimizer.step()\n",
        "    \n",
        "    optimizer.zero_grad()\n",
        "\n",
        "    total_loss += loss.item()\n",
        "    \n",
        "    if step != 0 and step % loss_every_nsteps == 0:\n",
        "        print(\"Step = {}, Avg Loss = {:.4f}, Time = {:.2f}s\".format(step, total_loss / loss_every_nsteps, \n",
        "                                                                    time.time() - start_time))\n",
        "        total_loss = 0\n",
        "        start_time = time.time()"
      ],
      "execution_count": 34,
      "outputs": [
        {
          "output_type": "stream",
          "text": [
            "Initializing batchs generator with 147605 batchs per epoch\n",
            "Step = 1000, Avg Loss = 7.4612, Time = 7.51s\n",
            "Step = 2000, Avg Loss = 6.8489, Time = 4.70s\n",
            "Step = 3000, Avg Loss = 6.7581, Time = 4.71s\n",
            "Step = 4000, Avg Loss = 6.7061, Time = 4.71s\n",
            "Step = 5000, Avg Loss = 6.6702, Time = 4.71s\n",
            "Step = 6000, Avg Loss = 6.6484, Time = 4.72s\n",
            "Step = 7000, Avg Loss = 6.6399, Time = 4.71s\n",
            "Step = 8000, Avg Loss = 6.6292, Time = 4.72s\n",
            "Step = 9000, Avg Loss = 6.6149, Time = 4.72s\n",
            "Step = 10000, Avg Loss = 6.5922, Time = 4.72s\n",
            "Step = 11000, Avg Loss = 6.5905, Time = 4.71s\n",
            "Step = 12000, Avg Loss = 6.5921, Time = 4.72s\n",
            "Step = 13000, Avg Loss = 6.5836, Time = 4.73s\n",
            "Step = 14000, Avg Loss = 6.5849, Time = 4.72s\n",
            "Step = 15000, Avg Loss = 6.5640, Time = 4.72s\n",
            "Step = 16000, Avg Loss = 6.5505, Time = 4.72s\n",
            "Step = 17000, Avg Loss = 6.5648, Time = 4.72s\n",
            "Step = 18000, Avg Loss = 6.5489, Time = 4.72s\n",
            "Step = 19000, Avg Loss = 6.5538, Time = 4.72s\n",
            "Step = 20000, Avg Loss = 6.5412, Time = 4.72s\n",
            "Step = 21000, Avg Loss = 6.5317, Time = 4.73s\n",
            "Step = 22000, Avg Loss = 6.5561, Time = 4.73s\n",
            "Step = 23000, Avg Loss = 6.5322, Time = 4.73s\n",
            "Step = 24000, Avg Loss = 6.5304, Time = 4.72s\n",
            "Step = 25000, Avg Loss = 6.5160, Time = 4.72s\n",
            "Step = 26000, Avg Loss = 6.5440, Time = 4.73s\n",
            "Step = 27000, Avg Loss = 6.5354, Time = 4.71s\n",
            "Step = 28000, Avg Loss = 6.5253, Time = 4.71s\n",
            "Step = 29000, Avg Loss = 6.5259, Time = 4.72s\n",
            "Step = 30000, Avg Loss = 6.5012, Time = 4.71s\n",
            "Step = 31000, Avg Loss = 6.5057, Time = 4.72s\n",
            "Step = 32000, Avg Loss = 6.5249, Time = 4.72s\n",
            "Step = 33000, Avg Loss = 6.4952, Time = 4.72s\n",
            "Step = 34000, Avg Loss = 6.5109, Time = 4.73s\n",
            "Step = 35000, Avg Loss = 6.5196, Time = 4.72s\n",
            "Step = 36000, Avg Loss = 6.5240, Time = 4.71s\n",
            "Step = 37000, Avg Loss = 6.5100, Time = 4.72s\n",
            "Step = 38000, Avg Loss = 6.5122, Time = 4.71s\n",
            "Step = 39000, Avg Loss = 6.5166, Time = 4.71s\n",
            "Step = 40000, Avg Loss = 6.5131, Time = 4.70s\n",
            "Step = 41000, Avg Loss = 6.4952, Time = 4.69s\n"
          ],
          "name": "stdout"
        },
        {
          "output_type": "error",
          "ename": "KeyboardInterrupt",
          "evalue": "ignored",
          "traceback": [
            "\u001b[0;31m---------------------------------------------------------------------------\u001b[0m",
            "\u001b[0;31mKeyboardInterrupt\u001b[0m                         Traceback (most recent call last)",
            "\u001b[0;32m<ipython-input-34-114366a44c45>\u001b[0m in \u001b[0;36m<module>\u001b[0;34m()\u001b[0m\n\u001b[1;32m     12\u001b[0m     \u001b[0mloss\u001b[0m\u001b[0;34m.\u001b[0m\u001b[0mbackward\u001b[0m\u001b[0;34m(\u001b[0m\u001b[0;34m)\u001b[0m\u001b[0;34m\u001b[0m\u001b[0m\n\u001b[1;32m     13\u001b[0m \u001b[0;34m\u001b[0m\u001b[0m\n\u001b[0;32m---> 14\u001b[0;31m     \u001b[0moptimizer\u001b[0m\u001b[0;34m.\u001b[0m\u001b[0mstep\u001b[0m\u001b[0;34m(\u001b[0m\u001b[0;34m)\u001b[0m\u001b[0;34m\u001b[0m\u001b[0m\n\u001b[0m\u001b[1;32m     15\u001b[0m \u001b[0;34m\u001b[0m\u001b[0m\n\u001b[1;32m     16\u001b[0m     \u001b[0moptimizer\u001b[0m\u001b[0;34m.\u001b[0m\u001b[0mzero_grad\u001b[0m\u001b[0;34m(\u001b[0m\u001b[0;34m)\u001b[0m\u001b[0;34m\u001b[0m\u001b[0m\n",
            "\u001b[0;32m/usr/local/lib/python3.6/dist-packages/torch/optim/adam.py\u001b[0m in \u001b[0;36mstep\u001b[0;34m(self, closure)\u001b[0m\n\u001b[1;32m     90\u001b[0m \u001b[0;34m\u001b[0m\u001b[0m\n\u001b[1;32m     91\u001b[0m                 \u001b[0;31m# Decay the first and second moment running average coefficient\u001b[0m\u001b[0;34m\u001b[0m\u001b[0;34m\u001b[0m\u001b[0m\n\u001b[0;32m---> 92\u001b[0;31m                 \u001b[0mexp_avg\u001b[0m\u001b[0;34m.\u001b[0m\u001b[0mmul_\u001b[0m\u001b[0;34m(\u001b[0m\u001b[0mbeta1\u001b[0m\u001b[0;34m)\u001b[0m\u001b[0;34m.\u001b[0m\u001b[0madd_\u001b[0m\u001b[0;34m(\u001b[0m\u001b[0;36m1\u001b[0m \u001b[0;34m-\u001b[0m \u001b[0mbeta1\u001b[0m\u001b[0;34m,\u001b[0m \u001b[0mgrad\u001b[0m\u001b[0;34m)\u001b[0m\u001b[0;34m\u001b[0m\u001b[0m\n\u001b[0m\u001b[1;32m     93\u001b[0m                 \u001b[0mexp_avg_sq\u001b[0m\u001b[0;34m.\u001b[0m\u001b[0mmul_\u001b[0m\u001b[0;34m(\u001b[0m\u001b[0mbeta2\u001b[0m\u001b[0;34m)\u001b[0m\u001b[0;34m.\u001b[0m\u001b[0maddcmul_\u001b[0m\u001b[0;34m(\u001b[0m\u001b[0;36m1\u001b[0m \u001b[0;34m-\u001b[0m \u001b[0mbeta2\u001b[0m\u001b[0;34m,\u001b[0m \u001b[0mgrad\u001b[0m\u001b[0;34m,\u001b[0m \u001b[0mgrad\u001b[0m\u001b[0;34m)\u001b[0m\u001b[0;34m\u001b[0m\u001b[0m\n\u001b[1;32m     94\u001b[0m                 \u001b[0;32mif\u001b[0m \u001b[0mamsgrad\u001b[0m\u001b[0;34m:\u001b[0m\u001b[0;34m\u001b[0m\u001b[0m\n",
            "\u001b[0;31mKeyboardInterrupt\u001b[0m: "
          ]
        }
      ]
    },
    {
      "metadata": {
        "id": "Pqq9kee41L4P",
        "colab_type": "text"
      },
      "cell_type": "markdown",
      "source": [
        "#### Анализ\n",
        "\n",
        "Получить эмбеддинги можно, скаставав такое заклинание:"
      ]
    },
    {
      "metadata": {
        "id": "uWsYkNn-Hnl_",
        "colab_type": "code",
        "colab": {}
      },
      "cell_type": "code",
      "source": [
        "embeddings = model[0].weight.cpu().data.numpy()"
      ],
      "execution_count": 0,
      "outputs": []
    },
    {
      "metadata": {
        "id": "EZtxY2D01RB6",
        "colab_type": "text"
      },
      "cell_type": "markdown",
      "source": [
        "Проверим, получилось ли хоть сколько-то адекватно."
      ]
    },
    {
      "metadata": {
        "id": "bhDwuhDSHEDm",
        "colab_type": "code",
        "colab": {
          "base_uri": "https://localhost:8080/",
          "height": 187
        },
        "outputId": "53b94516-801e-4775-8f13-271f0e3777e8"
      },
      "cell_type": "code",
      "source": [
        "from sklearn.metrics.pairwise import cosine_similarity\n",
        "\n",
        "def most_similar(embeddings, index2word, word2index, word):\n",
        "    word_emb = embeddings[word2index[word]]\n",
        "    \n",
        "    similarities = cosine_similarity([word_emb], embeddings)[0]\n",
        "    top10 = np.argsort(similarities)[-10:]\n",
        "    \n",
        "    return [index2word[index] for index in reversed(top10)]\n",
        "\n",
        "most_similar(embeddings, index2word, word2index, 'warm')"
      ],
      "execution_count": 36,
      "outputs": [
        {
          "output_type": "execute_result",
          "data": {
            "text/plain": [
              "['warm',\n",
              " 'tap',\n",
              " 'spicy',\n",
              " 'melt',\n",
              " 'beef',\n",
              " 'beans',\n",
              " 'frozen',\n",
              " 'consume',\n",
              " 'stress',\n",
              " 'over']"
            ]
          },
          "metadata": {
            "tags": []
          },
          "execution_count": 36
        }
      ]
    },
    {
      "metadata": {
        "id": "0VS1x-mO1WKS",
        "colab_type": "text"
      },
      "cell_type": "markdown",
      "source": [
        "И визуализируем!"
      ]
    },
    {
      "metadata": {
        "id": "yuXv2HxsAecb",
        "colab_type": "code",
        "colab": {
          "base_uri": "https://localhost:8080/",
          "height": 1020
        },
        "outputId": "e9b37d3c-1814-4ca3-e6f5-f13f1c53ae9f"
      },
      "cell_type": "code",
      "source": [
        "import bokeh.models as bm, bokeh.plotting as pl\n",
        "from bokeh.io import output_notebook\n",
        "\n",
        "from sklearn.manifold import TSNE\n",
        "from sklearn.preprocessing import scale\n",
        "\n",
        "\n",
        "def draw_vectors(x, y, radius=10, alpha=0.25, color='blue',\n",
        "                 width=600, height=400, show=True, **kwargs):\n",
        "    \"\"\" draws an interactive plot for data points with auxilirary info on hover \"\"\"\n",
        "    output_notebook()\n",
        "    \n",
        "    if isinstance(color, str): \n",
        "        color = [color] * len(x)\n",
        "    data_source = bm.ColumnDataSource({ 'x' : x, 'y' : y, 'color': color, **kwargs })\n",
        "\n",
        "    fig = pl.figure(active_scroll='wheel_zoom', width=width, height=height)\n",
        "    fig.scatter('x', 'y', size=radius, color='color', alpha=alpha, source=data_source)\n",
        "\n",
        "    fig.add_tools(bm.HoverTool(tooltips=[(key, \"@\" + key) for key in kwargs.keys()]))\n",
        "    if show: \n",
        "        pl.show(fig)\n",
        "    return fig\n",
        "\n",
        "\n",
        "def get_tsne_projection(word_vectors):\n",
        "    tsne = TSNE(n_components=2, verbose=100)\n",
        "    return scale(tsne.fit_transform(word_vectors))\n",
        "    \n",
        "    \n",
        "def visualize_embeddings(embeddings, index2word, word_count):\n",
        "    word_vectors = embeddings[1: word_count + 1]\n",
        "    words = index2word[1: word_count + 1]\n",
        "    \n",
        "    word_tsne = get_tsne_projection(word_vectors)\n",
        "    draw_vectors(word_tsne[:, 0], word_tsne[:, 1], color='green', token=words)\n",
        "    \n",
        "    \n",
        "visualize_embeddings(embeddings, index2word, 1000)"
      ],
      "execution_count": 37,
      "outputs": [
        {
          "output_type": "stream",
          "text": [
            "[t-SNE] Computing 91 nearest neighbors...\n",
            "[t-SNE] Indexed 1000 samples in 0.002s...\n",
            "[t-SNE] Computed neighbors for 1000 samples in 0.090s...\n",
            "[t-SNE] Computed conditional probabilities for sample 1000 / 1000\n",
            "[t-SNE] Mean sigma: 1.059353\n",
            "[t-SNE] Computed conditional probabilities in 0.074s\n",
            "[t-SNE] Iteration 50: error = 78.3287811, gradient norm = 0.3291647 (50 iterations in 2.101s)\n",
            "[t-SNE] Iteration 100: error = 82.1953201, gradient norm = 0.2894860 (50 iterations in 2.593s)\n",
            "[t-SNE] Iteration 150: error = 81.4383316, gradient norm = 0.2995319 (50 iterations in 2.430s)\n",
            "[t-SNE] Iteration 200: error = 83.1246796, gradient norm = 0.2731496 (50 iterations in 2.546s)\n",
            "[t-SNE] Iteration 250: error = 82.8746567, gradient norm = 0.2745719 (50 iterations in 3.029s)\n",
            "[t-SNE] KL divergence after 250 iterations with early exaggeration: 82.874657\n",
            "[t-SNE] Iteration 300: error = 2.1104569, gradient norm = 0.0033431 (50 iterations in 2.029s)\n",
            "[t-SNE] Iteration 350: error = 1.9605334, gradient norm = 0.0019000 (50 iterations in 1.763s)\n",
            "[t-SNE] Iteration 400: error = 1.9287864, gradient norm = 0.0003173 (50 iterations in 1.660s)\n",
            "[t-SNE] Iteration 450: error = 1.9170094, gradient norm = 0.0002211 (50 iterations in 1.642s)\n",
            "[t-SNE] Iteration 500: error = 1.9088719, gradient norm = 0.0001661 (50 iterations in 1.707s)\n",
            "[t-SNE] Iteration 550: error = 1.9037293, gradient norm = 0.0001727 (50 iterations in 1.656s)\n",
            "[t-SNE] Iteration 600: error = 1.9001896, gradient norm = 0.0002557 (50 iterations in 1.681s)\n",
            "[t-SNE] Iteration 650: error = 1.8976369, gradient norm = 0.0002353 (50 iterations in 1.684s)\n",
            "[t-SNE] Iteration 700: error = 1.8962253, gradient norm = 0.0000748 (50 iterations in 1.685s)\n",
            "[t-SNE] Iteration 750: error = 1.8952246, gradient norm = 0.0000750 (50 iterations in 1.644s)\n",
            "[t-SNE] Iteration 800: error = 1.8940266, gradient norm = 0.0001191 (50 iterations in 1.670s)\n",
            "[t-SNE] Iteration 850: error = 1.8906963, gradient norm = 0.0002791 (50 iterations in 1.641s)\n",
            "[t-SNE] Iteration 900: error = 1.8874549, gradient norm = 0.0001431 (50 iterations in 1.661s)\n",
            "[t-SNE] Iteration 950: error = 1.8864546, gradient norm = 0.0000778 (50 iterations in 1.668s)\n",
            "[t-SNE] Iteration 1000: error = 1.8863184, gradient norm = 0.0000759 (50 iterations in 1.664s)\n",
            "[t-SNE] Error after 1000 iterations: 1.886318\n"
          ],
          "name": "stdout"
        },
        {
          "output_type": "stream",
          "text": [
            "/usr/local/lib/python3.6/dist-packages/sklearn/preprocessing/data.py:164: UserWarning: Numerical issues were encountered when centering the data and might not be solved. Dataset may contain too large values. You may need to prescale your features.\n",
            "  warnings.warn(\"Numerical issues were encountered \"\n",
            "/usr/local/lib/python3.6/dist-packages/sklearn/preprocessing/data.py:181: UserWarning: Numerical issues were encountered when scaling the data and might not be solved. The standard deviation of the data is probably very close to 0. \n",
            "  warnings.warn(\"Numerical issues were encountered \"\n"
          ],
          "name": "stderr"
        },
        {
          "output_type": "display_data",
          "data": {
            "text/html": [
              "\n",
              "    <div class=\"bk-root\">\n",
              "        <a href=\"https://bokeh.pydata.org\" target=\"_blank\" class=\"bk-logo bk-logo-small bk-logo-notebook\"></a>\n",
              "        <span id=\"8f658cc5-892f-48af-8cd2-4b9261783147\">Loading BokehJS ...</span>\n",
              "    </div>"
            ]
          },
          "metadata": {
            "tags": []
          }
        },
        {
          "output_type": "display_data",
          "data": {
            "application/javascript": [
              "\n",
              "(function(root) {\n",
              "  function now() {\n",
              "    return new Date();\n",
              "  }\n",
              "\n",
              "  var force = true;\n",
              "\n",
              "  if (typeof (root._bokeh_onload_callbacks) === \"undefined\" || force === true) {\n",
              "    root._bokeh_onload_callbacks = [];\n",
              "    root._bokeh_is_loading = undefined;\n",
              "  }\n",
              "\n",
              "  var JS_MIME_TYPE = 'application/javascript';\n",
              "  var HTML_MIME_TYPE = 'text/html';\n",
              "  var EXEC_MIME_TYPE = 'application/vnd.bokehjs_exec.v0+json';\n",
              "  var CLASS_NAME = 'output_bokeh rendered_html';\n",
              "\n",
              "  /**\n",
              "   * Render data to the DOM node\n",
              "   */\n",
              "  function render(props, node) {\n",
              "    var script = document.createElement(\"script\");\n",
              "    node.appendChild(script);\n",
              "  }\n",
              "\n",
              "  /**\n",
              "   * Handle when an output is cleared or removed\n",
              "   */\n",
              "  function handleClearOutput(event, handle) {\n",
              "    var cell = handle.cell;\n",
              "\n",
              "    var id = cell.output_area._bokeh_element_id;\n",
              "    var server_id = cell.output_area._bokeh_server_id;\n",
              "    // Clean up Bokeh references\n",
              "    if (id != null && id in Bokeh.index) {\n",
              "      Bokeh.index[id].model.document.clear();\n",
              "      delete Bokeh.index[id];\n",
              "    }\n",
              "\n",
              "    if (server_id !== undefined) {\n",
              "      // Clean up Bokeh references\n",
              "      var cmd = \"from bokeh.io.state import curstate; print(curstate().uuid_to_server['\" + server_id + \"'].get_sessions()[0].document.roots[0]._id)\";\n",
              "      cell.notebook.kernel.execute(cmd, {\n",
              "        iopub: {\n",
              "          output: function(msg) {\n",
              "            var id = msg.content.text.trim();\n",
              "            if (id in Bokeh.index) {\n",
              "              Bokeh.index[id].model.document.clear();\n",
              "              delete Bokeh.index[id];\n",
              "            }\n",
              "          }\n",
              "        }\n",
              "      });\n",
              "      // Destroy server and session\n",
              "      var cmd = \"import bokeh.io.notebook as ion; ion.destroy_server('\" + server_id + \"')\";\n",
              "      cell.notebook.kernel.execute(cmd);\n",
              "    }\n",
              "  }\n",
              "\n",
              "  /**\n",
              "   * Handle when a new output is added\n",
              "   */\n",
              "  function handleAddOutput(event, handle) {\n",
              "    var output_area = handle.output_area;\n",
              "    var output = handle.output;\n",
              "\n",
              "    // limit handleAddOutput to display_data with EXEC_MIME_TYPE content only\n",
              "    if ((output.output_type != \"display_data\") || (!output.data.hasOwnProperty(EXEC_MIME_TYPE))) {\n",
              "      return\n",
              "    }\n",
              "\n",
              "    var toinsert = output_area.element.find(\".\" + CLASS_NAME.split(' ')[0]);\n",
              "\n",
              "    if (output.metadata[EXEC_MIME_TYPE][\"id\"] !== undefined) {\n",
              "      toinsert[toinsert.length - 1].firstChild.textContent = output.data[JS_MIME_TYPE];\n",
              "      // store reference to embed id on output_area\n",
              "      output_area._bokeh_element_id = output.metadata[EXEC_MIME_TYPE][\"id\"];\n",
              "    }\n",
              "    if (output.metadata[EXEC_MIME_TYPE][\"server_id\"] !== undefined) {\n",
              "      var bk_div = document.createElement(\"div\");\n",
              "      bk_div.innerHTML = output.data[HTML_MIME_TYPE];\n",
              "      var script_attrs = bk_div.children[0].attributes;\n",
              "      for (var i = 0; i < script_attrs.length; i++) {\n",
              "        toinsert[toinsert.length - 1].firstChild.setAttribute(script_attrs[i].name, script_attrs[i].value);\n",
              "      }\n",
              "      // store reference to server id on output_area\n",
              "      output_area._bokeh_server_id = output.metadata[EXEC_MIME_TYPE][\"server_id\"];\n",
              "    }\n",
              "  }\n",
              "\n",
              "  function register_renderer(events, OutputArea) {\n",
              "\n",
              "    function append_mime(data, metadata, element) {\n",
              "      // create a DOM node to render to\n",
              "      var toinsert = this.create_output_subarea(\n",
              "        metadata,\n",
              "        CLASS_NAME,\n",
              "        EXEC_MIME_TYPE\n",
              "      );\n",
              "      this.keyboard_manager.register_events(toinsert);\n",
              "      // Render to node\n",
              "      var props = {data: data, metadata: metadata[EXEC_MIME_TYPE]};\n",
              "      render(props, toinsert[toinsert.length - 1]);\n",
              "      element.append(toinsert);\n",
              "      return toinsert\n",
              "    }\n",
              "\n",
              "    /* Handle when an output is cleared or removed */\n",
              "    events.on('clear_output.CodeCell', handleClearOutput);\n",
              "    events.on('delete.Cell', handleClearOutput);\n",
              "\n",
              "    /* Handle when a new output is added */\n",
              "    events.on('output_added.OutputArea', handleAddOutput);\n",
              "\n",
              "    /**\n",
              "     * Register the mime type and append_mime function with output_area\n",
              "     */\n",
              "    OutputArea.prototype.register_mime_type(EXEC_MIME_TYPE, append_mime, {\n",
              "      /* Is output safe? */\n",
              "      safe: true,\n",
              "      /* Index of renderer in `output_area.display_order` */\n",
              "      index: 0\n",
              "    });\n",
              "  }\n",
              "\n",
              "  // register the mime type if in Jupyter Notebook environment and previously unregistered\n",
              "  if (root.Jupyter !== undefined) {\n",
              "    var events = require('base/js/events');\n",
              "    var OutputArea = require('notebook/js/outputarea').OutputArea;\n",
              "\n",
              "    if (OutputArea.prototype.mime_types().indexOf(EXEC_MIME_TYPE) == -1) {\n",
              "      register_renderer(events, OutputArea);\n",
              "    }\n",
              "  }\n",
              "\n",
              "  \n",
              "  if (typeof (root._bokeh_timeout) === \"undefined\" || force === true) {\n",
              "    root._bokeh_timeout = Date.now() + 5000;\n",
              "    root._bokeh_failed_load = false;\n",
              "  }\n",
              "\n",
              "  var NB_LOAD_WARNING = {'data': {'text/html':\n",
              "     \"<div style='background-color: #fdd'>\\n\"+\n",
              "     \"<p>\\n\"+\n",
              "     \"BokehJS does not appear to have successfully loaded. If loading BokehJS from CDN, this \\n\"+\n",
              "     \"may be due to a slow or bad network connection. Possible fixes:\\n\"+\n",
              "     \"</p>\\n\"+\n",
              "     \"<ul>\\n\"+\n",
              "     \"<li>re-rerun `output_notebook()` to attempt to load from CDN again, or</li>\\n\"+\n",
              "     \"<li>use INLINE resources instead, as so:</li>\\n\"+\n",
              "     \"</ul>\\n\"+\n",
              "     \"<code>\\n\"+\n",
              "     \"from bokeh.resources import INLINE\\n\"+\n",
              "     \"output_notebook(resources=INLINE)\\n\"+\n",
              "     \"</code>\\n\"+\n",
              "     \"</div>\"}};\n",
              "\n",
              "  function display_loaded() {\n",
              "    var el = document.getElementById(\"8f658cc5-892f-48af-8cd2-4b9261783147\");\n",
              "    if (el != null) {\n",
              "      el.textContent = \"BokehJS is loading...\";\n",
              "    }\n",
              "    if (root.Bokeh !== undefined) {\n",
              "      if (el != null) {\n",
              "        el.textContent = \"BokehJS \" + root.Bokeh.version + \" successfully loaded.\";\n",
              "      }\n",
              "    } else if (Date.now() < root._bokeh_timeout) {\n",
              "      setTimeout(display_loaded, 100)\n",
              "    }\n",
              "  }\n",
              "\n",
              "\n",
              "  function run_callbacks() {\n",
              "    try {\n",
              "      root._bokeh_onload_callbacks.forEach(function(callback) { callback() });\n",
              "    }\n",
              "    finally {\n",
              "      delete root._bokeh_onload_callbacks\n",
              "    }\n",
              "    console.info(\"Bokeh: all callbacks have finished\");\n",
              "  }\n",
              "\n",
              "  function load_libs(js_urls, callback) {\n",
              "    root._bokeh_onload_callbacks.push(callback);\n",
              "    if (root._bokeh_is_loading > 0) {\n",
              "      console.log(\"Bokeh: BokehJS is being loaded, scheduling callback at\", now());\n",
              "      return null;\n",
              "    }\n",
              "    if (js_urls == null || js_urls.length === 0) {\n",
              "      run_callbacks();\n",
              "      return null;\n",
              "    }\n",
              "    console.log(\"Bokeh: BokehJS not loaded, scheduling load and callback at\", now());\n",
              "    root._bokeh_is_loading = js_urls.length;\n",
              "    for (var i = 0; i < js_urls.length; i++) {\n",
              "      var url = js_urls[i];\n",
              "      var s = document.createElement('script');\n",
              "      s.src = url;\n",
              "      s.async = false;\n",
              "      s.onreadystatechange = s.onload = function() {\n",
              "        root._bokeh_is_loading--;\n",
              "        if (root._bokeh_is_loading === 0) {\n",
              "          console.log(\"Bokeh: all BokehJS libraries loaded\");\n",
              "          run_callbacks()\n",
              "        }\n",
              "      };\n",
              "      s.onerror = function() {\n",
              "        console.warn(\"failed to load library \" + url);\n",
              "      };\n",
              "      console.log(\"Bokeh: injecting script tag for BokehJS library: \", url);\n",
              "      document.getElementsByTagName(\"head\")[0].appendChild(s);\n",
              "    }\n",
              "  };var element = document.getElementById(\"8f658cc5-892f-48af-8cd2-4b9261783147\");\n",
              "  if (element == null) {\n",
              "    console.log(\"Bokeh: ERROR: autoload.js configured with elementid '8f658cc5-892f-48af-8cd2-4b9261783147' but no matching script tag was found. \")\n",
              "    return false;\n",
              "  }\n",
              "\n",
              "  var js_urls = [\"https://cdn.pydata.org/bokeh/release/bokeh-0.13.0.min.js\", \"https://cdn.pydata.org/bokeh/release/bokeh-widgets-0.13.0.min.js\", \"https://cdn.pydata.org/bokeh/release/bokeh-tables-0.13.0.min.js\", \"https://cdn.pydata.org/bokeh/release/bokeh-gl-0.13.0.min.js\"];\n",
              "\n",
              "  var inline_js = [\n",
              "    function(Bokeh) {\n",
              "      Bokeh.set_log_level(\"info\");\n",
              "    },\n",
              "    \n",
              "    function(Bokeh) {\n",
              "      \n",
              "    },\n",
              "    function(Bokeh) {\n",
              "      console.log(\"Bokeh: injecting CSS: https://cdn.pydata.org/bokeh/release/bokeh-0.13.0.min.css\");\n",
              "      Bokeh.embed.inject_css(\"https://cdn.pydata.org/bokeh/release/bokeh-0.13.0.min.css\");\n",
              "      console.log(\"Bokeh: injecting CSS: https://cdn.pydata.org/bokeh/release/bokeh-widgets-0.13.0.min.css\");\n",
              "      Bokeh.embed.inject_css(\"https://cdn.pydata.org/bokeh/release/bokeh-widgets-0.13.0.min.css\");\n",
              "      console.log(\"Bokeh: injecting CSS: https://cdn.pydata.org/bokeh/release/bokeh-tables-0.13.0.min.css\");\n",
              "      Bokeh.embed.inject_css(\"https://cdn.pydata.org/bokeh/release/bokeh-tables-0.13.0.min.css\");\n",
              "    }\n",
              "  ];\n",
              "\n",
              "  function run_inline_js() {\n",
              "    \n",
              "    if ((root.Bokeh !== undefined) || (force === true)) {\n",
              "      for (var i = 0; i < inline_js.length; i++) {\n",
              "        inline_js[i].call(root, root.Bokeh);\n",
              "      }if (force === true) {\n",
              "        display_loaded();\n",
              "      }} else if (Date.now() < root._bokeh_timeout) {\n",
              "      setTimeout(run_inline_js, 100);\n",
              "    } else if (!root._bokeh_failed_load) {\n",
              "      console.log(\"Bokeh: BokehJS failed to load within specified timeout.\");\n",
              "      root._bokeh_failed_load = true;\n",
              "    } else if (force !== true) {\n",
              "      var cell = $(document.getElementById(\"8f658cc5-892f-48af-8cd2-4b9261783147\")).parents('.cell').data().cell;\n",
              "      cell.output_area.append_execute_result(NB_LOAD_WARNING)\n",
              "    }\n",
              "\n",
              "  }\n",
              "\n",
              "  if (root._bokeh_is_loading === 0) {\n",
              "    console.log(\"Bokeh: BokehJS loaded, going straight to plotting\");\n",
              "    run_inline_js();\n",
              "  } else {\n",
              "    load_libs(js_urls, function() {\n",
              "      console.log(\"Bokeh: BokehJS plotting callback run at\", now());\n",
              "      run_inline_js();\n",
              "    });\n",
              "  }\n",
              "}(window));"
            ],
            "application/vnd.bokehjs_load.v0+json": "\n(function(root) {\n  function now() {\n    return new Date();\n  }\n\n  var force = true;\n\n  if (typeof (root._bokeh_onload_callbacks) === \"undefined\" || force === true) {\n    root._bokeh_onload_callbacks = [];\n    root._bokeh_is_loading = undefined;\n  }\n\n  \n\n  \n  if (typeof (root._bokeh_timeout) === \"undefined\" || force === true) {\n    root._bokeh_timeout = Date.now() + 5000;\n    root._bokeh_failed_load = false;\n  }\n\n  var NB_LOAD_WARNING = {'data': {'text/html':\n     \"<div style='background-color: #fdd'>\\n\"+\n     \"<p>\\n\"+\n     \"BokehJS does not appear to have successfully loaded. If loading BokehJS from CDN, this \\n\"+\n     \"may be due to a slow or bad network connection. Possible fixes:\\n\"+\n     \"</p>\\n\"+\n     \"<ul>\\n\"+\n     \"<li>re-rerun `output_notebook()` to attempt to load from CDN again, or</li>\\n\"+\n     \"<li>use INLINE resources instead, as so:</li>\\n\"+\n     \"</ul>\\n\"+\n     \"<code>\\n\"+\n     \"from bokeh.resources import INLINE\\n\"+\n     \"output_notebook(resources=INLINE)\\n\"+\n     \"</code>\\n\"+\n     \"</div>\"}};\n\n  function display_loaded() {\n    var el = document.getElementById(\"8f658cc5-892f-48af-8cd2-4b9261783147\");\n    if (el != null) {\n      el.textContent = \"BokehJS is loading...\";\n    }\n    if (root.Bokeh !== undefined) {\n      if (el != null) {\n        el.textContent = \"BokehJS \" + root.Bokeh.version + \" successfully loaded.\";\n      }\n    } else if (Date.now() < root._bokeh_timeout) {\n      setTimeout(display_loaded, 100)\n    }\n  }\n\n\n  function run_callbacks() {\n    try {\n      root._bokeh_onload_callbacks.forEach(function(callback) { callback() });\n    }\n    finally {\n      delete root._bokeh_onload_callbacks\n    }\n    console.info(\"Bokeh: all callbacks have finished\");\n  }\n\n  function load_libs(js_urls, callback) {\n    root._bokeh_onload_callbacks.push(callback);\n    if (root._bokeh_is_loading > 0) {\n      console.log(\"Bokeh: BokehJS is being loaded, scheduling callback at\", now());\n      return null;\n    }\n    if (js_urls == null || js_urls.length === 0) {\n      run_callbacks();\n      return null;\n    }\n    console.log(\"Bokeh: BokehJS not loaded, scheduling load and callback at\", now());\n    root._bokeh_is_loading = js_urls.length;\n    for (var i = 0; i < js_urls.length; i++) {\n      var url = js_urls[i];\n      var s = document.createElement('script');\n      s.src = url;\n      s.async = false;\n      s.onreadystatechange = s.onload = function() {\n        root._bokeh_is_loading--;\n        if (root._bokeh_is_loading === 0) {\n          console.log(\"Bokeh: all BokehJS libraries loaded\");\n          run_callbacks()\n        }\n      };\n      s.onerror = function() {\n        console.warn(\"failed to load library \" + url);\n      };\n      console.log(\"Bokeh: injecting script tag for BokehJS library: \", url);\n      document.getElementsByTagName(\"head\")[0].appendChild(s);\n    }\n  };var element = document.getElementById(\"8f658cc5-892f-48af-8cd2-4b9261783147\");\n  if (element == null) {\n    console.log(\"Bokeh: ERROR: autoload.js configured with elementid '8f658cc5-892f-48af-8cd2-4b9261783147' but no matching script tag was found. \")\n    return false;\n  }\n\n  var js_urls = [\"https://cdn.pydata.org/bokeh/release/bokeh-0.13.0.min.js\", \"https://cdn.pydata.org/bokeh/release/bokeh-widgets-0.13.0.min.js\", \"https://cdn.pydata.org/bokeh/release/bokeh-tables-0.13.0.min.js\", \"https://cdn.pydata.org/bokeh/release/bokeh-gl-0.13.0.min.js\"];\n\n  var inline_js = [\n    function(Bokeh) {\n      Bokeh.set_log_level(\"info\");\n    },\n    \n    function(Bokeh) {\n      \n    },\n    function(Bokeh) {\n      console.log(\"Bokeh: injecting CSS: https://cdn.pydata.org/bokeh/release/bokeh-0.13.0.min.css\");\n      Bokeh.embed.inject_css(\"https://cdn.pydata.org/bokeh/release/bokeh-0.13.0.min.css\");\n      console.log(\"Bokeh: injecting CSS: https://cdn.pydata.org/bokeh/release/bokeh-widgets-0.13.0.min.css\");\n      Bokeh.embed.inject_css(\"https://cdn.pydata.org/bokeh/release/bokeh-widgets-0.13.0.min.css\");\n      console.log(\"Bokeh: injecting CSS: https://cdn.pydata.org/bokeh/release/bokeh-tables-0.13.0.min.css\");\n      Bokeh.embed.inject_css(\"https://cdn.pydata.org/bokeh/release/bokeh-tables-0.13.0.min.css\");\n    }\n  ];\n\n  function run_inline_js() {\n    \n    if ((root.Bokeh !== undefined) || (force === true)) {\n      for (var i = 0; i < inline_js.length; i++) {\n        inline_js[i].call(root, root.Bokeh);\n      }if (force === true) {\n        display_loaded();\n      }} else if (Date.now() < root._bokeh_timeout) {\n      setTimeout(run_inline_js, 100);\n    } else if (!root._bokeh_failed_load) {\n      console.log(\"Bokeh: BokehJS failed to load within specified timeout.\");\n      root._bokeh_failed_load = true;\n    } else if (force !== true) {\n      var cell = $(document.getElementById(\"8f658cc5-892f-48af-8cd2-4b9261783147\")).parents('.cell').data().cell;\n      cell.output_area.append_execute_result(NB_LOAD_WARNING)\n    }\n\n  }\n\n  if (root._bokeh_is_loading === 0) {\n    console.log(\"Bokeh: BokehJS loaded, going straight to plotting\");\n    run_inline_js();\n  } else {\n    load_libs(js_urls, function() {\n      console.log(\"Bokeh: BokehJS plotting callback run at\", now());\n      run_inline_js();\n    });\n  }\n}(window));"
          },
          "metadata": {
            "tags": []
          }
        },
        {
          "output_type": "display_data",
          "data": {
            "text/html": [
              "\n",
              "\n",
              "\n",
              "\n",
              "\n",
              "\n",
              "  <div class=\"bk-root\" id=\"ac95063b-33cb-4049-9786-371cd2677bb4\"></div>\n"
            ]
          },
          "metadata": {
            "tags": []
          }
        },
        {
          "output_type": "display_data",
          "data": {
            "application/javascript": [
              "(function(root) {\n",
              "  function embed_document(root) {\n",
              "    \n",
              "  var docs_json = {\"1c16fd4e-c995-4527-98bc-48f035f0e410\":{\"roots\":{\"references\":[{\"attributes\":{\"active_drag\":\"auto\",\"active_inspect\":\"auto\",\"active_multi\":null,\"active_scroll\":{\"id\":\"dba3d288-6291-448f-b4b6-e48a7b33065f\",\"type\":\"WheelZoomTool\"},\"active_tap\":\"auto\",\"tools\":[{\"id\":\"16f8b016-40b9-4d40-9a36-2edb6e581fb1\",\"type\":\"PanTool\"},{\"id\":\"dba3d288-6291-448f-b4b6-e48a7b33065f\",\"type\":\"WheelZoomTool\"},{\"id\":\"68fc875d-e10a-484c-94f7-7fed2496b53c\",\"type\":\"BoxZoomTool\"},{\"id\":\"ffa03984-8c65-4dc0-af1a-2de04e46164e\",\"type\":\"SaveTool\"},{\"id\":\"76d91566-46c2-4b4e-bffc-ef130ef6d455\",\"type\":\"ResetTool\"},{\"id\":\"fe5b43a9-c8e1-48fa-a51a-3616b88fbb0b\",\"type\":\"HelpTool\"},{\"id\":\"0ac9c061-88c1-4450-81c4-39b6c4a9e7a8\",\"type\":\"HoverTool\"}]},\"id\":\"a62ace2a-39b6-4ee0-8c97-2cb374f7e5d3\",\"type\":\"Toolbar\"},{\"attributes\":{\"callback\":null,\"data\":{\"color\":[\"green\",\"green\",\"green\",\"green\",\"green\",\"green\",\"green\",\"green\",\"green\",\"green\",\"green\",\"green\",\"green\",\"green\",\"green\",\"green\",\"green\",\"green\",\"green\",\"green\",\"green\",\"green\",\"green\",\"green\",\"green\",\"green\",\"green\",\"green\",\"green\",\"green\",\"green\",\"green\",\"green\",\"green\",\"green\",\"green\",\"green\",\"green\",\"green\",\"green\",\"green\",\"green\",\"green\",\"green\",\"green\",\"green\",\"green\",\"green\",\"green\",\"green\",\"green\",\"green\",\"green\",\"green\",\"green\",\"green\",\"green\",\"green\",\"green\",\"green\",\"green\",\"green\",\"green\",\"green\",\"green\",\"green\",\"green\",\"green\",\"green\",\"green\",\"green\",\"green\",\"green\",\"green\",\"green\",\"green\",\"green\",\"green\",\"green\",\"green\",\"green\",\"green\",\"green\",\"green\",\"green\",\"green\",\"green\",\"green\",\"green\",\"green\",\"green\",\"green\",\"green\",\"green\",\"green\",\"green\",\"green\",\"green\",\"green\",\"green\",\"green\",\"green\",\"green\",\"green\",\"green\",\"green\",\"green\",\"green\",\"green\",\"green\",\"green\",\"green\",\"green\",\"green\",\"green\",\"green\",\"green\",\"green\",\"green\",\"green\",\"green\",\"green\",\"green\",\"green\",\"green\",\"green\",\"green\",\"green\",\"green\",\"green\",\"green\",\"green\",\"green\",\"green\",\"green\",\"green\",\"green\",\"green\",\"green\",\"green\",\"green\",\"green\",\"green\",\"green\",\"green\",\"green\",\"green\",\"green\",\"green\",\"green\",\"green\",\"green\",\"green\",\"green\",\"green\",\"green\",\"green\",\"green\",\"green\",\"green\",\"green\",\"green\",\"green\",\"green\",\"green\",\"green\",\"green\",\"green\",\"green\",\"green\",\"green\",\"green\",\"green\",\"green\",\"green\",\"green\",\"green\",\"green\",\"green\",\"green\",\"green\",\"green\",\"green\",\"green\",\"green\",\"green\",\"green\",\"green\",\"green\",\"green\",\"green\",\"green\",\"green\",\"green\",\"green\",\"green\",\"green\",\"green\",\"green\",\"green\",\"green\",\"green\",\"green\",\"green\",\"green\",\"green\",\"green\",\"green\",\"green\",\"green\",\"green\",\"green\",\"green\",\"green\",\"green\",\"green\",\"green\",\"green\",\"green\",\"green\",\"green\",\"green\",\"green\",\"green\",\"green\",\"green\",\"green\",\"green\",\"green\",\"green\",\"green\",\"green\",\"green\",\"green\",\"green\",\"green\",\"green\",\"green\",\"green\",\"green\",\"green\",\"green\",\"green\",\"green\",\"green\",\"green\",\"green\",\"green\",\"green\",\"green\",\"green\",\"green\",\"green\",\"green\",\"green\",\"green\",\"green\",\"green\",\"green\",\"green\",\"green\",\"green\",\"green\",\"green\",\"green\",\"green\",\"green\",\"green\",\"green\",\"green\",\"green\",\"green\",\"green\",\"green\",\"green\",\"green\",\"green\",\"green\",\"green\",\"green\",\"green\",\"green\",\"green\",\"green\",\"green\",\"green\",\"green\",\"green\",\"green\",\"green\",\"green\",\"green\",\"green\",\"green\",\"green\",\"green\",\"green\",\"green\",\"green\",\"green\",\"green\",\"green\",\"green\",\"green\",\"green\",\"green\",\"green\",\"green\",\"green\",\"green\",\"green\",\"green\",\"green\",\"green\",\"green\",\"green\",\"green\",\"green\",\"green\",\"green\",\"green\",\"green\",\"green\",\"green\",\"green\",\"green\",\"green\",\"green\",\"green\",\"green\",\"green\",\"green\",\"green\",\"green\",\"green\",\"green\",\"green\",\"green\",\"green\",\"green\",\"green\",\"green\",\"green\",\"green\",\"green\",\"green\",\"green\",\"green\",\"green\",\"green\",\"green\",\"green\",\"green\",\"green\",\"green\",\"green\",\"green\",\"green\",\"green\",\"green\",\"green\",\"green\",\"green\",\"green\",\"green\",\"green\",\"green\",\"green\",\"green\",\"green\",\"green\",\"green\",\"green\",\"green\",\"green\",\"green\",\"green\",\"green\",\"green\",\"green\",\"green\",\"green\",\"green\",\"green\",\"green\",\"green\",\"green\",\"green\",\"green\",\"green\",\"green\",\"green\",\"green\",\"green\",\"green\",\"green\",\"green\",\"green\",\"green\",\"green\",\"green\",\"green\",\"green\",\"green\",\"green\",\"green\",\"green\",\"green\",\"green\",\"green\",\"green\",\"green\",\"green\",\"green\",\"green\",\"green\",\"green\",\"green\",\"green\",\"green\",\"green\",\"green\",\"green\",\"green\",\"green\",\"green\",\"green\",\"green\",\"green\",\"green\",\"green\",\"green\",\"green\",\"green\",\"green\",\"green\",\"green\",\"green\",\"green\",\"green\",\"green\",\"green\",\"green\",\"green\",\"green\",\"green\",\"green\",\"green\",\"green\",\"green\",\"green\",\"green\",\"green\",\"green\",\"green\",\"green\",\"green\",\"green\",\"green\",\"green\",\"green\",\"green\",\"green\",\"green\",\"green\",\"green\",\"green\",\"green\",\"green\",\"green\",\"green\",\"green\",\"green\",\"green\",\"green\",\"green\",\"green\",\"green\",\"green\",\"green\",\"green\",\"green\",\"green\",\"green\",\"green\",\"green\",\"green\",\"green\",\"green\",\"green\",\"green\",\"green\",\"green\",\"green\",\"green\",\"green\",\"green\",\"green\",\"green\",\"green\",\"green\",\"green\",\"green\",\"green\",\"green\",\"green\",\"green\",\"green\",\"green\",\"green\",\"green\",\"green\",\"green\",\"green\",\"green\",\"green\",\"green\",\"green\",\"green\",\"green\",\"green\",\"green\",\"green\",\"green\",\"green\",\"green\",\"green\",\"green\",\"green\",\"green\",\"green\",\"green\",\"green\",\"green\",\"green\",\"green\",\"green\",\"green\",\"green\",\"green\",\"green\",\"green\",\"green\",\"green\",\"green\",\"green\",\"green\",\"green\",\"green\",\"green\",\"green\",\"green\",\"green\",\"green\",\"green\",\"green\",\"green\",\"green\",\"green\",\"green\",\"green\",\"green\",\"green\",\"green\",\"green\",\"green\",\"green\",\"green\",\"green\",\"green\",\"green\",\"green\",\"green\",\"green\",\"green\",\"green\",\"green\",\"green\",\"green\",\"green\",\"green\",\"green\",\"green\",\"green\",\"green\",\"green\",\"green\",\"green\",\"green\",\"green\",\"green\",\"green\",\"green\",\"green\",\"green\",\"green\",\"green\",\"green\",\"green\",\"green\",\"green\",\"green\",\"green\",\"green\",\"green\",\"green\",\"green\",\"green\",\"green\",\"green\",\"green\",\"green\",\"green\",\"green\",\"green\",\"green\",\"green\",\"green\",\"green\",\"green\",\"green\",\"green\",\"green\",\"green\",\"green\",\"green\",\"green\",\"green\",\"green\",\"green\",\"green\",\"green\",\"green\",\"green\",\"green\",\"green\",\"green\",\"green\",\"green\",\"green\",\"green\",\"green\",\"green\",\"green\",\"green\",\"green\",\"green\",\"green\",\"green\",\"green\",\"green\",\"green\",\"green\",\"green\",\"green\",\"green\",\"green\",\"green\",\"green\",\"green\",\"green\",\"green\",\"green\",\"green\",\"green\",\"green\",\"green\",\"green\",\"green\",\"green\",\"green\",\"green\",\"green\",\"green\",\"green\",\"green\",\"green\",\"green\",\"green\",\"green\",\"green\",\"green\",\"green\",\"green\",\"green\",\"green\",\"green\",\"green\",\"green\",\"green\",\"green\",\"green\",\"green\",\"green\",\"green\",\"green\",\"green\",\"green\",\"green\",\"green\",\"green\",\"green\",\"green\",\"green\",\"green\",\"green\",\"green\",\"green\",\"green\",\"green\",\"green\",\"green\",\"green\",\"green\",\"green\",\"green\",\"green\",\"green\",\"green\",\"green\",\"green\",\"green\",\"green\",\"green\",\"green\",\"green\",\"green\",\"green\",\"green\",\"green\",\"green\",\"green\",\"green\",\"green\",\"green\",\"green\",\"green\",\"green\",\"green\",\"green\",\"green\",\"green\",\"green\",\"green\",\"green\",\"green\",\"green\",\"green\",\"green\",\"green\",\"green\",\"green\",\"green\",\"green\",\"green\",\"green\",\"green\",\"green\",\"green\",\"green\",\"green\",\"green\",\"green\",\"green\",\"green\",\"green\",\"green\",\"green\",\"green\",\"green\",\"green\",\"green\",\"green\",\"green\",\"green\",\"green\",\"green\",\"green\",\"green\",\"green\",\"green\",\"green\",\"green\",\"green\",\"green\",\"green\",\"green\",\"green\",\"green\",\"green\",\"green\",\"green\",\"green\",\"green\",\"green\",\"green\",\"green\",\"green\",\"green\",\"green\",\"green\",\"green\",\"green\",\"green\",\"green\",\"green\",\"green\",\"green\",\"green\",\"green\",\"green\",\"green\",\"green\",\"green\",\"green\",\"green\",\"green\",\"green\",\"green\",\"green\",\"green\",\"green\",\"green\",\"green\",\"green\",\"green\",\"green\",\"green\",\"green\",\"green\",\"green\",\"green\",\"green\",\"green\",\"green\",\"green\",\"green\",\"green\",\"green\",\"green\",\"green\",\"green\",\"green\",\"green\",\"green\",\"green\",\"green\",\"green\",\"green\",\"green\",\"green\",\"green\",\"green\",\"green\",\"green\",\"green\",\"green\",\"green\",\"green\",\"green\",\"green\",\"green\",\"green\",\"green\",\"green\",\"green\",\"green\",\"green\",\"green\",\"green\",\"green\",\"green\",\"green\",\"green\",\"green\",\"green\",\"green\",\"green\",\"green\",\"green\",\"green\",\"green\",\"green\",\"green\",\"green\",\"green\",\"green\",\"green\",\"green\",\"green\",\"green\",\"green\",\"green\",\"green\",\"green\",\"green\",\"green\",\"green\",\"green\",\"green\",\"green\",\"green\",\"green\",\"green\",\"green\",\"green\",\"green\",\"green\",\"green\",\"green\",\"green\",\"green\",\"green\",\"green\",\"green\",\"green\",\"green\",\"green\",\"green\",\"green\",\"green\",\"green\",\"green\",\"green\",\"green\",\"green\",\"green\",\"green\",\"green\",\"green\",\"green\",\"green\",\"green\",\"green\",\"green\",\"green\",\"green\",\"green\",\"green\",\"green\",\"green\",\"green\",\"green\",\"green\",\"green\",\"green\",\"green\",\"green\",\"green\",\"green\",\"green\",\"green\",\"green\",\"green\",\"green\",\"green\",\"green\",\"green\",\"green\",\"green\",\"green\",\"green\",\"green\",\"green\",\"green\",\"green\",\"green\",\"green\",\"green\",\"green\",\"green\",\"green\",\"green\",\"green\",\"green\",\"green\",\"green\",\"green\",\"green\",\"green\",\"green\",\"green\",\"green\",\"green\",\"green\",\"green\",\"green\",\"green\",\"green\",\"green\",\"green\",\"green\",\"green\",\"green\",\"green\",\"green\",\"green\",\"green\",\"green\",\"green\"],\"token\":[\"?\",\"the\",\"what\",\"is\",\"a\",\"i\",\"to\",\"in\",\"how\",\"of\",\"do\",\"are\",\"and\",\"for\",\",\",\"can\",\"you\",\"why\",\"it\",\"my\",\"does\",\"best\",\"on\",\".\",\"or\",\"have\",\"if\",\"be\",\"with\",\"which\",\"that\",\"an\",\"some\",\"should\",\"'s\",\"get\",\"from\",\")\",\"your\",\"(\",\"like\",\"when\",\"at\",\"india\",\"good\",\"who\",\"there\",\"will\",\"as\",\"would\",\"people\",\"not\",\"n't\",\"about\",\"``\",\"''\",\"between\",\"one\",\"did\",\"any\",\"we\",\"me\",\"where\",\"most\",\"was\",\"by\",\"make\",\"so\",\"they\",\"this\",\"am\",\"after\",\"way\",\":\",\"has\",\"use\",\"much\",\"difference\",\"time\",\"life\",\"their\",\"know\",\"work\",\"many\",\"but\",\"than\",\"more\",\"all\",\"want\",\"quora\",\"someone\",\"learn\",\"find\",\"other\",\"think\",\"new\",\"better\",\"job\",\"indian\",\"out\",\"money\",\"mean\",\"become\",\"ever\",\"world\",\"without\",\"he\",\"start\",\"take\",\"us\",\"up\",\"first\",\"feel\",\"year\",\"into\",\"go\",\"online\",\"used\",\"engineering\",\"could\",\"love\",\"'m\",\"person\",\"were\",\"possible\",\"day\",\"buy\",\"things\",\"being\",\"need\",\"business\",\"using\",\"them\",\"really\",\"trump\",\"girl\",\"her\",\"his\",\"years\",\"different\",\"long\",\"phone\",\"google\",\"company\",\"been\",\"old\",\"only\",\"no\",\"now\",\"'\",\"just\",\"2\",\"app\",\"college\",\"facebook\",\"number\",\"free\",\"books\",\"2016\",\"movie\",\"still\",\"its\",\"account\",\"ca\",\"women\",\"book\",\"english\",\"while\",\"she\",\"had\",\"change\",\"ways\",\"computer\",\"thing\",\"examples\",\"data\",\"country\",\"over\",\"see\",\"android\",\"help\",\"science\",\"live\",\"school\",\"software\",\"before\",\"&\",\"language\",\"same\",\"going\",\"bad\",\"sex\",\"student\",\"stop\",\"university\",\"happen\",\"back\",\"made\",\"3\",\"study\",\"our\",\"1\",\"two\",\"through\",\"system\",\"name\",\"say\",\"real\",\"during\",\"prepare\",\"water\",\"iphone\",\"website\",\"top\",\"car\",\"questions\",\"important\",\"men\",\"give\",\"getting\",\"anyone\",\"companies\",\"high\",\"black\",\"card\",\"read\",\"programming\",\"war\",\"learning\",\"10\",\"\\u2019\",\"exam\",\"[\",\"then\",\"]\",\"even\",\"movies\",\"china\",\"mobile\",\"cost\",\"donald\",\"right\",\"doing\",\"friend\",\"him\",\"working\",\"5\",\"under\",\"come\",\"president\",\"own\",\"question\",\"career\",\"experience\",\"bank\",\"true\",\"friends\",\"guy\",\"word\",\"hair\",\"home\",\"video\",\"having\",\"look\",\"usa\",\"tell\",\"man\",\"social\",\"web\",\"interview\",\"very\",\"engineer\",\"write\",\"game\",\"government\",\"weight\",\"earth\",\"girls\",\"service\",\"food\",\"students\",\"play\",\"countries\",\"human\",\"place\",\"future\",\"improve\",\"off\",\"big\",\"days\",\"happens\",\"'ve\",\"done\",\"class\",\"eat\",\"tv\",\"process\",\"got\",\"state\",\"average\",\"s\",\"meaning\",\"relationship\",\"music\",\"too\",\"math\",\"create\",\"instagram\",\"every\",\"history\",\"last\",\"pay\",\"windows\",\"white\",\"watch\",\"%\",\"salary\",\"body\",\"power\",\"4\",\"safe\",\"clinton\",\"ask\",\"age\",\"laptop\",\"makes\",\"$\",\"each\",\"hard\",\"lose\",\"american\",\"delhi\",\"youtube\",\"energy\",\"worth\",\"earn\",\"states\",\"against\",\"win\",\"girlfriend\",\"great\",\"keep\",\"test\",\"god\",\"hillary\",\"compare\",\"market\",\"differences\",\"making\",\"considered\",\"something\",\"answer\",\"apply\",\"myself\",\"mba\",\"tips\",\"around\",\"never\",\"next\",\"always\",\"mechanical\",\"another\",\"united\",\"java\",\"increase\",\"such\",\"course\",\"jobs\",\"c\",\"download\",\"song\",\"parents\",\"kind\",\"internet\",\"common\",\"review\",\"woman\",\"code\",\"design\",\"per\",\"employees\",\"end\",\"development\",\"chinese\",\"series\",\"score\",\"interesting\",\"degree\",\"month\",\"travel\",\"show\",\"management\",\"months\",\"able\",\"believe\",\"open\",\"program\",\"living\",\"looking\",\"because\",\"type\",\"bangalore\",\"light\",\"favorite\",\"america\",\"today\",\"actually\",\"major\",\"family\",\"marketing\",\"pakistan\",\"universities\",\"technology\",\"law\",\"call\",\"affect\",\"whatsapp\",\"6\",\"idea\",\"{\",\"build\",\"}\",\"choose\",\"cat\",\"current\",\"support\",\"problem\",\"popular\",\"speed\",\"air\",\"rid\",\"deal\",\"visa\",\"join\",\"run\",\"games\",\"space\",\"down\",\"both\",\"well\",\"city\",\"2017\",\"house\",\"exist\",\"services\",\"available\",\"civil\",\"u.s.\",\"site\",\"culture\",\"also\",\"normal\",\"given\",\"wrong\",\"apple\",\"small\",\"order\",\"date\",\"wear\",\"apps\",\"places\",\"songs\",\"differ\",\"project\",\"product\",\"international\",\"behind\",\"main\",\"research\",\"x\",\"7\",\"happened\",\"boyfriend\",\"media\",\"public\",\"canada\",\"value\",\"jee\",\"cause\",\"reason\",\"uk\",\"education\",\"email\",\"ms\",\"sleep\",\"-\",\"amazon\",\"instead\",\"these\",\"benefits\",\"startup\",\"less\",\"iit\",\"part\",\"list\",\"based\",\"die\",\"medical\",\"websites\",\"etc\",\"physics\",\"skills\",\"child\",\"form\",\"health\",\"causes\",\"called\",\"times\",\"visit\",\"hate\",\"level\",\"worst\",\"police\",\"legal\",\"control\",\"terms\",\"stay\",\"products\",\"mumbai\",\"post\",\"facts\",\"mind\",\"face\",\"application\",\"rate\",\"sites\",\"field\",\"file\",\"required\",\"humans\",\"sell\",\"seen\",\"story\",\"machine\",\"private\",\"dog\",\"notes\",\"stock\",\"modi\",\"biggest\",\"asked\",\"invest\",\"children\",\"point\",\"writing\",\"move\",\"night\",\"problems\",\"gate\",\"put\",\"'re\",\"successful\",\"single\",\"anything\",\"indians\",\"others\",\"remove\",\"compared\",\"theory\",\"death\",\"ideas\",\"talk\",\"marks\",\"answers\",\"plan\",\"similar\",\"sentence\",\"low\",\"group\",\"institute\",\"side\",\"hours\",\"again\",\"effects\",\"/math\",\"coaching\",\"australia\",\"solve\",\"advantages\",\"correct\",\"function\",\"tax\",\"lot\",\"center\",\"famous\",\"send\",\"germany\",\"guys\",\"add\",\"set\",\"offer\",\"south\",\"force\",\"credit\",\"foreign\",\"universe\",\"information\",\"fall\",\"period\",\"daily\",\"says\",\"developer\",\"training\",\"full\",\"videos\",\"area\",\"industry\",\"oil\",\"model\",\"general\",\"studying\",\"majors\",\"star\",\"colleges\",\"graduate\",\"size\",\"yourself\",\"drive\",\"python\",\"2015\",\"blood\",\"near\",\"search\",\"enough\",\"price\",\"kill\",\"quality\",\"words\",\"cons\",\"marriage\",\"found\",\"often\",\"\\u201d\",\"leave\",\"pros\",\"fast\",\"grow\",\"courses\",\"started\",\"week\",\"fix\",\"related\",\"purpose\",\"8\",\"network\",\"types\",\"russia\",\"advice\",\"those\",\"password\",\"follow\",\"taking\",\"married\",\"mass\",\"male\",\"store\",\"turn\",\"party\",\"left\",\"brain\",\"rs\",\"\\u201c\",\"numbers\",\"100\",\"500\",\"female\",\"share\",\"digital\",\"team\",\"1000\",\"effective\",\"economy\",\"term\",\"text\",\"delete\",\"election\",\"cell\",\"pc\",\"master\",\"office\",\"matter\",\"few\",\"role\",\"since\",\"preparation\",\"fat\",\"second\",\"page\",\"dark\",\"short\",\"said\",\"happy\",\"red\",\"line\",\"away\",\"security\",\"options\",\"easy\",\"effect\",\"three\",\"view\",\"admission\",\"must\",\"chemical\",\"source\",\"lost\",\"try\",\"dream\",\"understand\",\"care\",\"exams\",\"convert\",\"americans\",\"past\",\"electrical\",\"dogs\",\"profile\",\"alcohol\",\"exactly\",\"north\",\"ios\",\"develop\",\"paper\",\"japanese\",\"investment\",\"tech\",\"difficult\",\"hotel\",\"check\",\"beautiful\",\"personal\",\"calculate\",\"japan\",\"uber\",\"letter\",\"eating\",\"religion\",\"20\",\"explain\",\"languages\",\"c++\",\"hyderabad\",\"topics\",\"british\",\"b\",\"twitter\",\"basic\",\"news\",\"california\",\"self\",\"green\",\"political\",\"transfer\",\"wife\",\"12\",\"fight\",\"rank\",\"drug\",\"let\",\"porn\",\"film\",\"scope\",\"t\",\"army\",\"pune\",\"national\",\"once\",\"contact\",\"note\",\"known\",\"avoid\",\"boy\",\"gain\",\"please\",\"address\",\"wants\",\"reasons\",\"paid\",\"obama\",\"engine\",\"europe\",\"ex\",\"currently\",\"bollywood\",\"samsung\",\"smart\",\"everyone\",\"season\",\"phd\",\"income\",\"officer\",\"chances\",\"reduce\",\"option\",\"overcome\",\"everything\",\"across\",\"reading\",\"military\",\"else\",\"users\",\"meet\",\"15\",\"solar\",\"message\",\"charge\",\"knowledge\",\"due\",\"sound\",\"balance\",\"microsoft\",\"!\",\"internship\",\"faster\",\"photos\",\"pregnant\",\"sim\",\"yes\",\"moon\",\"taken\",\"financial\",\"hindi\",\"disadvantages\",\"pass\",\"animals\",\"messages\",\"gay\",\"/\",\"hack\",\"healthy\",\"pain\",\"systems\",\"amount\",\"color\",\"interested\",\"singapore\",\"ias\",\"natural\",\"skin\",\"screen\",\"chance\",\"names\",\"special\",\"height\",\"board\",\"case\",\"structure\",\"passport\",\"break\",\"pro\",\"created\",\"professional\",\"drink\",\"already\",\"percentage\",\"useful\",\"french\",\"crush\",\"sun\",\"dating\",\"likes\",\"presidential\",\"battery\",\"interest\",\"access\",\"coming\",\"provide\",\"muslim\",\"starting\",\"modern\",\"linux\",\"recover\",\"camera\",\"german\",\"expect\",\"vote\",\"muslims\",\"blue\",\"least\",\"install\",\"train\",\"studies\",\"solution\",\"thinking\",\"following\",\"negative\",\"mother\",\"jio\",\"mac\",\"user\",\"spend\",\"prime\",\"written\",\"buying\",\"feeling\",\"running\",\"football\",\"gift\",\"cold\",\"changed\",\"pressure\",\"allowed\",\"character\",\"brand\",\"rich\",\"snapchat\",\"resources\",\"within\",\"speak\",\"impact\",\"islam\",\"yet\",\"non\",\"marry\",\"eyes\",\"society\",\"bill\",\"likely\",\"though\",\"determine\",\"shows\",\"fake\",\"save\",\"capital\",\"final\",\"gmail\",\"picture\",\"laws\",\"middle\",\"applications\",\"nuclear\",\"chemistry\",\"young\",\"kids\",\"prefer\",\"device\",\"iq\",\"father\",\"views\",\"galaxy\",\"manager\",\"doctor\",\"personality\",\"hand\",\"greatest\",\"currency\",\"inside\",\"illegal\",\"stories\",\"strategy\",\"recruit\",\"pursue\",\"cs\",\"abroad\",\"gold\",\"projects\",\"consider\",\"works\",\"blog\",\"crack\",\"memory\",\"example\",\"neet\",\"growth\",\"schools\",\"necessary\",\"husband\",\"insurance\",\"alone\",\"economics\",\"depression\",\"higher\",\"dead\",\"b.tech\",\"30\",\"cse\",\"loss\",\"among\",\"files\",\"deleted\",\"easiest\",\"macbook\",\"together\",\"art\",\"wifi\",\"vs\",\"gas\",\"suggest\",\"late\",\"intelligence\",\"method\",\"gre\",\"head\",\"minimum\",\"version\",\"tools\",\"easily\",\"chennai\",\"cars\",\"suitable\"],\"x\":{\"__ndarray__\":\"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\",\"dtype\":\"float32\",\"shape\":[1000]},\"y\":{\"__ndarray__\":\"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\",\"dtype\":\"float32\",\"shape\":[1000]}},\"selected\":{\"id\":\"8f2f86fa-9f51-4984-9e55-be5280548729\",\"type\":\"Selection\"},\"selection_policy\":{\"id\":\"663ad0f5-3346-4c73-8771-9edb9939f4db\",\"type\":\"UnionRenderers\"}},\"id\":\"f322cb5d-ae3e-417c-a711-573b2c329527\",\"type\":\"ColumnDataSource\"},{\"attributes\":{},\"id\":\"16f8b016-40b9-4d40-9a36-2edb6e581fb1\",\"type\":\"PanTool\"},{\"attributes\":{\"dimension\":1,\"plot\":{\"id\":\"92709bb2-9c24-44f8-8534-cfb0ba12b71e\",\"subtype\":\"Figure\",\"type\":\"Plot\"},\"ticker\":{\"id\":\"46d14ce8-132d-442c-a02c-caa590c8cda5\",\"type\":\"BasicTicker\"}},\"id\":\"0c07d408-791b-4713-8da8-d4b855a4e192\",\"type\":\"Grid\"},{\"attributes\":{\"fill_alpha\":{\"value\":0.25},\"fill_color\":{\"field\":\"color\"},\"line_alpha\":{\"value\":0.25},\"line_color\":{\"field\":\"color\"},\"size\":{\"units\":\"screen\",\"value\":10},\"x\":{\"field\":\"x\"},\"y\":{\"field\":\"y\"}},\"id\":\"3712d41d-0daa-4613-986f-983ae6b983c2\",\"type\":\"Circle\"},{\"attributes\":{\"data_source\":{\"id\":\"f322cb5d-ae3e-417c-a711-573b2c329527\",\"type\":\"ColumnDataSource\"},\"glyph\":{\"id\":\"3712d41d-0daa-4613-986f-983ae6b983c2\",\"type\":\"Circle\"},\"hover_glyph\":null,\"muted_glyph\":null,\"nonselection_glyph\":{\"id\":\"35a8600b-ddf5-44cc-8e9b-9f4370f86190\",\"type\":\"Circle\"},\"selection_glyph\":null,\"view\":{\"id\":\"1af4c4b1-dabe-4a78-aee7-9c201f2e0e5d\",\"type\":\"CDSView\"}},\"id\":\"fdc1a10a-387d-4a61-8a46-16a93622de95\",\"type\":\"GlyphRenderer\"},{\"attributes\":{\"callback\":null},\"id\":\"499a94b3-dac4-47a9-842a-72a2dc777529\",\"type\":\"DataRange1d\"},{\"attributes\":{},\"id\":\"f9dd68ad-0aa1-4cdf-9d6e-9641267fd44b\",\"type\":\"BasicTicker\"},{\"attributes\":{},\"id\":\"46d14ce8-132d-442c-a02c-caa590c8cda5\",\"type\":\"BasicTicker\"},{\"attributes\":{\"callback\":null,\"renderers\":\"auto\",\"tooltips\":[[\"token\",\"@token\"]]},\"id\":\"0ac9c061-88c1-4450-81c4-39b6c4a9e7a8\",\"type\":\"HoverTool\"},{\"attributes\":{},\"id\":\"dba3d288-6291-448f-b4b6-e48a7b33065f\",\"type\":\"WheelZoomTool\"},{\"attributes\":{\"overlay\":{\"id\":\"af9ca159-dbd9-4b70-9df0-8bb31b5ba322\",\"type\":\"BoxAnnotation\"}},\"id\":\"68fc875d-e10a-484c-94f7-7fed2496b53c\",\"type\":\"BoxZoomTool\"},{\"attributes\":{},\"id\":\"ffa03984-8c65-4dc0-af1a-2de04e46164e\",\"type\":\"SaveTool\"},{\"attributes\":{\"fill_alpha\":{\"value\":0.1},\"fill_color\":{\"value\":\"#1f77b4\"},\"line_alpha\":{\"value\":0.1},\"line_color\":{\"value\":\"#1f77b4\"},\"size\":{\"units\":\"screen\",\"value\":10},\"x\":{\"field\":\"x\"},\"y\":{\"field\":\"y\"}},\"id\":\"35a8600b-ddf5-44cc-8e9b-9f4370f86190\",\"type\":\"Circle\"},{\"attributes\":{},\"id\":\"76d91566-46c2-4b4e-bffc-ef130ef6d455\",\"type\":\"ResetTool\"},{\"attributes\":{\"formatter\":{\"id\":\"dea6bb94-4da6-4dd6-8826-1a0e2206a35b\",\"type\":\"BasicTickFormatter\"},\"plot\":{\"id\":\"92709bb2-9c24-44f8-8534-cfb0ba12b71e\",\"subtype\":\"Figure\",\"type\":\"Plot\"},\"ticker\":{\"id\":\"46d14ce8-132d-442c-a02c-caa590c8cda5\",\"type\":\"BasicTicker\"}},\"id\":\"93580c0b-7c6b-4033-bec0-329da657d415\",\"type\":\"LinearAxis\"},{\"attributes\":{\"callback\":null},\"id\":\"dd274302-e4fc-4039-b1f3-9db9d68fd9b8\",\"type\":\"DataRange1d\"},{\"attributes\":{\"source\":{\"id\":\"f322cb5d-ae3e-417c-a711-573b2c329527\",\"type\":\"ColumnDataSource\"}},\"id\":\"1af4c4b1-dabe-4a78-aee7-9c201f2e0e5d\",\"type\":\"CDSView\"},{\"attributes\":{},\"id\":\"fe5b43a9-c8e1-48fa-a51a-3616b88fbb0b\",\"type\":\"HelpTool\"},{\"attributes\":{},\"id\":\"66dece45-8f4c-4f58-9b60-5323fd2ca3e3\",\"type\":\"LinearScale\"},{\"attributes\":{\"plot\":null,\"text\":\"\"},\"id\":\"9c38775c-30ed-43a4-af39-caeda6a3beef\",\"type\":\"Title\"},{\"attributes\":{\"plot\":{\"id\":\"92709bb2-9c24-44f8-8534-cfb0ba12b71e\",\"subtype\":\"Figure\",\"type\":\"Plot\"},\"ticker\":{\"id\":\"f9dd68ad-0aa1-4cdf-9d6e-9641267fd44b\",\"type\":\"BasicTicker\"}},\"id\":\"554d67ff-6dc4-4a8a-8b3d-0b8ef54dd755\",\"type\":\"Grid\"},{\"attributes\":{},\"id\":\"8f2f86fa-9f51-4984-9e55-be5280548729\",\"type\":\"Selection\"},{\"attributes\":{\"formatter\":{\"id\":\"2ec4edd2-0ced-485f-8a86-80524feb5e8a\",\"type\":\"BasicTickFormatter\"},\"plot\":{\"id\":\"92709bb2-9c24-44f8-8534-cfb0ba12b71e\",\"subtype\":\"Figure\",\"type\":\"Plot\"},\"ticker\":{\"id\":\"f9dd68ad-0aa1-4cdf-9d6e-9641267fd44b\",\"type\":\"BasicTicker\"}},\"id\":\"1f1fcb56-d776-4eed-9dfc-9fd4ec95e9fc\",\"type\":\"LinearAxis\"},{\"attributes\":{},\"id\":\"af93443d-beaa-46dd-92e7-42cec3037e34\",\"type\":\"LinearScale\"},{\"attributes\":{},\"id\":\"2ec4edd2-0ced-485f-8a86-80524feb5e8a\",\"type\":\"BasicTickFormatter\"},{\"attributes\":{},\"id\":\"dea6bb94-4da6-4dd6-8826-1a0e2206a35b\",\"type\":\"BasicTickFormatter\"},{\"attributes\":{\"below\":[{\"id\":\"1f1fcb56-d776-4eed-9dfc-9fd4ec95e9fc\",\"type\":\"LinearAxis\"}],\"left\":[{\"id\":\"93580c0b-7c6b-4033-bec0-329da657d415\",\"type\":\"LinearAxis\"}],\"plot_height\":400,\"renderers\":[{\"id\":\"1f1fcb56-d776-4eed-9dfc-9fd4ec95e9fc\",\"type\":\"LinearAxis\"},{\"id\":\"554d67ff-6dc4-4a8a-8b3d-0b8ef54dd755\",\"type\":\"Grid\"},{\"id\":\"93580c0b-7c6b-4033-bec0-329da657d415\",\"type\":\"LinearAxis\"},{\"id\":\"0c07d408-791b-4713-8da8-d4b855a4e192\",\"type\":\"Grid\"},{\"id\":\"af9ca159-dbd9-4b70-9df0-8bb31b5ba322\",\"type\":\"BoxAnnotation\"},{\"id\":\"fdc1a10a-387d-4a61-8a46-16a93622de95\",\"type\":\"GlyphRenderer\"}],\"title\":{\"id\":\"9c38775c-30ed-43a4-af39-caeda6a3beef\",\"type\":\"Title\"},\"toolbar\":{\"id\":\"a62ace2a-39b6-4ee0-8c97-2cb374f7e5d3\",\"type\":\"Toolbar\"},\"x_range\":{\"id\":\"dd274302-e4fc-4039-b1f3-9db9d68fd9b8\",\"type\":\"DataRange1d\"},\"x_scale\":{\"id\":\"af93443d-beaa-46dd-92e7-42cec3037e34\",\"type\":\"LinearScale\"},\"y_range\":{\"id\":\"499a94b3-dac4-47a9-842a-72a2dc777529\",\"type\":\"DataRange1d\"},\"y_scale\":{\"id\":\"66dece45-8f4c-4f58-9b60-5323fd2ca3e3\",\"type\":\"LinearScale\"}},\"id\":\"92709bb2-9c24-44f8-8534-cfb0ba12b71e\",\"subtype\":\"Figure\",\"type\":\"Plot\"},{\"attributes\":{},\"id\":\"663ad0f5-3346-4c73-8771-9edb9939f4db\",\"type\":\"UnionRenderers\"},{\"attributes\":{\"bottom_units\":\"screen\",\"fill_alpha\":{\"value\":0.5},\"fill_color\":{\"value\":\"lightgrey\"},\"left_units\":\"screen\",\"level\":\"overlay\",\"line_alpha\":{\"value\":1.0},\"line_color\":{\"value\":\"black\"},\"line_dash\":[4,4],\"line_width\":{\"value\":2},\"plot\":null,\"render_mode\":\"css\",\"right_units\":\"screen\",\"top_units\":\"screen\"},\"id\":\"af9ca159-dbd9-4b70-9df0-8bb31b5ba322\",\"type\":\"BoxAnnotation\"}],\"root_ids\":[\"92709bb2-9c24-44f8-8534-cfb0ba12b71e\"]},\"title\":\"Bokeh Application\",\"version\":\"0.13.0\"}};\n",
              "  var render_items = [{\"docid\":\"1c16fd4e-c995-4527-98bc-48f035f0e410\",\"roots\":{\"92709bb2-9c24-44f8-8534-cfb0ba12b71e\":\"ac95063b-33cb-4049-9786-371cd2677bb4\"}}];\n",
              "  root.Bokeh.embed.embed_items_notebook(docs_json, render_items);\n",
              "\n",
              "  }\n",
              "  if (root.Bokeh !== undefined) {\n",
              "    embed_document(root);\n",
              "  } else {\n",
              "    var attempts = 0;\n",
              "    var timer = setInterval(function(root) {\n",
              "      if (root.Bokeh !== undefined) {\n",
              "        embed_document(root);\n",
              "        clearInterval(timer);\n",
              "      }\n",
              "      attempts++;\n",
              "      if (attempts > 100) {\n",
              "        console.log(\"Bokeh: ERROR: Unable to run BokehJS code because BokehJS library is missing\")\n",
              "        clearInterval(timer);\n",
              "      }\n",
              "    }, 10, root)\n",
              "  }\n",
              "})(window);"
            ],
            "application/vnd.bokehjs_exec.v0+json": ""
          },
          "metadata": {
            "tags": [],
            "application/vnd.bokehjs_exec.v0+json": {
              "id": "92709bb2-9c24-44f8-8534-cfb0ba12b71e"
            }
          }
        }
      ]
    },
    {
      "metadata": {
        "id": "XGfhLR6x8D3r",
        "colab_type": "text"
      },
      "cell_type": "markdown",
      "source": [
        "### Continuous Bag of Words (CBoW)"
      ]
    },
    {
      "metadata": {
        "id": "3UuVr2IsaYhX",
        "colab_type": "text"
      },
      "cell_type": "markdown",
      "source": [
        "Альтернативный вариант модели:\n",
        "\n",
        "![](https://image.ibb.co/jnsW49/CBOW.png =500x)\n",
        "\n",
        "Теперь по *сумме* контекстных векторов предсказывается вектор центрального слова.\n",
        "\n",
        "**Задание** Реализуйте часть функции для генерации батчей."
      ]
    },
    {
      "metadata": {
        "id": "NP5VmnnjtsXn",
        "colab_type": "code",
        "colab": {}
      },
      "cell_type": "code",
      "source": [
        "def make_cbow_batchs_iter(contexts, window_size, batch_size):\n",
        "    data = np.array([context for word, context in contexts if len(context) == 2 * window_size and word != 0])\n",
        "    labels = np.array([word for word, context in contexts if len(context) == 2 * window_size and word != 0])\n",
        "        \n",
        "    batchs_count = int(math.ceil(len(data) / batch_size))\n",
        "    \n",
        "    print('Initializing batchs generator with {} batchs per epoch'.format(batchs_count))\n",
        "    \n",
        "    while True:\n",
        "        indices = np.arange(len(data))\n",
        "        \n",
        "        for i in range(batchs_count):\n",
        "            batch_begin, batch_end = i * batch_size, min((i + 1) * batch_size, len(data))\n",
        "            batch_indices = indices[batch_begin: batch_end]\n",
        "            \n",
        "            batch_data, batch_labels = [], []\n",
        "            \n",
        "            for data_ind in batch_indices:\n",
        "                batch_data.extend([data[data_ind]])\n",
        "                batch_labels.append(labels[data_ind])\n",
        "            \n",
        "            yield batch_data, batch_labels     "
      ],
      "execution_count": 0,
      "outputs": []
    },
    {
      "metadata": {
        "id": "KO3GRLMxiKQN",
        "colab_type": "code",
        "colab": {
          "base_uri": "https://localhost:8080/",
          "height": 34
        },
        "outputId": "1f8cdf4e-2b84-4d47-83e8-178855b58be9"
      },
      "cell_type": "code",
      "source": [
        "batch, label = next(make_cbow_batchs_iter(contexts, window_size=2, batch_size=128))"
      ],
      "execution_count": 39,
      "outputs": [
        {
          "output_type": "stream",
          "text": [
            "Initializing batchs generator with 36902 batchs per epoch\n"
          ],
          "name": "stdout"
        }
      ]
    },
    {
      "metadata": {
        "id": "S9HkY-VO61n3",
        "colab_type": "text"
      },
      "cell_type": "markdown",
      "source": [
        "Посмотрим на альтернативный вариант создания модели - им мы будем пользоваться чаще всего - отнаследоваться от `nn.Module`. Схематично её использование выглядит так:\n",
        "\n",
        "```python\n",
        "class MyNetModel(nn.Module):\n",
        "    def __init__(self, *args, **kwargs):\n",
        "        super(MyNetModel, self).__init__()\n",
        "        <initialize layers>\n",
        "        \n",
        "    def forward(self, inputs):\n",
        "        <apply layers>\n",
        "        return final_output\n",
        "```\n",
        "\n"
      ]
    },
    {
      "metadata": {
        "id": "8mHKLbMwx4c5",
        "colab_type": "code",
        "colab": {}
      },
      "cell_type": "code",
      "source": [
        "class CBoWModel(nn.Module):\n",
        "    def __init__(self, vocab_size, embedding_dim):\n",
        "        super().__init__()\n",
        "        \n",
        "        self.embeddings = nn.Embedding(vocab_size, embedding_dim)\n",
        "        self.out_layer = nn.Linear(embedding_dim, vocab_size)\n",
        "\n",
        "    def forward(self, inputs):\n",
        "        return self.out_layer(self.embeddings(inputs).sum(1))\n",
        "      \n",
        "model = CBoWModel(vocab_size=len(word2index), embedding_dim=32).cuda()\n",
        "\n",
        "loss_function = nn.CrossEntropyLoss().cuda() \n",
        "optimizer = optim.Adam(model.parameters(), lr=0.01)"
      ],
      "execution_count": 0,
      "outputs": []
    },
    {
      "metadata": {
        "id": "xiIgaofEyyJ1",
        "colab_type": "code",
        "colab": {
          "base_uri": "https://localhost:8080/",
          "height": 1150
        },
        "outputId": "1c661bc9-0e93-4466-c985-abecee526fa5"
      },
      "cell_type": "code",
      "source": [
        "loss_every_nsteps = 1000\n",
        "total_loss = 0\n",
        "start_time = time.time()\n",
        "\n",
        "for step, (batch, labels) in enumerate(make_cbow_batchs_iter(contexts, window_size=2, batch_size=128)):\n",
        "    batch = torch.cuda.LongTensor(batch)\n",
        "    labels = torch.cuda.LongTensor(labels)\n",
        "\n",
        "    logits = model(batch)\n",
        "    \n",
        "    loss = loss_function(logits, labels)\n",
        "    loss.backward()\n",
        "\n",
        "    optimizer.step()\n",
        "    \n",
        "    optimizer.zero_grad()\n",
        "\n",
        "    total_loss += loss.item()\n",
        "    \n",
        "    if step != 0 and step % loss_every_nsteps == 0:\n",
        "        print(\"Step = {}, Avg Loss = {:.4f}, Time = {:.2f}s\".format(step, total_loss / loss_every_nsteps, \n",
        "                                                                    time.time() - start_time))\n",
        "        total_loss = 0\n",
        "        start_time = time.time()"
      ],
      "execution_count": 41,
      "outputs": [
        {
          "output_type": "stream",
          "text": [
            "Initializing batchs generator with 36902 batchs per epoch\n",
            "Step = 1000, Avg Loss = 6.8030, Time = 10.76s\n",
            "Step = 2000, Avg Loss = 6.1152, Time = 4.77s\n",
            "Step = 3000, Avg Loss = 5.9472, Time = 4.76s\n",
            "Step = 4000, Avg Loss = 5.8111, Time = 4.77s\n",
            "Step = 5000, Avg Loss = 5.7222, Time = 4.77s\n",
            "Step = 6000, Avg Loss = 5.6630, Time = 4.77s\n",
            "Step = 7000, Avg Loss = 5.6335, Time = 4.77s\n",
            "Step = 8000, Avg Loss = 5.6018, Time = 4.77s\n",
            "Step = 9000, Avg Loss = 5.6007, Time = 4.77s\n",
            "Step = 10000, Avg Loss = 5.5770, Time = 4.77s\n",
            "Step = 11000, Avg Loss = 5.5703, Time = 4.77s\n",
            "Step = 12000, Avg Loss = 5.5790, Time = 4.77s\n",
            "Step = 13000, Avg Loss = 5.5437, Time = 4.77s\n",
            "Step = 14000, Avg Loss = 5.5253, Time = 4.77s\n",
            "Step = 15000, Avg Loss = 5.5481, Time = 4.76s\n",
            "Step = 16000, Avg Loss = 5.5399, Time = 4.77s\n",
            "Step = 17000, Avg Loss = 5.5342, Time = 4.78s\n",
            "Step = 18000, Avg Loss = 5.5374, Time = 4.78s\n",
            "Step = 19000, Avg Loss = 5.5457, Time = 4.78s\n",
            "Step = 20000, Avg Loss = 5.3955, Time = 4.77s\n",
            "Step = 21000, Avg Loss = 5.3902, Time = 4.77s\n",
            "Step = 22000, Avg Loss = 5.3930, Time = 4.78s\n",
            "Step = 23000, Avg Loss = 5.4038, Time = 4.77s\n",
            "Step = 24000, Avg Loss = 5.3951, Time = 4.78s\n",
            "Step = 25000, Avg Loss = 5.3975, Time = 4.78s\n",
            "Step = 26000, Avg Loss = 5.4286, Time = 4.77s\n",
            "Step = 27000, Avg Loss = 5.4282, Time = 4.77s\n",
            "Step = 28000, Avg Loss = 5.4284, Time = 4.77s\n",
            "Step = 29000, Avg Loss = 5.4322, Time = 4.77s\n",
            "Step = 30000, Avg Loss = 5.4394, Time = 4.78s\n",
            "Step = 31000, Avg Loss = 5.4272, Time = 4.77s\n",
            "Step = 32000, Avg Loss = 5.4338, Time = 4.77s\n",
            "Step = 33000, Avg Loss = 5.4535, Time = 4.77s\n",
            "Step = 34000, Avg Loss = 5.4349, Time = 4.77s\n",
            "Step = 35000, Avg Loss = 5.4460, Time = 4.77s\n",
            "Step = 36000, Avg Loss = 5.4373, Time = 4.77s\n",
            "Step = 37000, Avg Loss = 5.4436, Time = 4.77s\n",
            "Step = 38000, Avg Loss = 5.1429, Time = 4.76s\n",
            "Step = 39000, Avg Loss = 5.1439, Time = 4.76s\n"
          ],
          "name": "stdout"
        },
        {
          "output_type": "error",
          "ename": "KeyboardInterrupt",
          "evalue": "ignored",
          "traceback": [
            "\u001b[0;31m---------------------------------------------------------------------------\u001b[0m",
            "\u001b[0;31mKeyboardInterrupt\u001b[0m                         Traceback (most recent call last)",
            "\u001b[0;32m<ipython-input-41-629f484557f4>\u001b[0m in \u001b[0;36m<module>\u001b[0;34m()\u001b[0m\n\u001b[1;32m     10\u001b[0m \u001b[0;34m\u001b[0m\u001b[0m\n\u001b[1;32m     11\u001b[0m     \u001b[0mloss\u001b[0m \u001b[0;34m=\u001b[0m \u001b[0mloss_function\u001b[0m\u001b[0;34m(\u001b[0m\u001b[0mlogits\u001b[0m\u001b[0;34m,\u001b[0m \u001b[0mlabels\u001b[0m\u001b[0;34m)\u001b[0m\u001b[0;34m\u001b[0m\u001b[0m\n\u001b[0;32m---> 12\u001b[0;31m     \u001b[0mloss\u001b[0m\u001b[0;34m.\u001b[0m\u001b[0mbackward\u001b[0m\u001b[0;34m(\u001b[0m\u001b[0;34m)\u001b[0m\u001b[0;34m\u001b[0m\u001b[0m\n\u001b[0m\u001b[1;32m     13\u001b[0m \u001b[0;34m\u001b[0m\u001b[0m\n\u001b[1;32m     14\u001b[0m     \u001b[0moptimizer\u001b[0m\u001b[0;34m.\u001b[0m\u001b[0mstep\u001b[0m\u001b[0;34m(\u001b[0m\u001b[0;34m)\u001b[0m\u001b[0;34m\u001b[0m\u001b[0m\n",
            "\u001b[0;32m/usr/local/lib/python3.6/dist-packages/torch/tensor.py\u001b[0m in \u001b[0;36mbackward\u001b[0;34m(self, gradient, retain_graph, create_graph)\u001b[0m\n\u001b[1;32m     91\u001b[0m                 \u001b[0mproducts\u001b[0m\u001b[0;34m.\u001b[0m \u001b[0mDefaults\u001b[0m \u001b[0mto\u001b[0m\u001b[0;31m \u001b[0m\u001b[0;31m`\u001b[0m\u001b[0;31m`\u001b[0m\u001b[0;32mFalse\u001b[0m\u001b[0;31m`\u001b[0m\u001b[0;31m`\u001b[0m\u001b[0;34m.\u001b[0m\u001b[0;34m\u001b[0m\u001b[0m\n\u001b[1;32m     92\u001b[0m         \"\"\"\n\u001b[0;32m---> 93\u001b[0;31m         \u001b[0mtorch\u001b[0m\u001b[0;34m.\u001b[0m\u001b[0mautograd\u001b[0m\u001b[0;34m.\u001b[0m\u001b[0mbackward\u001b[0m\u001b[0;34m(\u001b[0m\u001b[0mself\u001b[0m\u001b[0;34m,\u001b[0m \u001b[0mgradient\u001b[0m\u001b[0;34m,\u001b[0m \u001b[0mretain_graph\u001b[0m\u001b[0;34m,\u001b[0m \u001b[0mcreate_graph\u001b[0m\u001b[0;34m)\u001b[0m\u001b[0;34m\u001b[0m\u001b[0m\n\u001b[0m\u001b[1;32m     94\u001b[0m \u001b[0;34m\u001b[0m\u001b[0m\n\u001b[1;32m     95\u001b[0m     \u001b[0;32mdef\u001b[0m \u001b[0mregister_hook\u001b[0m\u001b[0;34m(\u001b[0m\u001b[0mself\u001b[0m\u001b[0;34m,\u001b[0m \u001b[0mhook\u001b[0m\u001b[0;34m)\u001b[0m\u001b[0;34m:\u001b[0m\u001b[0;34m\u001b[0m\u001b[0m\n",
            "\u001b[0;32m/usr/local/lib/python3.6/dist-packages/torch/autograd/__init__.py\u001b[0m in \u001b[0;36mbackward\u001b[0;34m(tensors, grad_tensors, retain_graph, create_graph, grad_variables)\u001b[0m\n\u001b[1;32m     88\u001b[0m     Variable._execution_engine.run_backward(\n\u001b[1;32m     89\u001b[0m         \u001b[0mtensors\u001b[0m\u001b[0;34m,\u001b[0m \u001b[0mgrad_tensors\u001b[0m\u001b[0;34m,\u001b[0m \u001b[0mretain_graph\u001b[0m\u001b[0;34m,\u001b[0m \u001b[0mcreate_graph\u001b[0m\u001b[0;34m,\u001b[0m\u001b[0;34m\u001b[0m\u001b[0m\n\u001b[0;32m---> 90\u001b[0;31m         allow_unreachable=True)  # allow_unreachable flag\n\u001b[0m\u001b[1;32m     91\u001b[0m \u001b[0;34m\u001b[0m\u001b[0m\n\u001b[1;32m     92\u001b[0m \u001b[0;34m\u001b[0m\u001b[0m\n",
            "\u001b[0;31mKeyboardInterrupt\u001b[0m: "
          ]
        }
      ]
    },
    {
      "metadata": {
        "id": "fTEWcyYmvips",
        "colab_type": "code",
        "colab": {
          "base_uri": "https://localhost:8080/",
          "height": 1020
        },
        "outputId": "877200b2-016a-453a-94b8-1d0f88da9a4f"
      },
      "cell_type": "code",
      "source": [
        "visualize_embeddings(model.embeddings.weight.data.cpu().numpy(), index2word, 1000)"
      ],
      "execution_count": 42,
      "outputs": [
        {
          "output_type": "stream",
          "text": [
            "[t-SNE] Computing 91 nearest neighbors...\n",
            "[t-SNE] Indexed 1000 samples in 0.001s...\n",
            "[t-SNE] Computed neighbors for 1000 samples in 0.094s...\n",
            "[t-SNE] Computed conditional probabilities for sample 1000 / 1000\n",
            "[t-SNE] Mean sigma: 1.074639\n",
            "[t-SNE] Computed conditional probabilities in 0.049s\n",
            "[t-SNE] Iteration 50: error = 77.7779770, gradient norm = 0.3170470 (50 iterations in 2.671s)\n",
            "[t-SNE] Iteration 100: error = 79.4266586, gradient norm = 0.2858974 (50 iterations in 2.474s)\n",
            "[t-SNE] Iteration 150: error = 79.9150543, gradient norm = 0.2908702 (50 iterations in 2.763s)\n",
            "[t-SNE] Iteration 200: error = 79.5849991, gradient norm = 0.2835065 (50 iterations in 2.526s)\n",
            "[t-SNE] Iteration 250: error = 80.1321182, gradient norm = 0.2823589 (50 iterations in 3.088s)\n",
            "[t-SNE] KL divergence after 250 iterations with early exaggeration: 80.132118\n",
            "[t-SNE] Iteration 300: error = 1.8082021, gradient norm = 0.0033214 (50 iterations in 1.864s)\n",
            "[t-SNE] Iteration 350: error = 1.7052857, gradient norm = 0.0006885 (50 iterations in 1.642s)\n",
            "[t-SNE] Iteration 400: error = 1.6698402, gradient norm = 0.0003438 (50 iterations in 1.629s)\n",
            "[t-SNE] Iteration 450: error = 1.6552010, gradient norm = 0.0002436 (50 iterations in 1.678s)\n",
            "[t-SNE] Iteration 500: error = 1.6489453, gradient norm = 0.0001716 (50 iterations in 1.603s)\n",
            "[t-SNE] Iteration 550: error = 1.6457505, gradient norm = 0.0001175 (50 iterations in 1.649s)\n",
            "[t-SNE] Iteration 600: error = 1.6428590, gradient norm = 0.0001113 (50 iterations in 1.626s)\n",
            "[t-SNE] Iteration 650: error = 1.6409485, gradient norm = 0.0001017 (50 iterations in 1.617s)\n",
            "[t-SNE] Iteration 700: error = 1.6389748, gradient norm = 0.0000957 (50 iterations in 1.640s)\n",
            "[t-SNE] Iteration 750: error = 1.6379278, gradient norm = 0.0000800 (50 iterations in 1.595s)\n",
            "[t-SNE] Iteration 800: error = 1.6371784, gradient norm = 0.0000749 (50 iterations in 1.603s)\n",
            "[t-SNE] Iteration 850: error = 1.6365353, gradient norm = 0.0000651 (50 iterations in 1.562s)\n",
            "[t-SNE] Iteration 900: error = 1.6361314, gradient norm = 0.0000665 (50 iterations in 1.581s)\n",
            "[t-SNE] Iteration 950: error = 1.6357552, gradient norm = 0.0000700 (50 iterations in 1.580s)\n",
            "[t-SNE] Iteration 1000: error = 1.6354535, gradient norm = 0.0000502 (50 iterations in 1.631s)\n",
            "[t-SNE] Error after 1000 iterations: 1.635453\n"
          ],
          "name": "stdout"
        },
        {
          "output_type": "stream",
          "text": [
            "/usr/local/lib/python3.6/dist-packages/sklearn/preprocessing/data.py:164: UserWarning: Numerical issues were encountered when centering the data and might not be solved. Dataset may contain too large values. You may need to prescale your features.\n",
            "  warnings.warn(\"Numerical issues were encountered \"\n",
            "/usr/local/lib/python3.6/dist-packages/sklearn/preprocessing/data.py:181: UserWarning: Numerical issues were encountered when scaling the data and might not be solved. The standard deviation of the data is probably very close to 0. \n",
            "  warnings.warn(\"Numerical issues were encountered \"\n"
          ],
          "name": "stderr"
        },
        {
          "output_type": "display_data",
          "data": {
            "text/html": [
              "\n",
              "    <div class=\"bk-root\">\n",
              "        <a href=\"https://bokeh.pydata.org\" target=\"_blank\" class=\"bk-logo bk-logo-small bk-logo-notebook\"></a>\n",
              "        <span id=\"96379b48-87a4-4682-8b98-186cba726a45\">Loading BokehJS ...</span>\n",
              "    </div>"
            ]
          },
          "metadata": {
            "tags": []
          }
        },
        {
          "output_type": "display_data",
          "data": {
            "application/javascript": [
              "\n",
              "(function(root) {\n",
              "  function now() {\n",
              "    return new Date();\n",
              "  }\n",
              "\n",
              "  var force = true;\n",
              "\n",
              "  if (typeof (root._bokeh_onload_callbacks) === \"undefined\" || force === true) {\n",
              "    root._bokeh_onload_callbacks = [];\n",
              "    root._bokeh_is_loading = undefined;\n",
              "  }\n",
              "\n",
              "  var JS_MIME_TYPE = 'application/javascript';\n",
              "  var HTML_MIME_TYPE = 'text/html';\n",
              "  var EXEC_MIME_TYPE = 'application/vnd.bokehjs_exec.v0+json';\n",
              "  var CLASS_NAME = 'output_bokeh rendered_html';\n",
              "\n",
              "  /**\n",
              "   * Render data to the DOM node\n",
              "   */\n",
              "  function render(props, node) {\n",
              "    var script = document.createElement(\"script\");\n",
              "    node.appendChild(script);\n",
              "  }\n",
              "\n",
              "  /**\n",
              "   * Handle when an output is cleared or removed\n",
              "   */\n",
              "  function handleClearOutput(event, handle) {\n",
              "    var cell = handle.cell;\n",
              "\n",
              "    var id = cell.output_area._bokeh_element_id;\n",
              "    var server_id = cell.output_area._bokeh_server_id;\n",
              "    // Clean up Bokeh references\n",
              "    if (id != null && id in Bokeh.index) {\n",
              "      Bokeh.index[id].model.document.clear();\n",
              "      delete Bokeh.index[id];\n",
              "    }\n",
              "\n",
              "    if (server_id !== undefined) {\n",
              "      // Clean up Bokeh references\n",
              "      var cmd = \"from bokeh.io.state import curstate; print(curstate().uuid_to_server['\" + server_id + \"'].get_sessions()[0].document.roots[0]._id)\";\n",
              "      cell.notebook.kernel.execute(cmd, {\n",
              "        iopub: {\n",
              "          output: function(msg) {\n",
              "            var id = msg.content.text.trim();\n",
              "            if (id in Bokeh.index) {\n",
              "              Bokeh.index[id].model.document.clear();\n",
              "              delete Bokeh.index[id];\n",
              "            }\n",
              "          }\n",
              "        }\n",
              "      });\n",
              "      // Destroy server and session\n",
              "      var cmd = \"import bokeh.io.notebook as ion; ion.destroy_server('\" + server_id + \"')\";\n",
              "      cell.notebook.kernel.execute(cmd);\n",
              "    }\n",
              "  }\n",
              "\n",
              "  /**\n",
              "   * Handle when a new output is added\n",
              "   */\n",
              "  function handleAddOutput(event, handle) {\n",
              "    var output_area = handle.output_area;\n",
              "    var output = handle.output;\n",
              "\n",
              "    // limit handleAddOutput to display_data with EXEC_MIME_TYPE content only\n",
              "    if ((output.output_type != \"display_data\") || (!output.data.hasOwnProperty(EXEC_MIME_TYPE))) {\n",
              "      return\n",
              "    }\n",
              "\n",
              "    var toinsert = output_area.element.find(\".\" + CLASS_NAME.split(' ')[0]);\n",
              "\n",
              "    if (output.metadata[EXEC_MIME_TYPE][\"id\"] !== undefined) {\n",
              "      toinsert[toinsert.length - 1].firstChild.textContent = output.data[JS_MIME_TYPE];\n",
              "      // store reference to embed id on output_area\n",
              "      output_area._bokeh_element_id = output.metadata[EXEC_MIME_TYPE][\"id\"];\n",
              "    }\n",
              "    if (output.metadata[EXEC_MIME_TYPE][\"server_id\"] !== undefined) {\n",
              "      var bk_div = document.createElement(\"div\");\n",
              "      bk_div.innerHTML = output.data[HTML_MIME_TYPE];\n",
              "      var script_attrs = bk_div.children[0].attributes;\n",
              "      for (var i = 0; i < script_attrs.length; i++) {\n",
              "        toinsert[toinsert.length - 1].firstChild.setAttribute(script_attrs[i].name, script_attrs[i].value);\n",
              "      }\n",
              "      // store reference to server id on output_area\n",
              "      output_area._bokeh_server_id = output.metadata[EXEC_MIME_TYPE][\"server_id\"];\n",
              "    }\n",
              "  }\n",
              "\n",
              "  function register_renderer(events, OutputArea) {\n",
              "\n",
              "    function append_mime(data, metadata, element) {\n",
              "      // create a DOM node to render to\n",
              "      var toinsert = this.create_output_subarea(\n",
              "        metadata,\n",
              "        CLASS_NAME,\n",
              "        EXEC_MIME_TYPE\n",
              "      );\n",
              "      this.keyboard_manager.register_events(toinsert);\n",
              "      // Render to node\n",
              "      var props = {data: data, metadata: metadata[EXEC_MIME_TYPE]};\n",
              "      render(props, toinsert[toinsert.length - 1]);\n",
              "      element.append(toinsert);\n",
              "      return toinsert\n",
              "    }\n",
              "\n",
              "    /* Handle when an output is cleared or removed */\n",
              "    events.on('clear_output.CodeCell', handleClearOutput);\n",
              "    events.on('delete.Cell', handleClearOutput);\n",
              "\n",
              "    /* Handle when a new output is added */\n",
              "    events.on('output_added.OutputArea', handleAddOutput);\n",
              "\n",
              "    /**\n",
              "     * Register the mime type and append_mime function with output_area\n",
              "     */\n",
              "    OutputArea.prototype.register_mime_type(EXEC_MIME_TYPE, append_mime, {\n",
              "      /* Is output safe? */\n",
              "      safe: true,\n",
              "      /* Index of renderer in `output_area.display_order` */\n",
              "      index: 0\n",
              "    });\n",
              "  }\n",
              "\n",
              "  // register the mime type if in Jupyter Notebook environment and previously unregistered\n",
              "  if (root.Jupyter !== undefined) {\n",
              "    var events = require('base/js/events');\n",
              "    var OutputArea = require('notebook/js/outputarea').OutputArea;\n",
              "\n",
              "    if (OutputArea.prototype.mime_types().indexOf(EXEC_MIME_TYPE) == -1) {\n",
              "      register_renderer(events, OutputArea);\n",
              "    }\n",
              "  }\n",
              "\n",
              "  \n",
              "  if (typeof (root._bokeh_timeout) === \"undefined\" || force === true) {\n",
              "    root._bokeh_timeout = Date.now() + 5000;\n",
              "    root._bokeh_failed_load = false;\n",
              "  }\n",
              "\n",
              "  var NB_LOAD_WARNING = {'data': {'text/html':\n",
              "     \"<div style='background-color: #fdd'>\\n\"+\n",
              "     \"<p>\\n\"+\n",
              "     \"BokehJS does not appear to have successfully loaded. If loading BokehJS from CDN, this \\n\"+\n",
              "     \"may be due to a slow or bad network connection. Possible fixes:\\n\"+\n",
              "     \"</p>\\n\"+\n",
              "     \"<ul>\\n\"+\n",
              "     \"<li>re-rerun `output_notebook()` to attempt to load from CDN again, or</li>\\n\"+\n",
              "     \"<li>use INLINE resources instead, as so:</li>\\n\"+\n",
              "     \"</ul>\\n\"+\n",
              "     \"<code>\\n\"+\n",
              "     \"from bokeh.resources import INLINE\\n\"+\n",
              "     \"output_notebook(resources=INLINE)\\n\"+\n",
              "     \"</code>\\n\"+\n",
              "     \"</div>\"}};\n",
              "\n",
              "  function display_loaded() {\n",
              "    var el = document.getElementById(\"96379b48-87a4-4682-8b98-186cba726a45\");\n",
              "    if (el != null) {\n",
              "      el.textContent = \"BokehJS is loading...\";\n",
              "    }\n",
              "    if (root.Bokeh !== undefined) {\n",
              "      if (el != null) {\n",
              "        el.textContent = \"BokehJS \" + root.Bokeh.version + \" successfully loaded.\";\n",
              "      }\n",
              "    } else if (Date.now() < root._bokeh_timeout) {\n",
              "      setTimeout(display_loaded, 100)\n",
              "    }\n",
              "  }\n",
              "\n",
              "\n",
              "  function run_callbacks() {\n",
              "    try {\n",
              "      root._bokeh_onload_callbacks.forEach(function(callback) { callback() });\n",
              "    }\n",
              "    finally {\n",
              "      delete root._bokeh_onload_callbacks\n",
              "    }\n",
              "    console.info(\"Bokeh: all callbacks have finished\");\n",
              "  }\n",
              "\n",
              "  function load_libs(js_urls, callback) {\n",
              "    root._bokeh_onload_callbacks.push(callback);\n",
              "    if (root._bokeh_is_loading > 0) {\n",
              "      console.log(\"Bokeh: BokehJS is being loaded, scheduling callback at\", now());\n",
              "      return null;\n",
              "    }\n",
              "    if (js_urls == null || js_urls.length === 0) {\n",
              "      run_callbacks();\n",
              "      return null;\n",
              "    }\n",
              "    console.log(\"Bokeh: BokehJS not loaded, scheduling load and callback at\", now());\n",
              "    root._bokeh_is_loading = js_urls.length;\n",
              "    for (var i = 0; i < js_urls.length; i++) {\n",
              "      var url = js_urls[i];\n",
              "      var s = document.createElement('script');\n",
              "      s.src = url;\n",
              "      s.async = false;\n",
              "      s.onreadystatechange = s.onload = function() {\n",
              "        root._bokeh_is_loading--;\n",
              "        if (root._bokeh_is_loading === 0) {\n",
              "          console.log(\"Bokeh: all BokehJS libraries loaded\");\n",
              "          run_callbacks()\n",
              "        }\n",
              "      };\n",
              "      s.onerror = function() {\n",
              "        console.warn(\"failed to load library \" + url);\n",
              "      };\n",
              "      console.log(\"Bokeh: injecting script tag for BokehJS library: \", url);\n",
              "      document.getElementsByTagName(\"head\")[0].appendChild(s);\n",
              "    }\n",
              "  };var element = document.getElementById(\"96379b48-87a4-4682-8b98-186cba726a45\");\n",
              "  if (element == null) {\n",
              "    console.log(\"Bokeh: ERROR: autoload.js configured with elementid '96379b48-87a4-4682-8b98-186cba726a45' but no matching script tag was found. \")\n",
              "    return false;\n",
              "  }\n",
              "\n",
              "  var js_urls = [\"https://cdn.pydata.org/bokeh/release/bokeh-0.13.0.min.js\", \"https://cdn.pydata.org/bokeh/release/bokeh-widgets-0.13.0.min.js\", \"https://cdn.pydata.org/bokeh/release/bokeh-tables-0.13.0.min.js\", \"https://cdn.pydata.org/bokeh/release/bokeh-gl-0.13.0.min.js\"];\n",
              "\n",
              "  var inline_js = [\n",
              "    function(Bokeh) {\n",
              "      Bokeh.set_log_level(\"info\");\n",
              "    },\n",
              "    \n",
              "    function(Bokeh) {\n",
              "      \n",
              "    },\n",
              "    function(Bokeh) {\n",
              "      console.log(\"Bokeh: injecting CSS: https://cdn.pydata.org/bokeh/release/bokeh-0.13.0.min.css\");\n",
              "      Bokeh.embed.inject_css(\"https://cdn.pydata.org/bokeh/release/bokeh-0.13.0.min.css\");\n",
              "      console.log(\"Bokeh: injecting CSS: https://cdn.pydata.org/bokeh/release/bokeh-widgets-0.13.0.min.css\");\n",
              "      Bokeh.embed.inject_css(\"https://cdn.pydata.org/bokeh/release/bokeh-widgets-0.13.0.min.css\");\n",
              "      console.log(\"Bokeh: injecting CSS: https://cdn.pydata.org/bokeh/release/bokeh-tables-0.13.0.min.css\");\n",
              "      Bokeh.embed.inject_css(\"https://cdn.pydata.org/bokeh/release/bokeh-tables-0.13.0.min.css\");\n",
              "    }\n",
              "  ];\n",
              "\n",
              "  function run_inline_js() {\n",
              "    \n",
              "    if ((root.Bokeh !== undefined) || (force === true)) {\n",
              "      for (var i = 0; i < inline_js.length; i++) {\n",
              "        inline_js[i].call(root, root.Bokeh);\n",
              "      }if (force === true) {\n",
              "        display_loaded();\n",
              "      }} else if (Date.now() < root._bokeh_timeout) {\n",
              "      setTimeout(run_inline_js, 100);\n",
              "    } else if (!root._bokeh_failed_load) {\n",
              "      console.log(\"Bokeh: BokehJS failed to load within specified timeout.\");\n",
              "      root._bokeh_failed_load = true;\n",
              "    } else if (force !== true) {\n",
              "      var cell = $(document.getElementById(\"96379b48-87a4-4682-8b98-186cba726a45\")).parents('.cell').data().cell;\n",
              "      cell.output_area.append_execute_result(NB_LOAD_WARNING)\n",
              "    }\n",
              "\n",
              "  }\n",
              "\n",
              "  if (root._bokeh_is_loading === 0) {\n",
              "    console.log(\"Bokeh: BokehJS loaded, going straight to plotting\");\n",
              "    run_inline_js();\n",
              "  } else {\n",
              "    load_libs(js_urls, function() {\n",
              "      console.log(\"Bokeh: BokehJS plotting callback run at\", now());\n",
              "      run_inline_js();\n",
              "    });\n",
              "  }\n",
              "}(window));"
            ],
            "application/vnd.bokehjs_load.v0+json": "\n(function(root) {\n  function now() {\n    return new Date();\n  }\n\n  var force = true;\n\n  if (typeof (root._bokeh_onload_callbacks) === \"undefined\" || force === true) {\n    root._bokeh_onload_callbacks = [];\n    root._bokeh_is_loading = undefined;\n  }\n\n  \n\n  \n  if (typeof (root._bokeh_timeout) === \"undefined\" || force === true) {\n    root._bokeh_timeout = Date.now() + 5000;\n    root._bokeh_failed_load = false;\n  }\n\n  var NB_LOAD_WARNING = {'data': {'text/html':\n     \"<div style='background-color: #fdd'>\\n\"+\n     \"<p>\\n\"+\n     \"BokehJS does not appear to have successfully loaded. If loading BokehJS from CDN, this \\n\"+\n     \"may be due to a slow or bad network connection. Possible fixes:\\n\"+\n     \"</p>\\n\"+\n     \"<ul>\\n\"+\n     \"<li>re-rerun `output_notebook()` to attempt to load from CDN again, or</li>\\n\"+\n     \"<li>use INLINE resources instead, as so:</li>\\n\"+\n     \"</ul>\\n\"+\n     \"<code>\\n\"+\n     \"from bokeh.resources import INLINE\\n\"+\n     \"output_notebook(resources=INLINE)\\n\"+\n     \"</code>\\n\"+\n     \"</div>\"}};\n\n  function display_loaded() {\n    var el = document.getElementById(\"96379b48-87a4-4682-8b98-186cba726a45\");\n    if (el != null) {\n      el.textContent = \"BokehJS is loading...\";\n    }\n    if (root.Bokeh !== undefined) {\n      if (el != null) {\n        el.textContent = \"BokehJS \" + root.Bokeh.version + \" successfully loaded.\";\n      }\n    } else if (Date.now() < root._bokeh_timeout) {\n      setTimeout(display_loaded, 100)\n    }\n  }\n\n\n  function run_callbacks() {\n    try {\n      root._bokeh_onload_callbacks.forEach(function(callback) { callback() });\n    }\n    finally {\n      delete root._bokeh_onload_callbacks\n    }\n    console.info(\"Bokeh: all callbacks have finished\");\n  }\n\n  function load_libs(js_urls, callback) {\n    root._bokeh_onload_callbacks.push(callback);\n    if (root._bokeh_is_loading > 0) {\n      console.log(\"Bokeh: BokehJS is being loaded, scheduling callback at\", now());\n      return null;\n    }\n    if (js_urls == null || js_urls.length === 0) {\n      run_callbacks();\n      return null;\n    }\n    console.log(\"Bokeh: BokehJS not loaded, scheduling load and callback at\", now());\n    root._bokeh_is_loading = js_urls.length;\n    for (var i = 0; i < js_urls.length; i++) {\n      var url = js_urls[i];\n      var s = document.createElement('script');\n      s.src = url;\n      s.async = false;\n      s.onreadystatechange = s.onload = function() {\n        root._bokeh_is_loading--;\n        if (root._bokeh_is_loading === 0) {\n          console.log(\"Bokeh: all BokehJS libraries loaded\");\n          run_callbacks()\n        }\n      };\n      s.onerror = function() {\n        console.warn(\"failed to load library \" + url);\n      };\n      console.log(\"Bokeh: injecting script tag for BokehJS library: \", url);\n      document.getElementsByTagName(\"head\")[0].appendChild(s);\n    }\n  };var element = document.getElementById(\"96379b48-87a4-4682-8b98-186cba726a45\");\n  if (element == null) {\n    console.log(\"Bokeh: ERROR: autoload.js configured with elementid '96379b48-87a4-4682-8b98-186cba726a45' but no matching script tag was found. \")\n    return false;\n  }\n\n  var js_urls = [\"https://cdn.pydata.org/bokeh/release/bokeh-0.13.0.min.js\", \"https://cdn.pydata.org/bokeh/release/bokeh-widgets-0.13.0.min.js\", \"https://cdn.pydata.org/bokeh/release/bokeh-tables-0.13.0.min.js\", \"https://cdn.pydata.org/bokeh/release/bokeh-gl-0.13.0.min.js\"];\n\n  var inline_js = [\n    function(Bokeh) {\n      Bokeh.set_log_level(\"info\");\n    },\n    \n    function(Bokeh) {\n      \n    },\n    function(Bokeh) {\n      console.log(\"Bokeh: injecting CSS: https://cdn.pydata.org/bokeh/release/bokeh-0.13.0.min.css\");\n      Bokeh.embed.inject_css(\"https://cdn.pydata.org/bokeh/release/bokeh-0.13.0.min.css\");\n      console.log(\"Bokeh: injecting CSS: https://cdn.pydata.org/bokeh/release/bokeh-widgets-0.13.0.min.css\");\n      Bokeh.embed.inject_css(\"https://cdn.pydata.org/bokeh/release/bokeh-widgets-0.13.0.min.css\");\n      console.log(\"Bokeh: injecting CSS: https://cdn.pydata.org/bokeh/release/bokeh-tables-0.13.0.min.css\");\n      Bokeh.embed.inject_css(\"https://cdn.pydata.org/bokeh/release/bokeh-tables-0.13.0.min.css\");\n    }\n  ];\n\n  function run_inline_js() {\n    \n    if ((root.Bokeh !== undefined) || (force === true)) {\n      for (var i = 0; i < inline_js.length; i++) {\n        inline_js[i].call(root, root.Bokeh);\n      }if (force === true) {\n        display_loaded();\n      }} else if (Date.now() < root._bokeh_timeout) {\n      setTimeout(run_inline_js, 100);\n    } else if (!root._bokeh_failed_load) {\n      console.log(\"Bokeh: BokehJS failed to load within specified timeout.\");\n      root._bokeh_failed_load = true;\n    } else if (force !== true) {\n      var cell = $(document.getElementById(\"96379b48-87a4-4682-8b98-186cba726a45\")).parents('.cell').data().cell;\n      cell.output_area.append_execute_result(NB_LOAD_WARNING)\n    }\n\n  }\n\n  if (root._bokeh_is_loading === 0) {\n    console.log(\"Bokeh: BokehJS loaded, going straight to plotting\");\n    run_inline_js();\n  } else {\n    load_libs(js_urls, function() {\n      console.log(\"Bokeh: BokehJS plotting callback run at\", now());\n      run_inline_js();\n    });\n  }\n}(window));"
          },
          "metadata": {
            "tags": []
          }
        },
        {
          "output_type": "display_data",
          "data": {
            "text/html": [
              "\n",
              "\n",
              "\n",
              "\n",
              "\n",
              "\n",
              "  <div class=\"bk-root\" id=\"b82b71db-4f0b-4be6-b690-9cdab748cc43\"></div>\n"
            ]
          },
          "metadata": {
            "tags": []
          }
        },
        {
          "output_type": "display_data",
          "data": {
            "application/javascript": [
              "(function(root) {\n",
              "  function embed_document(root) {\n",
              "    \n",
              "  var docs_json = {\"1fe485eb-521f-45cf-a8e8-ff6093fe8507\":{\"roots\":{\"references\":[{\"attributes\":{\"formatter\":{\"id\":\"a70a14bc-e7a6-4f2e-9194-a8e0021b6f4f\",\"type\":\"BasicTickFormatter\"},\"plot\":{\"id\":\"648a9a6b-18d7-415c-9a12-da098a825435\",\"subtype\":\"Figure\",\"type\":\"Plot\"},\"ticker\":{\"id\":\"a75a0a5b-7ad5-4543-a353-c7237796c990\",\"type\":\"BasicTicker\"}},\"id\":\"701cbc03-e3fc-46ed-b7f6-d20716f06bba\",\"type\":\"LinearAxis\"},{\"attributes\":{},\"id\":\"114398e8-bba6-4724-81a8-4c7eebdff3b2\",\"type\":\"LinearScale\"},{\"attributes\":{},\"id\":\"402d963f-8269-424f-bfbf-9e5d39024227\",\"type\":\"UnionRenderers\"},{\"attributes\":{},\"id\":\"28a8e1d9-6493-4c95-804b-7c4ae6909cf6\",\"type\":\"BasicTickFormatter\"},{\"attributes\":{\"formatter\":{\"id\":\"28a8e1d9-6493-4c95-804b-7c4ae6909cf6\",\"type\":\"BasicTickFormatter\"},\"plot\":{\"id\":\"648a9a6b-18d7-415c-9a12-da098a825435\",\"subtype\":\"Figure\",\"type\":\"Plot\"},\"ticker\":{\"id\":\"8d65d587-5e99-49a6-b29a-1758ef824f8d\",\"type\":\"BasicTicker\"}},\"id\":\"9e88543b-1a14-4a56-986d-bf72363b4b95\",\"type\":\"LinearAxis\"},{\"attributes\":{\"plot\":null,\"text\":\"\"},\"id\":\"ac91ca76-86c8-42ba-a4c8-4f33c49fdce0\",\"type\":\"Title\"},{\"attributes\":{\"plot\":{\"id\":\"648a9a6b-18d7-415c-9a12-da098a825435\",\"subtype\":\"Figure\",\"type\":\"Plot\"},\"ticker\":{\"id\":\"8d65d587-5e99-49a6-b29a-1758ef824f8d\",\"type\":\"BasicTicker\"}},\"id\":\"dbfd9802-c79b-4a90-88ee-b150e7d4ac39\",\"type\":\"Grid\"},{\"attributes\":{},\"id\":\"93b72d0d-8001-41b7-8f64-76bb386b5738\",\"type\":\"PanTool\"},{\"attributes\":{},\"id\":\"7c129afa-ae65-4903-93d2-06db0af8d931\",\"type\":\"SaveTool\"},{\"attributes\":{\"source\":{\"id\":\"d716a690-b2c3-440d-b09d-9120bdbf6a5e\",\"type\":\"ColumnDataSource\"}},\"id\":\"d10fc52e-1cc6-4bd1-a605-7d81746b4aeb\",\"type\":\"CDSView\"},{\"attributes\":{},\"id\":\"a70a14bc-e7a6-4f2e-9194-a8e0021b6f4f\",\"type\":\"BasicTickFormatter\"},{\"attributes\":{\"data_source\":{\"id\":\"d716a690-b2c3-440d-b09d-9120bdbf6a5e\",\"type\":\"ColumnDataSource\"},\"glyph\":{\"id\":\"953c4c80-9055-47f7-894c-05d973c4e51b\",\"type\":\"Circle\"},\"hover_glyph\":null,\"muted_glyph\":null,\"nonselection_glyph\":{\"id\":\"f5d42f77-7c1c-4b68-b752-eab78d23a783\",\"type\":\"Circle\"},\"selection_glyph\":null,\"view\":{\"id\":\"d10fc52e-1cc6-4bd1-a605-7d81746b4aeb\",\"type\":\"CDSView\"}},\"id\":\"8e2b5866-5dbf-4901-984d-875543ce64fd\",\"type\":\"GlyphRenderer\"},{\"attributes\":{\"dimension\":1,\"plot\":{\"id\":\"648a9a6b-18d7-415c-9a12-da098a825435\",\"subtype\":\"Figure\",\"type\":\"Plot\"},\"ticker\":{\"id\":\"a75a0a5b-7ad5-4543-a353-c7237796c990\",\"type\":\"BasicTicker\"}},\"id\":\"fac8a7d6-5723-4f2a-9ae4-757d6783afbd\",\"type\":\"Grid\"},{\"attributes\":{\"bottom_units\":\"screen\",\"fill_alpha\":{\"value\":0.5},\"fill_color\":{\"value\":\"lightgrey\"},\"left_units\":\"screen\",\"level\":\"overlay\",\"line_alpha\":{\"value\":1.0},\"line_color\":{\"value\":\"black\"},\"line_dash\":[4,4],\"line_width\":{\"value\":2},\"plot\":null,\"render_mode\":\"css\",\"right_units\":\"screen\",\"top_units\":\"screen\"},\"id\":\"23bb14ef-cd12-4178-80f1-27216b1482a8\",\"type\":\"BoxAnnotation\"},{\"attributes\":{},\"id\":\"8d65d587-5e99-49a6-b29a-1758ef824f8d\",\"type\":\"BasicTicker\"},{\"attributes\":{},\"id\":\"e42699d7-ca05-49c4-9a8a-58d711d0076e\",\"type\":\"ResetTool\"},{\"attributes\":{},\"id\":\"bedb8d61-e8af-41d4-bf78-c9cf43c57dda\",\"type\":\"WheelZoomTool\"},{\"attributes\":{},\"id\":\"76549239-d033-4e13-ac59-94854ff92f73\",\"type\":\"LinearScale\"},{\"attributes\":{\"fill_alpha\":{\"value\":0.1},\"fill_color\":{\"value\":\"#1f77b4\"},\"line_alpha\":{\"value\":0.1},\"line_color\":{\"value\":\"#1f77b4\"},\"size\":{\"units\":\"screen\",\"value\":10},\"x\":{\"field\":\"x\"},\"y\":{\"field\":\"y\"}},\"id\":\"f5d42f77-7c1c-4b68-b752-eab78d23a783\",\"type\":\"Circle\"},{\"attributes\":{\"active_drag\":\"auto\",\"active_inspect\":\"auto\",\"active_multi\":null,\"active_scroll\":{\"id\":\"bedb8d61-e8af-41d4-bf78-c9cf43c57dda\",\"type\":\"WheelZoomTool\"},\"active_tap\":\"auto\",\"tools\":[{\"id\":\"93b72d0d-8001-41b7-8f64-76bb386b5738\",\"type\":\"PanTool\"},{\"id\":\"bedb8d61-e8af-41d4-bf78-c9cf43c57dda\",\"type\":\"WheelZoomTool\"},{\"id\":\"31598c47-033f-4647-befa-af902245bd36\",\"type\":\"BoxZoomTool\"},{\"id\":\"7c129afa-ae65-4903-93d2-06db0af8d931\",\"type\":\"SaveTool\"},{\"id\":\"e42699d7-ca05-49c4-9a8a-58d711d0076e\",\"type\":\"ResetTool\"},{\"id\":\"7a7f787e-dead-4a22-8ff9-804640352b82\",\"type\":\"HelpTool\"},{\"id\":\"c77f6ebd-1d58-4947-aae2-ed9683856871\",\"type\":\"HoverTool\"}]},\"id\":\"875e2de4-055a-4446-b1cc-2b58ad7ff455\",\"type\":\"Toolbar\"},{\"attributes\":{},\"id\":\"7a7f787e-dead-4a22-8ff9-804640352b82\",\"type\":\"HelpTool\"},{\"attributes\":{\"callback\":null,\"data\":{\"color\":[\"green\",\"green\",\"green\",\"green\",\"green\",\"green\",\"green\",\"green\",\"green\",\"green\",\"green\",\"green\",\"green\",\"green\",\"green\",\"green\",\"green\",\"green\",\"green\",\"green\",\"green\",\"green\",\"green\",\"green\",\"green\",\"green\",\"green\",\"green\",\"green\",\"green\",\"green\",\"green\",\"green\",\"green\",\"green\",\"green\",\"green\",\"green\",\"green\",\"green\",\"green\",\"green\",\"green\",\"green\",\"green\",\"green\",\"green\",\"green\",\"green\",\"green\",\"green\",\"green\",\"green\",\"green\",\"green\",\"green\",\"green\",\"green\",\"green\",\"green\",\"green\",\"green\",\"green\",\"green\",\"green\",\"green\",\"green\",\"green\",\"green\",\"green\",\"green\",\"green\",\"green\",\"green\",\"green\",\"green\",\"green\",\"green\",\"green\",\"green\",\"green\",\"green\",\"green\",\"green\",\"green\",\"green\",\"green\",\"green\",\"green\",\"green\",\"green\",\"green\",\"green\",\"green\",\"green\",\"green\",\"green\",\"green\",\"green\",\"green\",\"green\",\"green\",\"green\",\"green\",\"green\",\"green\",\"green\",\"green\",\"green\",\"green\",\"green\",\"green\",\"green\",\"green\",\"green\",\"green\",\"green\",\"green\",\"green\",\"green\",\"green\",\"green\",\"green\",\"green\",\"green\",\"green\",\"green\",\"green\",\"green\",\"green\",\"green\",\"green\",\"green\",\"green\",\"green\",\"green\",\"green\",\"green\",\"green\",\"green\",\"green\",\"green\",\"green\",\"green\",\"green\",\"green\",\"green\",\"green\",\"green\",\"green\",\"green\",\"green\",\"green\",\"green\",\"green\",\"green\",\"green\",\"green\",\"green\",\"green\",\"green\",\"green\",\"green\",\"green\",\"green\",\"green\",\"green\",\"green\",\"green\",\"green\",\"green\",\"green\",\"green\",\"green\",\"green\",\"green\",\"green\",\"green\",\"green\",\"green\",\"green\",\"green\",\"green\",\"green\",\"green\",\"green\",\"green\",\"green\",\"green\",\"green\",\"green\",\"green\",\"green\",\"green\",\"green\",\"green\",\"green\",\"green\",\"green\",\"green\",\"green\",\"green\",\"green\",\"green\",\"green\",\"green\",\"green\",\"green\",\"green\",\"green\",\"green\",\"green\",\"green\",\"green\",\"green\",\"green\",\"green\",\"green\",\"green\",\"green\",\"green\",\"green\",\"green\",\"green\",\"green\",\"green\",\"green\",\"green\",\"green\",\"green\",\"green\",\"green\",\"green\",\"green\",\"green\",\"green\",\"green\",\"green\",\"green\",\"green\",\"green\",\"green\",\"green\",\"green\",\"green\",\"green\",\"green\",\"green\",\"green\",\"green\",\"green\",\"green\",\"green\",\"green\",\"green\",\"green\",\"green\",\"green\",\"green\",\"green\",\"green\",\"green\",\"green\",\"green\",\"green\",\"green\",\"green\",\"green\",\"green\",\"green\",\"green\",\"green\",\"green\",\"green\",\"green\",\"green\",\"green\",\"green\",\"green\",\"green\",\"green\",\"green\",\"green\",\"green\",\"green\",\"green\",\"green\",\"green\",\"green\",\"green\",\"green\",\"green\",\"green\",\"green\",\"green\",\"green\",\"green\",\"green\",\"green\",\"green\",\"green\",\"green\",\"green\",\"green\",\"green\",\"green\",\"green\",\"green\",\"green\",\"green\",\"green\",\"green\",\"green\",\"green\",\"green\",\"green\",\"green\",\"green\",\"green\",\"green\",\"green\",\"green\",\"green\",\"green\",\"green\",\"green\",\"green\",\"green\",\"green\",\"green\",\"green\",\"green\",\"green\",\"green\",\"green\",\"green\",\"green\",\"green\",\"green\",\"green\",\"green\",\"green\",\"green\",\"green\",\"green\",\"green\",\"green\",\"green\",\"green\",\"green\",\"green\",\"green\",\"green\",\"green\",\"green\",\"green\",\"green\",\"green\",\"green\",\"green\",\"green\",\"green\",\"green\",\"green\",\"green\",\"green\",\"green\",\"green\",\"green\",\"green\",\"green\",\"green\",\"green\",\"green\",\"green\",\"green\",\"green\",\"green\",\"green\",\"green\",\"green\",\"green\",\"green\",\"green\",\"green\",\"green\",\"green\",\"green\",\"green\",\"green\",\"green\",\"green\",\"green\",\"green\",\"green\",\"green\",\"green\",\"green\",\"green\",\"green\",\"green\",\"green\",\"green\",\"green\",\"green\",\"green\",\"green\",\"green\",\"green\",\"green\",\"green\",\"green\",\"green\",\"green\",\"green\",\"green\",\"green\",\"green\",\"green\",\"green\",\"green\",\"green\",\"green\",\"green\",\"green\",\"green\",\"green\",\"green\",\"green\",\"green\",\"green\",\"green\",\"green\",\"green\",\"green\",\"green\",\"green\",\"green\",\"green\",\"green\",\"green\",\"green\",\"green\",\"green\",\"green\",\"green\",\"green\",\"green\",\"green\",\"green\",\"green\",\"green\",\"green\",\"green\",\"green\",\"green\",\"green\",\"green\",\"green\",\"green\",\"green\",\"green\",\"green\",\"green\",\"green\",\"green\",\"green\",\"green\",\"green\",\"green\",\"green\",\"green\",\"green\",\"green\",\"green\",\"green\",\"green\",\"green\",\"green\",\"green\",\"green\",\"green\",\"green\",\"green\",\"green\",\"green\",\"green\",\"green\",\"green\",\"green\",\"green\",\"green\",\"green\",\"green\",\"green\",\"green\",\"green\",\"green\",\"green\",\"green\",\"green\",\"green\",\"green\",\"green\",\"green\",\"green\",\"green\",\"green\",\"green\",\"green\",\"green\",\"green\",\"green\",\"green\",\"green\",\"green\",\"green\",\"green\",\"green\",\"green\",\"green\",\"green\",\"green\",\"green\",\"green\",\"green\",\"green\",\"green\",\"green\",\"green\",\"green\",\"green\",\"green\",\"green\",\"green\",\"green\",\"green\",\"green\",\"green\",\"green\",\"green\",\"green\",\"green\",\"green\",\"green\",\"green\",\"green\",\"green\",\"green\",\"green\",\"green\",\"green\",\"green\",\"green\",\"green\",\"green\",\"green\",\"green\",\"green\",\"green\",\"green\",\"green\",\"green\",\"green\",\"green\",\"green\",\"green\",\"green\",\"green\",\"green\",\"green\",\"green\",\"green\",\"green\",\"green\",\"green\",\"green\",\"green\",\"green\",\"green\",\"green\",\"green\",\"green\",\"green\",\"green\",\"green\",\"green\",\"green\",\"green\",\"green\",\"green\",\"green\",\"green\",\"green\",\"green\",\"green\",\"green\",\"green\",\"green\",\"green\",\"green\",\"green\",\"green\",\"green\",\"green\",\"green\",\"green\",\"green\",\"green\",\"green\",\"green\",\"green\",\"green\",\"green\",\"green\",\"green\",\"green\",\"green\",\"green\",\"green\",\"green\",\"green\",\"green\",\"green\",\"green\",\"green\",\"green\",\"green\",\"green\",\"green\",\"green\",\"green\",\"green\",\"green\",\"green\",\"green\",\"green\",\"green\",\"green\",\"green\",\"green\",\"green\",\"green\",\"green\",\"green\",\"green\",\"green\",\"green\",\"green\",\"green\",\"green\",\"green\",\"green\",\"green\",\"green\",\"green\",\"green\",\"green\",\"green\",\"green\",\"green\",\"green\",\"green\",\"green\",\"green\",\"green\",\"green\",\"green\",\"green\",\"green\",\"green\",\"green\",\"green\",\"green\",\"green\",\"green\",\"green\",\"green\",\"green\",\"green\",\"green\",\"green\",\"green\",\"green\",\"green\",\"green\",\"green\",\"green\",\"green\",\"green\",\"green\",\"green\",\"green\",\"green\",\"green\",\"green\",\"green\",\"green\",\"green\",\"green\",\"green\",\"green\",\"green\",\"green\",\"green\",\"green\",\"green\",\"green\",\"green\",\"green\",\"green\",\"green\",\"green\",\"green\",\"green\",\"green\",\"green\",\"green\",\"green\",\"green\",\"green\",\"green\",\"green\",\"green\",\"green\",\"green\",\"green\",\"green\",\"green\",\"green\",\"green\",\"green\",\"green\",\"green\",\"green\",\"green\",\"green\",\"green\",\"green\",\"green\",\"green\",\"green\",\"green\",\"green\",\"green\",\"green\",\"green\",\"green\",\"green\",\"green\",\"green\",\"green\",\"green\",\"green\",\"green\",\"green\",\"green\",\"green\",\"green\",\"green\",\"green\",\"green\",\"green\",\"green\",\"green\",\"green\",\"green\",\"green\",\"green\",\"green\",\"green\",\"green\",\"green\",\"green\",\"green\",\"green\",\"green\",\"green\",\"green\",\"green\",\"green\",\"green\",\"green\",\"green\",\"green\",\"green\",\"green\",\"green\",\"green\",\"green\",\"green\",\"green\",\"green\",\"green\",\"green\",\"green\",\"green\",\"green\",\"green\",\"green\",\"green\",\"green\",\"green\",\"green\",\"green\",\"green\",\"green\",\"green\",\"green\",\"green\",\"green\",\"green\",\"green\",\"green\",\"green\",\"green\",\"green\",\"green\",\"green\",\"green\",\"green\",\"green\",\"green\",\"green\",\"green\",\"green\",\"green\",\"green\",\"green\",\"green\",\"green\",\"green\",\"green\",\"green\",\"green\",\"green\",\"green\",\"green\",\"green\",\"green\",\"green\",\"green\",\"green\",\"green\",\"green\",\"green\",\"green\",\"green\",\"green\",\"green\",\"green\",\"green\",\"green\",\"green\",\"green\",\"green\",\"green\",\"green\",\"green\",\"green\",\"green\",\"green\",\"green\",\"green\",\"green\",\"green\",\"green\",\"green\",\"green\",\"green\",\"green\",\"green\",\"green\",\"green\",\"green\",\"green\",\"green\",\"green\",\"green\",\"green\",\"green\",\"green\",\"green\",\"green\",\"green\",\"green\",\"green\",\"green\",\"green\",\"green\",\"green\",\"green\",\"green\",\"green\",\"green\",\"green\",\"green\",\"green\",\"green\",\"green\",\"green\",\"green\",\"green\",\"green\",\"green\",\"green\",\"green\",\"green\",\"green\",\"green\",\"green\",\"green\",\"green\",\"green\",\"green\",\"green\",\"green\",\"green\",\"green\",\"green\",\"green\",\"green\",\"green\",\"green\",\"green\",\"green\",\"green\",\"green\",\"green\",\"green\",\"green\",\"green\",\"green\",\"green\",\"green\",\"green\",\"green\",\"green\",\"green\",\"green\",\"green\",\"green\",\"green\",\"green\",\"green\",\"green\",\"green\",\"green\",\"green\",\"green\",\"green\",\"green\",\"green\",\"green\",\"green\",\"green\",\"green\",\"green\",\"green\",\"green\",\"green\",\"green\",\"green\",\"green\",\"green\",\"green\",\"green\",\"green\",\"green\",\"green\",\"green\",\"green\",\"green\",\"green\",\"green\",\"green\",\"green\",\"green\",\"green\",\"green\",\"green\",\"green\",\"green\",\"green\",\"green\",\"green\",\"green\",\"green\",\"green\",\"green\",\"green\",\"green\",\"green\",\"green\",\"green\",\"green\",\"green\",\"green\",\"green\",\"green\"],\"token\":[\"?\",\"the\",\"what\",\"is\",\"a\",\"i\",\"to\",\"in\",\"how\",\"of\",\"do\",\"are\",\"and\",\"for\",\",\",\"can\",\"you\",\"why\",\"it\",\"my\",\"does\",\"best\",\"on\",\".\",\"or\",\"have\",\"if\",\"be\",\"with\",\"which\",\"that\",\"an\",\"some\",\"should\",\"'s\",\"get\",\"from\",\")\",\"your\",\"(\",\"like\",\"when\",\"at\",\"india\",\"good\",\"who\",\"there\",\"will\",\"as\",\"would\",\"people\",\"not\",\"n't\",\"about\",\"``\",\"''\",\"between\",\"one\",\"did\",\"any\",\"we\",\"me\",\"where\",\"most\",\"was\",\"by\",\"make\",\"so\",\"they\",\"this\",\"am\",\"after\",\"way\",\":\",\"has\",\"use\",\"much\",\"difference\",\"time\",\"life\",\"their\",\"know\",\"work\",\"many\",\"but\",\"than\",\"more\",\"all\",\"want\",\"quora\",\"someone\",\"learn\",\"find\",\"other\",\"think\",\"new\",\"better\",\"job\",\"indian\",\"out\",\"money\",\"mean\",\"become\",\"ever\",\"world\",\"without\",\"he\",\"start\",\"take\",\"us\",\"up\",\"first\",\"feel\",\"year\",\"into\",\"go\",\"online\",\"used\",\"engineering\",\"could\",\"love\",\"'m\",\"person\",\"were\",\"possible\",\"day\",\"buy\",\"things\",\"being\",\"need\",\"business\",\"using\",\"them\",\"really\",\"trump\",\"girl\",\"her\",\"his\",\"years\",\"different\",\"long\",\"phone\",\"google\",\"company\",\"been\",\"old\",\"only\",\"no\",\"now\",\"'\",\"just\",\"2\",\"app\",\"college\",\"facebook\",\"number\",\"free\",\"books\",\"2016\",\"movie\",\"still\",\"its\",\"account\",\"ca\",\"women\",\"book\",\"english\",\"while\",\"she\",\"had\",\"change\",\"ways\",\"computer\",\"thing\",\"examples\",\"data\",\"country\",\"over\",\"see\",\"android\",\"help\",\"science\",\"live\",\"school\",\"software\",\"before\",\"&\",\"language\",\"same\",\"going\",\"bad\",\"sex\",\"student\",\"stop\",\"university\",\"happen\",\"back\",\"made\",\"3\",\"study\",\"our\",\"1\",\"two\",\"through\",\"system\",\"name\",\"say\",\"real\",\"during\",\"prepare\",\"water\",\"iphone\",\"website\",\"top\",\"car\",\"questions\",\"important\",\"men\",\"give\",\"getting\",\"anyone\",\"companies\",\"high\",\"black\",\"card\",\"read\",\"programming\",\"war\",\"learning\",\"10\",\"\\u2019\",\"exam\",\"[\",\"then\",\"]\",\"even\",\"movies\",\"china\",\"mobile\",\"cost\",\"donald\",\"right\",\"doing\",\"friend\",\"him\",\"working\",\"5\",\"under\",\"come\",\"president\",\"own\",\"question\",\"career\",\"experience\",\"bank\",\"true\",\"friends\",\"guy\",\"word\",\"hair\",\"home\",\"video\",\"having\",\"look\",\"usa\",\"tell\",\"man\",\"social\",\"web\",\"interview\",\"very\",\"engineer\",\"write\",\"game\",\"government\",\"weight\",\"earth\",\"girls\",\"service\",\"food\",\"students\",\"play\",\"countries\",\"human\",\"place\",\"future\",\"improve\",\"off\",\"big\",\"days\",\"happens\",\"'ve\",\"done\",\"class\",\"eat\",\"tv\",\"process\",\"got\",\"state\",\"average\",\"s\",\"meaning\",\"relationship\",\"music\",\"too\",\"math\",\"create\",\"instagram\",\"every\",\"history\",\"last\",\"pay\",\"windows\",\"white\",\"watch\",\"%\",\"salary\",\"body\",\"power\",\"4\",\"safe\",\"clinton\",\"ask\",\"age\",\"laptop\",\"makes\",\"$\",\"each\",\"hard\",\"lose\",\"american\",\"delhi\",\"youtube\",\"energy\",\"worth\",\"earn\",\"states\",\"against\",\"win\",\"girlfriend\",\"great\",\"keep\",\"test\",\"god\",\"hillary\",\"compare\",\"market\",\"differences\",\"making\",\"considered\",\"something\",\"answer\",\"apply\",\"myself\",\"mba\",\"tips\",\"around\",\"never\",\"next\",\"always\",\"mechanical\",\"another\",\"united\",\"java\",\"increase\",\"such\",\"course\",\"jobs\",\"c\",\"download\",\"song\",\"parents\",\"kind\",\"internet\",\"common\",\"review\",\"woman\",\"code\",\"design\",\"per\",\"employees\",\"end\",\"development\",\"chinese\",\"series\",\"score\",\"interesting\",\"degree\",\"month\",\"travel\",\"show\",\"management\",\"months\",\"able\",\"believe\",\"open\",\"program\",\"living\",\"looking\",\"because\",\"type\",\"bangalore\",\"light\",\"favorite\",\"america\",\"today\",\"actually\",\"major\",\"family\",\"marketing\",\"pakistan\",\"universities\",\"technology\",\"law\",\"call\",\"affect\",\"whatsapp\",\"6\",\"idea\",\"{\",\"build\",\"}\",\"choose\",\"cat\",\"current\",\"support\",\"problem\",\"popular\",\"speed\",\"air\",\"rid\",\"deal\",\"visa\",\"join\",\"run\",\"games\",\"space\",\"down\",\"both\",\"well\",\"city\",\"2017\",\"house\",\"exist\",\"services\",\"available\",\"civil\",\"u.s.\",\"site\",\"culture\",\"also\",\"normal\",\"given\",\"wrong\",\"apple\",\"small\",\"order\",\"date\",\"wear\",\"apps\",\"places\",\"songs\",\"differ\",\"project\",\"product\",\"international\",\"behind\",\"main\",\"research\",\"x\",\"7\",\"happened\",\"boyfriend\",\"media\",\"public\",\"canada\",\"value\",\"jee\",\"cause\",\"reason\",\"uk\",\"education\",\"email\",\"ms\",\"sleep\",\"-\",\"amazon\",\"instead\",\"these\",\"benefits\",\"startup\",\"less\",\"iit\",\"part\",\"list\",\"based\",\"die\",\"medical\",\"websites\",\"etc\",\"physics\",\"skills\",\"child\",\"form\",\"health\",\"causes\",\"called\",\"times\",\"visit\",\"hate\",\"level\",\"worst\",\"police\",\"legal\",\"control\",\"terms\",\"stay\",\"products\",\"mumbai\",\"post\",\"facts\",\"mind\",\"face\",\"application\",\"rate\",\"sites\",\"field\",\"file\",\"required\",\"humans\",\"sell\",\"seen\",\"story\",\"machine\",\"private\",\"dog\",\"notes\",\"stock\",\"modi\",\"biggest\",\"asked\",\"invest\",\"children\",\"point\",\"writing\",\"move\",\"night\",\"problems\",\"gate\",\"put\",\"'re\",\"successful\",\"single\",\"anything\",\"indians\",\"others\",\"remove\",\"compared\",\"theory\",\"death\",\"ideas\",\"talk\",\"marks\",\"answers\",\"plan\",\"similar\",\"sentence\",\"low\",\"group\",\"institute\",\"side\",\"hours\",\"again\",\"effects\",\"/math\",\"coaching\",\"australia\",\"solve\",\"advantages\",\"correct\",\"function\",\"tax\",\"lot\",\"center\",\"famous\",\"send\",\"germany\",\"guys\",\"add\",\"set\",\"offer\",\"south\",\"force\",\"credit\",\"foreign\",\"universe\",\"information\",\"fall\",\"period\",\"daily\",\"says\",\"developer\",\"training\",\"full\",\"videos\",\"area\",\"industry\",\"oil\",\"model\",\"general\",\"studying\",\"majors\",\"star\",\"colleges\",\"graduate\",\"size\",\"yourself\",\"drive\",\"python\",\"2015\",\"blood\",\"near\",\"search\",\"enough\",\"price\",\"kill\",\"quality\",\"words\",\"cons\",\"marriage\",\"found\",\"often\",\"\\u201d\",\"leave\",\"pros\",\"fast\",\"grow\",\"courses\",\"started\",\"week\",\"fix\",\"related\",\"purpose\",\"8\",\"network\",\"types\",\"russia\",\"advice\",\"those\",\"password\",\"follow\",\"taking\",\"married\",\"mass\",\"male\",\"store\",\"turn\",\"party\",\"left\",\"brain\",\"rs\",\"\\u201c\",\"numbers\",\"100\",\"500\",\"female\",\"share\",\"digital\",\"team\",\"1000\",\"effective\",\"economy\",\"term\",\"text\",\"delete\",\"election\",\"cell\",\"pc\",\"master\",\"office\",\"matter\",\"few\",\"role\",\"since\",\"preparation\",\"fat\",\"second\",\"page\",\"dark\",\"short\",\"said\",\"happy\",\"red\",\"line\",\"away\",\"security\",\"options\",\"easy\",\"effect\",\"three\",\"view\",\"admission\",\"must\",\"chemical\",\"source\",\"lost\",\"try\",\"dream\",\"understand\",\"care\",\"exams\",\"convert\",\"americans\",\"past\",\"electrical\",\"dogs\",\"profile\",\"alcohol\",\"exactly\",\"north\",\"ios\",\"develop\",\"paper\",\"japanese\",\"investment\",\"tech\",\"difficult\",\"hotel\",\"check\",\"beautiful\",\"personal\",\"calculate\",\"japan\",\"uber\",\"letter\",\"eating\",\"religion\",\"20\",\"explain\",\"languages\",\"c++\",\"hyderabad\",\"topics\",\"british\",\"b\",\"twitter\",\"basic\",\"news\",\"california\",\"self\",\"green\",\"political\",\"transfer\",\"wife\",\"12\",\"fight\",\"rank\",\"drug\",\"let\",\"porn\",\"film\",\"scope\",\"t\",\"army\",\"pune\",\"national\",\"once\",\"contact\",\"note\",\"known\",\"avoid\",\"boy\",\"gain\",\"please\",\"address\",\"wants\",\"reasons\",\"paid\",\"obama\",\"engine\",\"europe\",\"ex\",\"currently\",\"bollywood\",\"samsung\",\"smart\",\"everyone\",\"season\",\"phd\",\"income\",\"officer\",\"chances\",\"reduce\",\"option\",\"overcome\",\"everything\",\"across\",\"reading\",\"military\",\"else\",\"users\",\"meet\",\"15\",\"solar\",\"message\",\"charge\",\"knowledge\",\"due\",\"sound\",\"balance\",\"microsoft\",\"!\",\"internship\",\"faster\",\"photos\",\"pregnant\",\"sim\",\"yes\",\"moon\",\"taken\",\"financial\",\"hindi\",\"disadvantages\",\"pass\",\"animals\",\"messages\",\"gay\",\"/\",\"hack\",\"healthy\",\"pain\",\"systems\",\"amount\",\"color\",\"interested\",\"singapore\",\"ias\",\"natural\",\"skin\",\"screen\",\"chance\",\"names\",\"special\",\"height\",\"board\",\"case\",\"structure\",\"passport\",\"break\",\"pro\",\"created\",\"professional\",\"drink\",\"already\",\"percentage\",\"useful\",\"french\",\"crush\",\"sun\",\"dating\",\"likes\",\"presidential\",\"battery\",\"interest\",\"access\",\"coming\",\"provide\",\"muslim\",\"starting\",\"modern\",\"linux\",\"recover\",\"camera\",\"german\",\"expect\",\"vote\",\"muslims\",\"blue\",\"least\",\"install\",\"train\",\"studies\",\"solution\",\"thinking\",\"following\",\"negative\",\"mother\",\"jio\",\"mac\",\"user\",\"spend\",\"prime\",\"written\",\"buying\",\"feeling\",\"running\",\"football\",\"gift\",\"cold\",\"changed\",\"pressure\",\"allowed\",\"character\",\"brand\",\"rich\",\"snapchat\",\"resources\",\"within\",\"speak\",\"impact\",\"islam\",\"yet\",\"non\",\"marry\",\"eyes\",\"society\",\"bill\",\"likely\",\"though\",\"determine\",\"shows\",\"fake\",\"save\",\"capital\",\"final\",\"gmail\",\"picture\",\"laws\",\"middle\",\"applications\",\"nuclear\",\"chemistry\",\"young\",\"kids\",\"prefer\",\"device\",\"iq\",\"father\",\"views\",\"galaxy\",\"manager\",\"doctor\",\"personality\",\"hand\",\"greatest\",\"currency\",\"inside\",\"illegal\",\"stories\",\"strategy\",\"recruit\",\"pursue\",\"cs\",\"abroad\",\"gold\",\"projects\",\"consider\",\"works\",\"blog\",\"crack\",\"memory\",\"example\",\"neet\",\"growth\",\"schools\",\"necessary\",\"husband\",\"insurance\",\"alone\",\"economics\",\"depression\",\"higher\",\"dead\",\"b.tech\",\"30\",\"cse\",\"loss\",\"among\",\"files\",\"deleted\",\"easiest\",\"macbook\",\"together\",\"art\",\"wifi\",\"vs\",\"gas\",\"suggest\",\"late\",\"intelligence\",\"method\",\"gre\",\"head\",\"minimum\",\"version\",\"tools\",\"easily\",\"chennai\",\"cars\",\"suitable\"],\"x\":{\"__ndarray__\":\"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\",\"dtype\":\"float32\",\"shape\":[1000]},\"y\":{\"__ndarray__\":\"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\",\"dtype\":\"float32\",\"shape\":[1000]}},\"selected\":{\"id\":\"f07afd42-2152-4d0c-860d-9e27512c77f4\",\"type\":\"Selection\"},\"selection_policy\":{\"id\":\"402d963f-8269-424f-bfbf-9e5d39024227\",\"type\":\"UnionRenderers\"}},\"id\":\"d716a690-b2c3-440d-b09d-9120bdbf6a5e\",\"type\":\"ColumnDataSource\"},{\"attributes\":{},\"id\":\"f07afd42-2152-4d0c-860d-9e27512c77f4\",\"type\":\"Selection\"},{\"attributes\":{\"below\":[{\"id\":\"9e88543b-1a14-4a56-986d-bf72363b4b95\",\"type\":\"LinearAxis\"}],\"left\":[{\"id\":\"701cbc03-e3fc-46ed-b7f6-d20716f06bba\",\"type\":\"LinearAxis\"}],\"plot_height\":400,\"renderers\":[{\"id\":\"9e88543b-1a14-4a56-986d-bf72363b4b95\",\"type\":\"LinearAxis\"},{\"id\":\"dbfd9802-c79b-4a90-88ee-b150e7d4ac39\",\"type\":\"Grid\"},{\"id\":\"701cbc03-e3fc-46ed-b7f6-d20716f06bba\",\"type\":\"LinearAxis\"},{\"id\":\"fac8a7d6-5723-4f2a-9ae4-757d6783afbd\",\"type\":\"Grid\"},{\"id\":\"23bb14ef-cd12-4178-80f1-27216b1482a8\",\"type\":\"BoxAnnotation\"},{\"id\":\"8e2b5866-5dbf-4901-984d-875543ce64fd\",\"type\":\"GlyphRenderer\"}],\"title\":{\"id\":\"ac91ca76-86c8-42ba-a4c8-4f33c49fdce0\",\"type\":\"Title\"},\"toolbar\":{\"id\":\"875e2de4-055a-4446-b1cc-2b58ad7ff455\",\"type\":\"Toolbar\"},\"x_range\":{\"id\":\"23301ed2-5879-4c67-93c5-46559401ff0e\",\"type\":\"DataRange1d\"},\"x_scale\":{\"id\":\"76549239-d033-4e13-ac59-94854ff92f73\",\"type\":\"LinearScale\"},\"y_range\":{\"id\":\"046ea05c-f657-4f9b-9c0a-12b2dc150366\",\"type\":\"DataRange1d\"},\"y_scale\":{\"id\":\"114398e8-bba6-4724-81a8-4c7eebdff3b2\",\"type\":\"LinearScale\"}},\"id\":\"648a9a6b-18d7-415c-9a12-da098a825435\",\"subtype\":\"Figure\",\"type\":\"Plot\"},{\"attributes\":{\"fill_alpha\":{\"value\":0.25},\"fill_color\":{\"field\":\"color\"},\"line_alpha\":{\"value\":0.25},\"line_color\":{\"field\":\"color\"},\"size\":{\"units\":\"screen\",\"value\":10},\"x\":{\"field\":\"x\"},\"y\":{\"field\":\"y\"}},\"id\":\"953c4c80-9055-47f7-894c-05d973c4e51b\",\"type\":\"Circle\"},{\"attributes\":{\"overlay\":{\"id\":\"23bb14ef-cd12-4178-80f1-27216b1482a8\",\"type\":\"BoxAnnotation\"}},\"id\":\"31598c47-033f-4647-befa-af902245bd36\",\"type\":\"BoxZoomTool\"},{\"attributes\":{\"callback\":null,\"renderers\":\"auto\",\"tooltips\":[[\"token\",\"@token\"]]},\"id\":\"c77f6ebd-1d58-4947-aae2-ed9683856871\",\"type\":\"HoverTool\"},{\"attributes\":{},\"id\":\"a75a0a5b-7ad5-4543-a353-c7237796c990\",\"type\":\"BasicTicker\"},{\"attributes\":{\"callback\":null},\"id\":\"23301ed2-5879-4c67-93c5-46559401ff0e\",\"type\":\"DataRange1d\"},{\"attributes\":{\"callback\":null},\"id\":\"046ea05c-f657-4f9b-9c0a-12b2dc150366\",\"type\":\"DataRange1d\"}],\"root_ids\":[\"648a9a6b-18d7-415c-9a12-da098a825435\"]},\"title\":\"Bokeh Application\",\"version\":\"0.13.0\"}};\n",
              "  var render_items = [{\"docid\":\"1fe485eb-521f-45cf-a8e8-ff6093fe8507\",\"roots\":{\"648a9a6b-18d7-415c-9a12-da098a825435\":\"b82b71db-4f0b-4be6-b690-9cdab748cc43\"}}];\n",
              "  root.Bokeh.embed.embed_items_notebook(docs_json, render_items);\n",
              "\n",
              "  }\n",
              "  if (root.Bokeh !== undefined) {\n",
              "    embed_document(root);\n",
              "  } else {\n",
              "    var attempts = 0;\n",
              "    var timer = setInterval(function(root) {\n",
              "      if (root.Bokeh !== undefined) {\n",
              "        embed_document(root);\n",
              "        clearInterval(timer);\n",
              "      }\n",
              "      attempts++;\n",
              "      if (attempts > 100) {\n",
              "        console.log(\"Bokeh: ERROR: Unable to run BokehJS code because BokehJS library is missing\")\n",
              "        clearInterval(timer);\n",
              "      }\n",
              "    }, 10, root)\n",
              "  }\n",
              "})(window);"
            ],
            "application/vnd.bokehjs_exec.v0+json": ""
          },
          "metadata": {
            "tags": [],
            "application/vnd.bokehjs_exec.v0+json": {
              "id": "648a9a6b-18d7-415c-9a12-da098a825435"
            }
          }
        }
      ]
    },
    {
      "metadata": {
        "id": "CON4VOyG3iET",
        "colab_type": "text"
      },
      "cell_type": "markdown",
      "source": [
        "### Negative Sampling\n",
        "\n",
        "Что сейчас самое тяжелое? Вычисление softmax и применение градиентов ко всем словам в $V$.\n",
        "\n",
        "Один из способов справиться с этим - использовать *Negative Sampling*.\n",
        "\n",
        "По сути, вместо предсказания индекса слова по контексту предсказывается вероятность того, что такое слово $w$ может быть в таком контексте $c$: $P(D=1|w,c)$.\n",
        "\n",
        "Можно использовать обычную сигмоиду для получения данной вероятности: \n",
        "$$P(D=1|w, c) = \\sigma(v_w^T u_c) = \\frac 1 {1 + \\exp(-v^T_w u_c)}.$$\n",
        "\n",
        "Процесс обучения тогда выглядит так: для каждой пары слово и его контекст генерируем набор отрицательных примеров:\n",
        "\n",
        "![Negative Sampling](https://image.ibb.co/dnOUDH/Negative_Sampling.png =350x)\n",
        "\n",
        "Для CBoW функция потерь будет выглядеть так:\n",
        "$$-\\log \\sigma(v_c^T u_c) - \\sum_{k=1}^K \\log \\sigma(-\\tilde v_k^T u_c),$$\n",
        "где $v_c$ - вектор центрального слова, $u_c$ - вектор контекста (сумма контекстных векторов), $\\tilde v_1, \\ldots, \\tilde v_K$ - сэмплированные негативные примеры.\n",
        "\n",
        "Сравните эту формулу с обычным CBoW:\n",
        "$$-v_c^T u_c + \\log \\sum_{i=1}^{|V|} \\exp(v_i^T u_c).$$\n",
        "\n",
        "Обычно слова сэмплируются из $U^{3/4}$, где $U$ - униграмное распределение, т.е частоты появления слова делённые на суммарое число слов. \n",
        "\n",
        "Частотности мы уже считали: они получаются в `Counter(words)`. Достаточно просто преобразовать их в вероятности и домножить эти вероятности на $\\frac 3 4$. Почему $\\frac 3 4$? Некоторую интуицию можно найти в следующем примере:\n",
        "\n",
        "$$P(\\text{is}) = 0.9, \\ P(\\text{is})^{3/4} = 0.92$$\n",
        "$$P(\\text{Constitution}) = 0.09, \\ P(\\text{Constitution})^{3/4} = 0.16$$\n",
        "$$P(\\text{bombastic}) = 0.01, \\ P(\\text{bombastic})^{3/4} = 0.032$$\n",
        "\n",
        "Вероятность для высокочастотных слов особо не увеличилась (относительно), зато низкочастотные будут выпадать с заметно большей вероятностей.\n",
        "\n",
        "**Задание** Реализуйте свой Negative Sampling.\n",
        "\n",
        "Для начала зададим распределение для сэмплирования:"
      ]
    },
    {
      "metadata": {
        "id": "zcX4vRBLlXy6",
        "colab_type": "code",
        "colab": {
          "base_uri": "https://localhost:8080/",
          "height": 561
        },
        "outputId": "e3ad993f-b276-4cf5-c1b3-271b7fca3c5c"
      },
      "cell_type": "code",
      "source": [
        "words_sum_count = sum(words_counter.values())\n",
        "word_distribution = np.array([(words_counter[word] / words_sum_count) ** (3 / 4) for word in index2word])\n",
        "# Вообще-то, тут нечестно сделанно, можно лучше\n",
        "word_distribution /= word_distribution.sum()\n",
        "\n",
        "indices = np.arange(len(word_distribution))\n",
        "\n",
        "np.random.choice(indices, p=word_distribution, size=(32, 5))"
      ],
      "execution_count": 43,
      "outputs": [
        {
          "output_type": "execute_result",
          "data": {
            "text/plain": [
              "array([[   97,   964,   610,   127,   369],\n",
              "       [   22,    13,   292,   514,   593],\n",
              "       [11390,  8296,  4291, 12352,   582],\n",
              "       [23731,   488,  2722,  3491,    90],\n",
              "       [ 5297,    19, 11745,   350,     1],\n",
              "       [  250,    71,   157,  3898, 10875],\n",
              "       [ 2627,  1114,  1503,   375,  8206],\n",
              "       [12727,  9079,    27, 18969,   478],\n",
              "       [   21,  1326,  6383,  1146,    16],\n",
              "       [  281,   113,  6528,    18, 21981],\n",
              "       [  843,     1,  7967, 10931,    88],\n",
              "       [  142,   932,     9,    38,   857],\n",
              "       [  706,  5016,  1888, 10389,   312],\n",
              "       [  302,  6545,    81, 12160,    69],\n",
              "       [  319,  1907,  2817,    21,    38],\n",
              "       [    5,   240,  2812,   944,  3837],\n",
              "       [   68,    94,    78, 10236,     7],\n",
              "       [   62,   188,   450,  7425,  1310],\n",
              "       [   67, 17571,  5027,   190,     5],\n",
              "       [  527,     6,   449,  5497,  1345],\n",
              "       [  241,   158,     1,   536, 24130],\n",
              "       [25384,  6281,   302,  6522,    15],\n",
              "       [   29,     9,   910,  6987,     1],\n",
              "       [15742,     1,   555,  3941,    43],\n",
              "       [    8,    22,     6,   450,     2],\n",
              "       [ 1908,   277,  1922,  4559,  6830],\n",
              "       [18799,  2362,     6,   935,  3207],\n",
              "       [    7, 12482,   853, 15886,  1923],\n",
              "       [ 2032,  2227,    26,  9568,   148],\n",
              "       [    6,  1098,  6692,  3005,   915],\n",
              "       [ 3700,     1,   491,    25,     2],\n",
              "       [12545,   796,  1017,  2646,  3199]])"
            ]
          },
          "metadata": {
            "tags": []
          },
          "execution_count": 43
        }
      ]
    },
    {
      "metadata": {
        "id": "Ej1RWp_jGOVy",
        "colab_type": "code",
        "colab": {}
      },
      "cell_type": "code",
      "source": [
        "loss_function = nn.CrossEntropyLoss().cuda()"
      ],
      "execution_count": 0,
      "outputs": []
    },
    {
      "metadata": {
        "id": "_o2pzsue16Lu",
        "colab_type": "code",
        "colab": {}
      },
      "cell_type": "code",
      "source": [
        "class NegativeSamplingModel(nn.Module):\n",
        "    def __init__(self, vocab_size, embedding_dim):\n",
        "        super().__init__()\n",
        "        \n",
        "        self.emb_in = nn.Embedding(vocab_size, embedding_dim)\n",
        "        self.emb_out = nn.Embedding(vocab_size, embedding_dim)\n",
        "\n",
        "    def forward(self, inputs, targets, num_samples):\n",
        "        '''\n",
        "        inputs: (batch_size, context_size)\n",
        "        targets: (batch_size)\n",
        "        num_samples: int\n",
        "        '''\n",
        "        \n",
        "        u = self.emb_in(inputs).sum(1)\n",
        "        v = self.emb_out(targets)\n",
        "        \n",
        "        candidates = np.random.choice(indices, p=word_distribution, size=(num_samples, inputs.shape[1], inputs.shape[0]))\n",
        "        candidates = torch.cuda.LongTensor(candidates)\n",
        "        neg_v = self.emb_out(candidates).neg()\n",
        "        \n",
        "        pos = F.logsigmoid((v * u).sum(1))\n",
        "        neg_v = F.logsigmoid((neg_v * u).sum(3).sum(1)).sum(0)\n",
        "        \n",
        "        return -pos.mean() - neg_v.mean()"
      ],
      "execution_count": 0,
      "outputs": []
    },
    {
      "metadata": {
        "id": "6wz2iRanqzlq",
        "colab_type": "code",
        "colab": {
          "base_uri": "https://localhost:8080/",
          "height": 895
        },
        "outputId": "3deb2f9c-ee58-4670-b48c-a4b7692646ce"
      },
      "cell_type": "code",
      "source": [
        "model = NegativeSamplingModel(vocab_size=len(word2index), embedding_dim=32).cuda()\n",
        "\n",
        "optimizer = optim.Adam(model.parameters(), lr=0.01)  \n",
        "\n",
        "loss_every_nsteps = 1000\n",
        "total_loss = 0\n",
        "start_time = time.time()\n",
        "\n",
        "for step, (batch, labels) in enumerate(make_cbow_batchs_iter(contexts, window_size=2, batch_size=128)):\n",
        "    batch = torch.cuda.LongTensor(batch)\n",
        "    labels = torch.cuda.LongTensor(labels)\n",
        "\n",
        "    loss = model(batch, labels, 100)\n",
        "    \n",
        "    loss.backward()\n",
        "\n",
        "    optimizer.step()\n",
        "    \n",
        "    optimizer.zero_grad()\n",
        "\n",
        "    total_loss += loss.item()\n",
        "    \n",
        "    if step != 0 and step % loss_every_nsteps == 0:\n",
        "        print(\"Step = {}, Avg Loss = {:.4f}, Time = {:.2f}s\".format(step, total_loss / loss_every_nsteps, \n",
        "                                                                    time.time() - start_time))\n",
        "        total_loss = 0\n",
        "        start_time = time.time()"
      ],
      "execution_count": 46,
      "outputs": [
        {
          "output_type": "stream",
          "text": [
            "Initializing batchs generator with 36902 batchs per epoch\n",
            "Step = 1000, Avg Loss = 73.0365, Time = 19.72s\n",
            "Step = 2000, Avg Loss = 11.4871, Time = 14.07s\n",
            "Step = 3000, Avg Loss = 7.2503, Time = 14.05s\n",
            "Step = 4000, Avg Loss = 5.3688, Time = 14.01s\n",
            "Step = 5000, Avg Loss = 4.3060, Time = 14.04s\n",
            "Step = 6000, Avg Loss = 3.7706, Time = 14.02s\n",
            "Step = 7000, Avg Loss = 3.3372, Time = 14.04s\n",
            "Step = 8000, Avg Loss = 3.0589, Time = 14.07s\n",
            "Step = 9000, Avg Loss = 2.8873, Time = 14.07s\n",
            "Step = 10000, Avg Loss = 2.6920, Time = 14.09s\n",
            "Step = 11000, Avg Loss = 2.5691, Time = 14.12s\n",
            "Step = 12000, Avg Loss = 2.5080, Time = 14.45s\n",
            "Step = 13000, Avg Loss = 2.4432, Time = 14.09s\n",
            "Step = 14000, Avg Loss = 2.2413, Time = 14.16s\n",
            "Step = 15000, Avg Loss = 2.2686, Time = 14.22s\n",
            "Step = 16000, Avg Loss = 2.2419, Time = 14.28s\n",
            "Step = 17000, Avg Loss = 2.1862, Time = 14.34s\n",
            "Step = 18000, Avg Loss = 2.0940, Time = 14.33s\n",
            "Step = 19000, Avg Loss = 2.0891, Time = 14.31s\n",
            "Step = 20000, Avg Loss = 1.9363, Time = 14.36s\n",
            "Step = 21000, Avg Loss = 1.9620, Time = 14.43s\n",
            "Step = 22000, Avg Loss = 1.9386, Time = 14.35s\n",
            "Step = 23000, Avg Loss = 1.9359, Time = 14.42s\n",
            "Step = 24000, Avg Loss = 1.9085, Time = 14.33s\n",
            "Step = 25000, Avg Loss = 1.9202, Time = 14.36s\n",
            "Step = 26000, Avg Loss = 1.9391, Time = 14.32s\n",
            "Step = 27000, Avg Loss = 1.9071, Time = 14.41s\n",
            "Step = 28000, Avg Loss = 1.9190, Time = 14.34s\n",
            "Step = 29000, Avg Loss = 1.9276, Time = 14.32s\n",
            "Step = 30000, Avg Loss = 1.9427, Time = 14.43s\n",
            "Step = 31000, Avg Loss = 1.8857, Time = 14.45s\n"
          ],
          "name": "stdout"
        },
        {
          "output_type": "error",
          "ename": "KeyboardInterrupt",
          "evalue": "ignored",
          "traceback": [
            "\u001b[0;31m---------------------------------------------------------------------------\u001b[0m",
            "\u001b[0;31mKeyboardInterrupt\u001b[0m                         Traceback (most recent call last)",
            "\u001b[0;32m<ipython-input-46-8e8264a3d226>\u001b[0m in \u001b[0;36m<module>\u001b[0;34m()\u001b[0m\n\u001b[1;32m     15\u001b[0m     \u001b[0mloss\u001b[0m\u001b[0;34m.\u001b[0m\u001b[0mbackward\u001b[0m\u001b[0;34m(\u001b[0m\u001b[0;34m)\u001b[0m\u001b[0;34m\u001b[0m\u001b[0m\n\u001b[1;32m     16\u001b[0m \u001b[0;34m\u001b[0m\u001b[0m\n\u001b[0;32m---> 17\u001b[0;31m     \u001b[0moptimizer\u001b[0m\u001b[0;34m.\u001b[0m\u001b[0mstep\u001b[0m\u001b[0;34m(\u001b[0m\u001b[0;34m)\u001b[0m\u001b[0;34m\u001b[0m\u001b[0m\n\u001b[0m\u001b[1;32m     18\u001b[0m \u001b[0;34m\u001b[0m\u001b[0m\n\u001b[1;32m     19\u001b[0m     \u001b[0moptimizer\u001b[0m\u001b[0;34m.\u001b[0m\u001b[0mzero_grad\u001b[0m\u001b[0;34m(\u001b[0m\u001b[0;34m)\u001b[0m\u001b[0;34m\u001b[0m\u001b[0m\n",
            "\u001b[0;32m/usr/local/lib/python3.6/dist-packages/torch/optim/adam.py\u001b[0m in \u001b[0;36mstep\u001b[0;34m(self, closure)\u001b[0m\n\u001b[1;32m     90\u001b[0m \u001b[0;34m\u001b[0m\u001b[0m\n\u001b[1;32m     91\u001b[0m                 \u001b[0;31m# Decay the first and second moment running average coefficient\u001b[0m\u001b[0;34m\u001b[0m\u001b[0;34m\u001b[0m\u001b[0m\n\u001b[0;32m---> 92\u001b[0;31m                 \u001b[0mexp_avg\u001b[0m\u001b[0;34m.\u001b[0m\u001b[0mmul_\u001b[0m\u001b[0;34m(\u001b[0m\u001b[0mbeta1\u001b[0m\u001b[0;34m)\u001b[0m\u001b[0;34m.\u001b[0m\u001b[0madd_\u001b[0m\u001b[0;34m(\u001b[0m\u001b[0;36m1\u001b[0m \u001b[0;34m-\u001b[0m \u001b[0mbeta1\u001b[0m\u001b[0;34m,\u001b[0m \u001b[0mgrad\u001b[0m\u001b[0;34m)\u001b[0m\u001b[0;34m\u001b[0m\u001b[0m\n\u001b[0m\u001b[1;32m     93\u001b[0m                 \u001b[0mexp_avg_sq\u001b[0m\u001b[0;34m.\u001b[0m\u001b[0mmul_\u001b[0m\u001b[0;34m(\u001b[0m\u001b[0mbeta2\u001b[0m\u001b[0;34m)\u001b[0m\u001b[0;34m.\u001b[0m\u001b[0maddcmul_\u001b[0m\u001b[0;34m(\u001b[0m\u001b[0;36m1\u001b[0m \u001b[0;34m-\u001b[0m \u001b[0mbeta2\u001b[0m\u001b[0;34m,\u001b[0m \u001b[0mgrad\u001b[0m\u001b[0;34m,\u001b[0m \u001b[0mgrad\u001b[0m\u001b[0;34m)\u001b[0m\u001b[0;34m\u001b[0m\u001b[0m\n\u001b[1;32m     94\u001b[0m                 \u001b[0;32mif\u001b[0m \u001b[0mamsgrad\u001b[0m\u001b[0;34m:\u001b[0m\u001b[0;34m\u001b[0m\u001b[0m\n",
            "\u001b[0;31mKeyboardInterrupt\u001b[0m: "
          ]
        }
      ]
    },
    {
      "metadata": {
        "id": "CFik_6djvg3F",
        "colab_type": "code",
        "colab": {
          "base_uri": "https://localhost:8080/",
          "height": 1020
        },
        "outputId": "a2025109-5c84-4c3a-e115-497b7c025488"
      },
      "cell_type": "code",
      "source": [
        "visualize_embeddings(model.emb_in.weight.data.cpu().numpy(), index2word, 1000)"
      ],
      "execution_count": 47,
      "outputs": [
        {
          "output_type": "stream",
          "text": [
            "[t-SNE] Computing 91 nearest neighbors...\n",
            "[t-SNE] Indexed 1000 samples in 0.002s...\n",
            "[t-SNE] Computed neighbors for 1000 samples in 0.096s...\n",
            "[t-SNE] Computed conditional probabilities for sample 1000 / 1000\n",
            "[t-SNE] Mean sigma: 0.870998\n",
            "[t-SNE] Computed conditional probabilities in 0.048s\n",
            "[t-SNE] Iteration 50: error = 77.0322037, gradient norm = 0.3289518 (50 iterations in 2.819s)\n",
            "[t-SNE] Iteration 100: error = 77.9797287, gradient norm = 0.3211857 (50 iterations in 2.434s)\n",
            "[t-SNE] Iteration 150: error = 79.5002441, gradient norm = 0.3049622 (50 iterations in 2.451s)\n",
            "[t-SNE] Iteration 200: error = 81.4007339, gradient norm = 0.2887714 (50 iterations in 2.442s)\n",
            "[t-SNE] Iteration 250: error = 80.6899719, gradient norm = 0.2910203 (50 iterations in 2.386s)\n",
            "[t-SNE] KL divergence after 250 iterations with early exaggeration: 80.689972\n",
            "[t-SNE] Iteration 300: error = 2.0715554, gradient norm = 0.0036642 (50 iterations in 1.996s)\n",
            "[t-SNE] Iteration 350: error = 1.9885247, gradient norm = 0.0006510 (50 iterations in 1.738s)\n",
            "[t-SNE] Iteration 400: error = 1.9489664, gradient norm = 0.0003609 (50 iterations in 1.762s)\n",
            "[t-SNE] Iteration 450: error = 1.9283278, gradient norm = 0.0003391 (50 iterations in 1.681s)\n",
            "[t-SNE] Iteration 500: error = 1.9084696, gradient norm = 0.0003716 (50 iterations in 1.692s)\n",
            "[t-SNE] Iteration 550: error = 1.8916545, gradient norm = 0.0003686 (50 iterations in 1.678s)\n",
            "[t-SNE] Iteration 600: error = 1.8751365, gradient norm = 0.0003679 (50 iterations in 1.666s)\n",
            "[t-SNE] Iteration 650: error = 1.8661805, gradient norm = 0.0002857 (50 iterations in 1.700s)\n",
            "[t-SNE] Iteration 700: error = 1.8611348, gradient norm = 0.0001933 (50 iterations in 1.952s)\n",
            "[t-SNE] Iteration 750: error = 1.8549514, gradient norm = 0.0001987 (50 iterations in 1.972s)\n",
            "[t-SNE] Iteration 800: error = 1.8515093, gradient norm = 0.0001741 (50 iterations in 1.626s)\n",
            "[t-SNE] Iteration 850: error = 1.8485179, gradient norm = 0.0001599 (50 iterations in 1.678s)\n",
            "[t-SNE] Iteration 900: error = 1.8464212, gradient norm = 0.0001932 (50 iterations in 1.657s)\n",
            "[t-SNE] Iteration 950: error = 1.8417658, gradient norm = 0.0002315 (50 iterations in 1.665s)\n",
            "[t-SNE] Iteration 1000: error = 1.8387606, gradient norm = 0.0001034 (50 iterations in 1.617s)\n",
            "[t-SNE] Error after 1000 iterations: 1.838761\n"
          ],
          "name": "stdout"
        },
        {
          "output_type": "stream",
          "text": [
            "/usr/local/lib/python3.6/dist-packages/sklearn/preprocessing/data.py:164: UserWarning: Numerical issues were encountered when centering the data and might not be solved. Dataset may contain too large values. You may need to prescale your features.\n",
            "  warnings.warn(\"Numerical issues were encountered \"\n",
            "/usr/local/lib/python3.6/dist-packages/sklearn/preprocessing/data.py:181: UserWarning: Numerical issues were encountered when scaling the data and might not be solved. The standard deviation of the data is probably very close to 0. \n",
            "  warnings.warn(\"Numerical issues were encountered \"\n"
          ],
          "name": "stderr"
        },
        {
          "output_type": "display_data",
          "data": {
            "text/html": [
              "\n",
              "    <div class=\"bk-root\">\n",
              "        <a href=\"https://bokeh.pydata.org\" target=\"_blank\" class=\"bk-logo bk-logo-small bk-logo-notebook\"></a>\n",
              "        <span id=\"0fe74d53-8756-4299-9cda-50b818ef40f4\">Loading BokehJS ...</span>\n",
              "    </div>"
            ]
          },
          "metadata": {
            "tags": []
          }
        },
        {
          "output_type": "display_data",
          "data": {
            "application/javascript": [
              "\n",
              "(function(root) {\n",
              "  function now() {\n",
              "    return new Date();\n",
              "  }\n",
              "\n",
              "  var force = true;\n",
              "\n",
              "  if (typeof (root._bokeh_onload_callbacks) === \"undefined\" || force === true) {\n",
              "    root._bokeh_onload_callbacks = [];\n",
              "    root._bokeh_is_loading = undefined;\n",
              "  }\n",
              "\n",
              "  var JS_MIME_TYPE = 'application/javascript';\n",
              "  var HTML_MIME_TYPE = 'text/html';\n",
              "  var EXEC_MIME_TYPE = 'application/vnd.bokehjs_exec.v0+json';\n",
              "  var CLASS_NAME = 'output_bokeh rendered_html';\n",
              "\n",
              "  /**\n",
              "   * Render data to the DOM node\n",
              "   */\n",
              "  function render(props, node) {\n",
              "    var script = document.createElement(\"script\");\n",
              "    node.appendChild(script);\n",
              "  }\n",
              "\n",
              "  /**\n",
              "   * Handle when an output is cleared or removed\n",
              "   */\n",
              "  function handleClearOutput(event, handle) {\n",
              "    var cell = handle.cell;\n",
              "\n",
              "    var id = cell.output_area._bokeh_element_id;\n",
              "    var server_id = cell.output_area._bokeh_server_id;\n",
              "    // Clean up Bokeh references\n",
              "    if (id != null && id in Bokeh.index) {\n",
              "      Bokeh.index[id].model.document.clear();\n",
              "      delete Bokeh.index[id];\n",
              "    }\n",
              "\n",
              "    if (server_id !== undefined) {\n",
              "      // Clean up Bokeh references\n",
              "      var cmd = \"from bokeh.io.state import curstate; print(curstate().uuid_to_server['\" + server_id + \"'].get_sessions()[0].document.roots[0]._id)\";\n",
              "      cell.notebook.kernel.execute(cmd, {\n",
              "        iopub: {\n",
              "          output: function(msg) {\n",
              "            var id = msg.content.text.trim();\n",
              "            if (id in Bokeh.index) {\n",
              "              Bokeh.index[id].model.document.clear();\n",
              "              delete Bokeh.index[id];\n",
              "            }\n",
              "          }\n",
              "        }\n",
              "      });\n",
              "      // Destroy server and session\n",
              "      var cmd = \"import bokeh.io.notebook as ion; ion.destroy_server('\" + server_id + \"')\";\n",
              "      cell.notebook.kernel.execute(cmd);\n",
              "    }\n",
              "  }\n",
              "\n",
              "  /**\n",
              "   * Handle when a new output is added\n",
              "   */\n",
              "  function handleAddOutput(event, handle) {\n",
              "    var output_area = handle.output_area;\n",
              "    var output = handle.output;\n",
              "\n",
              "    // limit handleAddOutput to display_data with EXEC_MIME_TYPE content only\n",
              "    if ((output.output_type != \"display_data\") || (!output.data.hasOwnProperty(EXEC_MIME_TYPE))) {\n",
              "      return\n",
              "    }\n",
              "\n",
              "    var toinsert = output_area.element.find(\".\" + CLASS_NAME.split(' ')[0]);\n",
              "\n",
              "    if (output.metadata[EXEC_MIME_TYPE][\"id\"] !== undefined) {\n",
              "      toinsert[toinsert.length - 1].firstChild.textContent = output.data[JS_MIME_TYPE];\n",
              "      // store reference to embed id on output_area\n",
              "      output_area._bokeh_element_id = output.metadata[EXEC_MIME_TYPE][\"id\"];\n",
              "    }\n",
              "    if (output.metadata[EXEC_MIME_TYPE][\"server_id\"] !== undefined) {\n",
              "      var bk_div = document.createElement(\"div\");\n",
              "      bk_div.innerHTML = output.data[HTML_MIME_TYPE];\n",
              "      var script_attrs = bk_div.children[0].attributes;\n",
              "      for (var i = 0; i < script_attrs.length; i++) {\n",
              "        toinsert[toinsert.length - 1].firstChild.setAttribute(script_attrs[i].name, script_attrs[i].value);\n",
              "      }\n",
              "      // store reference to server id on output_area\n",
              "      output_area._bokeh_server_id = output.metadata[EXEC_MIME_TYPE][\"server_id\"];\n",
              "    }\n",
              "  }\n",
              "\n",
              "  function register_renderer(events, OutputArea) {\n",
              "\n",
              "    function append_mime(data, metadata, element) {\n",
              "      // create a DOM node to render to\n",
              "      var toinsert = this.create_output_subarea(\n",
              "        metadata,\n",
              "        CLASS_NAME,\n",
              "        EXEC_MIME_TYPE\n",
              "      );\n",
              "      this.keyboard_manager.register_events(toinsert);\n",
              "      // Render to node\n",
              "      var props = {data: data, metadata: metadata[EXEC_MIME_TYPE]};\n",
              "      render(props, toinsert[toinsert.length - 1]);\n",
              "      element.append(toinsert);\n",
              "      return toinsert\n",
              "    }\n",
              "\n",
              "    /* Handle when an output is cleared or removed */\n",
              "    events.on('clear_output.CodeCell', handleClearOutput);\n",
              "    events.on('delete.Cell', handleClearOutput);\n",
              "\n",
              "    /* Handle when a new output is added */\n",
              "    events.on('output_added.OutputArea', handleAddOutput);\n",
              "\n",
              "    /**\n",
              "     * Register the mime type and append_mime function with output_area\n",
              "     */\n",
              "    OutputArea.prototype.register_mime_type(EXEC_MIME_TYPE, append_mime, {\n",
              "      /* Is output safe? */\n",
              "      safe: true,\n",
              "      /* Index of renderer in `output_area.display_order` */\n",
              "      index: 0\n",
              "    });\n",
              "  }\n",
              "\n",
              "  // register the mime type if in Jupyter Notebook environment and previously unregistered\n",
              "  if (root.Jupyter !== undefined) {\n",
              "    var events = require('base/js/events');\n",
              "    var OutputArea = require('notebook/js/outputarea').OutputArea;\n",
              "\n",
              "    if (OutputArea.prototype.mime_types().indexOf(EXEC_MIME_TYPE) == -1) {\n",
              "      register_renderer(events, OutputArea);\n",
              "    }\n",
              "  }\n",
              "\n",
              "  \n",
              "  if (typeof (root._bokeh_timeout) === \"undefined\" || force === true) {\n",
              "    root._bokeh_timeout = Date.now() + 5000;\n",
              "    root._bokeh_failed_load = false;\n",
              "  }\n",
              "\n",
              "  var NB_LOAD_WARNING = {'data': {'text/html':\n",
              "     \"<div style='background-color: #fdd'>\\n\"+\n",
              "     \"<p>\\n\"+\n",
              "     \"BokehJS does not appear to have successfully loaded. If loading BokehJS from CDN, this \\n\"+\n",
              "     \"may be due to a slow or bad network connection. Possible fixes:\\n\"+\n",
              "     \"</p>\\n\"+\n",
              "     \"<ul>\\n\"+\n",
              "     \"<li>re-rerun `output_notebook()` to attempt to load from CDN again, or</li>\\n\"+\n",
              "     \"<li>use INLINE resources instead, as so:</li>\\n\"+\n",
              "     \"</ul>\\n\"+\n",
              "     \"<code>\\n\"+\n",
              "     \"from bokeh.resources import INLINE\\n\"+\n",
              "     \"output_notebook(resources=INLINE)\\n\"+\n",
              "     \"</code>\\n\"+\n",
              "     \"</div>\"}};\n",
              "\n",
              "  function display_loaded() {\n",
              "    var el = document.getElementById(\"0fe74d53-8756-4299-9cda-50b818ef40f4\");\n",
              "    if (el != null) {\n",
              "      el.textContent = \"BokehJS is loading...\";\n",
              "    }\n",
              "    if (root.Bokeh !== undefined) {\n",
              "      if (el != null) {\n",
              "        el.textContent = \"BokehJS \" + root.Bokeh.version + \" successfully loaded.\";\n",
              "      }\n",
              "    } else if (Date.now() < root._bokeh_timeout) {\n",
              "      setTimeout(display_loaded, 100)\n",
              "    }\n",
              "  }\n",
              "\n",
              "\n",
              "  function run_callbacks() {\n",
              "    try {\n",
              "      root._bokeh_onload_callbacks.forEach(function(callback) { callback() });\n",
              "    }\n",
              "    finally {\n",
              "      delete root._bokeh_onload_callbacks\n",
              "    }\n",
              "    console.info(\"Bokeh: all callbacks have finished\");\n",
              "  }\n",
              "\n",
              "  function load_libs(js_urls, callback) {\n",
              "    root._bokeh_onload_callbacks.push(callback);\n",
              "    if (root._bokeh_is_loading > 0) {\n",
              "      console.log(\"Bokeh: BokehJS is being loaded, scheduling callback at\", now());\n",
              "      return null;\n",
              "    }\n",
              "    if (js_urls == null || js_urls.length === 0) {\n",
              "      run_callbacks();\n",
              "      return null;\n",
              "    }\n",
              "    console.log(\"Bokeh: BokehJS not loaded, scheduling load and callback at\", now());\n",
              "    root._bokeh_is_loading = js_urls.length;\n",
              "    for (var i = 0; i < js_urls.length; i++) {\n",
              "      var url = js_urls[i];\n",
              "      var s = document.createElement('script');\n",
              "      s.src = url;\n",
              "      s.async = false;\n",
              "      s.onreadystatechange = s.onload = function() {\n",
              "        root._bokeh_is_loading--;\n",
              "        if (root._bokeh_is_loading === 0) {\n",
              "          console.log(\"Bokeh: all BokehJS libraries loaded\");\n",
              "          run_callbacks()\n",
              "        }\n",
              "      };\n",
              "      s.onerror = function() {\n",
              "        console.warn(\"failed to load library \" + url);\n",
              "      };\n",
              "      console.log(\"Bokeh: injecting script tag for BokehJS library: \", url);\n",
              "      document.getElementsByTagName(\"head\")[0].appendChild(s);\n",
              "    }\n",
              "  };var element = document.getElementById(\"0fe74d53-8756-4299-9cda-50b818ef40f4\");\n",
              "  if (element == null) {\n",
              "    console.log(\"Bokeh: ERROR: autoload.js configured with elementid '0fe74d53-8756-4299-9cda-50b818ef40f4' but no matching script tag was found. \")\n",
              "    return false;\n",
              "  }\n",
              "\n",
              "  var js_urls = [\"https://cdn.pydata.org/bokeh/release/bokeh-0.13.0.min.js\", \"https://cdn.pydata.org/bokeh/release/bokeh-widgets-0.13.0.min.js\", \"https://cdn.pydata.org/bokeh/release/bokeh-tables-0.13.0.min.js\", \"https://cdn.pydata.org/bokeh/release/bokeh-gl-0.13.0.min.js\"];\n",
              "\n",
              "  var inline_js = [\n",
              "    function(Bokeh) {\n",
              "      Bokeh.set_log_level(\"info\");\n",
              "    },\n",
              "    \n",
              "    function(Bokeh) {\n",
              "      \n",
              "    },\n",
              "    function(Bokeh) {\n",
              "      console.log(\"Bokeh: injecting CSS: https://cdn.pydata.org/bokeh/release/bokeh-0.13.0.min.css\");\n",
              "      Bokeh.embed.inject_css(\"https://cdn.pydata.org/bokeh/release/bokeh-0.13.0.min.css\");\n",
              "      console.log(\"Bokeh: injecting CSS: https://cdn.pydata.org/bokeh/release/bokeh-widgets-0.13.0.min.css\");\n",
              "      Bokeh.embed.inject_css(\"https://cdn.pydata.org/bokeh/release/bokeh-widgets-0.13.0.min.css\");\n",
              "      console.log(\"Bokeh: injecting CSS: https://cdn.pydata.org/bokeh/release/bokeh-tables-0.13.0.min.css\");\n",
              "      Bokeh.embed.inject_css(\"https://cdn.pydata.org/bokeh/release/bokeh-tables-0.13.0.min.css\");\n",
              "    }\n",
              "  ];\n",
              "\n",
              "  function run_inline_js() {\n",
              "    \n",
              "    if ((root.Bokeh !== undefined) || (force === true)) {\n",
              "      for (var i = 0; i < inline_js.length; i++) {\n",
              "        inline_js[i].call(root, root.Bokeh);\n",
              "      }if (force === true) {\n",
              "        display_loaded();\n",
              "      }} else if (Date.now() < root._bokeh_timeout) {\n",
              "      setTimeout(run_inline_js, 100);\n",
              "    } else if (!root._bokeh_failed_load) {\n",
              "      console.log(\"Bokeh: BokehJS failed to load within specified timeout.\");\n",
              "      root._bokeh_failed_load = true;\n",
              "    } else if (force !== true) {\n",
              "      var cell = $(document.getElementById(\"0fe74d53-8756-4299-9cda-50b818ef40f4\")).parents('.cell').data().cell;\n",
              "      cell.output_area.append_execute_result(NB_LOAD_WARNING)\n",
              "    }\n",
              "\n",
              "  }\n",
              "\n",
              "  if (root._bokeh_is_loading === 0) {\n",
              "    console.log(\"Bokeh: BokehJS loaded, going straight to plotting\");\n",
              "    run_inline_js();\n",
              "  } else {\n",
              "    load_libs(js_urls, function() {\n",
              "      console.log(\"Bokeh: BokehJS plotting callback run at\", now());\n",
              "      run_inline_js();\n",
              "    });\n",
              "  }\n",
              "}(window));"
            ],
            "application/vnd.bokehjs_load.v0+json": "\n(function(root) {\n  function now() {\n    return new Date();\n  }\n\n  var force = true;\n\n  if (typeof (root._bokeh_onload_callbacks) === \"undefined\" || force === true) {\n    root._bokeh_onload_callbacks = [];\n    root._bokeh_is_loading = undefined;\n  }\n\n  \n\n  \n  if (typeof (root._bokeh_timeout) === \"undefined\" || force === true) {\n    root._bokeh_timeout = Date.now() + 5000;\n    root._bokeh_failed_load = false;\n  }\n\n  var NB_LOAD_WARNING = {'data': {'text/html':\n     \"<div style='background-color: #fdd'>\\n\"+\n     \"<p>\\n\"+\n     \"BokehJS does not appear to have successfully loaded. If loading BokehJS from CDN, this \\n\"+\n     \"may be due to a slow or bad network connection. Possible fixes:\\n\"+\n     \"</p>\\n\"+\n     \"<ul>\\n\"+\n     \"<li>re-rerun `output_notebook()` to attempt to load from CDN again, or</li>\\n\"+\n     \"<li>use INLINE resources instead, as so:</li>\\n\"+\n     \"</ul>\\n\"+\n     \"<code>\\n\"+\n     \"from bokeh.resources import INLINE\\n\"+\n     \"output_notebook(resources=INLINE)\\n\"+\n     \"</code>\\n\"+\n     \"</div>\"}};\n\n  function display_loaded() {\n    var el = document.getElementById(\"0fe74d53-8756-4299-9cda-50b818ef40f4\");\n    if (el != null) {\n      el.textContent = \"BokehJS is loading...\";\n    }\n    if (root.Bokeh !== undefined) {\n      if (el != null) {\n        el.textContent = \"BokehJS \" + root.Bokeh.version + \" successfully loaded.\";\n      }\n    } else if (Date.now() < root._bokeh_timeout) {\n      setTimeout(display_loaded, 100)\n    }\n  }\n\n\n  function run_callbacks() {\n    try {\n      root._bokeh_onload_callbacks.forEach(function(callback) { callback() });\n    }\n    finally {\n      delete root._bokeh_onload_callbacks\n    }\n    console.info(\"Bokeh: all callbacks have finished\");\n  }\n\n  function load_libs(js_urls, callback) {\n    root._bokeh_onload_callbacks.push(callback);\n    if (root._bokeh_is_loading > 0) {\n      console.log(\"Bokeh: BokehJS is being loaded, scheduling callback at\", now());\n      return null;\n    }\n    if (js_urls == null || js_urls.length === 0) {\n      run_callbacks();\n      return null;\n    }\n    console.log(\"Bokeh: BokehJS not loaded, scheduling load and callback at\", now());\n    root._bokeh_is_loading = js_urls.length;\n    for (var i = 0; i < js_urls.length; i++) {\n      var url = js_urls[i];\n      var s = document.createElement('script');\n      s.src = url;\n      s.async = false;\n      s.onreadystatechange = s.onload = function() {\n        root._bokeh_is_loading--;\n        if (root._bokeh_is_loading === 0) {\n          console.log(\"Bokeh: all BokehJS libraries loaded\");\n          run_callbacks()\n        }\n      };\n      s.onerror = function() {\n        console.warn(\"failed to load library \" + url);\n      };\n      console.log(\"Bokeh: injecting script tag for BokehJS library: \", url);\n      document.getElementsByTagName(\"head\")[0].appendChild(s);\n    }\n  };var element = document.getElementById(\"0fe74d53-8756-4299-9cda-50b818ef40f4\");\n  if (element == null) {\n    console.log(\"Bokeh: ERROR: autoload.js configured with elementid '0fe74d53-8756-4299-9cda-50b818ef40f4' but no matching script tag was found. \")\n    return false;\n  }\n\n  var js_urls = [\"https://cdn.pydata.org/bokeh/release/bokeh-0.13.0.min.js\", \"https://cdn.pydata.org/bokeh/release/bokeh-widgets-0.13.0.min.js\", \"https://cdn.pydata.org/bokeh/release/bokeh-tables-0.13.0.min.js\", \"https://cdn.pydata.org/bokeh/release/bokeh-gl-0.13.0.min.js\"];\n\n  var inline_js = [\n    function(Bokeh) {\n      Bokeh.set_log_level(\"info\");\n    },\n    \n    function(Bokeh) {\n      \n    },\n    function(Bokeh) {\n      console.log(\"Bokeh: injecting CSS: https://cdn.pydata.org/bokeh/release/bokeh-0.13.0.min.css\");\n      Bokeh.embed.inject_css(\"https://cdn.pydata.org/bokeh/release/bokeh-0.13.0.min.css\");\n      console.log(\"Bokeh: injecting CSS: https://cdn.pydata.org/bokeh/release/bokeh-widgets-0.13.0.min.css\");\n      Bokeh.embed.inject_css(\"https://cdn.pydata.org/bokeh/release/bokeh-widgets-0.13.0.min.css\");\n      console.log(\"Bokeh: injecting CSS: https://cdn.pydata.org/bokeh/release/bokeh-tables-0.13.0.min.css\");\n      Bokeh.embed.inject_css(\"https://cdn.pydata.org/bokeh/release/bokeh-tables-0.13.0.min.css\");\n    }\n  ];\n\n  function run_inline_js() {\n    \n    if ((root.Bokeh !== undefined) || (force === true)) {\n      for (var i = 0; i < inline_js.length; i++) {\n        inline_js[i].call(root, root.Bokeh);\n      }if (force === true) {\n        display_loaded();\n      }} else if (Date.now() < root._bokeh_timeout) {\n      setTimeout(run_inline_js, 100);\n    } else if (!root._bokeh_failed_load) {\n      console.log(\"Bokeh: BokehJS failed to load within specified timeout.\");\n      root._bokeh_failed_load = true;\n    } else if (force !== true) {\n      var cell = $(document.getElementById(\"0fe74d53-8756-4299-9cda-50b818ef40f4\")).parents('.cell').data().cell;\n      cell.output_area.append_execute_result(NB_LOAD_WARNING)\n    }\n\n  }\n\n  if (root._bokeh_is_loading === 0) {\n    console.log(\"Bokeh: BokehJS loaded, going straight to plotting\");\n    run_inline_js();\n  } else {\n    load_libs(js_urls, function() {\n      console.log(\"Bokeh: BokehJS plotting callback run at\", now());\n      run_inline_js();\n    });\n  }\n}(window));"
          },
          "metadata": {
            "tags": []
          }
        },
        {
          "output_type": "display_data",
          "data": {
            "text/html": [
              "\n",
              "\n",
              "\n",
              "\n",
              "\n",
              "\n",
              "  <div class=\"bk-root\" id=\"df357c37-d865-4a09-84a3-e3217d110487\"></div>\n"
            ]
          },
          "metadata": {
            "tags": []
          }
        },
        {
          "output_type": "display_data",
          "data": {
            "application/javascript": [
              "(function(root) {\n",
              "  function embed_document(root) {\n",
              "    \n",
              "  var docs_json = {\"00d962c8-3140-44c2-a0a3-d77a486a9054\":{\"roots\":{\"references\":[{\"attributes\":{\"formatter\":{\"id\":\"41dc386f-35d4-403d-bb0d-df56504ea5f2\",\"type\":\"BasicTickFormatter\"},\"plot\":{\"id\":\"d0f0464b-4555-4d4c-b18f-f39937b00e40\",\"subtype\":\"Figure\",\"type\":\"Plot\"},\"ticker\":{\"id\":\"0f579e0f-3cb3-4b3d-aed3-497912322e88\",\"type\":\"BasicTicker\"}},\"id\":\"4aa6ec3a-acc8-419c-83f5-70b90a5a69a3\",\"type\":\"LinearAxis\"},{\"attributes\":{\"callback\":null,\"renderers\":\"auto\",\"tooltips\":[[\"token\",\"@token\"]]},\"id\":\"c41e8967-fa63-41d8-875f-73e1687ca9d6\",\"type\":\"HoverTool\"},{\"attributes\":{},\"id\":\"e5bfa4c7-e5b6-4480-becc-9307afc21fac\",\"type\":\"WheelZoomTool\"},{\"attributes\":{\"formatter\":{\"id\":\"2885f12f-eccc-4a42-b99a-8233338b035e\",\"type\":\"BasicTickFormatter\"},\"plot\":{\"id\":\"d0f0464b-4555-4d4c-b18f-f39937b00e40\",\"subtype\":\"Figure\",\"type\":\"Plot\"},\"ticker\":{\"id\":\"ecaddb10-966a-42dc-bbd3-923ff6391761\",\"type\":\"BasicTicker\"}},\"id\":\"95998625-ed2d-471d-866f-ca70b063ffdb\",\"type\":\"LinearAxis\"},{\"attributes\":{\"callback\":null},\"id\":\"6ae5e069-6e37-41f9-aafe-c8a1e343dddc\",\"type\":\"DataRange1d\"},{\"attributes\":{\"data_source\":{\"id\":\"bce50b9c-33d5-403b-b82e-025a1421a0e1\",\"type\":\"ColumnDataSource\"},\"glyph\":{\"id\":\"5e2f3ba5-746a-4ee4-bc0c-c146248993d8\",\"type\":\"Circle\"},\"hover_glyph\":null,\"muted_glyph\":null,\"nonselection_glyph\":{\"id\":\"d31b6ef5-fa61-4d5f-a394-fff3ef2a1c66\",\"type\":\"Circle\"},\"selection_glyph\":null,\"view\":{\"id\":\"a74fd0e8-484c-4671-9016-9ce49e5c32a2\",\"type\":\"CDSView\"}},\"id\":\"5d175967-bdd5-4e99-8433-f6ec5c078a08\",\"type\":\"GlyphRenderer\"},{\"attributes\":{},\"id\":\"ecaddb10-966a-42dc-bbd3-923ff6391761\",\"type\":\"BasicTicker\"},{\"attributes\":{},\"id\":\"2885f12f-eccc-4a42-b99a-8233338b035e\",\"type\":\"BasicTickFormatter\"},{\"attributes\":{\"plot\":null,\"text\":\"\"},\"id\":\"10243cb8-9d2e-4e26-9a22-692ecc59c9b2\",\"type\":\"Title\"},{\"attributes\":{},\"id\":\"0f579e0f-3cb3-4b3d-aed3-497912322e88\",\"type\":\"BasicTicker\"},{\"attributes\":{\"dimension\":1,\"plot\":{\"id\":\"d0f0464b-4555-4d4c-b18f-f39937b00e40\",\"subtype\":\"Figure\",\"type\":\"Plot\"},\"ticker\":{\"id\":\"0f579e0f-3cb3-4b3d-aed3-497912322e88\",\"type\":\"BasicTicker\"}},\"id\":\"623926ff-69b1-4e73-adf3-ecad3fe7e167\",\"type\":\"Grid\"},{\"attributes\":{\"fill_alpha\":{\"value\":0.1},\"fill_color\":{\"value\":\"#1f77b4\"},\"line_alpha\":{\"value\":0.1},\"line_color\":{\"value\":\"#1f77b4\"},\"size\":{\"units\":\"screen\",\"value\":10},\"x\":{\"field\":\"x\"},\"y\":{\"field\":\"y\"}},\"id\":\"d31b6ef5-fa61-4d5f-a394-fff3ef2a1c66\",\"type\":\"Circle\"},{\"attributes\":{},\"id\":\"a715970b-ef6b-496b-a2e4-aaca7fd6f084\",\"type\":\"LinearScale\"},{\"attributes\":{},\"id\":\"41dc386f-35d4-403d-bb0d-df56504ea5f2\",\"type\":\"BasicTickFormatter\"},{\"attributes\":{\"callback\":null},\"id\":\"12d6115e-fa8a-421a-a274-f7dc2ceb46f6\",\"type\":\"DataRange1d\"},{\"attributes\":{\"callback\":null,\"data\":{\"color\":[\"green\",\"green\",\"green\",\"green\",\"green\",\"green\",\"green\",\"green\",\"green\",\"green\",\"green\",\"green\",\"green\",\"green\",\"green\",\"green\",\"green\",\"green\",\"green\",\"green\",\"green\",\"green\",\"green\",\"green\",\"green\",\"green\",\"green\",\"green\",\"green\",\"green\",\"green\",\"green\",\"green\",\"green\",\"green\",\"green\",\"green\",\"green\",\"green\",\"green\",\"green\",\"green\",\"green\",\"green\",\"green\",\"green\",\"green\",\"green\",\"green\",\"green\",\"green\",\"green\",\"green\",\"green\",\"green\",\"green\",\"green\",\"green\",\"green\",\"green\",\"green\",\"green\",\"green\",\"green\",\"green\",\"green\",\"green\",\"green\",\"green\",\"green\",\"green\",\"green\",\"green\",\"green\",\"green\",\"green\",\"green\",\"green\",\"green\",\"green\",\"green\",\"green\",\"green\",\"green\",\"green\",\"green\",\"green\",\"green\",\"green\",\"green\",\"green\",\"green\",\"green\",\"green\",\"green\",\"green\",\"green\",\"green\",\"green\",\"green\",\"green\",\"green\",\"green\",\"green\",\"green\",\"green\",\"green\",\"green\",\"green\",\"green\",\"green\",\"green\",\"green\",\"green\",\"green\",\"green\",\"green\",\"green\",\"green\",\"green\",\"green\",\"green\",\"green\",\"green\",\"green\",\"green\",\"green\",\"green\",\"green\",\"green\",\"green\",\"green\",\"green\",\"green\",\"green\",\"green\",\"green\",\"green\",\"green\",\"green\",\"green\",\"green\",\"green\",\"green\",\"green\",\"green\",\"green\",\"green\",\"green\",\"green\",\"green\",\"green\",\"green\",\"green\",\"green\",\"green\",\"green\",\"green\",\"green\",\"green\",\"green\",\"green\",\"green\",\"green\",\"green\",\"green\",\"green\",\"green\",\"green\",\"green\",\"green\",\"green\",\"green\",\"green\",\"green\",\"green\",\"green\",\"green\",\"green\",\"green\",\"green\",\"green\",\"green\",\"green\",\"green\",\"green\",\"green\",\"green\",\"green\",\"green\",\"green\",\"green\",\"green\",\"green\",\"green\",\"green\",\"green\",\"green\",\"green\",\"green\",\"green\",\"green\",\"green\",\"green\",\"green\",\"green\",\"green\",\"green\",\"green\",\"green\",\"green\",\"green\",\"green\",\"green\",\"green\",\"green\",\"green\",\"green\",\"green\",\"green\",\"green\",\"green\",\"green\",\"green\",\"green\",\"green\",\"green\",\"green\",\"green\",\"green\",\"green\",\"green\",\"green\",\"green\",\"green\",\"green\",\"green\",\"green\",\"green\",\"green\",\"green\",\"green\",\"green\",\"green\",\"green\",\"green\",\"green\",\"green\",\"green\",\"green\",\"green\",\"green\",\"green\",\"green\",\"green\",\"green\",\"green\",\"green\",\"green\",\"green\",\"green\",\"green\",\"green\",\"green\",\"green\",\"green\",\"green\",\"green\",\"green\",\"green\",\"green\",\"green\",\"green\",\"green\",\"green\",\"green\",\"green\",\"green\",\"green\",\"green\",\"green\",\"green\",\"green\",\"green\",\"green\",\"green\",\"green\",\"green\",\"green\",\"green\",\"green\",\"green\",\"green\",\"green\",\"green\",\"green\",\"green\",\"green\",\"green\",\"green\",\"green\",\"green\",\"green\",\"green\",\"green\",\"green\",\"green\",\"green\",\"green\",\"green\",\"green\",\"green\",\"green\",\"green\",\"green\",\"green\",\"green\",\"green\",\"green\",\"green\",\"green\",\"green\",\"green\",\"green\",\"green\",\"green\",\"green\",\"green\",\"green\",\"green\",\"green\",\"green\",\"green\",\"green\",\"green\",\"green\",\"green\",\"green\",\"green\",\"green\",\"green\",\"green\",\"green\",\"green\",\"green\",\"green\",\"green\",\"green\",\"green\",\"green\",\"green\",\"green\",\"green\",\"green\",\"green\",\"green\",\"green\",\"green\",\"green\",\"green\",\"green\",\"green\",\"green\",\"green\",\"green\",\"green\",\"green\",\"green\",\"green\",\"green\",\"green\",\"green\",\"green\",\"green\",\"green\",\"green\",\"green\",\"green\",\"green\",\"green\",\"green\",\"green\",\"green\",\"green\",\"green\",\"green\",\"green\",\"green\",\"green\",\"green\",\"green\",\"green\",\"green\",\"green\",\"green\",\"green\",\"green\",\"green\",\"green\",\"green\",\"green\",\"green\",\"green\",\"green\",\"green\",\"green\",\"green\",\"green\",\"green\",\"green\",\"green\",\"green\",\"green\",\"green\",\"green\",\"green\",\"green\",\"green\",\"green\",\"green\",\"green\",\"green\",\"green\",\"green\",\"green\",\"green\",\"green\",\"green\",\"green\",\"green\",\"green\",\"green\",\"green\",\"green\",\"green\",\"green\",\"green\",\"green\",\"green\",\"green\",\"green\",\"green\",\"green\",\"green\",\"green\",\"green\",\"green\",\"green\",\"green\",\"green\",\"green\",\"green\",\"green\",\"green\",\"green\",\"green\",\"green\",\"green\",\"green\",\"green\",\"green\",\"green\",\"green\",\"green\",\"green\",\"green\",\"green\",\"green\",\"green\",\"green\",\"green\",\"green\",\"green\",\"green\",\"green\",\"green\",\"green\",\"green\",\"green\",\"green\",\"green\",\"green\",\"green\",\"green\",\"green\",\"green\",\"green\",\"green\",\"green\",\"green\",\"green\",\"green\",\"green\",\"green\",\"green\",\"green\",\"green\",\"green\",\"green\",\"green\",\"green\",\"green\",\"green\",\"green\",\"green\",\"green\",\"green\",\"green\",\"green\",\"green\",\"green\",\"green\",\"green\",\"green\",\"green\",\"green\",\"green\",\"green\",\"green\",\"green\",\"green\",\"green\",\"green\",\"green\",\"green\",\"green\",\"green\",\"green\",\"green\",\"green\",\"green\",\"green\",\"green\",\"green\",\"green\",\"green\",\"green\",\"green\",\"green\",\"green\",\"green\",\"green\",\"green\",\"green\",\"green\",\"green\",\"green\",\"green\",\"green\",\"green\",\"green\",\"green\",\"green\",\"green\",\"green\",\"green\",\"green\",\"green\",\"green\",\"green\",\"green\",\"green\",\"green\",\"green\",\"green\",\"green\",\"green\",\"green\",\"green\",\"green\",\"green\",\"green\",\"green\",\"green\",\"green\",\"green\",\"green\",\"green\",\"green\",\"green\",\"green\",\"green\",\"green\",\"green\",\"green\",\"green\",\"green\",\"green\",\"green\",\"green\",\"green\",\"green\",\"green\",\"green\",\"green\",\"green\",\"green\",\"green\",\"green\",\"green\",\"green\",\"green\",\"green\",\"green\",\"green\",\"green\",\"green\",\"green\",\"green\",\"green\",\"green\",\"green\",\"green\",\"green\",\"green\",\"green\",\"green\",\"green\",\"green\",\"green\",\"green\",\"green\",\"green\",\"green\",\"green\",\"green\",\"green\",\"green\",\"green\",\"green\",\"green\",\"green\",\"green\",\"green\",\"green\",\"green\",\"green\",\"green\",\"green\",\"green\",\"green\",\"green\",\"green\",\"green\",\"green\",\"green\",\"green\",\"green\",\"green\",\"green\",\"green\",\"green\",\"green\",\"green\",\"green\",\"green\",\"green\",\"green\",\"green\",\"green\",\"green\",\"green\",\"green\",\"green\",\"green\",\"green\",\"green\",\"green\",\"green\",\"green\",\"green\",\"green\",\"green\",\"green\",\"green\",\"green\",\"green\",\"green\",\"green\",\"green\",\"green\",\"green\",\"green\",\"green\",\"green\",\"green\",\"green\",\"green\",\"green\",\"green\",\"green\",\"green\",\"green\",\"green\",\"green\",\"green\",\"green\",\"green\",\"green\",\"green\",\"green\",\"green\",\"green\",\"green\",\"green\",\"green\",\"green\",\"green\",\"green\",\"green\",\"green\",\"green\",\"green\",\"green\",\"green\",\"green\",\"green\",\"green\",\"green\",\"green\",\"green\",\"green\",\"green\",\"green\",\"green\",\"green\",\"green\",\"green\",\"green\",\"green\",\"green\",\"green\",\"green\",\"green\",\"green\",\"green\",\"green\",\"green\",\"green\",\"green\",\"green\",\"green\",\"green\",\"green\",\"green\",\"green\",\"green\",\"green\",\"green\",\"green\",\"green\",\"green\",\"green\",\"green\",\"green\",\"green\",\"green\",\"green\",\"green\",\"green\",\"green\",\"green\",\"green\",\"green\",\"green\",\"green\",\"green\",\"green\",\"green\",\"green\",\"green\",\"green\",\"green\",\"green\",\"green\",\"green\",\"green\",\"green\",\"green\",\"green\",\"green\",\"green\",\"green\",\"green\",\"green\",\"green\",\"green\",\"green\",\"green\",\"green\",\"green\",\"green\",\"green\",\"green\",\"green\",\"green\",\"green\",\"green\",\"green\",\"green\",\"green\",\"green\",\"green\",\"green\",\"green\",\"green\",\"green\",\"green\",\"green\",\"green\",\"green\",\"green\",\"green\",\"green\",\"green\",\"green\",\"green\",\"green\",\"green\",\"green\",\"green\",\"green\",\"green\",\"green\",\"green\",\"green\",\"green\",\"green\",\"green\",\"green\",\"green\",\"green\",\"green\",\"green\",\"green\",\"green\",\"green\",\"green\",\"green\",\"green\",\"green\",\"green\",\"green\",\"green\",\"green\",\"green\",\"green\",\"green\",\"green\",\"green\",\"green\",\"green\",\"green\",\"green\",\"green\",\"green\",\"green\",\"green\",\"green\",\"green\",\"green\",\"green\",\"green\",\"green\",\"green\",\"green\",\"green\",\"green\",\"green\",\"green\",\"green\",\"green\",\"green\",\"green\",\"green\",\"green\",\"green\",\"green\",\"green\",\"green\",\"green\",\"green\",\"green\",\"green\",\"green\",\"green\",\"green\",\"green\",\"green\",\"green\",\"green\",\"green\",\"green\",\"green\",\"green\",\"green\",\"green\",\"green\",\"green\",\"green\",\"green\",\"green\",\"green\",\"green\",\"green\",\"green\",\"green\",\"green\",\"green\",\"green\",\"green\",\"green\",\"green\",\"green\",\"green\",\"green\",\"green\",\"green\",\"green\",\"green\",\"green\",\"green\",\"green\",\"green\",\"green\",\"green\",\"green\",\"green\",\"green\",\"green\",\"green\",\"green\",\"green\",\"green\",\"green\",\"green\",\"green\",\"green\",\"green\",\"green\",\"green\",\"green\",\"green\",\"green\",\"green\",\"green\",\"green\",\"green\",\"green\",\"green\",\"green\",\"green\",\"green\",\"green\",\"green\",\"green\",\"green\",\"green\",\"green\",\"green\",\"green\",\"green\",\"green\",\"green\",\"green\",\"green\",\"green\",\"green\",\"green\",\"green\",\"green\",\"green\",\"green\",\"green\",\"green\",\"green\",\"green\",\"green\",\"green\",\"green\",\"green\",\"green\",\"green\",\"green\",\"green\",\"green\",\"green\",\"green\",\"green\",\"green\",\"green\",\"green\",\"green\",\"green\",\"green\",\"green\",\"green\",\"green\",\"green\",\"green\"],\"token\":[\"?\",\"the\",\"what\",\"is\",\"a\",\"i\",\"to\",\"in\",\"how\",\"of\",\"do\",\"are\",\"and\",\"for\",\",\",\"can\",\"you\",\"why\",\"it\",\"my\",\"does\",\"best\",\"on\",\".\",\"or\",\"have\",\"if\",\"be\",\"with\",\"which\",\"that\",\"an\",\"some\",\"should\",\"'s\",\"get\",\"from\",\")\",\"your\",\"(\",\"like\",\"when\",\"at\",\"india\",\"good\",\"who\",\"there\",\"will\",\"as\",\"would\",\"people\",\"not\",\"n't\",\"about\",\"``\",\"''\",\"between\",\"one\",\"did\",\"any\",\"we\",\"me\",\"where\",\"most\",\"was\",\"by\",\"make\",\"so\",\"they\",\"this\",\"am\",\"after\",\"way\",\":\",\"has\",\"use\",\"much\",\"difference\",\"time\",\"life\",\"their\",\"know\",\"work\",\"many\",\"but\",\"than\",\"more\",\"all\",\"want\",\"quora\",\"someone\",\"learn\",\"find\",\"other\",\"think\",\"new\",\"better\",\"job\",\"indian\",\"out\",\"money\",\"mean\",\"become\",\"ever\",\"world\",\"without\",\"he\",\"start\",\"take\",\"us\",\"up\",\"first\",\"feel\",\"year\",\"into\",\"go\",\"online\",\"used\",\"engineering\",\"could\",\"love\",\"'m\",\"person\",\"were\",\"possible\",\"day\",\"buy\",\"things\",\"being\",\"need\",\"business\",\"using\",\"them\",\"really\",\"trump\",\"girl\",\"her\",\"his\",\"years\",\"different\",\"long\",\"phone\",\"google\",\"company\",\"been\",\"old\",\"only\",\"no\",\"now\",\"'\",\"just\",\"2\",\"app\",\"college\",\"facebook\",\"number\",\"free\",\"books\",\"2016\",\"movie\",\"still\",\"its\",\"account\",\"ca\",\"women\",\"book\",\"english\",\"while\",\"she\",\"had\",\"change\",\"ways\",\"computer\",\"thing\",\"examples\",\"data\",\"country\",\"over\",\"see\",\"android\",\"help\",\"science\",\"live\",\"school\",\"software\",\"before\",\"&\",\"language\",\"same\",\"going\",\"bad\",\"sex\",\"student\",\"stop\",\"university\",\"happen\",\"back\",\"made\",\"3\",\"study\",\"our\",\"1\",\"two\",\"through\",\"system\",\"name\",\"say\",\"real\",\"during\",\"prepare\",\"water\",\"iphone\",\"website\",\"top\",\"car\",\"questions\",\"important\",\"men\",\"give\",\"getting\",\"anyone\",\"companies\",\"high\",\"black\",\"card\",\"read\",\"programming\",\"war\",\"learning\",\"10\",\"\\u2019\",\"exam\",\"[\",\"then\",\"]\",\"even\",\"movies\",\"china\",\"mobile\",\"cost\",\"donald\",\"right\",\"doing\",\"friend\",\"him\",\"working\",\"5\",\"under\",\"come\",\"president\",\"own\",\"question\",\"career\",\"experience\",\"bank\",\"true\",\"friends\",\"guy\",\"word\",\"hair\",\"home\",\"video\",\"having\",\"look\",\"usa\",\"tell\",\"man\",\"social\",\"web\",\"interview\",\"very\",\"engineer\",\"write\",\"game\",\"government\",\"weight\",\"earth\",\"girls\",\"service\",\"food\",\"students\",\"play\",\"countries\",\"human\",\"place\",\"future\",\"improve\",\"off\",\"big\",\"days\",\"happens\",\"'ve\",\"done\",\"class\",\"eat\",\"tv\",\"process\",\"got\",\"state\",\"average\",\"s\",\"meaning\",\"relationship\",\"music\",\"too\",\"math\",\"create\",\"instagram\",\"every\",\"history\",\"last\",\"pay\",\"windows\",\"white\",\"watch\",\"%\",\"salary\",\"body\",\"power\",\"4\",\"safe\",\"clinton\",\"ask\",\"age\",\"laptop\",\"makes\",\"$\",\"each\",\"hard\",\"lose\",\"american\",\"delhi\",\"youtube\",\"energy\",\"worth\",\"earn\",\"states\",\"against\",\"win\",\"girlfriend\",\"great\",\"keep\",\"test\",\"god\",\"hillary\",\"compare\",\"market\",\"differences\",\"making\",\"considered\",\"something\",\"answer\",\"apply\",\"myself\",\"mba\",\"tips\",\"around\",\"never\",\"next\",\"always\",\"mechanical\",\"another\",\"united\",\"java\",\"increase\",\"such\",\"course\",\"jobs\",\"c\",\"download\",\"song\",\"parents\",\"kind\",\"internet\",\"common\",\"review\",\"woman\",\"code\",\"design\",\"per\",\"employees\",\"end\",\"development\",\"chinese\",\"series\",\"score\",\"interesting\",\"degree\",\"month\",\"travel\",\"show\",\"management\",\"months\",\"able\",\"believe\",\"open\",\"program\",\"living\",\"looking\",\"because\",\"type\",\"bangalore\",\"light\",\"favorite\",\"america\",\"today\",\"actually\",\"major\",\"family\",\"marketing\",\"pakistan\",\"universities\",\"technology\",\"law\",\"call\",\"affect\",\"whatsapp\",\"6\",\"idea\",\"{\",\"build\",\"}\",\"choose\",\"cat\",\"current\",\"support\",\"problem\",\"popular\",\"speed\",\"air\",\"rid\",\"deal\",\"visa\",\"join\",\"run\",\"games\",\"space\",\"down\",\"both\",\"well\",\"city\",\"2017\",\"house\",\"exist\",\"services\",\"available\",\"civil\",\"u.s.\",\"site\",\"culture\",\"also\",\"normal\",\"given\",\"wrong\",\"apple\",\"small\",\"order\",\"date\",\"wear\",\"apps\",\"places\",\"songs\",\"differ\",\"project\",\"product\",\"international\",\"behind\",\"main\",\"research\",\"x\",\"7\",\"happened\",\"boyfriend\",\"media\",\"public\",\"canada\",\"value\",\"jee\",\"cause\",\"reason\",\"uk\",\"education\",\"email\",\"ms\",\"sleep\",\"-\",\"amazon\",\"instead\",\"these\",\"benefits\",\"startup\",\"less\",\"iit\",\"part\",\"list\",\"based\",\"die\",\"medical\",\"websites\",\"etc\",\"physics\",\"skills\",\"child\",\"form\",\"health\",\"causes\",\"called\",\"times\",\"visit\",\"hate\",\"level\",\"worst\",\"police\",\"legal\",\"control\",\"terms\",\"stay\",\"products\",\"mumbai\",\"post\",\"facts\",\"mind\",\"face\",\"application\",\"rate\",\"sites\",\"field\",\"file\",\"required\",\"humans\",\"sell\",\"seen\",\"story\",\"machine\",\"private\",\"dog\",\"notes\",\"stock\",\"modi\",\"biggest\",\"asked\",\"invest\",\"children\",\"point\",\"writing\",\"move\",\"night\",\"problems\",\"gate\",\"put\",\"'re\",\"successful\",\"single\",\"anything\",\"indians\",\"others\",\"remove\",\"compared\",\"theory\",\"death\",\"ideas\",\"talk\",\"marks\",\"answers\",\"plan\",\"similar\",\"sentence\",\"low\",\"group\",\"institute\",\"side\",\"hours\",\"again\",\"effects\",\"/math\",\"coaching\",\"australia\",\"solve\",\"advantages\",\"correct\",\"function\",\"tax\",\"lot\",\"center\",\"famous\",\"send\",\"germany\",\"guys\",\"add\",\"set\",\"offer\",\"south\",\"force\",\"credit\",\"foreign\",\"universe\",\"information\",\"fall\",\"period\",\"daily\",\"says\",\"developer\",\"training\",\"full\",\"videos\",\"area\",\"industry\",\"oil\",\"model\",\"general\",\"studying\",\"majors\",\"star\",\"colleges\",\"graduate\",\"size\",\"yourself\",\"drive\",\"python\",\"2015\",\"blood\",\"near\",\"search\",\"enough\",\"price\",\"kill\",\"quality\",\"words\",\"cons\",\"marriage\",\"found\",\"often\",\"\\u201d\",\"leave\",\"pros\",\"fast\",\"grow\",\"courses\",\"started\",\"week\",\"fix\",\"related\",\"purpose\",\"8\",\"network\",\"types\",\"russia\",\"advice\",\"those\",\"password\",\"follow\",\"taking\",\"married\",\"mass\",\"male\",\"store\",\"turn\",\"party\",\"left\",\"brain\",\"rs\",\"\\u201c\",\"numbers\",\"100\",\"500\",\"female\",\"share\",\"digital\",\"team\",\"1000\",\"effective\",\"economy\",\"term\",\"text\",\"delete\",\"election\",\"cell\",\"pc\",\"master\",\"office\",\"matter\",\"few\",\"role\",\"since\",\"preparation\",\"fat\",\"second\",\"page\",\"dark\",\"short\",\"said\",\"happy\",\"red\",\"line\",\"away\",\"security\",\"options\",\"easy\",\"effect\",\"three\",\"view\",\"admission\",\"must\",\"chemical\",\"source\",\"lost\",\"try\",\"dream\",\"understand\",\"care\",\"exams\",\"convert\",\"americans\",\"past\",\"electrical\",\"dogs\",\"profile\",\"alcohol\",\"exactly\",\"north\",\"ios\",\"develop\",\"paper\",\"japanese\",\"investment\",\"tech\",\"difficult\",\"hotel\",\"check\",\"beautiful\",\"personal\",\"calculate\",\"japan\",\"uber\",\"letter\",\"eating\",\"religion\",\"20\",\"explain\",\"languages\",\"c++\",\"hyderabad\",\"topics\",\"british\",\"b\",\"twitter\",\"basic\",\"news\",\"california\",\"self\",\"green\",\"political\",\"transfer\",\"wife\",\"12\",\"fight\",\"rank\",\"drug\",\"let\",\"porn\",\"film\",\"scope\",\"t\",\"army\",\"pune\",\"national\",\"once\",\"contact\",\"note\",\"known\",\"avoid\",\"boy\",\"gain\",\"please\",\"address\",\"wants\",\"reasons\",\"paid\",\"obama\",\"engine\",\"europe\",\"ex\",\"currently\",\"bollywood\",\"samsung\",\"smart\",\"everyone\",\"season\",\"phd\",\"income\",\"officer\",\"chances\",\"reduce\",\"option\",\"overcome\",\"everything\",\"across\",\"reading\",\"military\",\"else\",\"users\",\"meet\",\"15\",\"solar\",\"message\",\"charge\",\"knowledge\",\"due\",\"sound\",\"balance\",\"microsoft\",\"!\",\"internship\",\"faster\",\"photos\",\"pregnant\",\"sim\",\"yes\",\"moon\",\"taken\",\"financial\",\"hindi\",\"disadvantages\",\"pass\",\"animals\",\"messages\",\"gay\",\"/\",\"hack\",\"healthy\",\"pain\",\"systems\",\"amount\",\"color\",\"interested\",\"singapore\",\"ias\",\"natural\",\"skin\",\"screen\",\"chance\",\"names\",\"special\",\"height\",\"board\",\"case\",\"structure\",\"passport\",\"break\",\"pro\",\"created\",\"professional\",\"drink\",\"already\",\"percentage\",\"useful\",\"french\",\"crush\",\"sun\",\"dating\",\"likes\",\"presidential\",\"battery\",\"interest\",\"access\",\"coming\",\"provide\",\"muslim\",\"starting\",\"modern\",\"linux\",\"recover\",\"camera\",\"german\",\"expect\",\"vote\",\"muslims\",\"blue\",\"least\",\"install\",\"train\",\"studies\",\"solution\",\"thinking\",\"following\",\"negative\",\"mother\",\"jio\",\"mac\",\"user\",\"spend\",\"prime\",\"written\",\"buying\",\"feeling\",\"running\",\"football\",\"gift\",\"cold\",\"changed\",\"pressure\",\"allowed\",\"character\",\"brand\",\"rich\",\"snapchat\",\"resources\",\"within\",\"speak\",\"impact\",\"islam\",\"yet\",\"non\",\"marry\",\"eyes\",\"society\",\"bill\",\"likely\",\"though\",\"determine\",\"shows\",\"fake\",\"save\",\"capital\",\"final\",\"gmail\",\"picture\",\"laws\",\"middle\",\"applications\",\"nuclear\",\"chemistry\",\"young\",\"kids\",\"prefer\",\"device\",\"iq\",\"father\",\"views\",\"galaxy\",\"manager\",\"doctor\",\"personality\",\"hand\",\"greatest\",\"currency\",\"inside\",\"illegal\",\"stories\",\"strategy\",\"recruit\",\"pursue\",\"cs\",\"abroad\",\"gold\",\"projects\",\"consider\",\"works\",\"blog\",\"crack\",\"memory\",\"example\",\"neet\",\"growth\",\"schools\",\"necessary\",\"husband\",\"insurance\",\"alone\",\"economics\",\"depression\",\"higher\",\"dead\",\"b.tech\",\"30\",\"cse\",\"loss\",\"among\",\"files\",\"deleted\",\"easiest\",\"macbook\",\"together\",\"art\",\"wifi\",\"vs\",\"gas\",\"suggest\",\"late\",\"intelligence\",\"method\",\"gre\",\"head\",\"minimum\",\"version\",\"tools\",\"easily\",\"chennai\",\"cars\",\"suitable\"],\"x\":{\"__ndarray__\":\"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\",\"dtype\":\"float32\",\"shape\":[1000]},\"y\":{\"__ndarray__\":\"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\",\"dtype\":\"float32\",\"shape\":[1000]}},\"selected\":{\"id\":\"94b37140-f7b1-4ad4-a909-fef0a300acac\",\"type\":\"Selection\"},\"selection_policy\":{\"id\":\"74741c26-0db7-40b2-aae0-706082e86822\",\"type\":\"UnionRenderers\"}},\"id\":\"bce50b9c-33d5-403b-b82e-025a1421a0e1\",\"type\":\"ColumnDataSource\"},{\"attributes\":{},\"id\":\"3da032a4-33ab-4a20-af13-19ea511b593d\",\"type\":\"PanTool\"},{\"attributes\":{\"source\":{\"id\":\"bce50b9c-33d5-403b-b82e-025a1421a0e1\",\"type\":\"ColumnDataSource\"}},\"id\":\"a74fd0e8-484c-4671-9016-9ce49e5c32a2\",\"type\":\"CDSView\"},{\"attributes\":{\"active_drag\":\"auto\",\"active_inspect\":\"auto\",\"active_multi\":null,\"active_scroll\":{\"id\":\"e5bfa4c7-e5b6-4480-becc-9307afc21fac\",\"type\":\"WheelZoomTool\"},\"active_tap\":\"auto\",\"tools\":[{\"id\":\"3da032a4-33ab-4a20-af13-19ea511b593d\",\"type\":\"PanTool\"},{\"id\":\"e5bfa4c7-e5b6-4480-becc-9307afc21fac\",\"type\":\"WheelZoomTool\"},{\"id\":\"f8805090-57a2-4190-aaee-e388fe12a62c\",\"type\":\"BoxZoomTool\"},{\"id\":\"67984ddb-91d3-467a-a1a2-d719edb3fbfa\",\"type\":\"SaveTool\"},{\"id\":\"e2aa2da9-eb0d-4e5a-a62c-8d5ce4d1d8d4\",\"type\":\"ResetTool\"},{\"id\":\"62b95896-91e5-4b71-af11-a1e1b599c465\",\"type\":\"HelpTool\"},{\"id\":\"c41e8967-fa63-41d8-875f-73e1687ca9d6\",\"type\":\"HoverTool\"}]},\"id\":\"1f36ebbc-3ff4-4064-b08a-5af022000da1\",\"type\":\"Toolbar\"},{\"attributes\":{},\"id\":\"62b95896-91e5-4b71-af11-a1e1b599c465\",\"type\":\"HelpTool\"},{\"attributes\":{},\"id\":\"e2aa2da9-eb0d-4e5a-a62c-8d5ce4d1d8d4\",\"type\":\"ResetTool\"},{\"attributes\":{},\"id\":\"94b37140-f7b1-4ad4-a909-fef0a300acac\",\"type\":\"Selection\"},{\"attributes\":{\"bottom_units\":\"screen\",\"fill_alpha\":{\"value\":0.5},\"fill_color\":{\"value\":\"lightgrey\"},\"left_units\":\"screen\",\"level\":\"overlay\",\"line_alpha\":{\"value\":1.0},\"line_color\":{\"value\":\"black\"},\"line_dash\":[4,4],\"line_width\":{\"value\":2},\"plot\":null,\"render_mode\":\"css\",\"right_units\":\"screen\",\"top_units\":\"screen\"},\"id\":\"84f312da-5797-4742-8c64-2bd3cf9e643c\",\"type\":\"BoxAnnotation\"},{\"attributes\":{\"plot\":{\"id\":\"d0f0464b-4555-4d4c-b18f-f39937b00e40\",\"subtype\":\"Figure\",\"type\":\"Plot\"},\"ticker\":{\"id\":\"ecaddb10-966a-42dc-bbd3-923ff6391761\",\"type\":\"BasicTicker\"}},\"id\":\"0215ab89-6f25-4ec0-aa11-2386dd2ee3d3\",\"type\":\"Grid\"},{\"attributes\":{\"overlay\":{\"id\":\"84f312da-5797-4742-8c64-2bd3cf9e643c\",\"type\":\"BoxAnnotation\"}},\"id\":\"f8805090-57a2-4190-aaee-e388fe12a62c\",\"type\":\"BoxZoomTool\"},{\"attributes\":{\"below\":[{\"id\":\"95998625-ed2d-471d-866f-ca70b063ffdb\",\"type\":\"LinearAxis\"}],\"left\":[{\"id\":\"4aa6ec3a-acc8-419c-83f5-70b90a5a69a3\",\"type\":\"LinearAxis\"}],\"plot_height\":400,\"renderers\":[{\"id\":\"95998625-ed2d-471d-866f-ca70b063ffdb\",\"type\":\"LinearAxis\"},{\"id\":\"0215ab89-6f25-4ec0-aa11-2386dd2ee3d3\",\"type\":\"Grid\"},{\"id\":\"4aa6ec3a-acc8-419c-83f5-70b90a5a69a3\",\"type\":\"LinearAxis\"},{\"id\":\"623926ff-69b1-4e73-adf3-ecad3fe7e167\",\"type\":\"Grid\"},{\"id\":\"84f312da-5797-4742-8c64-2bd3cf9e643c\",\"type\":\"BoxAnnotation\"},{\"id\":\"5d175967-bdd5-4e99-8433-f6ec5c078a08\",\"type\":\"GlyphRenderer\"}],\"title\":{\"id\":\"10243cb8-9d2e-4e26-9a22-692ecc59c9b2\",\"type\":\"Title\"},\"toolbar\":{\"id\":\"1f36ebbc-3ff4-4064-b08a-5af022000da1\",\"type\":\"Toolbar\"},\"x_range\":{\"id\":\"12d6115e-fa8a-421a-a274-f7dc2ceb46f6\",\"type\":\"DataRange1d\"},\"x_scale\":{\"id\":\"a715970b-ef6b-496b-a2e4-aaca7fd6f084\",\"type\":\"LinearScale\"},\"y_range\":{\"id\":\"6ae5e069-6e37-41f9-aafe-c8a1e343dddc\",\"type\":\"DataRange1d\"},\"y_scale\":{\"id\":\"d3131a08-e1f7-44b6-80b9-d8081a91a52f\",\"type\":\"LinearScale\"}},\"id\":\"d0f0464b-4555-4d4c-b18f-f39937b00e40\",\"subtype\":\"Figure\",\"type\":\"Plot\"},{\"attributes\":{\"fill_alpha\":{\"value\":0.25},\"fill_color\":{\"field\":\"color\"},\"line_alpha\":{\"value\":0.25},\"line_color\":{\"field\":\"color\"},\"size\":{\"units\":\"screen\",\"value\":10},\"x\":{\"field\":\"x\"},\"y\":{\"field\":\"y\"}},\"id\":\"5e2f3ba5-746a-4ee4-bc0c-c146248993d8\",\"type\":\"Circle\"},{\"attributes\":{},\"id\":\"67984ddb-91d3-467a-a1a2-d719edb3fbfa\",\"type\":\"SaveTool\"},{\"attributes\":{},\"id\":\"74741c26-0db7-40b2-aae0-706082e86822\",\"type\":\"UnionRenderers\"},{\"attributes\":{},\"id\":\"d3131a08-e1f7-44b6-80b9-d8081a91a52f\",\"type\":\"LinearScale\"}],\"root_ids\":[\"d0f0464b-4555-4d4c-b18f-f39937b00e40\"]},\"title\":\"Bokeh Application\",\"version\":\"0.13.0\"}};\n",
              "  var render_items = [{\"docid\":\"00d962c8-3140-44c2-a0a3-d77a486a9054\",\"roots\":{\"d0f0464b-4555-4d4c-b18f-f39937b00e40\":\"df357c37-d865-4a09-84a3-e3217d110487\"}}];\n",
              "  root.Bokeh.embed.embed_items_notebook(docs_json, render_items);\n",
              "\n",
              "  }\n",
              "  if (root.Bokeh !== undefined) {\n",
              "    embed_document(root);\n",
              "  } else {\n",
              "    var attempts = 0;\n",
              "    var timer = setInterval(function(root) {\n",
              "      if (root.Bokeh !== undefined) {\n",
              "        embed_document(root);\n",
              "        clearInterval(timer);\n",
              "      }\n",
              "      attempts++;\n",
              "      if (attempts > 100) {\n",
              "        console.log(\"Bokeh: ERROR: Unable to run BokehJS code because BokehJS library is missing\")\n",
              "        clearInterval(timer);\n",
              "      }\n",
              "    }, 10, root)\n",
              "  }\n",
              "})(window);"
            ],
            "application/vnd.bokehjs_exec.v0+json": ""
          },
          "metadata": {
            "tags": [],
            "application/vnd.bokehjs_exec.v0+json": {
              "id": "d0f0464b-4555-4d4c-b18f-f39937b00e40"
            }
          }
        }
      ]
    },
    {
      "metadata": {
        "id": "8qoFZ0SujmJf",
        "colab_type": "text"
      },
      "cell_type": "markdown",
      "source": [
        "## Structured Word2Vec"
      ]
    },
    {
      "metadata": {
        "id": "vOTWbP8ajprj",
        "colab_type": "code",
        "colab": {}
      },
      "cell_type": "code",
      "source": [
        "class CWModel(nn.Module):\n",
        "    def __init__(self, vocab_size, embedding_dim, window_size):\n",
        "        super().__init__()\n",
        "        \n",
        "        self.embeddings = nn.Embedding(vocab_size, embedding_dim)\n",
        "        self.out_layer = nn.Linear(2 * embedding_dim * window_size, vocab_size)\n",
        "\n",
        "    def forward(self, inputs):\n",
        "        return self.out_layer(self.embeddings(inputs).reshape(inputs.shape[0], -1))\n",
        "      \n",
        "model = CWModel(vocab_size=len(word2index), embedding_dim=32, window_size=2).cuda()\n",
        "\n",
        "loss_function = nn.CrossEntropyLoss().cuda() \n",
        "optimizer = optim.Adam(model.parameters(), lr=0.01)"
      ],
      "execution_count": 0,
      "outputs": []
    },
    {
      "metadata": {
        "id": "lnwJmu4NkbFF",
        "colab_type": "code",
        "colab": {
          "base_uri": "https://localhost:8080/",
          "height": 1490
        },
        "outputId": "ca2836d1-f74d-49b6-be10-1ec1e3bc1e3f"
      },
      "cell_type": "code",
      "source": [
        "loss_every_nsteps = 1000\n",
        "total_loss = 0\n",
        "start_time = time.time()\n",
        "\n",
        "for step, (batch, labels) in enumerate(make_cbow_batchs_iter(contexts, window_size=2, batch_size=128)):\n",
        "    batch = torch.cuda.LongTensor(batch)\n",
        "    labels = torch.cuda.LongTensor(labels)\n",
        "\n",
        "    logits = model(batch)\n",
        "    \n",
        "    loss = loss_function(logits, labels)\n",
        "    loss.backward()\n",
        "\n",
        "    optimizer.step()\n",
        "    \n",
        "    optimizer.zero_grad()\n",
        "\n",
        "    total_loss += loss.item()\n",
        "    \n",
        "    if step != 0 and step % loss_every_nsteps == 0:\n",
        "        print(\"Step = {}, Avg Loss = {:.4f}, Time = {:.2f}s\".format(step, total_loss / loss_every_nsteps, \n",
        "                                                                    time.time() - start_time))\n",
        "        total_loss = 0\n",
        "        start_time = time.time()"
      ],
      "execution_count": 49,
      "outputs": [
        {
          "output_type": "stream",
          "text": [
            "Initializing batchs generator with 36902 batchs per epoch\n",
            "Step = 1000, Avg Loss = 6.2636, Time = 13.43s\n",
            "Step = 2000, Avg Loss = 5.4716, Time = 7.74s\n",
            "Step = 3000, Avg Loss = 5.2764, Time = 7.74s\n",
            "Step = 4000, Avg Loss = 5.1426, Time = 7.74s\n",
            "Step = 5000, Avg Loss = 5.0308, Time = 7.74s\n",
            "Step = 6000, Avg Loss = 4.9592, Time = 7.75s\n",
            "Step = 7000, Avg Loss = 4.9338, Time = 7.75s\n",
            "Step = 8000, Avg Loss = 4.8760, Time = 7.75s\n",
            "Step = 9000, Avg Loss = 4.8608, Time = 7.74s\n",
            "Step = 10000, Avg Loss = 4.8329, Time = 7.74s\n",
            "Step = 11000, Avg Loss = 4.8310, Time = 7.74s\n",
            "Step = 12000, Avg Loss = 4.8303, Time = 7.75s\n",
            "Step = 13000, Avg Loss = 4.7831, Time = 7.74s\n",
            "Step = 14000, Avg Loss = 4.7663, Time = 7.74s\n",
            "Step = 15000, Avg Loss = 4.7790, Time = 7.73s\n",
            "Step = 16000, Avg Loss = 4.7616, Time = 7.74s\n",
            "Step = 17000, Avg Loss = 4.7565, Time = 7.74s\n",
            "Step = 18000, Avg Loss = 4.7541, Time = 7.74s\n",
            "Step = 19000, Avg Loss = 4.7540, Time = 7.69s\n",
            "Step = 20000, Avg Loss = 4.5679, Time = 7.70s\n",
            "Step = 21000, Avg Loss = 4.5683, Time = 7.74s\n",
            "Step = 22000, Avg Loss = 4.5646, Time = 7.74s\n",
            "Step = 23000, Avg Loss = 4.5639, Time = 7.74s\n",
            "Step = 24000, Avg Loss = 4.5662, Time = 7.73s\n",
            "Step = 25000, Avg Loss = 4.5774, Time = 7.73s\n",
            "Step = 26000, Avg Loss = 4.5803, Time = 7.74s\n",
            "Step = 27000, Avg Loss = 4.5725, Time = 7.73s\n",
            "Step = 28000, Avg Loss = 4.5972, Time = 7.74s\n",
            "Step = 29000, Avg Loss = 4.5928, Time = 7.74s\n",
            "Step = 30000, Avg Loss = 4.6070, Time = 7.73s\n",
            "Step = 31000, Avg Loss = 4.5821, Time = 7.74s\n",
            "Step = 32000, Avg Loss = 4.5875, Time = 7.74s\n",
            "Step = 33000, Avg Loss = 4.6105, Time = 7.74s\n",
            "Step = 34000, Avg Loss = 4.6004, Time = 7.74s\n",
            "Step = 35000, Avg Loss = 4.6000, Time = 7.75s\n",
            "Step = 36000, Avg Loss = 4.5966, Time = 7.74s\n",
            "Step = 37000, Avg Loss = 4.5974, Time = 7.75s\n",
            "Step = 38000, Avg Loss = 4.2795, Time = 7.73s\n",
            "Step = 39000, Avg Loss = 4.2980, Time = 7.74s\n",
            "Step = 40000, Avg Loss = 4.3478, Time = 7.73s\n",
            "Step = 41000, Avg Loss = 4.3596, Time = 7.73s\n",
            "Step = 42000, Avg Loss = 4.3782, Time = 7.74s\n",
            "Step = 43000, Avg Loss = 4.3720, Time = 7.74s\n",
            "Step = 44000, Avg Loss = 4.4168, Time = 7.73s\n",
            "Step = 45000, Avg Loss = 4.4134, Time = 7.73s\n",
            "Step = 46000, Avg Loss = 4.4242, Time = 7.74s\n",
            "Step = 47000, Avg Loss = 4.4357, Time = 7.74s\n",
            "Step = 48000, Avg Loss = 4.4640, Time = 7.74s\n",
            "Step = 49000, Avg Loss = 4.4686, Time = 7.73s\n",
            "Step = 50000, Avg Loss = 4.4632, Time = 7.74s\n",
            "Step = 51000, Avg Loss = 4.4756, Time = 7.74s\n",
            "Step = 52000, Avg Loss = 4.5067, Time = 7.74s\n",
            "Step = 53000, Avg Loss = 4.4919, Time = 7.74s\n",
            "Step = 54000, Avg Loss = 4.5033, Time = 7.74s\n",
            "Step = 55000, Avg Loss = 4.5137, Time = 7.74s\n",
            "Step = 56000, Avg Loss = 4.5372, Time = 7.74s\n",
            "Step = 57000, Avg Loss = 4.3458, Time = 7.75s\n",
            "Step = 58000, Avg Loss = 4.3886, Time = 7.74s\n",
            "Step = 59000, Avg Loss = 4.3914, Time = 7.70s\n",
            "Step = 60000, Avg Loss = 4.4038, Time = 7.69s\n",
            "Step = 61000, Avg Loss = 4.4040, Time = 7.74s\n",
            "Step = 62000, Avg Loss = 4.4385, Time = 7.75s\n",
            "Step = 63000, Avg Loss = 4.4412, Time = 7.74s\n",
            "Step = 64000, Avg Loss = 4.4417, Time = 7.74s\n",
            "Step = 65000, Avg Loss = 4.4539, Time = 7.74s\n",
            "Step = 66000, Avg Loss = 4.4697, Time = 7.74s\n",
            "Step = 67000, Avg Loss = 4.4719, Time = 7.74s\n",
            "Step = 68000, Avg Loss = 4.4557, Time = 7.74s\n",
            "Step = 69000, Avg Loss = 4.4837, Time = 7.74s\n",
            "Step = 70000, Avg Loss = 4.4920, Time = 7.74s\n",
            "Step = 71000, Avg Loss = 4.5022, Time = 7.73s\n",
            "Step = 72000, Avg Loss = 4.4936, Time = 7.74s\n",
            "Step = 73000, Avg Loss = 4.4892, Time = 7.74s\n"
          ],
          "name": "stdout"
        },
        {
          "output_type": "error",
          "ename": "KeyboardInterrupt",
          "evalue": "ignored",
          "traceback": [
            "\u001b[0;31m---------------------------------------------------------------------------\u001b[0m",
            "\u001b[0;31mKeyboardInterrupt\u001b[0m                         Traceback (most recent call last)",
            "\u001b[0;32m<ipython-input-49-629f484557f4>\u001b[0m in \u001b[0;36m<module>\u001b[0;34m()\u001b[0m\n\u001b[1;32m     16\u001b[0m     \u001b[0moptimizer\u001b[0m\u001b[0;34m.\u001b[0m\u001b[0mzero_grad\u001b[0m\u001b[0;34m(\u001b[0m\u001b[0;34m)\u001b[0m\u001b[0;34m\u001b[0m\u001b[0m\n\u001b[1;32m     17\u001b[0m \u001b[0;34m\u001b[0m\u001b[0m\n\u001b[0;32m---> 18\u001b[0;31m     \u001b[0mtotal_loss\u001b[0m \u001b[0;34m+=\u001b[0m \u001b[0mloss\u001b[0m\u001b[0;34m.\u001b[0m\u001b[0mitem\u001b[0m\u001b[0;34m(\u001b[0m\u001b[0;34m)\u001b[0m\u001b[0;34m\u001b[0m\u001b[0m\n\u001b[0m\u001b[1;32m     19\u001b[0m \u001b[0;34m\u001b[0m\u001b[0m\n\u001b[1;32m     20\u001b[0m     \u001b[0;32mif\u001b[0m \u001b[0mstep\u001b[0m \u001b[0;34m!=\u001b[0m \u001b[0;36m0\u001b[0m \u001b[0;32mand\u001b[0m \u001b[0mstep\u001b[0m \u001b[0;34m%\u001b[0m \u001b[0mloss_every_nsteps\u001b[0m \u001b[0;34m==\u001b[0m \u001b[0;36m0\u001b[0m\u001b[0;34m:\u001b[0m\u001b[0;34m\u001b[0m\u001b[0m\n",
            "\u001b[0;31mKeyboardInterrupt\u001b[0m: "
          ]
        }
      ]
    },
    {
      "metadata": {
        "id": "GU3qrftSnAYa",
        "colab_type": "code",
        "colab": {
          "base_uri": "https://localhost:8080/",
          "height": 1020
        },
        "outputId": "b1601777-3c8b-4194-a93e-d7f361ebad3b"
      },
      "cell_type": "code",
      "source": [
        "visualize_embeddings(model.embeddings.weight.data.cpu().numpy(), index2word, 1000)"
      ],
      "execution_count": 50,
      "outputs": [
        {
          "output_type": "stream",
          "text": [
            "[t-SNE] Computing 91 nearest neighbors...\n",
            "[t-SNE] Indexed 1000 samples in 0.006s...\n",
            "[t-SNE] Computed neighbors for 1000 samples in 0.088s...\n",
            "[t-SNE] Computed conditional probabilities for sample 1000 / 1000\n",
            "[t-SNE] Mean sigma: 0.848085\n",
            "[t-SNE] Computed conditional probabilities in 0.044s\n",
            "[t-SNE] Iteration 50: error = 76.8769226, gradient norm = 0.3051072 (50 iterations in 2.694s)\n",
            "[t-SNE] Iteration 100: error = 78.4424057, gradient norm = 0.2908429 (50 iterations in 2.468s)\n",
            "[t-SNE] Iteration 150: error = 78.2811356, gradient norm = 0.2970045 (50 iterations in 2.361s)\n",
            "[t-SNE] Iteration 200: error = 77.6936111, gradient norm = 0.3049231 (50 iterations in 2.450s)\n",
            "[t-SNE] Iteration 250: error = 77.7141571, gradient norm = 0.2994000 (50 iterations in 2.318s)\n",
            "[t-SNE] KL divergence after 250 iterations with early exaggeration: 77.714157\n",
            "[t-SNE] Iteration 300: error = 1.9923134, gradient norm = 0.0030418 (50 iterations in 1.919s)\n",
            "[t-SNE] Iteration 350: error = 1.8373026, gradient norm = 0.0008715 (50 iterations in 1.679s)\n",
            "[t-SNE] Iteration 400: error = 1.7942615, gradient norm = 0.0004601 (50 iterations in 1.631s)\n",
            "[t-SNE] Iteration 450: error = 1.7660565, gradient norm = 0.0004717 (50 iterations in 1.623s)\n",
            "[t-SNE] Iteration 500: error = 1.7520937, gradient norm = 0.0002033 (50 iterations in 1.753s)\n",
            "[t-SNE] Iteration 550: error = 1.7459832, gradient norm = 0.0001594 (50 iterations in 2.117s)\n",
            "[t-SNE] Iteration 600: error = 1.7405014, gradient norm = 0.0001436 (50 iterations in 1.589s)\n",
            "[t-SNE] Iteration 650: error = 1.7365514, gradient norm = 0.0001850 (50 iterations in 1.637s)\n",
            "[t-SNE] Iteration 700: error = 1.7327700, gradient norm = 0.0001493 (50 iterations in 1.616s)\n",
            "[t-SNE] Iteration 750: error = 1.7304752, gradient norm = 0.0001200 (50 iterations in 1.603s)\n",
            "[t-SNE] Iteration 800: error = 1.7291521, gradient norm = 0.0001039 (50 iterations in 1.666s)\n",
            "[t-SNE] Iteration 850: error = 1.7277352, gradient norm = 0.0001026 (50 iterations in 1.662s)\n",
            "[t-SNE] Iteration 900: error = 1.7264762, gradient norm = 0.0000816 (50 iterations in 1.636s)\n",
            "[t-SNE] Iteration 950: error = 1.7254492, gradient norm = 0.0001212 (50 iterations in 1.653s)\n",
            "[t-SNE] Iteration 1000: error = 1.7242986, gradient norm = 0.0000822 (50 iterations in 1.632s)\n",
            "[t-SNE] Error after 1000 iterations: 1.724299\n"
          ],
          "name": "stdout"
        },
        {
          "output_type": "stream",
          "text": [
            "/usr/local/lib/python3.6/dist-packages/sklearn/preprocessing/data.py:164: UserWarning: Numerical issues were encountered when centering the data and might not be solved. Dataset may contain too large values. You may need to prescale your features.\n",
            "  warnings.warn(\"Numerical issues were encountered \"\n",
            "/usr/local/lib/python3.6/dist-packages/sklearn/preprocessing/data.py:181: UserWarning: Numerical issues were encountered when scaling the data and might not be solved. The standard deviation of the data is probably very close to 0. \n",
            "  warnings.warn(\"Numerical issues were encountered \"\n"
          ],
          "name": "stderr"
        },
        {
          "output_type": "display_data",
          "data": {
            "text/html": [
              "\n",
              "    <div class=\"bk-root\">\n",
              "        <a href=\"https://bokeh.pydata.org\" target=\"_blank\" class=\"bk-logo bk-logo-small bk-logo-notebook\"></a>\n",
              "        <span id=\"ab4c7c8d-c7f1-4d00-be39-dbd4f5e34f42\">Loading BokehJS ...</span>\n",
              "    </div>"
            ]
          },
          "metadata": {
            "tags": []
          }
        },
        {
          "output_type": "display_data",
          "data": {
            "application/javascript": [
              "\n",
              "(function(root) {\n",
              "  function now() {\n",
              "    return new Date();\n",
              "  }\n",
              "\n",
              "  var force = true;\n",
              "\n",
              "  if (typeof (root._bokeh_onload_callbacks) === \"undefined\" || force === true) {\n",
              "    root._bokeh_onload_callbacks = [];\n",
              "    root._bokeh_is_loading = undefined;\n",
              "  }\n",
              "\n",
              "  var JS_MIME_TYPE = 'application/javascript';\n",
              "  var HTML_MIME_TYPE = 'text/html';\n",
              "  var EXEC_MIME_TYPE = 'application/vnd.bokehjs_exec.v0+json';\n",
              "  var CLASS_NAME = 'output_bokeh rendered_html';\n",
              "\n",
              "  /**\n",
              "   * Render data to the DOM node\n",
              "   */\n",
              "  function render(props, node) {\n",
              "    var script = document.createElement(\"script\");\n",
              "    node.appendChild(script);\n",
              "  }\n",
              "\n",
              "  /**\n",
              "   * Handle when an output is cleared or removed\n",
              "   */\n",
              "  function handleClearOutput(event, handle) {\n",
              "    var cell = handle.cell;\n",
              "\n",
              "    var id = cell.output_area._bokeh_element_id;\n",
              "    var server_id = cell.output_area._bokeh_server_id;\n",
              "    // Clean up Bokeh references\n",
              "    if (id != null && id in Bokeh.index) {\n",
              "      Bokeh.index[id].model.document.clear();\n",
              "      delete Bokeh.index[id];\n",
              "    }\n",
              "\n",
              "    if (server_id !== undefined) {\n",
              "      // Clean up Bokeh references\n",
              "      var cmd = \"from bokeh.io.state import curstate; print(curstate().uuid_to_server['\" + server_id + \"'].get_sessions()[0].document.roots[0]._id)\";\n",
              "      cell.notebook.kernel.execute(cmd, {\n",
              "        iopub: {\n",
              "          output: function(msg) {\n",
              "            var id = msg.content.text.trim();\n",
              "            if (id in Bokeh.index) {\n",
              "              Bokeh.index[id].model.document.clear();\n",
              "              delete Bokeh.index[id];\n",
              "            }\n",
              "          }\n",
              "        }\n",
              "      });\n",
              "      // Destroy server and session\n",
              "      var cmd = \"import bokeh.io.notebook as ion; ion.destroy_server('\" + server_id + \"')\";\n",
              "      cell.notebook.kernel.execute(cmd);\n",
              "    }\n",
              "  }\n",
              "\n",
              "  /**\n",
              "   * Handle when a new output is added\n",
              "   */\n",
              "  function handleAddOutput(event, handle) {\n",
              "    var output_area = handle.output_area;\n",
              "    var output = handle.output;\n",
              "\n",
              "    // limit handleAddOutput to display_data with EXEC_MIME_TYPE content only\n",
              "    if ((output.output_type != \"display_data\") || (!output.data.hasOwnProperty(EXEC_MIME_TYPE))) {\n",
              "      return\n",
              "    }\n",
              "\n",
              "    var toinsert = output_area.element.find(\".\" + CLASS_NAME.split(' ')[0]);\n",
              "\n",
              "    if (output.metadata[EXEC_MIME_TYPE][\"id\"] !== undefined) {\n",
              "      toinsert[toinsert.length - 1].firstChild.textContent = output.data[JS_MIME_TYPE];\n",
              "      // store reference to embed id on output_area\n",
              "      output_area._bokeh_element_id = output.metadata[EXEC_MIME_TYPE][\"id\"];\n",
              "    }\n",
              "    if (output.metadata[EXEC_MIME_TYPE][\"server_id\"] !== undefined) {\n",
              "      var bk_div = document.createElement(\"div\");\n",
              "      bk_div.innerHTML = output.data[HTML_MIME_TYPE];\n",
              "      var script_attrs = bk_div.children[0].attributes;\n",
              "      for (var i = 0; i < script_attrs.length; i++) {\n",
              "        toinsert[toinsert.length - 1].firstChild.setAttribute(script_attrs[i].name, script_attrs[i].value);\n",
              "      }\n",
              "      // store reference to server id on output_area\n",
              "      output_area._bokeh_server_id = output.metadata[EXEC_MIME_TYPE][\"server_id\"];\n",
              "    }\n",
              "  }\n",
              "\n",
              "  function register_renderer(events, OutputArea) {\n",
              "\n",
              "    function append_mime(data, metadata, element) {\n",
              "      // create a DOM node to render to\n",
              "      var toinsert = this.create_output_subarea(\n",
              "        metadata,\n",
              "        CLASS_NAME,\n",
              "        EXEC_MIME_TYPE\n",
              "      );\n",
              "      this.keyboard_manager.register_events(toinsert);\n",
              "      // Render to node\n",
              "      var props = {data: data, metadata: metadata[EXEC_MIME_TYPE]};\n",
              "      render(props, toinsert[toinsert.length - 1]);\n",
              "      element.append(toinsert);\n",
              "      return toinsert\n",
              "    }\n",
              "\n",
              "    /* Handle when an output is cleared or removed */\n",
              "    events.on('clear_output.CodeCell', handleClearOutput);\n",
              "    events.on('delete.Cell', handleClearOutput);\n",
              "\n",
              "    /* Handle when a new output is added */\n",
              "    events.on('output_added.OutputArea', handleAddOutput);\n",
              "\n",
              "    /**\n",
              "     * Register the mime type and append_mime function with output_area\n",
              "     */\n",
              "    OutputArea.prototype.register_mime_type(EXEC_MIME_TYPE, append_mime, {\n",
              "      /* Is output safe? */\n",
              "      safe: true,\n",
              "      /* Index of renderer in `output_area.display_order` */\n",
              "      index: 0\n",
              "    });\n",
              "  }\n",
              "\n",
              "  // register the mime type if in Jupyter Notebook environment and previously unregistered\n",
              "  if (root.Jupyter !== undefined) {\n",
              "    var events = require('base/js/events');\n",
              "    var OutputArea = require('notebook/js/outputarea').OutputArea;\n",
              "\n",
              "    if (OutputArea.prototype.mime_types().indexOf(EXEC_MIME_TYPE) == -1) {\n",
              "      register_renderer(events, OutputArea);\n",
              "    }\n",
              "  }\n",
              "\n",
              "  \n",
              "  if (typeof (root._bokeh_timeout) === \"undefined\" || force === true) {\n",
              "    root._bokeh_timeout = Date.now() + 5000;\n",
              "    root._bokeh_failed_load = false;\n",
              "  }\n",
              "\n",
              "  var NB_LOAD_WARNING = {'data': {'text/html':\n",
              "     \"<div style='background-color: #fdd'>\\n\"+\n",
              "     \"<p>\\n\"+\n",
              "     \"BokehJS does not appear to have successfully loaded. If loading BokehJS from CDN, this \\n\"+\n",
              "     \"may be due to a slow or bad network connection. Possible fixes:\\n\"+\n",
              "     \"</p>\\n\"+\n",
              "     \"<ul>\\n\"+\n",
              "     \"<li>re-rerun `output_notebook()` to attempt to load from CDN again, or</li>\\n\"+\n",
              "     \"<li>use INLINE resources instead, as so:</li>\\n\"+\n",
              "     \"</ul>\\n\"+\n",
              "     \"<code>\\n\"+\n",
              "     \"from bokeh.resources import INLINE\\n\"+\n",
              "     \"output_notebook(resources=INLINE)\\n\"+\n",
              "     \"</code>\\n\"+\n",
              "     \"</div>\"}};\n",
              "\n",
              "  function display_loaded() {\n",
              "    var el = document.getElementById(\"ab4c7c8d-c7f1-4d00-be39-dbd4f5e34f42\");\n",
              "    if (el != null) {\n",
              "      el.textContent = \"BokehJS is loading...\";\n",
              "    }\n",
              "    if (root.Bokeh !== undefined) {\n",
              "      if (el != null) {\n",
              "        el.textContent = \"BokehJS \" + root.Bokeh.version + \" successfully loaded.\";\n",
              "      }\n",
              "    } else if (Date.now() < root._bokeh_timeout) {\n",
              "      setTimeout(display_loaded, 100)\n",
              "    }\n",
              "  }\n",
              "\n",
              "\n",
              "  function run_callbacks() {\n",
              "    try {\n",
              "      root._bokeh_onload_callbacks.forEach(function(callback) { callback() });\n",
              "    }\n",
              "    finally {\n",
              "      delete root._bokeh_onload_callbacks\n",
              "    }\n",
              "    console.info(\"Bokeh: all callbacks have finished\");\n",
              "  }\n",
              "\n",
              "  function load_libs(js_urls, callback) {\n",
              "    root._bokeh_onload_callbacks.push(callback);\n",
              "    if (root._bokeh_is_loading > 0) {\n",
              "      console.log(\"Bokeh: BokehJS is being loaded, scheduling callback at\", now());\n",
              "      return null;\n",
              "    }\n",
              "    if (js_urls == null || js_urls.length === 0) {\n",
              "      run_callbacks();\n",
              "      return null;\n",
              "    }\n",
              "    console.log(\"Bokeh: BokehJS not loaded, scheduling load and callback at\", now());\n",
              "    root._bokeh_is_loading = js_urls.length;\n",
              "    for (var i = 0; i < js_urls.length; i++) {\n",
              "      var url = js_urls[i];\n",
              "      var s = document.createElement('script');\n",
              "      s.src = url;\n",
              "      s.async = false;\n",
              "      s.onreadystatechange = s.onload = function() {\n",
              "        root._bokeh_is_loading--;\n",
              "        if (root._bokeh_is_loading === 0) {\n",
              "          console.log(\"Bokeh: all BokehJS libraries loaded\");\n",
              "          run_callbacks()\n",
              "        }\n",
              "      };\n",
              "      s.onerror = function() {\n",
              "        console.warn(\"failed to load library \" + url);\n",
              "      };\n",
              "      console.log(\"Bokeh: injecting script tag for BokehJS library: \", url);\n",
              "      document.getElementsByTagName(\"head\")[0].appendChild(s);\n",
              "    }\n",
              "  };var element = document.getElementById(\"ab4c7c8d-c7f1-4d00-be39-dbd4f5e34f42\");\n",
              "  if (element == null) {\n",
              "    console.log(\"Bokeh: ERROR: autoload.js configured with elementid 'ab4c7c8d-c7f1-4d00-be39-dbd4f5e34f42' but no matching script tag was found. \")\n",
              "    return false;\n",
              "  }\n",
              "\n",
              "  var js_urls = [\"https://cdn.pydata.org/bokeh/release/bokeh-0.13.0.min.js\", \"https://cdn.pydata.org/bokeh/release/bokeh-widgets-0.13.0.min.js\", \"https://cdn.pydata.org/bokeh/release/bokeh-tables-0.13.0.min.js\", \"https://cdn.pydata.org/bokeh/release/bokeh-gl-0.13.0.min.js\"];\n",
              "\n",
              "  var inline_js = [\n",
              "    function(Bokeh) {\n",
              "      Bokeh.set_log_level(\"info\");\n",
              "    },\n",
              "    \n",
              "    function(Bokeh) {\n",
              "      \n",
              "    },\n",
              "    function(Bokeh) {\n",
              "      console.log(\"Bokeh: injecting CSS: https://cdn.pydata.org/bokeh/release/bokeh-0.13.0.min.css\");\n",
              "      Bokeh.embed.inject_css(\"https://cdn.pydata.org/bokeh/release/bokeh-0.13.0.min.css\");\n",
              "      console.log(\"Bokeh: injecting CSS: https://cdn.pydata.org/bokeh/release/bokeh-widgets-0.13.0.min.css\");\n",
              "      Bokeh.embed.inject_css(\"https://cdn.pydata.org/bokeh/release/bokeh-widgets-0.13.0.min.css\");\n",
              "      console.log(\"Bokeh: injecting CSS: https://cdn.pydata.org/bokeh/release/bokeh-tables-0.13.0.min.css\");\n",
              "      Bokeh.embed.inject_css(\"https://cdn.pydata.org/bokeh/release/bokeh-tables-0.13.0.min.css\");\n",
              "    }\n",
              "  ];\n",
              "\n",
              "  function run_inline_js() {\n",
              "    \n",
              "    if ((root.Bokeh !== undefined) || (force === true)) {\n",
              "      for (var i = 0; i < inline_js.length; i++) {\n",
              "        inline_js[i].call(root, root.Bokeh);\n",
              "      }if (force === true) {\n",
              "        display_loaded();\n",
              "      }} else if (Date.now() < root._bokeh_timeout) {\n",
              "      setTimeout(run_inline_js, 100);\n",
              "    } else if (!root._bokeh_failed_load) {\n",
              "      console.log(\"Bokeh: BokehJS failed to load within specified timeout.\");\n",
              "      root._bokeh_failed_load = true;\n",
              "    } else if (force !== true) {\n",
              "      var cell = $(document.getElementById(\"ab4c7c8d-c7f1-4d00-be39-dbd4f5e34f42\")).parents('.cell').data().cell;\n",
              "      cell.output_area.append_execute_result(NB_LOAD_WARNING)\n",
              "    }\n",
              "\n",
              "  }\n",
              "\n",
              "  if (root._bokeh_is_loading === 0) {\n",
              "    console.log(\"Bokeh: BokehJS loaded, going straight to plotting\");\n",
              "    run_inline_js();\n",
              "  } else {\n",
              "    load_libs(js_urls, function() {\n",
              "      console.log(\"Bokeh: BokehJS plotting callback run at\", now());\n",
              "      run_inline_js();\n",
              "    });\n",
              "  }\n",
              "}(window));"
            ],
            "application/vnd.bokehjs_load.v0+json": "\n(function(root) {\n  function now() {\n    return new Date();\n  }\n\n  var force = true;\n\n  if (typeof (root._bokeh_onload_callbacks) === \"undefined\" || force === true) {\n    root._bokeh_onload_callbacks = [];\n    root._bokeh_is_loading = undefined;\n  }\n\n  \n\n  \n  if (typeof (root._bokeh_timeout) === \"undefined\" || force === true) {\n    root._bokeh_timeout = Date.now() + 5000;\n    root._bokeh_failed_load = false;\n  }\n\n  var NB_LOAD_WARNING = {'data': {'text/html':\n     \"<div style='background-color: #fdd'>\\n\"+\n     \"<p>\\n\"+\n     \"BokehJS does not appear to have successfully loaded. If loading BokehJS from CDN, this \\n\"+\n     \"may be due to a slow or bad network connection. Possible fixes:\\n\"+\n     \"</p>\\n\"+\n     \"<ul>\\n\"+\n     \"<li>re-rerun `output_notebook()` to attempt to load from CDN again, or</li>\\n\"+\n     \"<li>use INLINE resources instead, as so:</li>\\n\"+\n     \"</ul>\\n\"+\n     \"<code>\\n\"+\n     \"from bokeh.resources import INLINE\\n\"+\n     \"output_notebook(resources=INLINE)\\n\"+\n     \"</code>\\n\"+\n     \"</div>\"}};\n\n  function display_loaded() {\n    var el = document.getElementById(\"ab4c7c8d-c7f1-4d00-be39-dbd4f5e34f42\");\n    if (el != null) {\n      el.textContent = \"BokehJS is loading...\";\n    }\n    if (root.Bokeh !== undefined) {\n      if (el != null) {\n        el.textContent = \"BokehJS \" + root.Bokeh.version + \" successfully loaded.\";\n      }\n    } else if (Date.now() < root._bokeh_timeout) {\n      setTimeout(display_loaded, 100)\n    }\n  }\n\n\n  function run_callbacks() {\n    try {\n      root._bokeh_onload_callbacks.forEach(function(callback) { callback() });\n    }\n    finally {\n      delete root._bokeh_onload_callbacks\n    }\n    console.info(\"Bokeh: all callbacks have finished\");\n  }\n\n  function load_libs(js_urls, callback) {\n    root._bokeh_onload_callbacks.push(callback);\n    if (root._bokeh_is_loading > 0) {\n      console.log(\"Bokeh: BokehJS is being loaded, scheduling callback at\", now());\n      return null;\n    }\n    if (js_urls == null || js_urls.length === 0) {\n      run_callbacks();\n      return null;\n    }\n    console.log(\"Bokeh: BokehJS not loaded, scheduling load and callback at\", now());\n    root._bokeh_is_loading = js_urls.length;\n    for (var i = 0; i < js_urls.length; i++) {\n      var url = js_urls[i];\n      var s = document.createElement('script');\n      s.src = url;\n      s.async = false;\n      s.onreadystatechange = s.onload = function() {\n        root._bokeh_is_loading--;\n        if (root._bokeh_is_loading === 0) {\n          console.log(\"Bokeh: all BokehJS libraries loaded\");\n          run_callbacks()\n        }\n      };\n      s.onerror = function() {\n        console.warn(\"failed to load library \" + url);\n      };\n      console.log(\"Bokeh: injecting script tag for BokehJS library: \", url);\n      document.getElementsByTagName(\"head\")[0].appendChild(s);\n    }\n  };var element = document.getElementById(\"ab4c7c8d-c7f1-4d00-be39-dbd4f5e34f42\");\n  if (element == null) {\n    console.log(\"Bokeh: ERROR: autoload.js configured with elementid 'ab4c7c8d-c7f1-4d00-be39-dbd4f5e34f42' but no matching script tag was found. \")\n    return false;\n  }\n\n  var js_urls = [\"https://cdn.pydata.org/bokeh/release/bokeh-0.13.0.min.js\", \"https://cdn.pydata.org/bokeh/release/bokeh-widgets-0.13.0.min.js\", \"https://cdn.pydata.org/bokeh/release/bokeh-tables-0.13.0.min.js\", \"https://cdn.pydata.org/bokeh/release/bokeh-gl-0.13.0.min.js\"];\n\n  var inline_js = [\n    function(Bokeh) {\n      Bokeh.set_log_level(\"info\");\n    },\n    \n    function(Bokeh) {\n      \n    },\n    function(Bokeh) {\n      console.log(\"Bokeh: injecting CSS: https://cdn.pydata.org/bokeh/release/bokeh-0.13.0.min.css\");\n      Bokeh.embed.inject_css(\"https://cdn.pydata.org/bokeh/release/bokeh-0.13.0.min.css\");\n      console.log(\"Bokeh: injecting CSS: https://cdn.pydata.org/bokeh/release/bokeh-widgets-0.13.0.min.css\");\n      Bokeh.embed.inject_css(\"https://cdn.pydata.org/bokeh/release/bokeh-widgets-0.13.0.min.css\");\n      console.log(\"Bokeh: injecting CSS: https://cdn.pydata.org/bokeh/release/bokeh-tables-0.13.0.min.css\");\n      Bokeh.embed.inject_css(\"https://cdn.pydata.org/bokeh/release/bokeh-tables-0.13.0.min.css\");\n    }\n  ];\n\n  function run_inline_js() {\n    \n    if ((root.Bokeh !== undefined) || (force === true)) {\n      for (var i = 0; i < inline_js.length; i++) {\n        inline_js[i].call(root, root.Bokeh);\n      }if (force === true) {\n        display_loaded();\n      }} else if (Date.now() < root._bokeh_timeout) {\n      setTimeout(run_inline_js, 100);\n    } else if (!root._bokeh_failed_load) {\n      console.log(\"Bokeh: BokehJS failed to load within specified timeout.\");\n      root._bokeh_failed_load = true;\n    } else if (force !== true) {\n      var cell = $(document.getElementById(\"ab4c7c8d-c7f1-4d00-be39-dbd4f5e34f42\")).parents('.cell').data().cell;\n      cell.output_area.append_execute_result(NB_LOAD_WARNING)\n    }\n\n  }\n\n  if (root._bokeh_is_loading === 0) {\n    console.log(\"Bokeh: BokehJS loaded, going straight to plotting\");\n    run_inline_js();\n  } else {\n    load_libs(js_urls, function() {\n      console.log(\"Bokeh: BokehJS plotting callback run at\", now());\n      run_inline_js();\n    });\n  }\n}(window));"
          },
          "metadata": {
            "tags": []
          }
        },
        {
          "output_type": "display_data",
          "data": {
            "text/html": [
              "\n",
              "\n",
              "\n",
              "\n",
              "\n",
              "\n",
              "  <div class=\"bk-root\" id=\"ea70254c-eca2-4ebb-90bc-e7a27b2897fa\"></div>\n"
            ]
          },
          "metadata": {
            "tags": []
          }
        },
        {
          "output_type": "display_data",
          "data": {
            "application/javascript": [
              "(function(root) {\n",
              "  function embed_document(root) {\n",
              "    \n",
              "  var docs_json = {\"51f329c5-218f-4437-9c13-10d451306ff0\":{\"roots\":{\"references\":[{\"attributes\":{\"overlay\":{\"id\":\"5dcdbf8a-c76a-44a0-8764-6053f5a80b6b\",\"type\":\"BoxAnnotation\"}},\"id\":\"b2d5ab78-1dd9-443d-b2a7-4dc23600ac1c\",\"type\":\"BoxZoomTool\"},{\"attributes\":{\"bottom_units\":\"screen\",\"fill_alpha\":{\"value\":0.5},\"fill_color\":{\"value\":\"lightgrey\"},\"left_units\":\"screen\",\"level\":\"overlay\",\"line_alpha\":{\"value\":1.0},\"line_color\":{\"value\":\"black\"},\"line_dash\":[4,4],\"line_width\":{\"value\":2},\"plot\":null,\"render_mode\":\"css\",\"right_units\":\"screen\",\"top_units\":\"screen\"},\"id\":\"5dcdbf8a-c76a-44a0-8764-6053f5a80b6b\",\"type\":\"BoxAnnotation\"},{\"attributes\":{},\"id\":\"b2ad2477-5a81-4db6-9ef5-46e97d8d81ed\",\"type\":\"HelpTool\"},{\"attributes\":{},\"id\":\"3a356b55-4cd9-43c0-ad03-d0f41769ad23\",\"type\":\"BasicTicker\"},{\"attributes\":{},\"id\":\"ef5e31ef-26f5-4875-a30e-310887edb7ea\",\"type\":\"LinearScale\"},{\"attributes\":{\"data_source\":{\"id\":\"39751ff6-08ff-41c1-9c3c-28a69bf6a604\",\"type\":\"ColumnDataSource\"},\"glyph\":{\"id\":\"3367c399-2784-4975-8be7-3e0cb50a72e9\",\"type\":\"Circle\"},\"hover_glyph\":null,\"muted_glyph\":null,\"nonselection_glyph\":{\"id\":\"a9638d0e-5b42-41c7-b6a0-5d12eb143c2c\",\"type\":\"Circle\"},\"selection_glyph\":null,\"view\":{\"id\":\"ed45e2f8-69be-4f55-8150-acc78bd42468\",\"type\":\"CDSView\"}},\"id\":\"ebab71ce-d6ca-4096-aae1-a8c2c2687b7b\",\"type\":\"GlyphRenderer\"},{\"attributes\":{\"callback\":null,\"renderers\":\"auto\",\"tooltips\":[[\"token\",\"@token\"]]},\"id\":\"a83f43f6-44bf-41d1-afc3-acbb04f325f8\",\"type\":\"HoverTool\"},{\"attributes\":{},\"id\":\"527daff8-7297-44d3-bb90-f50c59725495\",\"type\":\"BasicTickFormatter\"},{\"attributes\":{\"formatter\":{\"id\":\"cf7ea441-56a3-4485-a278-64e0964f3fba\",\"type\":\"BasicTickFormatter\"},\"plot\":{\"id\":\"c632a5c2-c241-4c9f-a01c-6a0a336ac632\",\"subtype\":\"Figure\",\"type\":\"Plot\"},\"ticker\":{\"id\":\"3a356b55-4cd9-43c0-ad03-d0f41769ad23\",\"type\":\"BasicTicker\"}},\"id\":\"4897119e-5f1a-41d3-b5ff-82bfe9f4fd4c\",\"type\":\"LinearAxis\"},{\"attributes\":{},\"id\":\"6ef74e7c-4640-4b3d-a39c-405d591efdd1\",\"type\":\"Selection\"},{\"attributes\":{\"active_drag\":\"auto\",\"active_inspect\":\"auto\",\"active_multi\":null,\"active_scroll\":{\"id\":\"3850c7aa-7993-42f7-8d66-4e0c1b1e0ca0\",\"type\":\"WheelZoomTool\"},\"active_tap\":\"auto\",\"tools\":[{\"id\":\"7a8ed3bf-a6c2-4ccd-8ad3-133663e53ff1\",\"type\":\"PanTool\"},{\"id\":\"3850c7aa-7993-42f7-8d66-4e0c1b1e0ca0\",\"type\":\"WheelZoomTool\"},{\"id\":\"b2d5ab78-1dd9-443d-b2a7-4dc23600ac1c\",\"type\":\"BoxZoomTool\"},{\"id\":\"a7f3c55d-08e6-41b0-b32d-3e102fdc5e82\",\"type\":\"SaveTool\"},{\"id\":\"b19876c5-5a34-4a9e-87e2-4990024a8d0c\",\"type\":\"ResetTool\"},{\"id\":\"b2ad2477-5a81-4db6-9ef5-46e97d8d81ed\",\"type\":\"HelpTool\"},{\"id\":\"a83f43f6-44bf-41d1-afc3-acbb04f325f8\",\"type\":\"HoverTool\"}]},\"id\":\"7b0c4061-8074-446a-ad54-066309d7c3e2\",\"type\":\"Toolbar\"},{\"attributes\":{\"formatter\":{\"id\":\"527daff8-7297-44d3-bb90-f50c59725495\",\"type\":\"BasicTickFormatter\"},\"plot\":{\"id\":\"c632a5c2-c241-4c9f-a01c-6a0a336ac632\",\"subtype\":\"Figure\",\"type\":\"Plot\"},\"ticker\":{\"id\":\"a74236b0-2b2d-47f6-b953-073ebd46aab0\",\"type\":\"BasicTicker\"}},\"id\":\"edbb847b-bc2e-4fdb-a787-ca126abf1764\",\"type\":\"LinearAxis\"},{\"attributes\":{},\"id\":\"3850c7aa-7993-42f7-8d66-4e0c1b1e0ca0\",\"type\":\"WheelZoomTool\"},{\"attributes\":{\"fill_alpha\":{\"value\":0.25},\"fill_color\":{\"field\":\"color\"},\"line_alpha\":{\"value\":0.25},\"line_color\":{\"field\":\"color\"},\"size\":{\"units\":\"screen\",\"value\":10},\"x\":{\"field\":\"x\"},\"y\":{\"field\":\"y\"}},\"id\":\"3367c399-2784-4975-8be7-3e0cb50a72e9\",\"type\":\"Circle\"},{\"attributes\":{\"below\":[{\"id\":\"4897119e-5f1a-41d3-b5ff-82bfe9f4fd4c\",\"type\":\"LinearAxis\"}],\"left\":[{\"id\":\"edbb847b-bc2e-4fdb-a787-ca126abf1764\",\"type\":\"LinearAxis\"}],\"plot_height\":400,\"renderers\":[{\"id\":\"4897119e-5f1a-41d3-b5ff-82bfe9f4fd4c\",\"type\":\"LinearAxis\"},{\"id\":\"385ddf7a-af47-428c-9c48-daec930bd8cf\",\"type\":\"Grid\"},{\"id\":\"edbb847b-bc2e-4fdb-a787-ca126abf1764\",\"type\":\"LinearAxis\"},{\"id\":\"e15fbe5d-20cd-46fe-94ef-3997e6a33b9a\",\"type\":\"Grid\"},{\"id\":\"5dcdbf8a-c76a-44a0-8764-6053f5a80b6b\",\"type\":\"BoxAnnotation\"},{\"id\":\"ebab71ce-d6ca-4096-aae1-a8c2c2687b7b\",\"type\":\"GlyphRenderer\"}],\"title\":{\"id\":\"7ceaa85d-11c7-43ac-94d5-257c4eb7e874\",\"type\":\"Title\"},\"toolbar\":{\"id\":\"7b0c4061-8074-446a-ad54-066309d7c3e2\",\"type\":\"Toolbar\"},\"x_range\":{\"id\":\"a54bad94-7e78-4008-83d4-5fa011142544\",\"type\":\"DataRange1d\"},\"x_scale\":{\"id\":\"ef5e31ef-26f5-4875-a30e-310887edb7ea\",\"type\":\"LinearScale\"},\"y_range\":{\"id\":\"ff2a9382-db28-4c8b-9998-dac1faa5343d\",\"type\":\"DataRange1d\"},\"y_scale\":{\"id\":\"dccd9e34-4ebf-4d09-ac4d-4aef251b1a3a\",\"type\":\"LinearScale\"}},\"id\":\"c632a5c2-c241-4c9f-a01c-6a0a336ac632\",\"subtype\":\"Figure\",\"type\":\"Plot\"},{\"attributes\":{},\"id\":\"cf7ea441-56a3-4485-a278-64e0964f3fba\",\"type\":\"BasicTickFormatter\"},{\"attributes\":{\"source\":{\"id\":\"39751ff6-08ff-41c1-9c3c-28a69bf6a604\",\"type\":\"ColumnDataSource\"}},\"id\":\"ed45e2f8-69be-4f55-8150-acc78bd42468\",\"type\":\"CDSView\"},{\"attributes\":{},\"id\":\"7f8aba54-19fc-4e5d-801d-fa10c3e52058\",\"type\":\"UnionRenderers\"},{\"attributes\":{\"plot\":null,\"text\":\"\"},\"id\":\"7ceaa85d-11c7-43ac-94d5-257c4eb7e874\",\"type\":\"Title\"},{\"attributes\":{},\"id\":\"b19876c5-5a34-4a9e-87e2-4990024a8d0c\",\"type\":\"ResetTool\"},{\"attributes\":{\"callback\":null,\"data\":{\"color\":[\"green\",\"green\",\"green\",\"green\",\"green\",\"green\",\"green\",\"green\",\"green\",\"green\",\"green\",\"green\",\"green\",\"green\",\"green\",\"green\",\"green\",\"green\",\"green\",\"green\",\"green\",\"green\",\"green\",\"green\",\"green\",\"green\",\"green\",\"green\",\"green\",\"green\",\"green\",\"green\",\"green\",\"green\",\"green\",\"green\",\"green\",\"green\",\"green\",\"green\",\"green\",\"green\",\"green\",\"green\",\"green\",\"green\",\"green\",\"green\",\"green\",\"green\",\"green\",\"green\",\"green\",\"green\",\"green\",\"green\",\"green\",\"green\",\"green\",\"green\",\"green\",\"green\",\"green\",\"green\",\"green\",\"green\",\"green\",\"green\",\"green\",\"green\",\"green\",\"green\",\"green\",\"green\",\"green\",\"green\",\"green\",\"green\",\"green\",\"green\",\"green\",\"green\",\"green\",\"green\",\"green\",\"green\",\"green\",\"green\",\"green\",\"green\",\"green\",\"green\",\"green\",\"green\",\"green\",\"green\",\"green\",\"green\",\"green\",\"green\",\"green\",\"green\",\"green\",\"green\",\"green\",\"green\",\"green\",\"green\",\"green\",\"green\",\"green\",\"green\",\"green\",\"green\",\"green\",\"green\",\"green\",\"green\",\"green\",\"green\",\"green\",\"green\",\"green\",\"green\",\"green\",\"green\",\"green\",\"green\",\"green\",\"green\",\"green\",\"green\",\"green\",\"green\",\"green\",\"green\",\"green\",\"green\",\"green\",\"green\",\"green\",\"green\",\"green\",\"green\",\"green\",\"green\",\"green\",\"green\",\"green\",\"green\",\"green\",\"green\",\"green\",\"green\",\"green\",\"green\",\"green\",\"green\",\"green\",\"green\",\"green\",\"green\",\"green\",\"green\",\"green\",\"green\",\"green\",\"green\",\"green\",\"green\",\"green\",\"green\",\"green\",\"green\",\"green\",\"green\",\"green\",\"green\",\"green\",\"green\",\"green\",\"green\",\"green\",\"green\",\"green\",\"green\",\"green\",\"green\",\"green\",\"green\",\"green\",\"green\",\"green\",\"green\",\"green\",\"green\",\"green\",\"green\",\"green\",\"green\",\"green\",\"green\",\"green\",\"green\",\"green\",\"green\",\"green\",\"green\",\"green\",\"green\",\"green\",\"green\",\"green\",\"green\",\"green\",\"green\",\"green\",\"green\",\"green\",\"green\",\"green\",\"green\",\"green\",\"green\",\"green\",\"green\",\"green\",\"green\",\"green\",\"green\",\"green\",\"green\",\"green\",\"green\",\"green\",\"green\",\"green\",\"green\",\"green\",\"green\",\"green\",\"green\",\"green\",\"green\",\"green\",\"green\",\"green\",\"green\",\"green\",\"green\",\"green\",\"green\",\"green\",\"green\",\"green\",\"green\",\"green\",\"green\",\"green\",\"green\",\"green\",\"green\",\"green\",\"green\",\"green\",\"green\",\"green\",\"green\",\"green\",\"green\",\"green\",\"green\",\"green\",\"green\",\"green\",\"green\",\"green\",\"green\",\"green\",\"green\",\"green\",\"green\",\"green\",\"green\",\"green\",\"green\",\"green\",\"green\",\"green\",\"green\",\"green\",\"green\",\"green\",\"green\",\"green\",\"green\",\"green\",\"green\",\"green\",\"green\",\"green\",\"green\",\"green\",\"green\",\"green\",\"green\",\"green\",\"green\",\"green\",\"green\",\"green\",\"green\",\"green\",\"green\",\"green\",\"green\",\"green\",\"green\",\"green\",\"green\",\"green\",\"green\",\"green\",\"green\",\"green\",\"green\",\"green\",\"green\",\"green\",\"green\",\"green\",\"green\",\"green\",\"green\",\"green\",\"green\",\"green\",\"green\",\"green\",\"green\",\"green\",\"green\",\"green\",\"green\",\"green\",\"green\",\"green\",\"green\",\"green\",\"green\",\"green\",\"green\",\"green\",\"green\",\"green\",\"green\",\"green\",\"green\",\"green\",\"green\",\"green\",\"green\",\"green\",\"green\",\"green\",\"green\",\"green\",\"green\",\"green\",\"green\",\"green\",\"green\",\"green\",\"green\",\"green\",\"green\",\"green\",\"green\",\"green\",\"green\",\"green\",\"green\",\"green\",\"green\",\"green\",\"green\",\"green\",\"green\",\"green\",\"green\",\"green\",\"green\",\"green\",\"green\",\"green\",\"green\",\"green\",\"green\",\"green\",\"green\",\"green\",\"green\",\"green\",\"green\",\"green\",\"green\",\"green\",\"green\",\"green\",\"green\",\"green\",\"green\",\"green\",\"green\",\"green\",\"green\",\"green\",\"green\",\"green\",\"green\",\"green\",\"green\",\"green\",\"green\",\"green\",\"green\",\"green\",\"green\",\"green\",\"green\",\"green\",\"green\",\"green\",\"green\",\"green\",\"green\",\"green\",\"green\",\"green\",\"green\",\"green\",\"green\",\"green\",\"green\",\"green\",\"green\",\"green\",\"green\",\"green\",\"green\",\"green\",\"green\",\"green\",\"green\",\"green\",\"green\",\"green\",\"green\",\"green\",\"green\",\"green\",\"green\",\"green\",\"green\",\"green\",\"green\",\"green\",\"green\",\"green\",\"green\",\"green\",\"green\",\"green\",\"green\",\"green\",\"green\",\"green\",\"green\",\"green\",\"green\",\"green\",\"green\",\"green\",\"green\",\"green\",\"green\",\"green\",\"green\",\"green\",\"green\",\"green\",\"green\",\"green\",\"green\",\"green\",\"green\",\"green\",\"green\",\"green\",\"green\",\"green\",\"green\",\"green\",\"green\",\"green\",\"green\",\"green\",\"green\",\"green\",\"green\",\"green\",\"green\",\"green\",\"green\",\"green\",\"green\",\"green\",\"green\",\"green\",\"green\",\"green\",\"green\",\"green\",\"green\",\"green\",\"green\",\"green\",\"green\",\"green\",\"green\",\"green\",\"green\",\"green\",\"green\",\"green\",\"green\",\"green\",\"green\",\"green\",\"green\",\"green\",\"green\",\"green\",\"green\",\"green\",\"green\",\"green\",\"green\",\"green\",\"green\",\"green\",\"green\",\"green\",\"green\",\"green\",\"green\",\"green\",\"green\",\"green\",\"green\",\"green\",\"green\",\"green\",\"green\",\"green\",\"green\",\"green\",\"green\",\"green\",\"green\",\"green\",\"green\",\"green\",\"green\",\"green\",\"green\",\"green\",\"green\",\"green\",\"green\",\"green\",\"green\",\"green\",\"green\",\"green\",\"green\",\"green\",\"green\",\"green\",\"green\",\"green\",\"green\",\"green\",\"green\",\"green\",\"green\",\"green\",\"green\",\"green\",\"green\",\"green\",\"green\",\"green\",\"green\",\"green\",\"green\",\"green\",\"green\",\"green\",\"green\",\"green\",\"green\",\"green\",\"green\",\"green\",\"green\",\"green\",\"green\",\"green\",\"green\",\"green\",\"green\",\"green\",\"green\",\"green\",\"green\",\"green\",\"green\",\"green\",\"green\",\"green\",\"green\",\"green\",\"green\",\"green\",\"green\",\"green\",\"green\",\"green\",\"green\",\"green\",\"green\",\"green\",\"green\",\"green\",\"green\",\"green\",\"green\",\"green\",\"green\",\"green\",\"green\",\"green\",\"green\",\"green\",\"green\",\"green\",\"green\",\"green\",\"green\",\"green\",\"green\",\"green\",\"green\",\"green\",\"green\",\"green\",\"green\",\"green\",\"green\",\"green\",\"green\",\"green\",\"green\",\"green\",\"green\",\"green\",\"green\",\"green\",\"green\",\"green\",\"green\",\"green\",\"green\",\"green\",\"green\",\"green\",\"green\",\"green\",\"green\",\"green\",\"green\",\"green\",\"green\",\"green\",\"green\",\"green\",\"green\",\"green\",\"green\",\"green\",\"green\",\"green\",\"green\",\"green\",\"green\",\"green\",\"green\",\"green\",\"green\",\"green\",\"green\",\"green\",\"green\",\"green\",\"green\",\"green\",\"green\",\"green\",\"green\",\"green\",\"green\",\"green\",\"green\",\"green\",\"green\",\"green\",\"green\",\"green\",\"green\",\"green\",\"green\",\"green\",\"green\",\"green\",\"green\",\"green\",\"green\",\"green\",\"green\",\"green\",\"green\",\"green\",\"green\",\"green\",\"green\",\"green\",\"green\",\"green\",\"green\",\"green\",\"green\",\"green\",\"green\",\"green\",\"green\",\"green\",\"green\",\"green\",\"green\",\"green\",\"green\",\"green\",\"green\",\"green\",\"green\",\"green\",\"green\",\"green\",\"green\",\"green\",\"green\",\"green\",\"green\",\"green\",\"green\",\"green\",\"green\",\"green\",\"green\",\"green\",\"green\",\"green\",\"green\",\"green\",\"green\",\"green\",\"green\",\"green\",\"green\",\"green\",\"green\",\"green\",\"green\",\"green\",\"green\",\"green\",\"green\",\"green\",\"green\",\"green\",\"green\",\"green\",\"green\",\"green\",\"green\",\"green\",\"green\",\"green\",\"green\",\"green\",\"green\",\"green\",\"green\",\"green\",\"green\",\"green\",\"green\",\"green\",\"green\",\"green\",\"green\",\"green\",\"green\",\"green\",\"green\",\"green\",\"green\",\"green\",\"green\",\"green\",\"green\",\"green\",\"green\",\"green\",\"green\",\"green\",\"green\",\"green\",\"green\",\"green\",\"green\",\"green\",\"green\",\"green\",\"green\",\"green\",\"green\",\"green\",\"green\",\"green\",\"green\",\"green\",\"green\",\"green\",\"green\",\"green\",\"green\",\"green\",\"green\",\"green\",\"green\",\"green\",\"green\",\"green\",\"green\",\"green\",\"green\",\"green\",\"green\",\"green\",\"green\",\"green\",\"green\",\"green\",\"green\",\"green\",\"green\",\"green\",\"green\",\"green\",\"green\",\"green\",\"green\",\"green\",\"green\",\"green\",\"green\",\"green\",\"green\",\"green\",\"green\",\"green\",\"green\",\"green\",\"green\",\"green\",\"green\",\"green\",\"green\",\"green\",\"green\",\"green\",\"green\",\"green\",\"green\",\"green\",\"green\",\"green\",\"green\",\"green\",\"green\",\"green\",\"green\",\"green\",\"green\",\"green\",\"green\",\"green\",\"green\",\"green\",\"green\",\"green\",\"green\",\"green\",\"green\",\"green\",\"green\",\"green\",\"green\",\"green\",\"green\",\"green\",\"green\",\"green\",\"green\",\"green\",\"green\",\"green\",\"green\",\"green\",\"green\",\"green\",\"green\",\"green\",\"green\",\"green\",\"green\",\"green\",\"green\",\"green\",\"green\",\"green\",\"green\",\"green\",\"green\",\"green\",\"green\",\"green\",\"green\",\"green\",\"green\",\"green\",\"green\",\"green\",\"green\",\"green\",\"green\",\"green\",\"green\",\"green\",\"green\",\"green\",\"green\",\"green\",\"green\",\"green\",\"green\",\"green\",\"green\",\"green\",\"green\",\"green\",\"green\",\"green\",\"green\",\"green\",\"green\",\"green\",\"green\",\"green\",\"green\",\"green\",\"green\",\"green\",\"green\",\"green\",\"green\",\"green\",\"green\"],\"token\":[\"?\",\"the\",\"what\",\"is\",\"a\",\"i\",\"to\",\"in\",\"how\",\"of\",\"do\",\"are\",\"and\",\"for\",\",\",\"can\",\"you\",\"why\",\"it\",\"my\",\"does\",\"best\",\"on\",\".\",\"or\",\"have\",\"if\",\"be\",\"with\",\"which\",\"that\",\"an\",\"some\",\"should\",\"'s\",\"get\",\"from\",\")\",\"your\",\"(\",\"like\",\"when\",\"at\",\"india\",\"good\",\"who\",\"there\",\"will\",\"as\",\"would\",\"people\",\"not\",\"n't\",\"about\",\"``\",\"''\",\"between\",\"one\",\"did\",\"any\",\"we\",\"me\",\"where\",\"most\",\"was\",\"by\",\"make\",\"so\",\"they\",\"this\",\"am\",\"after\",\"way\",\":\",\"has\",\"use\",\"much\",\"difference\",\"time\",\"life\",\"their\",\"know\",\"work\",\"many\",\"but\",\"than\",\"more\",\"all\",\"want\",\"quora\",\"someone\",\"learn\",\"find\",\"other\",\"think\",\"new\",\"better\",\"job\",\"indian\",\"out\",\"money\",\"mean\",\"become\",\"ever\",\"world\",\"without\",\"he\",\"start\",\"take\",\"us\",\"up\",\"first\",\"feel\",\"year\",\"into\",\"go\",\"online\",\"used\",\"engineering\",\"could\",\"love\",\"'m\",\"person\",\"were\",\"possible\",\"day\",\"buy\",\"things\",\"being\",\"need\",\"business\",\"using\",\"them\",\"really\",\"trump\",\"girl\",\"her\",\"his\",\"years\",\"different\",\"long\",\"phone\",\"google\",\"company\",\"been\",\"old\",\"only\",\"no\",\"now\",\"'\",\"just\",\"2\",\"app\",\"college\",\"facebook\",\"number\",\"free\",\"books\",\"2016\",\"movie\",\"still\",\"its\",\"account\",\"ca\",\"women\",\"book\",\"english\",\"while\",\"she\",\"had\",\"change\",\"ways\",\"computer\",\"thing\",\"examples\",\"data\",\"country\",\"over\",\"see\",\"android\",\"help\",\"science\",\"live\",\"school\",\"software\",\"before\",\"&\",\"language\",\"same\",\"going\",\"bad\",\"sex\",\"student\",\"stop\",\"university\",\"happen\",\"back\",\"made\",\"3\",\"study\",\"our\",\"1\",\"two\",\"through\",\"system\",\"name\",\"say\",\"real\",\"during\",\"prepare\",\"water\",\"iphone\",\"website\",\"top\",\"car\",\"questions\",\"important\",\"men\",\"give\",\"getting\",\"anyone\",\"companies\",\"high\",\"black\",\"card\",\"read\",\"programming\",\"war\",\"learning\",\"10\",\"\\u2019\",\"exam\",\"[\",\"then\",\"]\",\"even\",\"movies\",\"china\",\"mobile\",\"cost\",\"donald\",\"right\",\"doing\",\"friend\",\"him\",\"working\",\"5\",\"under\",\"come\",\"president\",\"own\",\"question\",\"career\",\"experience\",\"bank\",\"true\",\"friends\",\"guy\",\"word\",\"hair\",\"home\",\"video\",\"having\",\"look\",\"usa\",\"tell\",\"man\",\"social\",\"web\",\"interview\",\"very\",\"engineer\",\"write\",\"game\",\"government\",\"weight\",\"earth\",\"girls\",\"service\",\"food\",\"students\",\"play\",\"countries\",\"human\",\"place\",\"future\",\"improve\",\"off\",\"big\",\"days\",\"happens\",\"'ve\",\"done\",\"class\",\"eat\",\"tv\",\"process\",\"got\",\"state\",\"average\",\"s\",\"meaning\",\"relationship\",\"music\",\"too\",\"math\",\"create\",\"instagram\",\"every\",\"history\",\"last\",\"pay\",\"windows\",\"white\",\"watch\",\"%\",\"salary\",\"body\",\"power\",\"4\",\"safe\",\"clinton\",\"ask\",\"age\",\"laptop\",\"makes\",\"$\",\"each\",\"hard\",\"lose\",\"american\",\"delhi\",\"youtube\",\"energy\",\"worth\",\"earn\",\"states\",\"against\",\"win\",\"girlfriend\",\"great\",\"keep\",\"test\",\"god\",\"hillary\",\"compare\",\"market\",\"differences\",\"making\",\"considered\",\"something\",\"answer\",\"apply\",\"myself\",\"mba\",\"tips\",\"around\",\"never\",\"next\",\"always\",\"mechanical\",\"another\",\"united\",\"java\",\"increase\",\"such\",\"course\",\"jobs\",\"c\",\"download\",\"song\",\"parents\",\"kind\",\"internet\",\"common\",\"review\",\"woman\",\"code\",\"design\",\"per\",\"employees\",\"end\",\"development\",\"chinese\",\"series\",\"score\",\"interesting\",\"degree\",\"month\",\"travel\",\"show\",\"management\",\"months\",\"able\",\"believe\",\"open\",\"program\",\"living\",\"looking\",\"because\",\"type\",\"bangalore\",\"light\",\"favorite\",\"america\",\"today\",\"actually\",\"major\",\"family\",\"marketing\",\"pakistan\",\"universities\",\"technology\",\"law\",\"call\",\"affect\",\"whatsapp\",\"6\",\"idea\",\"{\",\"build\",\"}\",\"choose\",\"cat\",\"current\",\"support\",\"problem\",\"popular\",\"speed\",\"air\",\"rid\",\"deal\",\"visa\",\"join\",\"run\",\"games\",\"space\",\"down\",\"both\",\"well\",\"city\",\"2017\",\"house\",\"exist\",\"services\",\"available\",\"civil\",\"u.s.\",\"site\",\"culture\",\"also\",\"normal\",\"given\",\"wrong\",\"apple\",\"small\",\"order\",\"date\",\"wear\",\"apps\",\"places\",\"songs\",\"differ\",\"project\",\"product\",\"international\",\"behind\",\"main\",\"research\",\"x\",\"7\",\"happened\",\"boyfriend\",\"media\",\"public\",\"canada\",\"value\",\"jee\",\"cause\",\"reason\",\"uk\",\"education\",\"email\",\"ms\",\"sleep\",\"-\",\"amazon\",\"instead\",\"these\",\"benefits\",\"startup\",\"less\",\"iit\",\"part\",\"list\",\"based\",\"die\",\"medical\",\"websites\",\"etc\",\"physics\",\"skills\",\"child\",\"form\",\"health\",\"causes\",\"called\",\"times\",\"visit\",\"hate\",\"level\",\"worst\",\"police\",\"legal\",\"control\",\"terms\",\"stay\",\"products\",\"mumbai\",\"post\",\"facts\",\"mind\",\"face\",\"application\",\"rate\",\"sites\",\"field\",\"file\",\"required\",\"humans\",\"sell\",\"seen\",\"story\",\"machine\",\"private\",\"dog\",\"notes\",\"stock\",\"modi\",\"biggest\",\"asked\",\"invest\",\"children\",\"point\",\"writing\",\"move\",\"night\",\"problems\",\"gate\",\"put\",\"'re\",\"successful\",\"single\",\"anything\",\"indians\",\"others\",\"remove\",\"compared\",\"theory\",\"death\",\"ideas\",\"talk\",\"marks\",\"answers\",\"plan\",\"similar\",\"sentence\",\"low\",\"group\",\"institute\",\"side\",\"hours\",\"again\",\"effects\",\"/math\",\"coaching\",\"australia\",\"solve\",\"advantages\",\"correct\",\"function\",\"tax\",\"lot\",\"center\",\"famous\",\"send\",\"germany\",\"guys\",\"add\",\"set\",\"offer\",\"south\",\"force\",\"credit\",\"foreign\",\"universe\",\"information\",\"fall\",\"period\",\"daily\",\"says\",\"developer\",\"training\",\"full\",\"videos\",\"area\",\"industry\",\"oil\",\"model\",\"general\",\"studying\",\"majors\",\"star\",\"colleges\",\"graduate\",\"size\",\"yourself\",\"drive\",\"python\",\"2015\",\"blood\",\"near\",\"search\",\"enough\",\"price\",\"kill\",\"quality\",\"words\",\"cons\",\"marriage\",\"found\",\"often\",\"\\u201d\",\"leave\",\"pros\",\"fast\",\"grow\",\"courses\",\"started\",\"week\",\"fix\",\"related\",\"purpose\",\"8\",\"network\",\"types\",\"russia\",\"advice\",\"those\",\"password\",\"follow\",\"taking\",\"married\",\"mass\",\"male\",\"store\",\"turn\",\"party\",\"left\",\"brain\",\"rs\",\"\\u201c\",\"numbers\",\"100\",\"500\",\"female\",\"share\",\"digital\",\"team\",\"1000\",\"effective\",\"economy\",\"term\",\"text\",\"delete\",\"election\",\"cell\",\"pc\",\"master\",\"office\",\"matter\",\"few\",\"role\",\"since\",\"preparation\",\"fat\",\"second\",\"page\",\"dark\",\"short\",\"said\",\"happy\",\"red\",\"line\",\"away\",\"security\",\"options\",\"easy\",\"effect\",\"three\",\"view\",\"admission\",\"must\",\"chemical\",\"source\",\"lost\",\"try\",\"dream\",\"understand\",\"care\",\"exams\",\"convert\",\"americans\",\"past\",\"electrical\",\"dogs\",\"profile\",\"alcohol\",\"exactly\",\"north\",\"ios\",\"develop\",\"paper\",\"japanese\",\"investment\",\"tech\",\"difficult\",\"hotel\",\"check\",\"beautiful\",\"personal\",\"calculate\",\"japan\",\"uber\",\"letter\",\"eating\",\"religion\",\"20\",\"explain\",\"languages\",\"c++\",\"hyderabad\",\"topics\",\"british\",\"b\",\"twitter\",\"basic\",\"news\",\"california\",\"self\",\"green\",\"political\",\"transfer\",\"wife\",\"12\",\"fight\",\"rank\",\"drug\",\"let\",\"porn\",\"film\",\"scope\",\"t\",\"army\",\"pune\",\"national\",\"once\",\"contact\",\"note\",\"known\",\"avoid\",\"boy\",\"gain\",\"please\",\"address\",\"wants\",\"reasons\",\"paid\",\"obama\",\"engine\",\"europe\",\"ex\",\"currently\",\"bollywood\",\"samsung\",\"smart\",\"everyone\",\"season\",\"phd\",\"income\",\"officer\",\"chances\",\"reduce\",\"option\",\"overcome\",\"everything\",\"across\",\"reading\",\"military\",\"else\",\"users\",\"meet\",\"15\",\"solar\",\"message\",\"charge\",\"knowledge\",\"due\",\"sound\",\"balance\",\"microsoft\",\"!\",\"internship\",\"faster\",\"photos\",\"pregnant\",\"sim\",\"yes\",\"moon\",\"taken\",\"financial\",\"hindi\",\"disadvantages\",\"pass\",\"animals\",\"messages\",\"gay\",\"/\",\"hack\",\"healthy\",\"pain\",\"systems\",\"amount\",\"color\",\"interested\",\"singapore\",\"ias\",\"natural\",\"skin\",\"screen\",\"chance\",\"names\",\"special\",\"height\",\"board\",\"case\",\"structure\",\"passport\",\"break\",\"pro\",\"created\",\"professional\",\"drink\",\"already\",\"percentage\",\"useful\",\"french\",\"crush\",\"sun\",\"dating\",\"likes\",\"presidential\",\"battery\",\"interest\",\"access\",\"coming\",\"provide\",\"muslim\",\"starting\",\"modern\",\"linux\",\"recover\",\"camera\",\"german\",\"expect\",\"vote\",\"muslims\",\"blue\",\"least\",\"install\",\"train\",\"studies\",\"solution\",\"thinking\",\"following\",\"negative\",\"mother\",\"jio\",\"mac\",\"user\",\"spend\",\"prime\",\"written\",\"buying\",\"feeling\",\"running\",\"football\",\"gift\",\"cold\",\"changed\",\"pressure\",\"allowed\",\"character\",\"brand\",\"rich\",\"snapchat\",\"resources\",\"within\",\"speak\",\"impact\",\"islam\",\"yet\",\"non\",\"marry\",\"eyes\",\"society\",\"bill\",\"likely\",\"though\",\"determine\",\"shows\",\"fake\",\"save\",\"capital\",\"final\",\"gmail\",\"picture\",\"laws\",\"middle\",\"applications\",\"nuclear\",\"chemistry\",\"young\",\"kids\",\"prefer\",\"device\",\"iq\",\"father\",\"views\",\"galaxy\",\"manager\",\"doctor\",\"personality\",\"hand\",\"greatest\",\"currency\",\"inside\",\"illegal\",\"stories\",\"strategy\",\"recruit\",\"pursue\",\"cs\",\"abroad\",\"gold\",\"projects\",\"consider\",\"works\",\"blog\",\"crack\",\"memory\",\"example\",\"neet\",\"growth\",\"schools\",\"necessary\",\"husband\",\"insurance\",\"alone\",\"economics\",\"depression\",\"higher\",\"dead\",\"b.tech\",\"30\",\"cse\",\"loss\",\"among\",\"files\",\"deleted\",\"easiest\",\"macbook\",\"together\",\"art\",\"wifi\",\"vs\",\"gas\",\"suggest\",\"late\",\"intelligence\",\"method\",\"gre\",\"head\",\"minimum\",\"version\",\"tools\",\"easily\",\"chennai\",\"cars\",\"suitable\"],\"x\":{\"__ndarray__\":\"AaRBv4DjVL/61y6/loxbv0aMXL/EQ+6+o1xqv1BVgb+Qvzu/DGOIv/7CW77ILLe/vMZWv/OCgr9c+EC/DpWlv6v37r4CHj2/iQOkvlHZS78V2Jy/hlqSv98Nhb8eT0O/jnJYv84r+75QxGi/y9ZVvpqYhb9qUyC/ViIXvw4HVb/wt3a//3+kv2itWr+wmx++TOx3v5RoJr+4sEi/JMlCvzf/iL9RXW+/HI5rv9APGD8YZKG/dDMSv5bL875PTaC/+jiHvz6onr+lXO6+f7swv7NyNL+wyI2/8h9nv5qXDb9Ub4y/7gZ5v+8ioL+tA2i/O6TtvhghIb9qGju/EYWdvyYFWb9cFnO/ajasvHnmdr/LKeq+KzVov4LRwb/9Unm/pCmJP+i/S788Egi/vhU2ParTv79FDBU+ZcjwPkyXAD1t8EO/gCkrvhbbMD4EC76/Y8tbv1erm79K1dS/+kKGv/2c2L654fY/AjAivycPF77R9du9x6eBvwqpQb5cjYq/gXyev8a8jj++Xxm/BrF4v8688j5X0/g82Bc3vj5JHL+xJDM/Xj5qv5/WxL7ub6W+G6WrvDBiMz9c4oC/A6WQv8yS6b6+0v2/WbyIv/s/rr6uDdK+n+Gnv3D4sz/PJaO/vRmgvuPewb/XuRE/BZS3v/5wn7/p+f+/SOGVPQnckj+PqDi/m5Pkvr8Ymz+OZlO/lGMjv9LfGr/3hFg+LvomP88cLb9VH0C/gi4CwDvZm7/zPsi/8yzNP9DmBEAigKQ/NvWxv4OXR7/a0z6/LwZnvyshbr/mHBC/v1k2v041uL8mL7U/ZLN1P3fq9j+TzZ0/Uzhtv8mgpD/u7ZI/MwBpP7E/Jr9OMDy/0AzgP7mXZb7Ck8q+I6JpP+FcEj8JqG+/fs7IvscjBL9Jmg4+NFSMP40juz897YA/O88nP4p7nz9UqEk/g/eJvycyXb3euPY/uMRIPl5Xqz8ZAhE+29xwP79Hwz9XLXi/vtJPvz3EjT9Ws4a/lGRUvxdnpb/gUAC+rqyFPz/23r5AO3g/z/dmvVpBgr9zna6/dq/Av9sbwL1GdEa/UXK/vya2o79brIO/azrYP258PT4P+Ca+6waEv6Wpfr+26LU932EYvR5q6T8yxL4/P+WVv8JB0j8GSp8/Hjayv0Ap1L7aI2k9kfY8v1YdL79K1IE/4v2Jv05Zo78ypbo/5l5xvRKXuj8/1T49VLXmvgRKyL/ybFe/7uKGP8XMWr+E7lq/p3P0PodoP7+ZqYI/2WH/PhdEzD8WWKw+0Pejv55cgL+lHD6/QGsqP4miJ7+m81K/c+3Ev+Ete7+bIa6+gixmvtBBn71d31I/wWIsP8k/Qz/L/II/Od+Hv1ngib6O2Cs/im5uP8efKj43sNA/pii8PzlPNr+OPNu+irwtP40AxT2aRBo/q5HTP/gnvT/XgX0/xFqDv9/rtT9ZkB0+/UClP5+jTL42hi8+YgUAQJFwx74/jqo/Kw/CP5MH7r43PD49lTJyP21eAb/HfoA/HlmGv12ho77zWXG/qROLv/ylA8Bw5KG9c50Mv+RUsb8M75Q/ZN0Yv7Q6AEAEOdQ+3vbpvh++vb5Rgni/mmabv4OE2D43Dbq7z3quP9zqdr860qI/MGXjPIZJ8z/gNHa/N/YyP8JKlL8u1ey8lnrxP/x/o78tSLY9RML7v4f/HT99QZQ+4/2cPjlnvb+q6p6/+L4yPvwzib1vLvM+mzjXP5ia0z2uerk/M3R1vx9tub/p4Xq+HigUv2nDNT8AMfw/VM6jPpr1jr8qY5e9G7dtP4tskr94wKc+sVB1PvHTob+xctG+rmiBP5IlJ769BnS92gTQv8riFz8y0hM+6cJSvwWMnr8EPo++vzVRPyNbWz2ddhS/TLqBP0ttqT9+f5y/ODMgv+5Mh7+6+B6/UgXDP8smQr/Vt0s/Tq39PyDJnL6IW5a/nFyFP6+wjT/o1ABAPit1PXcZXj9ZMHS+zH4fP52R4D8uvrS/L5zBvXGsED9EmpQ/YImtP/pun79Lg66+0NygPjpetD+TURq/b+tTPw/COj9m8re/QmSDP9wN+7+iXpa+dc7CPMpRoj8iygLAswqvvy96aT7bm4o930+KP/bIQL90blq/hYJ7vwWgGz8Zey0/zGUxv8sYq7+Q6gw/hqsIv7iwGr/1ivq+DwSDPhEAnz/mqAA/hGNmP8EWrD86ekM/3TpvPtmb+b5+Tus/bXu/v+KxSz8ltD2/KiqjPNL/Mb/t1Vq7y0OyP/7bgr89boS9qY2SPzNjsL8V69U+MhCEPB9tSL8E56O7VnMCvy/+xrzzhM89/iuqP+kdCL724IG/Cb+Pvw78vb+/rFY/doGTPxGmUz5z8IU9hlmpPzTGnb/la8U/Xpo1P1o1vj8esh28Kb81vyMAjr8zCPa+A9CGvzOvAUBDvaK/R6UeP+SovD6cOcs9Xv+yPw26fD9aloM/hu7ov1K+mT/SjJg/Wf4fv1Shi78OLne/h6yfP94Etb+izMW/ccwUvp+lhj684a4/txfXvngMEz/UF+M+F5CpPyFqqD6bK08/D10vP33JHT9dR+Q/AeaBP1Qq/77i2jm/fpIBQIYlJj+chY2/5dihPujEoz9xFNW/ZdO4P0EkV7/kaQA/Nb/uviTspz6jdxk/9o+lP07/Tr9EVaI/iXhgP/KTFz8HEgA/hKAYP9TR9D7GA5K/C7wEwP/dHT5YwDu+V9cyP7hXqL926lO+sYOWvzr+zj1aSxw/501pvn1mwj9RAC4/VN+UPjZ8lT+cC6A+XrKKPsODtj/G/+c+zt2pP+1vqD8Zm5E/uxygv+kE2r7DZzY8MZS7v6jxvD+AIrE/ttzPviN0Fj9DJao/4MtYP+Pqhz57Eqq/OCHJvyywgr2Uaom+jrvEPkwSsr6A6pC+L40CwOTylz/v8LA/E7OMvUrRvL8y46i/13iDv6V/kL5YDfe+ftfovmwgML4MXNa/0tATPxPbE7+suK8/4ZSKvvL+Rj9qWVY//WJLPjLz0b/N9F0/wK2Jv0oOCj+LWno/gbYBPrSHAsDMiym/hTCiPvCesL/7AoU/jP0aP5iYlL5GT24+ALKSv+/b8j7vMJM/OL4qPyswKz/7fYO/uCHxPMS9DT8RlrG+knWoPQQkkD6TMcQ+IF0HP155iz5S1sg/c8fivjuY9T9lyJw/oOvlvrIYhz2TSiK/0Jk3vmiguz8nKog/XJVjv1sNuD8saTE/b9CCP6I6WL3uUjE/Z5GvvqKpS7+FJ44/J84pv+XnZT/feYY/DufRPrdtE7+/llg+Ptb9P0F2kj9vsKI+PPWWv8gznj6mOEw/XgsZP4DL6b0QNFE/hOqKP7Vegj685Ne8na62vkjps7/UIgm/ArwcvjSWCz3MKbi/pHTFvpqLij8+y6y/2uX4v3OuP75dC9G/6C0eP4k+x79TA7c/EDywPzII9j5pLao/CHACvzcK7T+NY7a9tWQ/v2DKgb8bq7U+h0xLvwDvlj5rU1W+Lg6xvjNZf78kJ58++Je2PwnvZr/sLqE/dUTIvy4i4L84tE2/RZOzPf4kCkCGClw/Q4Dbv8+awr/n3Aq+aUMaPooqcD/vzWi9ritAP4c6xj/Ce98/GsznPx952j7em+W9YfTMv1T0Hj964nu/fr+CPzMHOb9pdpG/hCjZP1Eai7/xy8m/2884vsLVlL90N6i/IQVcP3M0h79OD68/nYJHP9zlvr/K/qE+ECq+v5S79b0ZU2Y/EEauv0QQyz/FUpU/U6Hfv3uBNT5l1Te+SWhYvgWUgr5PKYU/t+0rPi+2Ab+LDIW/ksvIPxEov77mCeA/hm0RvcbNq79TWQc/RzP2Pymi7TuIJY8/qrEfv94SUj+KMag/Jxixv4Nmjj8TI7+9Lfiuvwtv1D8vyHa+QQ4CPxt/A0CXT0k/H3wqv9Ngzj6xBc+/EtVkvsulkT8+UQBAC5Y1P3Crmj8h2fa+942wv8P+7D8NBIe/KFPbPwF7Jz80Wxy/uOetv4letb5934A+yRBuPqWt0L/BsDU9vzk5P0B5wT63HoE+I6wEQGCkaj9yaD4/N7uhv/Ix8r2YkTQ/Yg/kvjrpQD7uJ+c/SUCzP3GwuL+AXeO+3kwnP6Srlb6Bcyy/zWlLPvWeNL6QjU8/bDCkvwrMdz7ofR4/5BsMPzhWQD7FC0G/5dIJvzZT6z9X56m/9iQBv6T+hj2bkIc/Zq2ZP3wQrj/hVSc/TopfvqdBVT8FQ7G+vh6LvplKeb9C3bG+WuZkvo+EJ7/xm4O+3jggvtijzr9OdAg/N/jfP41MjD60tGE/ItnUv5EZAT+vw8Y+fI8FQKTXHr84Jm0/XN3Yv4sztz97PE6/RR7BP59+a79zTQFABPeuv3TNzT9oiRQ/9WOFPpH7qT4ToM2+zmvlP1Z+bL9e1Vm/CR4XPqCGmL921bo+fjzYP99CDD8OkQ6/g+DJvxcjGD9o6rA/dsmJvwEuND4tftM/EUqNP3H5H771J5q/YeQYPxNZmD99uJM/DH6CPoyGCT+T+jS+stdQPDIFpr8WSnW/v9oTvyQpJL+jGhQ/fq6qv6nrGb8Pnn0+S5cAQJvnBUD2UO69lG6ovvBQ2D+ehfY+z06fPwagd79jsN09DHZovxV3Wb/li42/bb78P3C2or2ALVA//UQTv47Ai75Sqgk+5ekGv+drqb8G3KG/dXavvnKlxT7IbkU/50fYPhs+sb4JvJK/hoOUvyxThz5tte8/ru/pPwnn0D9f+OS9hg/rPSbVs7+sZle/z8W9PmgFV7+DumQ/Y77jPoU1P74z3ta+VTqUPq1OqL9b3Uk/OcFRP3QqhL8YzfE/EWuVP4A5gL8Yjjm+No+gPt0anL7HTU2/1V5vvzYBBb4n1z0+mOUvP5F8jj9r+bi/TvyAv+JqBb0PavY8D76Nv6CUQbzZMZ4/mPWSv1Rh7j8sysA/P/dEPzgFhL/tpq8/HyRnvte6oD+HCl+/WUeOvp2hbL5pjMs/yW0MPwYZhD4gcsQ/MJpOv9+kkD9GwjU/N//mPtqckT16Yai/siq9P7loPr+m/Ja/QaK9P62NSD9KRqM/PizAvVMhvD9mTse+Ra6/vP4XoD9nYkq+NHQXPEkLxT+VzOS8RmTyPo4/Oz+P6Ks/iMzyPo0tdD9GWaC/zkyHPvQe+Lx6Gi+/uS2gP+panD/jUIK/OVqdvw4xij9Y6Me/9967P48S6z4s/5S/sWS7P/2w37+gXZO/OILgP8hdkL8MYzA/28PkPwTTM78oKYU+Hs3rPR0EPb/PMyU/NHiLP1lZsj9Sf7g9bMRivxkFLT8csaM/5bM5v1xgJz/DUoE/VXOlvw==\",\"dtype\":\"float32\",\"shape\":[1000]},\"y\":{\"__ndarray__\":\"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\",\"dtype\":\"float32\",\"shape\":[1000]}},\"selected\":{\"id\":\"6ef74e7c-4640-4b3d-a39c-405d591efdd1\",\"type\":\"Selection\"},\"selection_policy\":{\"id\":\"7f8aba54-19fc-4e5d-801d-fa10c3e52058\",\"type\":\"UnionRenderers\"}},\"id\":\"39751ff6-08ff-41c1-9c3c-28a69bf6a604\",\"type\":\"ColumnDataSource\"},{\"attributes\":{},\"id\":\"a74236b0-2b2d-47f6-b953-073ebd46aab0\",\"type\":\"BasicTicker\"},{\"attributes\":{},\"id\":\"dccd9e34-4ebf-4d09-ac4d-4aef251b1a3a\",\"type\":\"LinearScale\"},{\"attributes\":{\"plot\":{\"id\":\"c632a5c2-c241-4c9f-a01c-6a0a336ac632\",\"subtype\":\"Figure\",\"type\":\"Plot\"},\"ticker\":{\"id\":\"3a356b55-4cd9-43c0-ad03-d0f41769ad23\",\"type\":\"BasicTicker\"}},\"id\":\"385ddf7a-af47-428c-9c48-daec930bd8cf\",\"type\":\"Grid\"},{\"attributes\":{\"callback\":null},\"id\":\"a54bad94-7e78-4008-83d4-5fa011142544\",\"type\":\"DataRange1d\"},{\"attributes\":{},\"id\":\"a7f3c55d-08e6-41b0-b32d-3e102fdc5e82\",\"type\":\"SaveTool\"},{\"attributes\":{\"callback\":null},\"id\":\"ff2a9382-db28-4c8b-9998-dac1faa5343d\",\"type\":\"DataRange1d\"},{\"attributes\":{\"fill_alpha\":{\"value\":0.1},\"fill_color\":{\"value\":\"#1f77b4\"},\"line_alpha\":{\"value\":0.1},\"line_color\":{\"value\":\"#1f77b4\"},\"size\":{\"units\":\"screen\",\"value\":10},\"x\":{\"field\":\"x\"},\"y\":{\"field\":\"y\"}},\"id\":\"a9638d0e-5b42-41c7-b6a0-5d12eb143c2c\",\"type\":\"Circle\"},{\"attributes\":{},\"id\":\"7a8ed3bf-a6c2-4ccd-8ad3-133663e53ff1\",\"type\":\"PanTool\"},{\"attributes\":{\"dimension\":1,\"plot\":{\"id\":\"c632a5c2-c241-4c9f-a01c-6a0a336ac632\",\"subtype\":\"Figure\",\"type\":\"Plot\"},\"ticker\":{\"id\":\"a74236b0-2b2d-47f6-b953-073ebd46aab0\",\"type\":\"BasicTicker\"}},\"id\":\"e15fbe5d-20cd-46fe-94ef-3997e6a33b9a\",\"type\":\"Grid\"}],\"root_ids\":[\"c632a5c2-c241-4c9f-a01c-6a0a336ac632\"]},\"title\":\"Bokeh Application\",\"version\":\"0.13.0\"}};\n",
              "  var render_items = [{\"docid\":\"51f329c5-218f-4437-9c13-10d451306ff0\",\"roots\":{\"c632a5c2-c241-4c9f-a01c-6a0a336ac632\":\"ea70254c-eca2-4ebb-90bc-e7a27b2897fa\"}}];\n",
              "  root.Bokeh.embed.embed_items_notebook(docs_json, render_items);\n",
              "\n",
              "  }\n",
              "  if (root.Bokeh !== undefined) {\n",
              "    embed_document(root);\n",
              "  } else {\n",
              "    var attempts = 0;\n",
              "    var timer = setInterval(function(root) {\n",
              "      if (root.Bokeh !== undefined) {\n",
              "        embed_document(root);\n",
              "        clearInterval(timer);\n",
              "      }\n",
              "      attempts++;\n",
              "      if (attempts > 100) {\n",
              "        console.log(\"Bokeh: ERROR: Unable to run BokehJS code because BokehJS library is missing\")\n",
              "        clearInterval(timer);\n",
              "      }\n",
              "    }, 10, root)\n",
              "  }\n",
              "})(window);"
            ],
            "application/vnd.bokehjs_exec.v0+json": ""
          },
          "metadata": {
            "tags": [],
            "application/vnd.bokehjs_exec.v0+json": {
              "id": "c632a5c2-c241-4c9f-a01c-6a0a336ac632"
            }
          }
        }
      ]
    },
    {
      "metadata": {
        "id": "xqDmuu7m_PB5",
        "colab_type": "text"
      },
      "cell_type": "markdown",
      "source": [
        "# Дополнительные материалы\n",
        "## Почитать\n",
        "[Backpropagation, Intuitions, cs231n + next parts in the Module 1](http://cs231n.github.io/optimization-2/)  \n",
        "[On word embeddings - Part 1, Sebastian Ruder](http://ruder.io/word-embeddings-1/)  \n",
        "[On word embeddings - Part 2: Approximating the Softmax, Sebastian Ruder](http://ruder.io/word-embeddings-softmax/index.html)  \n",
        "[Word2Vec Tutorial - The Skip-Gram Model, Chris McCormick](http://mccormickml.com/2016/04/19/word2vec-tutorial-the-skip-gram-model/)  \n",
        "[Word2Vec Tutorial Part 2 - Negative Sampling, Chris McCormick](http://mccormickml.com/2017/01/11/word2vec-tutorial-part-2-negative-sampling/)  \n",
        "[Word2vec Parameter Learning Explained, Xin Rong](https://arxiv.org/abs/1411.2738)  \n",
        "[Neural word embedding as implicit matrix factorization, Levy, Omer, and Yoav Goldberg](http://u.cs.biu.ac.il/~nlp/wp-content/uploads/Neural-Word-Embeddings-as-Implicit-Matrix-Factorization-NIPS-2014.pdf)  \n",
        "[Two/Too Simple Adaptations of Word2Vec for Syntax Problems, Ling, Wang, et al.](https://www.aclweb.org/anthology/N/N15/N15-1142.pdf)\n",
        "\n",
        "## Посмотреть\n",
        "[cs224n \"Lecture 2 - Word Vector Representations: word2vec\"](https://www.youtube.com/watch?v=ERibwqs9p38&index=2&list=PLqdrfNEc5QnuV9RwUAhoJcoQvu4Q46Lja&t=0s)  \n",
        "[cs224n \"Lecture 5 - Backpropagation\"](https://www.youtube.com/watch?v=isPiE-DBagM&index=5&list=PLqdrfNEc5QnuV9RwUAhoJcoQvu4Q46Lja&t=0s)   \n"
      ]
    },
    {
      "metadata": {
        "id": "aM9C1i3Y-6kv",
        "colab_type": "text"
      },
      "cell_type": "markdown",
      "source": [
        "# Сдача задания\n",
        "\n",
        "[Сдача](https://goo.gl/forms/rzWjQQsGpqYNz5yt1)  \n",
        "[Опрос](https://goo.gl/forms/as640TWE058bFTpy2)"
      ]
    }
  ]
}