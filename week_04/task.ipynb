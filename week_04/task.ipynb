{
  "nbformat": 4,
  "nbformat_minor": 0,
  "metadata": {
    "colab": {
      "name": "Week 04 - Convolutional Neural Networks.ipynb",
      "version": "0.3.2",
      "provenance": [],
      "collapsed_sections": []
    },
    "kernelspec": {
      "name": "python3",
      "display_name": "Python 3"
    },
    "accelerator": "GPU"
  },
  "cells": [
    {
      "metadata": {
        "id": "Z8LbImWBw4Zd",
        "colab_type": "code",
        "colab": {}
      },
      "cell_type": "code",
      "source": [
        "!pip3 -qq install torch==0.4.1\n",
        "!pip install -qq bokeh==0.13.0\n",
        "!pip install -qq eli5==0.8\n",
        "!wget -O surnames.txt -qq --no-check-certificate \"https://drive.google.com/uc?export=download&id=1z7avv1JiI30V4cmHJGFIfDEs9iE4SHs5\""
      ],
      "execution_count": 0,
      "outputs": []
    },
    {
      "metadata": {
        "id": "dF1fio53UKN6",
        "colab_type": "code",
        "colab": {}
      },
      "cell_type": "code",
      "source": [
        "import numpy as np\n",
        "\n",
        "import torch\n",
        "import torch.nn as nn\n",
        "import torch.nn.functional as F\n",
        "import torch.optim as optim\n",
        "\n",
        "\n",
        "if torch.cuda.is_available():\n",
        "    from torch.cuda import FloatTensor, LongTensor\n",
        "else:\n",
        "    from torch import FloatTensor, LongTensor\n",
        "    \n",
        "np.random.seed(42)"
      ],
      "execution_count": 0,
      "outputs": []
    },
    {
      "metadata": {
        "id": "Q3lN5pl5Stpp",
        "colab_type": "text"
      },
      "cell_type": "markdown",
      "source": [
        "# Свёрточные нейронные сети"
      ]
    },
    {
      "metadata": {
        "id": "9J6KBv-cniLw",
        "colab_type": "text"
      },
      "cell_type": "markdown",
      "source": [
        "## Классификация фамилий\n",
        "\n",
        "Будем учиться предсказывать, является ли слово фамилией."
      ]
    },
    {
      "metadata": {
        "id": "7f2Sk0mMFJeW",
        "colab_type": "code",
        "colab": {}
      },
      "cell_type": "code",
      "source": [
        "from sklearn.model_selection import train_test_split\n",
        "\n",
        "with open('surnames.txt') as f:\n",
        "    lines = f.readlines()\n",
        "    data = [line.strip().split('\\t')[0] for line in lines]\n",
        "    labels = np.array([int(line.strip().split('\\t')[1]) for line in lines])\n",
        "    del lines\n",
        "    \n",
        "train_data, test_data, train_labels, test_labels = train_test_split(data, labels, test_size=0.33, random_state=42)"
      ],
      "execution_count": 0,
      "outputs": []
    },
    {
      "metadata": {
        "id": "kfUIgqMznrXB",
        "colab_type": "text"
      },
      "cell_type": "markdown",
      "source": [
        "Посмотрим на данные:"
      ]
    },
    {
      "metadata": {
        "id": "YN1XYen8UauD",
        "colab_type": "code",
        "colab": {
          "base_uri": "https://localhost:8080/",
          "height": 629
        },
        "outputId": "01c97412-bf00-4bb8-9ed3-42a371f2ccaf"
      },
      "cell_type": "code",
      "source": [
        "list(zip(train_data, train_labels))[::1500]"
      ],
      "execution_count": 314,
      "outputs": [
        {
          "output_type": "execute_result",
          "data": {
            "text/plain": [
              "[('вожакам', 0),\n",
              " ('посвящения', 0),\n",
              " ('изменницы', 0),\n",
              " ('тензорам', 0),\n",
              " ('Родзевич', 1),\n",
              " ('поломку', 0),\n",
              " ('ПРОВЕРКАМ', 0),\n",
              " ('майка', 0),\n",
              " ('ошеломлении', 0),\n",
              " ('эркере', 0),\n",
              " ('дешифрировании', 0),\n",
              " ('затоваривание', 0),\n",
              " ('громыханий', 0),\n",
              " ('выволочка', 0),\n",
              " ('Волдыри', 0),\n",
              " ('сербки', 0),\n",
              " ('ОТЛИЧИИ', 0),\n",
              " ('РАДИОГРАММА', 0),\n",
              " ('поэтике', 0),\n",
              " ('гобоя', 0),\n",
              " ('ОБЛАСТЯМИ', 0),\n",
              " ('пациентах', 0),\n",
              " ('трясогузка', 0),\n",
              " ('утепления', 0),\n",
              " ('Фингалу', 0),\n",
              " ('Хищение', 0),\n",
              " ('Джамал', 0),\n",
              " ('Лавчонка', 0),\n",
              " ('скольжению', 0),\n",
              " ('восстание', 0),\n",
              " ('Гудмэн', 1),\n",
              " ('консортах', 0),\n",
              " ('инфузорий', 0),\n",
              " ('постоянстве', 0),\n",
              " ('вахтенными', 0),\n",
              " ('полновластия', 0)]"
            ]
          },
          "metadata": {
            "tags": []
          },
          "execution_count": 314
        }
      ]
    },
    {
      "metadata": {
        "id": "uFlOaCNt3fuV",
        "colab_type": "text"
      },
      "cell_type": "markdown",
      "source": [
        "Данные ещё и сильно несбалансированы - положительных примеров в несколько раз меньше:"
      ]
    },
    {
      "metadata": {
        "id": "ikKB2DaK08-n",
        "colab_type": "code",
        "colab": {
          "base_uri": "https://localhost:8080/",
          "height": 265
        },
        "outputId": "65c95d33-cda1-4ec9-b401-f1cc0b6729e8"
      },
      "cell_type": "code",
      "source": [
        "import matplotlib.pyplot as plt\n",
        "%matplotlib inline\n",
        "\n",
        "positive_count = np.sum(train_labels == 1)\n",
        "negative_count = len(train_labels) - positive_count\n",
        " \n",
        "plt.bar(np.arange(2), [negative_count, positive_count], align='center', alpha=0.5)\n",
        "plt.xticks(np.arange(2), ('Negative', 'Positive'))\n",
        "    \n",
        "plt.show()"
      ],
      "execution_count": 315,
      "outputs": [
        {
          "output_type": "display_data",
          "data": {
            "image/png": "[encoded data removed]",
            "text/plain": [
              "<matplotlib.figure.Figure at 0x7fe0debcc1d0>"
            ]
          },
          "metadata": {
            "tags": []
          }
        }
      ]
    },
    {
      "metadata": {
        "id": "4MwgOy5M8qPf",
        "colab_type": "text"
      },
      "cell_type": "markdown",
      "source": [
        "Accuracy очень легко оптимизировать - просто предсказывайте всегда ноль:"
      ]
    },
    {
      "metadata": {
        "id": "UuqFWWu38UwV",
        "colab_type": "code",
        "colab": {
          "base_uri": "https://localhost:8080/",
          "height": 34
        },
        "outputId": "2d1d9e0f-1d9b-42a4-e39b-18eb89dd0f70"
      },
      "cell_type": "code",
      "source": [
        "print('Accuracy = {:.2%}'.format((train_labels == 0).mean()))"
      ],
      "execution_count": 316,
      "outputs": [
        {
          "output_type": "stream",
          "text": [
            "Accuracy = 87.90%\n"
          ],
          "name": "stdout"
        }
      ]
    },
    {
      "metadata": {
        "id": "LtOFSmy93pDl",
        "colab_type": "text"
      },
      "cell_type": "markdown",
      "source": [
        "Однако это будет довольно бесполезно - всегда говорить, что слово не является фамилией. Это, конечно, вопрос - что хуже, зря объявить слово фамилией (ошибка первого рода) или не найти фамилию.\n",
        "\n",
        "![](https://effectsizefaq.files.wordpress.com/2010/05/type-i-and-type-ii-errors.jpg =x350)  \n",
        "*From [effectsizefaq.com](https://effectsizefaq.com/2010/05/31/i-always-get-confused-about-type-i-and-ii-errors-can-you-show-me-something-to-help-me-remember-the-difference/)*\n",
        "\n",
        "Будем замерять precision, recall и их комбинацию - $F_1$-меру.\n",
        "\n",
        "![precision-recall](https://upload.wikimedia.org/wikipedia/commons/thumb/2/26/Precisionrecall.svg/350px-Precisionrecall.svg.png =x600)  \n",
        "*From [Wikipedia](https://en.wikipedia.org/wiki/Precision_and_recall)*\n",
        "\n",
        "$$\\text{precision} = \\frac{tp}{tp + fp}.$$\n",
        "$$\\text{recall} = \\frac{tp}{tp + fn}.$$\n",
        "$$\\text{F}_1 = 2 \\cdot \\frac{\\text{precision} \\cdot \\text{recall}}{\\text{precision} + \\text{recall}}.$$"
      ]
    },
    {
      "metadata": {
        "id": "9bl6O_bAtVqd",
        "colab_type": "text"
      },
      "cell_type": "markdown",
      "source": [
        "Начнём с бейзлайна на регулярках."
      ]
    },
    {
      "metadata": {
        "id": "Q6tUhBLUy0Wf",
        "colab_type": "code",
        "colab": {
          "base_uri": "https://localhost:8080/",
          "height": 34
        },
        "cellView": "form",
        "outputId": "284cf0a2-f451-4dc3-bcbc-6a44e789b1e9"
      },
      "cell_type": "code",
      "source": [
        "#@title Супер-бейзлайн\n",
        "surname_indicators = \"^[А-Я][а-я], .*ский, .*вич\" #@param {type:\"raw\"}\n",
        "\n",
        "surname_indicators = surname_indicators.split(', ')\n",
        "\n",
        "import re\n",
        "\n",
        "regexs = [re.compile(regex) for regex in surname_indicators]\n",
        "\n",
        "preds = np.array([any(regex.match(word) for regex in regexs) for word in test_data])\n",
        "\n",
        "from sklearn.metrics import f1_score\n",
        "print('F1-score = {:.2%}'.format(f1_score(test_labels, preds)))"
      ],
      "execution_count": 317,
      "outputs": [
        {
          "output_type": "stream",
          "text": [
            "F1-score = 40.46%\n"
          ],
          "name": "stdout"
        }
      ]
    },
    {
      "metadata": {
        "id": "LJJtiGMK1ATy",
        "colab_type": "text"
      },
      "cell_type": "markdown",
      "source": [
        "А теперь серьёзно - бейзлайн на логистической регрессии поверх N-грамм символов.\n",
        "\n",
        "**Задание** Сделать классификацию с LogisticRegression моделью. Посчитать F1-меру."
      ]
    },
    {
      "metadata": {
        "id": "8COAoh7b0TXs",
        "colab_type": "code",
        "colab": {
          "base_uri": "https://localhost:8080/",
          "height": 34
        },
        "outputId": "c994c58d-250d-4325-a02f-f12f0ea319fd"
      },
      "cell_type": "code",
      "source": [
        "from sklearn.feature_extraction.text import CountVectorizer\n",
        "from sklearn.linear_model import LogisticRegression\n",
        "\n",
        "vectorizer = CountVectorizer(analyzer='char', ngram_range=(1, 4), lowercase=False)\n",
        "vectorizer.fit(data)\n",
        "X_train, X_test = vectorizer.transform(train_data), vectorizer.transform(test_data)\n",
        "\n",
        "model = LogisticRegression().fit(X_train, train_labels)\n",
        "\n",
        "test_preds = model.predict(X_test)\n",
        "print('F1-score = {:.2%}'.format(f1_score(test_labels, test_preds)))"
      ],
      "execution_count": 318,
      "outputs": [
        {
          "output_type": "stream",
          "text": [
            "F1-score = 69.18%\n"
          ],
          "name": "stdout"
        }
      ]
    },
    {
      "metadata": {
        "id": "vN46GwPrzeJW",
        "colab_type": "text"
      },
      "cell_type": "markdown",
      "source": [
        "Посмотрим на предсказания"
      ]
    },
    {
      "metadata": {
        "id": "F-P8OSD7yZQt",
        "colab_type": "code",
        "colab": {
          "base_uri": "https://localhost:8080/",
          "height": 803
        },
        "outputId": "a1aef3fb-d944-4959-c7b0-7a1968e12be6"
      },
      "cell_type": "code",
      "source": [
        "import eli5\n",
        "\n",
        "eli5.show_weights(model, vec=vectorizer, top=40)"
      ],
      "execution_count": 319,
      "outputs": [
        {
          "output_type": "execute_result",
          "data": {
            "text/html": [
              "\n",
              "    <style>\n",
              "    table.eli5-weights tr:hover {\n",
              "        filter: brightness(85%);\n",
              "    }\n",
              "</style>\n",
              "\n",
              "\n",
              "\n",
              "    \n",
              "\n",
              "    \n",
              "\n",
              "    \n",
              "\n",
              "    \n",
              "\n",
              "    \n",
              "\n",
              "    \n",
              "\n",
              "\n",
              "    \n",
              "\n",
              "    \n",
              "\n",
              "    \n",
              "\n",
              "    \n",
              "        \n",
              "\n",
              "    \n",
              "\n",
              "        \n",
              "            \n",
              "                \n",
              "                \n",
              "    \n",
              "        <p style=\"margin-bottom: 0.5em; margin-top: 0em\">\n",
              "            <b>\n",
              "    \n",
              "        y=1\n",
              "    \n",
              "</b>\n",
              "\n",
              "top features\n",
              "        </p>\n",
              "    \n",
              "    <table class=\"eli5-weights\"\n",
              "           style=\"border-collapse: collapse; border: none; margin-top: 0em; table-layout: auto; margin-bottom: 2em;\">\n",
              "        <thead>\n",
              "        <tr style=\"border: none;\">\n",
              "            \n",
              "                <th style=\"padding: 0 1em 0 0.5em; text-align: right; border: none;\" title=\"Feature weights. Note that weights do not account for feature value scales, so if feature values have different scales, features with highest weights might not be the most important.\">\n",
              "                    Weight<sup>?</sup>\n",
              "                </th>\n",
              "            \n",
              "            <th style=\"padding: 0 0.5em 0 0.5em; text-align: left; border: none;\">Feature</th>\n",
              "            \n",
              "        </tr>\n",
              "        </thead>\n",
              "        <tbody>\n",
              "        \n",
              "            <tr style=\"background-color: hsl(120, 100.00%, 84.07%); border: none;\">\n",
              "    <td style=\"padding: 0 1em 0 0.5em; text-align: right; border: none;\">\n",
              "        +2.638\n",
              "    </td>\n",
              "    <td style=\"padding: 0 0.5em 0 0.5em; text-align: left; border: none;\">\n",
              "        юк\n",
              "    </td>\n",
              "    \n",
              "</tr>\n",
              "        \n",
              "            <tr style=\"background-color: hsl(120, 100.00%, 84.83%); border: none;\">\n",
              "    <td style=\"padding: 0 1em 0 0.5em; text-align: right; border: none;\">\n",
              "        +2.460\n",
              "    </td>\n",
              "    <td style=\"padding: 0 0.5em 0 0.5em; text-align: left; border: none;\">\n",
              "        ев\n",
              "    </td>\n",
              "    \n",
              "</tr>\n",
              "        \n",
              "            <tr style=\"background-color: hsl(120, 100.00%, 85.46%); border: none;\">\n",
              "    <td style=\"padding: 0 1em 0 0.5em; text-align: right; border: none;\">\n",
              "        +2.317\n",
              "    </td>\n",
              "    <td style=\"padding: 0 0.5em 0 0.5em; text-align: left; border: none;\">\n",
              "        кин\n",
              "    </td>\n",
              "    \n",
              "</tr>\n",
              "        \n",
              "            <tr style=\"background-color: hsl(120, 100.00%, 86.12%); border: none;\">\n",
              "    <td style=\"padding: 0 1em 0 0.5em; text-align: right; border: none;\">\n",
              "        +2.167\n",
              "    </td>\n",
              "    <td style=\"padding: 0 0.5em 0 0.5em; text-align: left; border: none;\">\n",
              "        кий\n",
              "    </td>\n",
              "    \n",
              "</tr>\n",
              "        \n",
              "            <tr style=\"background-color: hsl(120, 100.00%, 86.15%); border: none;\">\n",
              "    <td style=\"padding: 0 1em 0 0.5em; text-align: right; border: none;\">\n",
              "        +2.162\n",
              "    </td>\n",
              "    <td style=\"padding: 0 0.5em 0 0.5em; text-align: left; border: none;\">\n",
              "        ЕВ\n",
              "    </td>\n",
              "    \n",
              "</tr>\n",
              "        \n",
              "            <tr style=\"background-color: hsl(120, 100.00%, 86.15%); border: none;\">\n",
              "    <td style=\"padding: 0 1em 0 0.5em; text-align: right; border: none;\">\n",
              "        +2.160\n",
              "    </td>\n",
              "    <td style=\"padding: 0 0.5em 0 0.5em; text-align: left; border: none;\">\n",
              "        чук\n",
              "    </td>\n",
              "    \n",
              "</tr>\n",
              "        \n",
              "            <tr style=\"background-color: hsl(120, 100.00%, 86.83%); border: none;\">\n",
              "    <td style=\"padding: 0 1em 0 0.5em; text-align: right; border: none;\">\n",
              "        +2.011\n",
              "    </td>\n",
              "    <td style=\"padding: 0 0.5em 0 0.5em; text-align: left; border: none;\">\n",
              "        енко\n",
              "    </td>\n",
              "    \n",
              "</tr>\n",
              "        \n",
              "            <tr style=\"background-color: hsl(120, 100.00%, 87.35%); border: none;\">\n",
              "    <td style=\"padding: 0 1em 0 0.5em; text-align: right; border: none;\">\n",
              "        +1.899\n",
              "    </td>\n",
              "    <td style=\"padding: 0 0.5em 0 0.5em; text-align: left; border: none;\">\n",
              "        цк\n",
              "    </td>\n",
              "    \n",
              "</tr>\n",
              "        \n",
              "            <tr style=\"background-color: hsl(120, 100.00%, 87.57%); border: none;\">\n",
              "    <td style=\"padding: 0 1em 0 0.5em; text-align: right; border: none;\">\n",
              "        +1.851\n",
              "    </td>\n",
              "    <td style=\"padding: 0 0.5em 0 0.5em; text-align: left; border: none;\">\n",
              "        ый\n",
              "    </td>\n",
              "    \n",
              "</tr>\n",
              "        \n",
              "            <tr style=\"background-color: hsl(120, 100.00%, 87.87%); border: none;\">\n",
              "    <td style=\"padding: 0 1em 0 0.5em; text-align: right; border: none;\">\n",
              "        +1.788\n",
              "    </td>\n",
              "    <td style=\"padding: 0 0.5em 0 0.5em; text-align: left; border: none;\">\n",
              "        иным\n",
              "    </td>\n",
              "    \n",
              "</tr>\n",
              "        \n",
              "            <tr style=\"background-color: hsl(120, 100.00%, 88.09%); border: none;\">\n",
              "    <td style=\"padding: 0 1em 0 0.5em; text-align: right; border: none;\">\n",
              "        +1.742\n",
              "    </td>\n",
              "    <td style=\"padding: 0 0.5em 0 0.5em; text-align: left; border: none;\">\n",
              "        вско\n",
              "    </td>\n",
              "    \n",
              "</tr>\n",
              "        \n",
              "            <tr style=\"background-color: hsl(120, 100.00%, 88.13%); border: none;\">\n",
              "    <td style=\"padding: 0 1em 0 0.5em; text-align: right; border: none;\">\n",
              "        +1.734\n",
              "    </td>\n",
              "    <td style=\"padding: 0 0.5em 0 0.5em; text-align: left; border: none;\">\n",
              "        Аб\n",
              "    </td>\n",
              "    \n",
              "</tr>\n",
              "        \n",
              "            <tr style=\"background-color: hsl(120, 100.00%, 88.15%); border: none;\">\n",
              "    <td style=\"padding: 0 1em 0 0.5em; text-align: right; border: none;\">\n",
              "        +1.728\n",
              "    </td>\n",
              "    <td style=\"padding: 0 0.5em 0 0.5em; text-align: left; border: none;\">\n",
              "        Ро\n",
              "    </td>\n",
              "    \n",
              "</tr>\n",
              "        \n",
              "            <tr style=\"background-color: hsl(120, 100.00%, 88.33%); border: none;\">\n",
              "    <td style=\"padding: 0 1em 0 0.5em; text-align: right; border: none;\">\n",
              "        +1.692\n",
              "    </td>\n",
              "    <td style=\"padding: 0 0.5em 0 0.5em; text-align: left; border: none;\">\n",
              "        овой\n",
              "    </td>\n",
              "    \n",
              "</tr>\n",
              "        \n",
              "            <tr style=\"background-color: hsl(120, 100.00%, 88.54%); border: none;\">\n",
              "    <td style=\"padding: 0 1em 0 0.5em; text-align: right; border: none;\">\n",
              "        +1.648\n",
              "    </td>\n",
              "    <td style=\"padding: 0 0.5em 0 0.5em; text-align: left; border: none;\">\n",
              "        овы\n",
              "    </td>\n",
              "    \n",
              "</tr>\n",
              "        \n",
              "            <tr style=\"background-color: hsl(120, 100.00%, 88.77%); border: none;\">\n",
              "    <td style=\"padding: 0 1em 0 0.5em; text-align: right; border: none;\">\n",
              "        +1.601\n",
              "    </td>\n",
              "    <td style=\"padding: 0 0.5em 0 0.5em; text-align: left; border: none;\">\n",
              "        Ку\n",
              "    </td>\n",
              "    \n",
              "</tr>\n",
              "        \n",
              "            <tr style=\"background-color: hsl(120, 100.00%, 88.79%); border: none;\">\n",
              "    <td style=\"padding: 0 1em 0 0.5em; text-align: right; border: none;\">\n",
              "        +1.597\n",
              "    </td>\n",
              "    <td style=\"padding: 0 0.5em 0 0.5em; text-align: left; border: none;\">\n",
              "        Ш\n",
              "    </td>\n",
              "    \n",
              "</tr>\n",
              "        \n",
              "            <tr style=\"background-color: hsl(120, 100.00%, 88.81%); border: none;\">\n",
              "    <td style=\"padding: 0 1em 0 0.5em; text-align: right; border: none;\">\n",
              "        +1.593\n",
              "    </td>\n",
              "    <td style=\"padding: 0 0.5em 0 0.5em; text-align: left; border: none;\">\n",
              "        ИН\n",
              "    </td>\n",
              "    \n",
              "</tr>\n",
              "        \n",
              "            <tr style=\"background-color: hsl(120, 100.00%, 88.94%); border: none;\">\n",
              "    <td style=\"padding: 0 1em 0 0.5em; text-align: right; border: none;\">\n",
              "        +1.566\n",
              "    </td>\n",
              "    <td style=\"padding: 0 0.5em 0 0.5em; text-align: left; border: none;\">\n",
              "        сон\n",
              "    </td>\n",
              "    \n",
              "</tr>\n",
              "        \n",
              "            <tr style=\"background-color: hsl(120, 100.00%, 88.97%); border: none;\">\n",
              "    <td style=\"padding: 0 1em 0 0.5em; text-align: right; border: none;\">\n",
              "        +1.561\n",
              "    </td>\n",
              "    <td style=\"padding: 0 0.5em 0 0.5em; text-align: left; border: none;\">\n",
              "        ской\n",
              "    </td>\n",
              "    \n",
              "</tr>\n",
              "        \n",
              "            <tr style=\"background-color: hsl(120, 100.00%, 88.98%); border: none;\">\n",
              "    <td style=\"padding: 0 1em 0 0.5em; text-align: right; border: none;\">\n",
              "        +1.560\n",
              "    </td>\n",
              "    <td style=\"padding: 0 0.5em 0 0.5em; text-align: left; border: none;\">\n",
              "        Лэ\n",
              "    </td>\n",
              "    \n",
              "</tr>\n",
              "        \n",
              "            <tr style=\"background-color: hsl(120, 100.00%, 89.01%); border: none;\">\n",
              "    <td style=\"padding: 0 1em 0 0.5em; text-align: right; border: none;\">\n",
              "        +1.552\n",
              "    </td>\n",
              "    <td style=\"padding: 0 0.5em 0 0.5em; text-align: left; border: none;\">\n",
              "        внам\n",
              "    </td>\n",
              "    \n",
              "</tr>\n",
              "        \n",
              "            <tr style=\"background-color: hsl(120, 100.00%, 89.12%); border: none;\">\n",
              "    <td style=\"padding: 0 1em 0 0.5em; text-align: right; border: none;\">\n",
              "        +1.530\n",
              "    </td>\n",
              "    <td style=\"padding: 0 0.5em 0 0.5em; text-align: left; border: none;\">\n",
              "        Кр\n",
              "    </td>\n",
              "    \n",
              "</tr>\n",
              "        \n",
              "            <tr style=\"background-color: hsl(120, 100.00%, 89.36%); border: none;\">\n",
              "    <td style=\"padding: 0 1em 0 0.5em; text-align: right; border: none;\">\n",
              "        +1.482\n",
              "    </td>\n",
              "    <td style=\"padding: 0 0.5em 0 0.5em; text-align: left; border: none;\">\n",
              "        Иль\n",
              "    </td>\n",
              "    \n",
              "</tr>\n",
              "        \n",
              "            <tr style=\"background-color: hsl(120, 100.00%, 89.37%); border: none;\">\n",
              "    <td style=\"padding: 0 1em 0 0.5em; text-align: right; border: none;\">\n",
              "        +1.480\n",
              "    </td>\n",
              "    <td style=\"padding: 0 0.5em 0 0.5em; text-align: left; border: none;\">\n",
              "        ову\n",
              "    </td>\n",
              "    \n",
              "</tr>\n",
              "        \n",
              "            <tr style=\"background-color: hsl(120, 100.00%, 89.46%); border: none;\">\n",
              "    <td style=\"padding: 0 1em 0 0.5em; text-align: right; border: none;\">\n",
              "        +1.463\n",
              "    </td>\n",
              "    <td style=\"padding: 0 0.5em 0 0.5em; text-align: left; border: none;\">\n",
              "        ЫЙ\n",
              "    </td>\n",
              "    \n",
              "</tr>\n",
              "        \n",
              "            <tr style=\"background-color: hsl(120, 100.00%, 89.49%); border: none;\">\n",
              "    <td style=\"padding: 0 1em 0 0.5em; text-align: right; border: none;\">\n",
              "        +1.456\n",
              "    </td>\n",
              "    <td style=\"padding: 0 0.5em 0 0.5em; text-align: left; border: none;\">\n",
              "        нин\n",
              "    </td>\n",
              "    \n",
              "</tr>\n",
              "        \n",
              "            <tr style=\"background-color: hsl(120, 100.00%, 89.53%); border: none;\">\n",
              "    <td style=\"padding: 0 1em 0 0.5em; text-align: right; border: none;\">\n",
              "        +1.450\n",
              "    </td>\n",
              "    <td style=\"padding: 0 0.5em 0 0.5em; text-align: left; border: none;\">\n",
              "        ть\n",
              "    </td>\n",
              "    \n",
              "</tr>\n",
              "        \n",
              "            <tr style=\"background-color: hsl(120, 100.00%, 89.55%); border: none;\">\n",
              "    <td style=\"padding: 0 1em 0 0.5em; text-align: right; border: none;\">\n",
              "        +1.444\n",
              "    </td>\n",
              "    <td style=\"padding: 0 0.5em 0 0.5em; text-align: left; border: none;\">\n",
              "        Га\n",
              "    </td>\n",
              "    \n",
              "</tr>\n",
              "        \n",
              "            <tr style=\"background-color: hsl(120, 100.00%, 89.56%); border: none;\">\n",
              "    <td style=\"padding: 0 1em 0 0.5em; text-align: right; border: none;\">\n",
              "        +1.443\n",
              "    </td>\n",
              "    <td style=\"padding: 0 0.5em 0 0.5em; text-align: left; border: none;\">\n",
              "        ман\n",
              "    </td>\n",
              "    \n",
              "</tr>\n",
              "        \n",
              "            <tr style=\"background-color: hsl(120, 100.00%, 89.59%); border: none;\">\n",
              "    <td style=\"padding: 0 1em 0 0.5em; text-align: right; border: none;\">\n",
              "        +1.438\n",
              "    </td>\n",
              "    <td style=\"padding: 0 0.5em 0 0.5em; text-align: left; border: none;\">\n",
              "        ова\n",
              "    </td>\n",
              "    \n",
              "</tr>\n",
              "        \n",
              "            <tr style=\"background-color: hsl(120, 100.00%, 89.61%); border: none;\">\n",
              "    <td style=\"padding: 0 1em 0 0.5em; text-align: right; border: none;\">\n",
              "        +1.434\n",
              "    </td>\n",
              "    <td style=\"padding: 0 0.5em 0 0.5em; text-align: left; border: none;\">\n",
              "        трит\n",
              "    </td>\n",
              "    \n",
              "</tr>\n",
              "        \n",
              "        \n",
              "            <tr style=\"background-color: hsl(120, 100.00%, 89.61%); border: none;\">\n",
              "                <td colspan=\"2\" style=\"padding: 0 0.5em 0 0.5em; text-align: center; border: none; white-space: nowrap;\">\n",
              "                    <i>&hellip; 19534 more positive &hellip;</i>\n",
              "                </td>\n",
              "            </tr>\n",
              "        \n",
              "\n",
              "        \n",
              "            <tr style=\"background-color: hsl(0, 100.00%, 89.14%); border: none;\">\n",
              "                <td colspan=\"2\" style=\"padding: 0 0.5em 0 0.5em; text-align: center; border: none; white-space: nowrap;\">\n",
              "                    <i>&hellip; 54895 more negative &hellip;</i>\n",
              "                </td>\n",
              "            </tr>\n",
              "        \n",
              "        \n",
              "            <tr style=\"background-color: hsl(0, 100.00%, 89.14%); border: none;\">\n",
              "    <td style=\"padding: 0 1em 0 0.5em; text-align: right; border: none;\">\n",
              "        -1.527\n",
              "    </td>\n",
              "    <td style=\"padding: 0 0.5em 0 0.5em; text-align: left; border: none;\">\n",
              "        Мин\n",
              "    </td>\n",
              "    \n",
              "</tr>\n",
              "        \n",
              "            <tr style=\"background-color: hsl(0, 100.00%, 88.86%); border: none;\">\n",
              "    <td style=\"padding: 0 1em 0 0.5em; text-align: right; border: none;\">\n",
              "        -1.583\n",
              "    </td>\n",
              "    <td style=\"padding: 0 0.5em 0 0.5em; text-align: left; border: none;\">\n",
              "        кл\n",
              "    </td>\n",
              "    \n",
              "</tr>\n",
              "        \n",
              "            <tr style=\"background-color: hsl(0, 100.00%, 88.80%); border: none;\">\n",
              "    <td style=\"padding: 0 1em 0 0.5em; text-align: right; border: none;\">\n",
              "        -1.595\n",
              "    </td>\n",
              "    <td style=\"padding: 0 0.5em 0 0.5em; text-align: left; border: none;\">\n",
              "        кой\n",
              "    </td>\n",
              "    \n",
              "</tr>\n",
              "        \n",
              "            <tr style=\"background-color: hsl(0, 100.00%, 88.61%); border: none;\">\n",
              "    <td style=\"padding: 0 1em 0 0.5em; text-align: right; border: none;\">\n",
              "        -1.633\n",
              "    </td>\n",
              "    <td style=\"padding: 0 0.5em 0 0.5em; text-align: left; border: none;\">\n",
              "        овар\n",
              "    </td>\n",
              "    \n",
              "</tr>\n",
              "        \n",
              "            <tr style=\"background-color: hsl(0, 100.00%, 88.36%); border: none;\">\n",
              "    <td style=\"padding: 0 1em 0 0.5em; text-align: right; border: none;\">\n",
              "        -1.685\n",
              "    </td>\n",
              "    <td style=\"padding: 0 0.5em 0 0.5em; text-align: left; border: none;\">\n",
              "        нкой\n",
              "    </td>\n",
              "    \n",
              "</tr>\n",
              "        \n",
              "            <tr style=\"background-color: hsl(0, 100.00%, 88.25%); border: none;\">\n",
              "    <td style=\"padding: 0 1em 0 0.5em; text-align: right; border: none;\">\n",
              "        -1.709\n",
              "    </td>\n",
              "    <td style=\"padding: 0 0.5em 0 0.5em; text-align: left; border: none;\">\n",
              "        ован\n",
              "    </td>\n",
              "    \n",
              "</tr>\n",
              "        \n",
              "            <tr style=\"background-color: hsl(0, 100.00%, 85.34%); border: none;\">\n",
              "    <td style=\"padding: 0 1em 0 0.5em; text-align: right; border: none;\">\n",
              "        -2.343\n",
              "    </td>\n",
              "    <td style=\"padding: 0 0.5em 0 0.5em; text-align: left; border: none;\">\n",
              "        <span style=\"background-color: hsl(0, 80%, 70%); margin: 0 0.1em 0 0\" title=\"A space symbol\">&emsp;</span>\n",
              "    </td>\n",
              "    \n",
              "</tr>\n",
              "        \n",
              "            <tr style=\"background-color: hsl(0, 100.00%, 80.00%); border: none;\">\n",
              "    <td style=\"padding: 0 1em 0 0.5em; text-align: right; border: none;\">\n",
              "        -3.653\n",
              "    </td>\n",
              "    <td style=\"padding: 0 0.5em 0 0.5em; text-align: left; border: none;\">\n",
              "        -\n",
              "    </td>\n",
              "    \n",
              "</tr>\n",
              "        \n",
              "\n",
              "        </tbody>\n",
              "    </table>\n",
              "\n",
              "            \n",
              "        \n",
              "\n",
              "        \n",
              "\n",
              "\n",
              "\n",
              "    \n",
              "\n",
              "    \n",
              "\n",
              "    \n",
              "\n",
              "    \n",
              "\n",
              "\n",
              "    \n",
              "\n",
              "    \n",
              "\n",
              "    \n",
              "\n",
              "    \n",
              "\n",
              "    \n",
              "\n",
              "    \n",
              "\n",
              "\n",
              "    \n",
              "\n",
              "    \n",
              "\n",
              "    \n",
              "\n",
              "    \n",
              "\n",
              "    \n",
              "\n",
              "    \n",
              "\n",
              "\n",
              "\n"
            ],
            "text/plain": [
              "<IPython.core.display.HTML object>"
            ]
          },
          "metadata": {
            "tags": []
          },
          "execution_count": 319
        }
      ]
    },
    {
      "metadata": {
        "id": "iYXljseDyd77",
        "colab_type": "code",
        "colab": {
          "base_uri": "https://localhost:8080/",
          "height": 168
        },
        "outputId": "447704ba-996c-43c0-88cd-01c6a22d415a"
      },
      "cell_type": "code",
      "source": [
        "sample_ind = np.random.randint(len(test_data))\n",
        "eli5.show_prediction(model, test_data[sample_ind], vec=vectorizer, targets=['surname'], target_names=['word', 'surname'])"
      ],
      "execution_count": 320,
      "outputs": [
        {
          "output_type": "execute_result",
          "data": {
            "text/html": [
              "\n",
              "    <style>\n",
              "    table.eli5-weights tr:hover {\n",
              "        filter: brightness(85%);\n",
              "    }\n",
              "</style>\n",
              "\n",
              "\n",
              "\n",
              "    \n",
              "\n",
              "    \n",
              "\n",
              "    \n",
              "\n",
              "    \n",
              "\n",
              "    \n",
              "\n",
              "    \n",
              "\n",
              "\n",
              "    \n",
              "\n",
              "    \n",
              "\n",
              "    \n",
              "\n",
              "    \n",
              "        \n",
              "\n",
              "    \n",
              "\n",
              "        \n",
              "\n",
              "        \n",
              "    \n",
              "        \n",
              "        \n",
              "    \n",
              "        <p style=\"margin-bottom: 0.5em; margin-top: 0em\">\n",
              "            <b>\n",
              "    \n",
              "        y=surname\n",
              "    \n",
              "</b>\n",
              "\n",
              "    \n",
              "    (probability <b>0.000</b>, score <b>-13.832</b>)\n",
              "\n",
              "top features\n",
              "        </p>\n",
              "    \n",
              "    <table class=\"eli5-weights\"\n",
              "           style=\"border-collapse: collapse; border: none; margin-top: 0em; table-layout: auto; margin-bottom: 2em;\">\n",
              "        <thead>\n",
              "        <tr style=\"border: none;\">\n",
              "            \n",
              "                <th style=\"padding: 0 1em 0 0.5em; text-align: right; border: none;\" title=\"Feature contribution already accounts for the feature value (for linear models, contribution = weight * feature value), and the sum of feature contributions is equal to the score or, for some classifiers, to the probability. Feature values are shown if &quot;show_feature_values&quot; is True.\">\n",
              "                    Contribution<sup>?</sup>\n",
              "                </th>\n",
              "            \n",
              "            <th style=\"padding: 0 0.5em 0 0.5em; text-align: left; border: none;\">Feature</th>\n",
              "            \n",
              "        </tr>\n",
              "        </thead>\n",
              "        <tbody>\n",
              "        \n",
              "        \n",
              "\n",
              "        \n",
              "        \n",
              "            <tr style=\"background-color: hsl(0, 100.00%, 96.18%); border: none;\">\n",
              "    <td style=\"padding: 0 1em 0 0.5em; text-align: right; border: none;\">\n",
              "        -1.189\n",
              "    </td>\n",
              "    <td style=\"padding: 0 0.5em 0 0.5em; text-align: left; border: none;\">\n",
              "        &lt;BIAS&gt;\n",
              "    </td>\n",
              "    \n",
              "</tr>\n",
              "        \n",
              "            <tr style=\"background-color: hsl(0, 100.00%, 80.00%); border: none;\">\n",
              "    <td style=\"padding: 0 1em 0 0.5em; text-align: right; border: none;\">\n",
              "        -12.642\n",
              "    </td>\n",
              "    <td style=\"padding: 0 0.5em 0 0.5em; text-align: left; border: none;\">\n",
              "        Highlighted in text (sum)\n",
              "    </td>\n",
              "    \n",
              "</tr>\n",
              "        \n",
              "\n",
              "        </tbody>\n",
              "    </table>\n",
              "\n",
              "    \n",
              "\n",
              "\n",
              "\n",
              "    <p style=\"margin-bottom: 2.5em; margin-top:-0.5em;\">\n",
              "        <span style=\"background-color: hsl(0, 100.00%, 83.40%); opacity: 0.86\" title=\"-0.505\">г</span><span style=\"background-color: hsl(0, 100.00%, 77.88%); opacity: 0.89\" title=\"-0.762\">р</span><span style=\"background-color: hsl(0, 100.00%, 84.96%); opacity: 0.85\" title=\"-0.439\">у</span><span style=\"background-color: hsl(0, 100.00%, 86.27%); opacity: 0.84\" title=\"-0.385\">з</span><span style=\"background-color: hsl(120, 100.00%, 98.06%); opacity: 0.80\" title=\"0.023\">о</span><span style=\"background-color: hsl(0, 100.00%, 82.08%); opacity: 0.86\" title=\"-0.564\">п</span><span style=\"background-color: hsl(0, 100.00%, 89.04%); opacity: 0.83\" title=\"-0.279\">о</span><span style=\"background-color: hsl(0, 100.00%, 80.50%); opacity: 0.87\" title=\"-0.636\">д</span><span style=\"background-color: hsl(0, 100.00%, 83.60%); opacity: 0.86\" title=\"-0.497\">ъ</span><span style=\"background-color: hsl(0, 100.00%, 80.68%); opacity: 0.87\" title=\"-0.628\">ё</span><span style=\"background-color: hsl(0, 100.00%, 80.67%); opacity: 0.87\" title=\"-0.628\">м</span><span style=\"background-color: hsl(0, 100.00%, 81.42%); opacity: 0.87\" title=\"-0.594\">н</span><span style=\"background-color: hsl(0, 100.00%, 68.05%); opacity: 0.95\" title=\"-1.288\">о</span><span style=\"background-color: hsl(0, 100.00%, 60.00%); opacity: 1.00\" title=\"-1.776\">с</span><span style=\"background-color: hsl(0, 100.00%, 68.57%); opacity: 0.94\" title=\"-1.258\">т</span><span style=\"background-color: hsl(0, 100.00%, 68.29%); opacity: 0.94\" title=\"-1.274\">ь</span><span style=\"background-color: hsl(0, 100.00%, 70.43%); opacity: 0.93\" title=\"-1.153\">ю</span>\n",
              "    </p>\n",
              "\n",
              "\n",
              "    \n",
              "\n",
              "    \n",
              "\n",
              "    \n",
              "\n",
              "    \n",
              "\n",
              "\n",
              "    \n",
              "\n",
              "    \n",
              "\n",
              "    \n",
              "\n",
              "    \n",
              "\n",
              "    \n",
              "\n",
              "    \n",
              "\n",
              "\n",
              "    \n",
              "\n",
              "    \n",
              "\n",
              "    \n",
              "\n",
              "    \n",
              "\n",
              "    \n",
              "\n",
              "    \n",
              "\n",
              "\n",
              "\n"
            ],
            "text/plain": [
              "<IPython.core.display.HTML object>"
            ]
          },
          "metadata": {
            "tags": []
          },
          "execution_count": 320
        }
      ]
    },
    {
      "metadata": {
        "id": "cQF3JlD7twQK",
        "colab_type": "text"
      },
      "cell_type": "markdown",
      "source": [
        "Кроме тупого подсчета F1-score можно посмотреть на precision-recall кривые. Во-первых, они красивые. Во-вторых, по ним видно, что можно повысить качество (F1-score), подобрав другой порог - **хотя на тесте это делать нельзя**."
      ]
    },
    {
      "metadata": {
        "id": "a7oyvJ-2EG0m",
        "colab_type": "code",
        "colab": {
          "base_uri": "https://localhost:8080/",
          "height": 457
        },
        "outputId": "e313684b-25d5-4c04-8b90-e752a9ef13b2"
      },
      "cell_type": "code",
      "source": [
        "from sklearn.metrics import precision_recall_curve\n",
        "\n",
        "precision, recall, _ = precision_recall_curve(test_labels, model.predict_proba(X_test)[:, 1])\n",
        "\n",
        "plt.figure(figsize=(7, 7))\n",
        "f_scores = np.linspace(0.2, 0.8, num=4)\n",
        "lines = []\n",
        "labels = []\n",
        "for f_score in f_scores:\n",
        "    x = np.linspace(0.01, 1)\n",
        "    y = f_score * x / (2 * x - f_score)\n",
        "    l, = plt.plot(x[y >= 0], y[y >= 0], color='gray', alpha=0.2)\n",
        "    plt.annotate('F1 = {0:0.1f}'.format(f_score), xy=(0.9, y[45] + 0.02))\n",
        "\n",
        "plt.plot(recall, precision)\n",
        "\n",
        "plt.xlim([0.0, 1.0])\n",
        "plt.ylim([0.0, 1.05])\n",
        "plt.xlabel('Recall')\n",
        "plt.ylabel('Precision')\n",
        "plt.title('Precision-Recall Curve')\n",
        "\n",
        "plt.show()"
      ],
      "execution_count": 321,
      "outputs": [
        {
          "output_type": "display_data",
          "data": {
            "image/png": "[encoded data removed]",
            "text/plain": [
              "<matplotlib.figure.Figure at 0x7fe0df360e48>"
            ]
          },
          "metadata": {
            "tags": []
          }
        }
      ]
    },
    {
      "metadata": {
        "id": "wkrt5RO-0XgP",
        "colab_type": "code",
        "colab": {}
      },
      "cell_type": "code",
      "source": [
        "# Save for later\n",
        "precision_lr = precision\n",
        "recall_lr = recall"
      ],
      "execution_count": 0,
      "outputs": []
    },
    {
      "metadata": {
        "id": "tL6Bnl8ftoYP",
        "colab_type": "text"
      },
      "cell_type": "markdown",
      "source": [
        "**Задание** Придумайте признаки, чтобы улучшить качество модели."
      ]
    },
    {
      "metadata": {
        "id": "T2Mse34BES5Z",
        "colab_type": "code",
        "colab": {}
      },
      "cell_type": "code",
      "source": [
        "# New feature: First letter expected to be in uppercase, while the rest in lower.\n",
        "\n",
        "import re\n",
        "from scipy.sparse import hstack\n",
        "\n",
        "pattern = re.compile(\"^[А-Я][а-я]+$\")\n",
        "\n",
        "train_column = np.zeros(len(train_data), dtype=int)\n",
        "for idx, entity in enumerate(train_data):\n",
        "    if pattern.match(entity):\n",
        "        train_column[idx] = 1\n",
        "\n",
        "test_column = np.zeros(len(test_data), dtype=int)\n",
        "for idx, entity in enumerate(test_data):\n",
        "    if pattern.match(entity):\n",
        "        test_column[idx] = 1\n",
        "\n",
        "X_train_tuned = hstack((X_train, train_column[:, None])).tocsr()\n",
        "X_test_tuned = hstack((X_test, test_column[:, None])).tocsr()"
      ],
      "execution_count": 0,
      "outputs": []
    },
    {
      "metadata": {
        "id": "T9MG59OaIk2_",
        "colab_type": "code",
        "colab": {
          "base_uri": "https://localhost:8080/",
          "height": 34
        },
        "outputId": "19888b70-f0dc-4218-f89f-6b62276df8cd"
      },
      "cell_type": "code",
      "source": [
        "model = LogisticRegression().fit(X_train_tuned, train_labels)\n",
        "\n",
        "test_preds = model.predict(X_test_tuned)\n",
        "print('F1-score = {:.2%}'.format(f1_score(test_labels, test_preds)))"
      ],
      "execution_count": 324,
      "outputs": [
        {
          "output_type": "stream",
          "text": [
            "F1-score = 70.37%\n"
          ],
          "name": "stdout"
        }
      ]
    },
    {
      "metadata": {
        "id": "9Lo_dEnFJ9t4",
        "colab_type": "code",
        "colab": {}
      },
      "cell_type": "code",
      "source": [
        "# Save for later\n",
        "precision_f, recall_f, _ = precision_recall_curve(test_labels, model.predict_proba(X_test_tuned)[:, 1])"
      ],
      "execution_count": 0,
      "outputs": []
    },
    {
      "metadata": {
        "id": "rRhcCJcAS4S5",
        "colab_type": "text"
      },
      "cell_type": "markdown",
      "source": [
        "## Character-Level Convolutions\n",
        "\n",
        "### Общее описание сверток\n",
        "\n",
        "Напомню, свертки - это то, с чего начался хайп нейронных сетей в районе 2012-ого.\n",
        "\n",
        "Работают они примерно так:  \n",
        "![Conv example](https://image.ibb.co/e6t8ZK/Convolution.gif)   \n",
        "From [Feature extraction using convolution](http://deeplearning.stanford.edu/wiki/index.php/Feature_extraction_using_convolution).\n",
        "\n",
        "Формально - учатся наборы фильтров, каждый из которых скалярно умножается на элементы матрицы признаков. На картинке выше исходная матрица сворачивается с фильтром\n",
        "$$\n",
        " \\begin{pmatrix}\n",
        "  1 & 0 & 1 \\\\\n",
        "  0 & 1 & 0 \\\\\n",
        "  1 & 0 & 1\n",
        " \\end{pmatrix}\n",
        "$$\n",
        "\n",
        "Но нужно не забывать, что свертки обычно имеют ещё такую размерность, как число каналов. Например, картинки имеют обычно три канала: RGB.  \n",
        "Наглядно демонстрируется как выглядят при этом фильтры [здесь](http://cs231n.github.io/convolutional-networks/#conv).\n",
        "\n",
        "После сверток обычно следуют pooling-слои. Они помогают уменьшить размерность тензора, с которым приходится работать. Самым частым является max-pooling:  \n",
        "![maxpooling](http://cs231n.github.io/assets/cnn/maxpool.jpeg =x300)  \n",
        "From [CS231n Convolutional Neural Networks for Visual Recognition](http://cs231n.github.io/convolutional-networks/#pool)"
      ]
    },
    {
      "metadata": {
        "id": "x-M3lCE1ealB",
        "colab_type": "text"
      },
      "cell_type": "markdown",
      "source": [
        "### Свёртки для текстов\n",
        "\n",
        "Для текстов свертки работают как n-граммные детекторы (примерно). Каноничный пример символьной сверточной сети:\n",
        "\n",
        "![text-convs](https://image.ibb.co/bC3Xun/2018_03_27_01_24_39.png =x500)  \n",
        "From [Character-Aware Neural Language Models](https://arxiv.org/abs/1508.06615)\n",
        "\n",
        "*Сколько учится фильтров на данном примере?*\n",
        "\n",
        "На картинке показано, как из слова извлекаются 2, 3 и 4-граммы. Например, желтые - это триграммы. Желтый фильтр прикладывают ко всем триграммам в слове, а потом с помощью global max-pooling извлекают наиболее сильный сигнал.\n",
        "\n",
        "Что это значит, если конкретнее?\n",
        "\n",
        "Каждый символ отображается с помощью эмбеддингов в некоторый вектор. А их последовательности - в конкатенации эмбеддингов.  \n",
        "Например, \"abs\" $\\to [v_a; v_b; v_s] \\in \\mathbb{R}^{3 d}$, где $d$ - размерность эмбеддинга. Желтый фильтр $f_k$ имеет такую же размерность $3d$.  \n",
        "Его прикладывание - это скалярное произведение $\\left([v_a; v_b; v_s] \\odot f_k \\right) \\in \\mathbb R$ (один из желтых квадратиков в feature map для данного фильтра).\n",
        "\n",
        "Max-pooling выбирает $max_i \\left( [v_{i-1}; v_{i}; v_{i+1}] \\odot f_k \\right)$, где $i$ пробегается по всем индексам слова от 1 до $|w| - 1$ (либо по большему диапазону, если есть padding'и).   \n",
        "Этот максимум соответствует той триграмме, которая наиболее близка к фильтру по косинусному расстоянию.\n",
        "\n",
        "В результате в векторе после max-pooling'а закодирована информация о том, какие из n-грамм встретились в слове: если встретилась близкая к нашему $f_k$ триграмма, то в $k$-той позиции вектора будет стоять большое значение, иначе - маленькое.\n",
        "\n",
        "А учим мы как раз фильтры. То есть сеть должна научиться определять, какие из n-грамм значимы, а какие - нет."
      ]
    },
    {
      "metadata": {
        "id": "xz7ApwLZ05kc",
        "colab_type": "text"
      },
      "cell_type": "markdown",
      "source": [
        "### Игрушечный пример\n",
        "\n",
        "Посмотрим на примере, что там происходит. Возьмем слово:"
      ]
    },
    {
      "metadata": {
        "id": "P7fbpo630iZa",
        "colab_type": "code",
        "colab": {}
      },
      "cell_type": "code",
      "source": [
        "word = 'Смирнов'"
      ],
      "execution_count": 0,
      "outputs": []
    },
    {
      "metadata": {
        "id": "1R4gvJVD0-0f",
        "colab_type": "text"
      },
      "cell_type": "markdown",
      "source": [
        "Для начала нужно перенумеровать символы:"
      ]
    },
    {
      "metadata": {
        "id": "x99Q65ot02Vi",
        "colab_type": "code",
        "colab": {
          "base_uri": "https://localhost:8080/",
          "height": 34
        },
        "outputId": "8be2d270-06c5-4368-d6e5-298729ede60e"
      },
      "cell_type": "code",
      "source": [
        "char2index = {symb: ind for ind, symb in enumerate(set(word))}\n",
        "\n",
        "char2index"
      ],
      "execution_count": 327,
      "outputs": [
        {
          "output_type": "execute_result",
          "data": {
            "text/plain": [
              "{'С': 2, 'в': 4, 'и': 5, 'м': 3, 'н': 6, 'о': 1, 'р': 0}"
            ]
          },
          "metadata": {
            "tags": []
          },
          "execution_count": 327
        }
      ]
    },
    {
      "metadata": {
        "id": "3sxJYZEs1M8y",
        "colab_type": "text"
      },
      "cell_type": "markdown",
      "source": [
        "Каждому символу сопоставляется эмбеддинг. Простейший способ сделать эмбеддинги - взять единичную матрицу. Когда у нас были десятки тысяч слов, такие эмбеддинги были не оч, а сейчас всего несколько символов вполне адекватно присвоить им ортогональные вектора небольшой размерности."
      ]
    },
    {
      "metadata": {
        "id": "wbApeJdb1EGq",
        "colab_type": "code",
        "colab": {
          "base_uri": "https://localhost:8080/",
          "height": 136
        },
        "outputId": "460e24ad-a14f-4f0d-a85d-8457a5d0448e"
      },
      "cell_type": "code",
      "source": [
        "embeddings = torch.eye(len(char2index))\n",
        "\n",
        "embeddings"
      ],
      "execution_count": 328,
      "outputs": [
        {
          "output_type": "execute_result",
          "data": {
            "text/plain": [
              "tensor([[1., 0., 0., 0., 0., 0., 0.],\n",
              "        [0., 1., 0., 0., 0., 0., 0.],\n",
              "        [0., 0., 1., 0., 0., 0., 0.],\n",
              "        [0., 0., 0., 1., 0., 0., 0.],\n",
              "        [0., 0., 0., 0., 1., 0., 0.],\n",
              "        [0., 0., 0., 0., 0., 1., 0.],\n",
              "        [0., 0., 0., 0., 0., 0., 1.]])"
            ]
          },
          "metadata": {
            "tags": []
          },
          "execution_count": 328
        }
      ]
    },
    {
      "metadata": {
        "id": "mP9i5pPx2BGs",
        "colab_type": "text"
      },
      "cell_type": "markdown",
      "source": [
        "Построим тензор индексов символов слова:"
      ]
    },
    {
      "metadata": {
        "id": "PBIIlHy91ohP",
        "colab_type": "code",
        "colab": {
          "base_uri": "https://localhost:8080/",
          "height": 34
        },
        "outputId": "23b13697-bd0d-4d61-c3ec-17577c7c10ed"
      },
      "cell_type": "code",
      "source": [
        "word_tensor = LongTensor([char2index[symb] for symb in word])\n",
        "\n",
        "word_tensor"
      ],
      "execution_count": 329,
      "outputs": [
        {
          "output_type": "execute_result",
          "data": {
            "text/plain": [
              "tensor([2, 3, 5, 0, 6, 1, 4], device='cuda:0')"
            ]
          },
          "metadata": {
            "tags": []
          },
          "execution_count": 329
        }
      ]
    },
    {
      "metadata": {
        "id": "eL3qLw-p2Htk",
        "colab_type": "text"
      },
      "cell_type": "markdown",
      "source": [
        "Отобразим его в эмбеддинги. Получили такой же прямоугольничек, как на картинке (транспонирование нужно, чтобы смотрело в ту же сторону)."
      ]
    },
    {
      "metadata": {
        "id": "4fkChxtt1yqY",
        "colab_type": "code",
        "colab": {
          "base_uri": "https://localhost:8080/",
          "height": 136
        },
        "outputId": "26a7e8d0-f524-433a-ccc2-6710cda9a86a"
      },
      "cell_type": "code",
      "source": [
        "word_embs = embeddings[word_tensor].t()\n",
        "\n",
        "word_embs"
      ],
      "execution_count": 330,
      "outputs": [
        {
          "output_type": "execute_result",
          "data": {
            "text/plain": [
              "tensor([[0., 0., 0., 1., 0., 0., 0.],\n",
              "        [0., 0., 0., 0., 0., 1., 0.],\n",
              "        [1., 0., 0., 0., 0., 0., 0.],\n",
              "        [0., 1., 0., 0., 0., 0., 0.],\n",
              "        [0., 0., 0., 0., 0., 0., 1.],\n",
              "        [0., 0., 1., 0., 0., 0., 0.],\n",
              "        [0., 0., 0., 0., 1., 0., 0.]])"
            ]
          },
          "metadata": {
            "tags": []
          },
          "execution_count": 330
        }
      ]
    },
    {
      "metadata": {
        "id": "QL4o1EI-2O_I",
        "colab_type": "text"
      },
      "cell_type": "markdown",
      "source": [
        "Теперь дело дошло до сверток. Сделаем фильтр-детектор триграммы `нов`:"
      ]
    },
    {
      "metadata": {
        "id": "ToW8KCUY1723",
        "colab_type": "code",
        "colab": {
          "base_uri": "https://localhost:8080/",
          "height": 136
        },
        "outputId": "f03f7621-7615-4ada-e52a-d830f54a986d"
      },
      "cell_type": "code",
      "source": [
        "kernel_name = 'нов'\n",
        "\n",
        "kernel_indices = LongTensor([char2index[symb] for symb in kernel_name])\n",
        "kernel_weights = embeddings[kernel_indices].t()\n",
        "\n",
        "kernel_weights"
      ],
      "execution_count": 331,
      "outputs": [
        {
          "output_type": "execute_result",
          "data": {
            "text/plain": [
              "tensor([[0., 0., 0.],\n",
              "        [0., 1., 0.],\n",
              "        [0., 0., 0.],\n",
              "        [0., 0., 0.],\n",
              "        [0., 0., 1.],\n",
              "        [0., 0., 0.],\n",
              "        [1., 0., 0.]])"
            ]
          },
          "metadata": {
            "tags": []
          },
          "execution_count": 331
        }
      ]
    },
    {
      "metadata": {
        "id": "kTxfchOy4c9w",
        "colab_type": "text"
      },
      "cell_type": "markdown",
      "source": [
        "Чтобы посчитать свёртку, воспользуемся функцией:\n",
        "\n",
        "```python\n",
        "F.conv2d(input, weight, bias=None, stride=1, padding=0, dilation=1, groups=1) -> Tensor\n",
        "```\n",
        "\n",
        "input: input tensor of shape ($N \\times C_{in} \\times H_{in} \\times W_{in}$)  \n",
        "weight: filters of shape ($C_{out} \\times C_{in} \\times H_{out} \\times W_{out}$)\n",
        "\n",
        "$N$ - размер батча (1 у нас). $C_{in}$ - число каналов. В нашем случае оно всегда будет 1 (пока что). $C_{out}$ - число фильтров. Оно пока 1.\n",
        "\n",
        "Нам понадобятся четырехмерные тензоры, для этого воспользуемся `view`:"
      ]
    },
    {
      "metadata": {
        "id": "Oyd3Na7V3JMr",
        "colab_type": "code",
        "colab": {
          "base_uri": "https://localhost:8080/",
          "height": 51
        },
        "outputId": "2cc2aa29-ce77-4076-9b19-5cbab317a717"
      },
      "cell_type": "code",
      "source": [
        "word_embs = word_embs.view(1, 1, word_embs.shape[0], word_embs.shape[1])\n",
        "kernel_weights = kernel_weights.view(1, 1, kernel_weights.shape[0], kernel_weights.shape[1])\n",
        "\n",
        "conv_result = F.conv2d(word_embs, kernel_weights)[0, 0]\n",
        "\n",
        "print('Conv =', conv_result)\n",
        "print('Max pooling =', conv_result.max())"
      ],
      "execution_count": 332,
      "outputs": [
        {
          "output_type": "stream",
          "text": [
            "Conv = tensor([[0., 0., 0., 0., 3.]])\n",
            "Max pooling = tensor(3.)\n"
          ],
          "name": "stdout"
        }
      ]
    },
    {
      "metadata": {
        "id": "tVAiQ2PG6SOd",
        "colab_type": "text"
      },
      "cell_type": "markdown",
      "source": [
        "Свертка сказала, что данный фильтр есть на последней позиции. Пулинг сказал, пофиг на какой позиции - главное, он есть."
      ]
    },
    {
      "metadata": {
        "id": "h7ZVbNOGoV5z",
        "colab_type": "text"
      },
      "cell_type": "markdown",
      "source": [
        "### Подготовка данных\n",
        "\n",
        "Первый шаг - определить, какой длины слова у нас. Ограничимся каким-то числом, а более длинные будем обрезать."
      ]
    },
    {
      "metadata": {
        "id": "DEtZ6g78Wtj-",
        "colab_type": "code",
        "colab": {
          "base_uri": "https://localhost:8080/",
          "height": 34
        },
        "outputId": "d8474a5b-076b-43b8-fed8-7a2d8d2ae352"
      },
      "cell_type": "code",
      "source": [
        "from collections import Counter \n",
        "    \n",
        "def find_max_len(counter, threshold):\n",
        "    sum_count = sum(counter.values())\n",
        "    cum_count = 0\n",
        "    for i in range(max(counter)):\n",
        "        cum_count += counter[i]\n",
        "        if cum_count > sum_count * threshold:\n",
        "            return i\n",
        "    return max(counter)\n",
        "\n",
        "word_len_counter = Counter()\n",
        "for word in train_data:\n",
        "    word_len_counter[len(word)] += 1\n",
        "    \n",
        "threshold = 0.99\n",
        "MAX_WORD_LEN = find_max_len(word_len_counter, threshold)\n",
        "\n",
        "print('Max word length for {:.0%} of words is {}'.format(threshold, MAX_WORD_LEN))"
      ],
      "execution_count": 333,
      "outputs": [
        {
          "output_type": "stream",
          "text": [
            "Max word length for 99% of words is 17\n"
          ],
          "name": "stdout"
        }
      ]
    },
    {
      "metadata": {
        "id": "MdKoOBdE8uj4",
        "colab_type": "text"
      },
      "cell_type": "markdown",
      "source": [
        "Соберем отображение из символов в индексы."
      ]
    },
    {
      "metadata": {
        "id": "YyMoPEXGVs3s",
        "colab_type": "code",
        "colab": {
          "base_uri": "https://localhost:8080/",
          "height": 74
        },
        "outputId": "06aee206-91dd-44bc-db3a-0ac19b85f922"
      },
      "cell_type": "code",
      "source": [
        "chars = set()\n",
        "for word in train_data:\n",
        "    chars.update(word)\n",
        "\n",
        "char_index = {c : i + 1 for i, c in enumerate(chars)}\n",
        "char_index['<pad>'] = 0\n",
        "    \n",
        "print(char_index)"
      ],
      "execution_count": 334,
      "outputs": [
        {
          "output_type": "stream",
          "text": [
            "{'Ч': 1, 'е': 2, 'б': 3, 'Ь': 4, 'ó': 5, 'И': 6, 'Ъ': 7, 'ш': 8, 'м': 9, 'в': 10, 'Ю': 11, '.': 12, 'Д': 13, 'н': 14, 'ё': 15, 'Ф': 16, '-': 17, 'Л': 18, 'т': 19, 'З': 20, 'г': 21, 'Ó': 22, '7': 23, '’': 24, 'Г': 25, 'к': 26, 'ч': 27, 'р': 28, 'К': 29, 'Э': 30, '«': 31, 'Ж': 32, '“': 33, ' ': 34, 'ъ': 35, 'Н': 36, 'Щ': 37, '·': 38, 'э': 39, 'Е': 40, 'я': 41, 'ф': 42, '2': 43, 'а': 44, 'з': 45, 'й': 46, 'Б': 47, 'х': 48, '/': 49, '4': 50, 'л': 51, \"'\": 52, 'ы': 53, 'С': 54, 'Х': 55, 'и': 56, 'Ы': 57, 'Ё': 58, 'Р': 59, 'ю': 60, 'Ш': 61, '»': 62, 'д': 63, 'Я': 64, 'щ': 65, 'ц': 66, 'М': 67, 'п': 68, 'О': 69, 'ж': 70, 'Й': 71, 'В': 72, '”': 73, 'о': 74, 'ь': 75, 'у': 76, 'Ц': 77, 'ѐ': 78, 'У': 79, 'П': 80, 'с': 81, '3': 82, 'Т': 83, 'А': 84, '<pad>': 0}\n"
          ],
          "name": "stdout"
        }
      ]
    },
    {
      "metadata": {
        "id": "4spzGF2CImtL",
        "colab_type": "text"
      },
      "cell_type": "markdown",
      "source": [
        "**Задание** Сконвертируйте данные"
      ]
    },
    {
      "metadata": {
        "id": "qETmYKm8W_TX",
        "colab_type": "code",
        "colab": {}
      },
      "cell_type": "code",
      "source": [
        "def convert_data(data, max_word_len, char_index):\n",
        "    res = np.zeros((len(data), max_word_len))\n",
        "    \n",
        "    for i, word in enumerate(data):\n",
        "        word = word[-max_word_len:]\n",
        "        res[i, :len(word)] = [char_index.get(symb, 0) for symb in word]\n",
        "      \n",
        "    return res\n",
        "\n",
        "X_train = convert_data(train_data, MAX_WORD_LEN, char_index)\n",
        "X_test = convert_data(test_data, MAX_WORD_LEN, char_index)"
      ],
      "execution_count": 0,
      "outputs": []
    },
    {
      "metadata": {
        "id": "VufrP006Vk-y",
        "colab_type": "code",
        "colab": {}
      },
      "cell_type": "code",
      "source": [
        "def iterate_batches(X, y, batch_size):\n",
        "    num_samples = X.shape[0]\n",
        "\n",
        "    indices = np.arange(num_samples)\n",
        "    np.random.shuffle(indices)\n",
        "    \n",
        "    for start in range(0, num_samples, batch_size):\n",
        "        end = min(start + batch_size, num_samples)\n",
        "        \n",
        "        batch_idx = indices[start: end]\n",
        "        \n",
        "        yield X[batch_idx], y[batch_idx]"
      ],
      "execution_count": 0,
      "outputs": []
    },
    {
      "metadata": {
        "id": "gkXlKB7lobYE",
        "colab_type": "text"
      },
      "cell_type": "markdown",
      "source": [
        "### MyFirstConvCharNN\n",
        "\n",
        "Теперь построим свёрточную модель.\n",
        "\n",
        "Пусть она будет строить триграммы - то есть применять фильтры на 3 символа.\n",
        "\n",
        "Начнем с последовательности: `nn.Embedding -> nn.Conv2d -> nn.ReLU -> max pooling -> nn.Linear`\n",
        "\n",
        "`nn.Conv2d` - это слой, содержащий создание и инициализацию фильтров, и вызов `F.conv2d` к ним и входу.\n",
        "\n",
        "*Лайфхак:* последовательности операций можно запаковывать в `nn.Sequential`."
      ]
    },
    {
      "metadata": {
        "id": "v2T4AorsZ530",
        "colab_type": "code",
        "colab": {}
      },
      "cell_type": "code",
      "source": [
        "class ConvClassifier(nn.Module):\n",
        "    def __init__(self, vocab_size, emb_dim, filters_count):\n",
        "        super().__init__()\n",
        "        \n",
        "        self._embedding = nn.Embedding(vocab_size, emb_dim)\n",
        "        self._conv3 = nn.Sequential(\n",
        "            nn.Conv2d(in_channels=1, out_channels=filters_count, kernel_size=(4, emb_dim)),\n",
        "            nn.ReLU(inplace=True)\n",
        "        )\n",
        "        self._out_layer = nn.Linear(filters_count, 1)\n",
        "        \n",
        "    def forward(self, inputs):\n",
        "        '''\n",
        "        inputs - LongTensor with shape (batch_size, max_word_len)\n",
        "        outputs - FloatTensor with shape (batch_size,)\n",
        "        '''\n",
        "        \n",
        "        outputs = self.embed(inputs)\n",
        "        return self._out_layer(outputs).squeeze(-1)\n",
        "    \n",
        "    def embed(self, inputs):\n",
        "        return self._conv3(self._embedding(inputs).unsqueeze(1)).squeeze(-1).max(-1)[0]"
      ],
      "execution_count": 0,
      "outputs": []
    },
    {
      "metadata": {
        "id": "0iTDc9rEAHN6",
        "colab_type": "text"
      },
      "cell_type": "markdown",
      "source": [
        "Проверьте, что всё работает:"
      ]
    },
    {
      "metadata": {
        "id": "WiAdrSaU_wjQ",
        "colab_type": "code",
        "colab": {}
      },
      "cell_type": "code",
      "source": [
        "X_batch, y_batch = next(iterate_batches(X_train, train_labels, 32))\n",
        "X_batch, y_batch = LongTensor(X_batch), LongTensor(y_batch)\n",
        "\n",
        "model = ConvClassifier(len(char_index) + 1, 24, 64).cuda()\n",
        "logits = model(X_batch)"
      ],
      "execution_count": 0,
      "outputs": []
    },
    {
      "metadata": {
        "id": "x39p9w-tA_Ds",
        "colab_type": "text"
      },
      "cell_type": "markdown",
      "source": [
        "**Задание** Подсчитайте precision, recall и F1-score для полученных предсказаний."
      ]
    },
    {
      "metadata": {
        "id": "mkup8em20gK1",
        "colab_type": "code",
        "colab": {}
      },
      "cell_type": "code",
      "source": [
        "y_pred = (logits > 0).long()"
      ],
      "execution_count": 0,
      "outputs": []
    },
    {
      "metadata": {
        "id": "BoyvFYPu4rk9",
        "colab_type": "code",
        "colab": {}
      },
      "cell_type": "code",
      "source": [
        "tp = int((y_pred * y_batch).sum())\n",
        "fp = int(((1 - y_batch) * y_pred).sum())\n",
        "fn = int(((1 - y_pred) * y_batch).sum())"
      ],
      "execution_count": 0,
      "outputs": []
    },
    {
      "metadata": {
        "id": "jj9a8fcD1bII",
        "colab_type": "code",
        "colab": {}
      },
      "cell_type": "code",
      "source": [
        "precision = tp / (tp + fp) if (tp + fp) > 0 else 0\n",
        "recall = tp / (tp + fn) if (tp + fn) > 0 else 0\n",
        "f1 = 2 * precision * recall / (precision + recall) if (precision + recall) > 0 else 0"
      ],
      "execution_count": 0,
      "outputs": []
    },
    {
      "metadata": {
        "id": "SYGIyyTf57cT",
        "colab_type": "code",
        "colab": {
          "base_uri": "https://localhost:8080/",
          "height": 68
        },
        "outputId": "64a2a625-500a-4cdc-b0ff-cbe139b55c6d"
      },
      "cell_type": "code",
      "source": [
        "print('PRECISION: {:.2f}'.format(precision))\n",
        "print('RECALL: {:.2f}'.format(recall))\n",
        "print('F1-SCORE: {:.2f}'.format(f1))"
      ],
      "execution_count": 342,
      "outputs": [
        {
          "output_type": "stream",
          "text": [
            "PRECISION: 0.12\n",
            "RECALL: 1.00\n",
            "F1-SCORE: 0.22\n"
          ],
          "name": "stdout"
        }
      ]
    },
    {
      "metadata": {
        "id": "1TFsKlF9BV8X",
        "colab_type": "text"
      },
      "cell_type": "markdown",
      "source": [
        "**Задание** Напишем теперь цикл обучения, который не слишком сложно будет переиспользовать"
      ]
    },
    {
      "metadata": {
        "id": "MsCtTJucVjMH",
        "colab_type": "code",
        "colab": {}
      },
      "cell_type": "code",
      "source": [
        "import math\n",
        "import time\n",
        "\n",
        "def do_epoch(model, criterion, data, batch_size, optimizer=None):\n",
        "    epoch_loss, epoch_tp, epoch_fp, epoch_fn = 0, 0, 0, 0\n",
        "    \n",
        "    is_train = not optimizer is None\n",
        "    model.train(is_train)\n",
        "    \n",
        "    data, labels = data\n",
        "    batchs_count = math.ceil(data.shape[0] / batch_size)\n",
        "    \n",
        "    with torch.autograd.set_grad_enabled(is_train):\n",
        "        for i, (X_batch, y_batch) in enumerate(iterate_batches(data, labels, batch_size)):\n",
        "            X_batch, y_batch = LongTensor(X_batch), FloatTensor(y_batch)\n",
        "\n",
        "            logits = model(X_batch)\n",
        "\n",
        "            loss = criterion(logits, y_batch)\n",
        "            epoch_loss += loss.item()\n",
        "\n",
        "            if is_train:\n",
        "                loss.backward()\n",
        "                optimizer.step()\n",
        "                optimizer.zero_grad()\n",
        "\n",
        "            y_pred = (logits > 0).float()\n",
        "            tp = int((y_pred * y_batch).sum())\n",
        "            fp = int(((1 - y_batch) * y_pred).sum())\n",
        "            fn = int(((1 - y_pred) * y_batch).sum())\n",
        "\n",
        "            precision = tp / (tp + fp) if (tp + fp) > 0 else 0\n",
        "            recall = tp / (tp + fn) if (tp + fn) > 0 else 0\n",
        "            f1 = 2 * precision * recall / (precision + recall) if (precision + recall) > 0 else 0\n",
        "            \n",
        "            epoch_tp += tp\n",
        "            epoch_fp += fp\n",
        "            epoch_fn += fn\n",
        "\n",
        "            print('\\r[{} / {}]: Loss = {:.4f}, Precision = {:.2%}, Recall = {:.2%}, F1 = {:.2%}'.format(\n",
        "                  i, batchs_count, loss.item(), precision, recall, f1), end='')\n",
        "        \n",
        "    precision = epoch_tp / (epoch_tp + epoch_fp) if (epoch_tp + epoch_fp) > 0 else 0\n",
        "    recall = epoch_tp / (epoch_tp + epoch_fn) if (epoch_tp + epoch_fn) > 0 else 0\n",
        "    f1 = 2 * precision * recall / (precision + recall) if (precision + recall) > 0 else 0\n",
        "        \n",
        "    return epoch_loss / batchs_count, recall, precision, f1\n",
        "\n",
        "def fit(model, criterion, optimizer, train_data, epochs_count=1, \n",
        "        batch_size=32, val_data=None, val_batch_size=None):\n",
        "    if not val_data is None and val_batch_size is None:\n",
        "        val_batch_size = batch_size\n",
        "        \n",
        "    for epoch in range(epochs_count):\n",
        "        start_time = time.time()\n",
        "        train_loss, train_recall, train_precision, train_f1 = do_epoch(\n",
        "            model, criterion, train_data, batch_size, optimizer\n",
        "        )\n",
        "        \n",
        "        output_info = '\\rEpoch {} / {}, Epoch Time = {:.2f}s: Train Loss = {:.4f}, Precision = {:.2%}, Recall = {:.2%}, F1 = {:.2%}'\n",
        "        if not val_data is None:\n",
        "            val_loss, val_recall, val_precision, val_f1 = do_epoch(model, criterion, val_data, val_batch_size, None)\n",
        "            \n",
        "            epoch_time = time.time() - start_time\n",
        "            output_info += ', Val Loss = {:.4f}, Precision = {:.2%}, Recall = {:.2%}, F1 = {:.2%}'\n",
        "            print(output_info.format(epoch+1, epochs_count, epoch_time, \n",
        "                                     train_loss, train_recall, train_precision, train_f1,\n",
        "                                     val_loss, val_recall, val_precision, val_f1))\n",
        "        else:\n",
        "            epoch_time = time.time() - start_time\n",
        "            print(output_info.format(epoch+1, epochs_count, epoch_time, train_loss))"
      ],
      "execution_count": 0,
      "outputs": []
    },
    {
      "metadata": {
        "id": "jlq63hAXh0Gr",
        "colab_type": "code",
        "colab": {
          "base_uri": "https://localhost:8080/",
          "height": 1020
        },
        "outputId": "e514cccd-d7e9-4a31-e768-4c6f066878be"
      },
      "cell_type": "code",
      "source": [
        "model = ConvClassifier(len(char_index) + 1, 24, 128).cuda()\n",
        "\n",
        "criterion = nn.BCEWithLogitsLoss().cuda()\n",
        "\n",
        "optimizer = optim.Adam([param for param in model.parameters() if param.requires_grad])\n",
        "\n",
        "fit(model, criterion, optimizer, train_data=(X_train, train_labels), epochs_count=35, \n",
        "    batch_size=512, val_data=(X_test, test_labels), val_batch_size=1024)"
      ],
      "execution_count": 344,
      "outputs": [
        {
          "output_type": "stream",
          "text": [
            "Epoch 1 / 35, Epoch Time = 2.42s: Train Loss = 0.3498, Precision = 1.36%, Recall = 12.11%, F1 = 2.45%, Val Loss = 0.3062, Precision = 2.16%, Recall = 80.68%, F1 = 4.22%\n",
            "Epoch 2 / 35, Epoch Time = 2.31s: Train Loss = 0.2791, Precision = 11.69%, Recall = 73.08%, F1 = 20.16%, Val Loss = 0.2674, Precision = 16.52%, Recall = 75.28%, F1 = 27.10%\n",
            "Epoch 3 / 35, Epoch Time = 2.31s: Train Loss = 0.2476, Precision = 26.40%, Recall = 74.59%, F1 = 39.00%, Val Loss = 0.2423, Precision = 31.55%, Recall = 76.89%, F1 = 44.75%\n",
            "Epoch 4 / 35, Epoch Time = 2.31s: Train Loss = 0.2276, Precision = 36.48%, Recall = 75.56%, F1 = 49.21%, Val Loss = 0.2274, Precision = 39.76%, Recall = 76.12%, F1 = 52.23%\n",
            "Epoch 5 / 35, Epoch Time = 2.35s: Train Loss = 0.2134, Precision = 42.34%, Recall = 76.90%, F1 = 54.61%, Val Loss = 0.2178, Precision = 42.01%, Recall = 77.55%, F1 = 54.50%\n",
            "Epoch 6 / 35, Epoch Time = 2.33s: Train Loss = 0.2018, Precision = 47.00%, Recall = 78.18%, F1 = 58.70%, Val Loss = 0.2098, Precision = 49.09%, Recall = 76.19%, F1 = 59.71%\n",
            "Epoch 7 / 35, Epoch Time = 2.35s: Train Loss = 0.1930, Precision = 50.41%, Recall = 79.41%, F1 = 61.67%, Val Loss = 0.2069, Precision = 45.88%, Recall = 80.05%, F1 = 58.33%\n",
            "Epoch 8 / 35, Epoch Time = 2.32s: Train Loss = 0.1854, Precision = 52.94%, Recall = 80.55%, F1 = 63.89%, Val Loss = 0.2029, Precision = 55.91%, Recall = 74.19%, F1 = 63.77%\n",
            "Epoch 9 / 35, Epoch Time = 2.32s: Train Loss = 0.1794, Precision = 55.72%, Recall = 81.05%, F1 = 66.04%, Val Loss = 0.1996, Precision = 50.09%, Recall = 78.31%, F1 = 61.10%\n",
            "Epoch 10 / 35, Epoch Time = 2.32s: Train Loss = 0.1733, Precision = 57.54%, Recall = 82.08%, F1 = 67.65%, Val Loss = 0.1999, Precision = 47.62%, Recall = 81.95%, F1 = 60.24%\n",
            "Epoch 11 / 35, Epoch Time = 2.34s: Train Loss = 0.1674, Precision = 58.86%, Recall = 82.42%, F1 = 68.68%, Val Loss = 0.1964, Precision = 56.22%, Recall = 75.73%, F1 = 64.53%\n",
            "Epoch 12 / 35, Epoch Time = 2.32s: Train Loss = 0.1638, Precision = 60.33%, Recall = 81.71%, F1 = 69.41%, Val Loss = 0.1942, Precision = 52.68%, Recall = 79.74%, F1 = 63.45%\n",
            "Epoch 13 / 35, Epoch Time = 2.32s: Train Loss = 0.1588, Precision = 61.55%, Recall = 83.83%, F1 = 70.98%, Val Loss = 0.1942, Precision = 55.03%, Recall = 77.37%, F1 = 64.31%\n",
            "Epoch 14 / 35, Epoch Time = 2.35s: Train Loss = 0.1545, Precision = 62.89%, Recall = 83.60%, F1 = 71.78%, Val Loss = 0.1931, Precision = 55.06%, Recall = 78.05%, F1 = 64.57%\n",
            "Epoch 15 / 35, Epoch Time = 2.32s: Train Loss = 0.1506, Precision = 63.91%, Recall = 84.01%, F1 = 72.60%, Val Loss = 0.1930, Precision = 58.51%, Recall = 75.43%, F1 = 65.90%\n",
            "Epoch 16 / 35, Epoch Time = 2.34s: Train Loss = 0.1482, Precision = 64.66%, Recall = 83.96%, F1 = 73.06%, Val Loss = 0.1935, Precision = 53.41%, Recall = 79.49%, F1 = 63.89%\n",
            "Epoch 17 / 35, Epoch Time = 2.30s: Train Loss = 0.1441, Precision = 65.66%, Recall = 85.05%, F1 = 74.11%, Val Loss = 0.1917, Precision = 58.23%, Recall = 75.73%, F1 = 65.84%\n",
            "Epoch 18 / 35, Epoch Time = 2.33s: Train Loss = 0.1402, Precision = 67.02%, Recall = 85.26%, F1 = 75.05%, Val Loss = 0.1930, Precision = 54.30%, Recall = 78.35%, F1 = 64.15%\n",
            "Epoch 19 / 35, Epoch Time = 2.32s: Train Loss = 0.1379, Precision = 68.25%, Recall = 85.80%, F1 = 76.03%, Val Loss = 0.1922, Precision = 59.33%, Recall = 74.99%, F1 = 66.25%\n",
            "Epoch 20 / 35, Epoch Time = 2.37s: Train Loss = 0.1343, Precision = 68.82%, Recall = 86.22%, F1 = 76.54%, Val Loss = 0.1937, Precision = 58.51%, Recall = 75.55%, F1 = 65.95%\n",
            "Epoch 21 / 35, Epoch Time = 2.32s: Train Loss = 0.1314, Precision = 69.94%, Recall = 86.72%, F1 = 77.43%, Val Loss = 0.1936, Precision = 56.46%, Recall = 77.88%, F1 = 65.46%\n",
            "Epoch 22 / 35, Epoch Time = 2.34s: Train Loss = 0.1289, Precision = 70.82%, Recall = 86.77%, F1 = 77.99%, Val Loss = 0.1945, Precision = 60.34%, Recall = 74.29%, F1 = 66.59%\n",
            "Epoch 23 / 35, Epoch Time = 2.34s: Train Loss = 0.1260, Precision = 71.18%, Recall = 87.41%, F1 = 78.46%, Val Loss = 0.1970, Precision = 65.73%, Recall = 69.86%, F1 = 67.73%\n",
            "Epoch 24 / 35, Epoch Time = 2.33s: Train Loss = 0.1242, Precision = 71.91%, Recall = 87.79%, F1 = 79.06%, Val Loss = 0.1939, Precision = 60.95%, Recall = 74.17%, F1 = 66.91%\n",
            "Epoch 25 / 35, Epoch Time = 2.33s: Train Loss = 0.1204, Precision = 72.98%, Recall = 88.11%, F1 = 79.84%, Val Loss = 0.1977, Precision = 55.00%, Recall = 78.16%, F1 = 64.57%\n",
            "Epoch 26 / 35, Epoch Time = 2.33s: Train Loss = 0.1182, Precision = 73.38%, Recall = 88.49%, F1 = 80.23%, Val Loss = 0.1984, Precision = 61.49%, Recall = 73.72%, F1 = 67.05%\n",
            "Epoch 27 / 35, Epoch Time = 2.35s: Train Loss = 0.1154, Precision = 74.46%, Recall = 89.03%, F1 = 81.09%, Val Loss = 0.1973, Precision = 59.33%, Recall = 75.78%, F1 = 66.55%\n",
            "Epoch 28 / 35, Epoch Time = 2.31s: Train Loss = 0.1127, Precision = 74.90%, Recall = 89.39%, F1 = 81.51%, Val Loss = 0.1999, Precision = 57.10%, Recall = 77.59%, F1 = 65.79%\n",
            "Epoch 29 / 35, Epoch Time = 2.31s: Train Loss = 0.1107, Precision = 75.51%, Recall = 89.88%, F1 = 82.07%, Val Loss = 0.1975, Precision = 60.73%, Recall = 74.41%, F1 = 66.88%\n",
            "Epoch 30 / 35, Epoch Time = 2.32s: Train Loss = 0.1082, Precision = 76.39%, Recall = 89.24%, F1 = 82.32%, Val Loss = 0.1991, Precision = 60.46%, Recall = 74.13%, F1 = 66.60%\n",
            "Epoch 31 / 35, Epoch Time = 2.39s: Train Loss = 0.1064, Precision = 76.82%, Recall = 89.53%, F1 = 82.69%, Val Loss = 0.2012, Precision = 59.57%, Recall = 75.59%, F1 = 66.63%\n",
            "Epoch 32 / 35, Epoch Time = 2.31s: Train Loss = 0.1037, Precision = 77.24%, Recall = 90.52%, F1 = 83.36%, Val Loss = 0.2041, Precision = 65.76%, Recall = 69.36%, F1 = 67.51%\n",
            "Epoch 33 / 35, Epoch Time = 2.42s: Train Loss = 0.1020, Precision = 77.72%, Recall = 90.73%, F1 = 83.72%, Val Loss = 0.2047, Precision = 63.81%, Recall = 70.42%, F1 = 66.95%\n",
            "Epoch 34 / 35, Epoch Time = 2.32s: Train Loss = 0.1008, Precision = 78.10%, Recall = 90.34%, F1 = 83.78%, Val Loss = 0.2034, Precision = 62.65%, Recall = 73.13%, F1 = 67.49%\n",
            "Epoch 35 / 35, Epoch Time = 2.33s: Train Loss = 0.0987, Precision = 78.55%, Recall = 91.16%, F1 = 84.39%, Val Loss = 0.2064, Precision = 62.04%, Recall = 71.91%, F1 = 66.61%\n"
          ],
          "name": "stdout"
        }
      ]
    },
    {
      "metadata": {
        "id": "4o-1AEcFCjAk",
        "colab_type": "text"
      },
      "cell_type": "markdown",
      "source": [
        "**Задание** Проверьте работу классификатора на вашей фамилии.\n",
        "\n",
        "Нужно не забыть перевести модель в режим инференса - некоторые слои на трейне и инференсе ведут себя по-разному."
      ]
    },
    {
      "metadata": {
        "id": "svO9OrF4CiLI",
        "colab_type": "code",
        "colab": {
          "base_uri": "https://localhost:8080/",
          "height": 34
        },
        "outputId": "93064ad6-0af6-49aa-d42c-cd08ae51b99b"
      },
      "cell_type": "code",
      "source": [
        "model.eval()\n",
        "\n",
        "surname = 'Рубаненко'\n",
        "surname_tensor = LongTensor(convert_data([surname], len(surname), char_index))\n",
        "print('P({} is surname) = {}'.format(surname, torch.sigmoid(model(surname_tensor))))"
      ],
      "execution_count": 352,
      "outputs": [
        {
          "output_type": "stream",
          "text": [
            "P(Рубаненко is surname) = tensor([0.0901], device='cuda:0', grad_fn=<SigmoidBackward>)\n"
          ],
          "name": "stdout"
        }
      ]
    },
    {
      "metadata": {
        "id": "djkksZKcDPA1",
        "colab_type": "text"
      },
      "cell_type": "markdown",
      "source": [
        "**Задание** Постройте precision-recall curve для данного классификатора и предыдущей модели"
      ]
    },
    {
      "metadata": {
        "id": "dFK5v1xGASAB",
        "colab_type": "code",
        "colab": {}
      },
      "cell_type": "code",
      "source": [
        "X_test = LongTensor(X_test)\n",
        "y_pred = model(X_test).cpu().detach().numpy()"
      ],
      "execution_count": 0,
      "outputs": []
    },
    {
      "metadata": {
        "id": "PZm7O56pDcH_",
        "colab_type": "code",
        "colab": {
          "base_uri": "https://localhost:8080/",
          "height": 457
        },
        "outputId": "7fa039e7-0757-42a4-a161-60f7d368d8ad"
      },
      "cell_type": "code",
      "source": [
        "precision, recall, _ = precision_recall_curve(test_labels, y_pred)\n",
        "\n",
        "plt.figure(figsize=(7, 7))\n",
        "f_scores = np.linspace(0.2, 0.8, num=4)\n",
        "lines = []\n",
        "labels = []\n",
        "for f_score in f_scores:\n",
        "    x = np.linspace(0.01, 1)\n",
        "    y = f_score * x / (2 * x - f_score)\n",
        "    l, = plt.plot(x[y >= 0], y[y >= 0], color='gray', alpha=0.2)\n",
        "    plt.annotate('F1 = {0:0.1f}'.format(f_score), xy=(0.9, y[45] + 0.02))\n",
        "\n",
        "plt.plot(recall, precision, c='g', label='ConvNet')\n",
        "plt.plot(recall_lr, precision_lr, c='b', label='LogReg')\n",
        "plt.plot(recall_f, precision_f, c='purple', label='TunedLogReg')\n",
        "\n",
        "plt.xlim([0.0, 1.0])\n",
        "plt.ylim([0.0, 1.05])\n",
        "plt.xlabel('Recall')\n",
        "plt.ylabel('Precision')\n",
        "plt.title('Precision-Recall Curve')\n",
        "plt.legend()\n",
        "\n",
        "plt.show()"
      ],
      "execution_count": 354,
      "outputs": [
        {
          "output_type": "display_data",
          "data": {
            "image/png": "[encoded data removed]",
            "text/plain": [
              "<matplotlib.figure.Figure at 0x7fe0d56db748>"
            ]
          },
          "metadata": {
            "tags": []
          }
        }
      ]
    },
    {
      "metadata": {
        "id": "_FPTfBzSDheP",
        "colab_type": "text"
      },
      "cell_type": "markdown",
      "source": [
        "## Визуализации\n",
        "\n",
        "### Визуализация эмбеддингов\n",
        "\n",
        "**Задание** Визуализируем эмбеддинги слов, как это делали раньше"
      ]
    },
    {
      "metadata": {
        "id": "DeW5av_ASrn4",
        "colab_type": "code",
        "colab": {}
      },
      "cell_type": "code",
      "source": [
        "import bokeh.models as bm, bokeh.plotting as pl\n",
        "from bokeh.io import output_notebook\n",
        "\n",
        "from sklearn.manifold import TSNE\n",
        "from sklearn.preprocessing import scale\n",
        "\n",
        "\n",
        "def draw_vectors(x, y, radius=10, alpha=0.25, color='blue',\n",
        "                 width=600, height=400, show=True, **kwargs):\n",
        "    \"\"\" draws an interactive plot for data points with auxilirary info on hover \"\"\"\n",
        "    output_notebook()\n",
        "    \n",
        "    if isinstance(color, str): \n",
        "        color = [color] * len(x)\n",
        "    data_source = bm.ColumnDataSource({ 'x' : x, 'y' : y, 'color': color, **kwargs })\n",
        "\n",
        "    fig = pl.figure(active_scroll='wheel_zoom', width=width, height=height)\n",
        "    fig.scatter('x', 'y', size=radius, color='color', alpha=alpha, source=data_source)\n",
        "\n",
        "    fig.add_tools(bm.HoverTool(tooltips=[(key, \"@\" + key) for key in kwargs.keys()]))\n",
        "    if show: \n",
        "        pl.show(fig)\n",
        "    return fig\n",
        "\n",
        "\n",
        "def get_tsne_projection(word_vectors):\n",
        "    tsne = TSNE(n_components=2, verbose=100)\n",
        "    return scale(tsne.fit_transform(word_vectors))\n",
        "    \n",
        "    \n",
        "def visualize_embeddings(embeddings, token, colors):\n",
        "    tsne = get_tsne_projection(embeddings)\n",
        "    draw_vectors(tsne[:, 0], tsne[:, 1], color=colors, token=token)"
      ],
      "execution_count": 0,
      "outputs": []
    },
    {
      "metadata": {
        "id": "67KNX5lBTdrt",
        "colab_type": "code",
        "colab": {
          "base_uri": "https://localhost:8080/",
          "height": 1020
        },
        "outputId": "c98df2d4-2907-4fe2-bcc5-e8f14cbdb0c1"
      },
      "cell_type": "code",
      "source": [
        "word_indices = np.random.choice(np.arange(len(test_data)), 1000, replace=False)\n",
        "words = [test_data[ind] for ind in word_indices]\n",
        "labels = test_labels[word_indices]\n",
        "\n",
        "word_tensor = convert_data(words, max(len(x) for x in words), char_index)\n",
        "word_tensor = LongTensor(word_tensor)\n",
        "embeddings = model.embed(word_tensor).cpu().detach().numpy()\n",
        "\n",
        "colors = ['red' if label else 'blue' for label in labels]\n",
        "\n",
        "visualize_embeddings(embeddings, words, colors)"
      ],
      "execution_count": 356,
      "outputs": [
        {
          "output_type": "stream",
          "text": [
            "[t-SNE] Computing 91 nearest neighbors...\n",
            "[t-SNE] Indexed 1000 samples in 0.004s...\n",
            "[t-SNE] Computed neighbors for 1000 samples in 0.300s...\n",
            "[t-SNE] Computed conditional probabilities for sample 1000 / 1000\n",
            "[t-SNE] Mean sigma: 4.052439\n",
            "[t-SNE] Computed conditional probabilities in 0.067s\n",
            "[t-SNE] Iteration 50: error = 73.9638443, gradient norm = 0.3238610 (50 iterations in 2.823s)\n",
            "[t-SNE] Iteration 100: error = 74.7148285, gradient norm = 0.2939531 (50 iterations in 2.421s)\n",
            "[t-SNE] Iteration 150: error = 74.8105240, gradient norm = 0.3095033 (50 iterations in 2.436s)\n",
            "[t-SNE] Iteration 200: error = 73.7264633, gradient norm = 0.3112523 (50 iterations in 2.615s)\n",
            "[t-SNE] Iteration 250: error = 74.3699417, gradient norm = 0.3191932 (50 iterations in 2.617s)\n",
            "[t-SNE] KL divergence after 250 iterations with early exaggeration: 74.369942\n",
            "[t-SNE] Iteration 300: error = 1.6763242, gradient norm = 0.0026757 (50 iterations in 2.063s)\n",
            "[t-SNE] Iteration 350: error = 1.5643306, gradient norm = 0.0005974 (50 iterations in 1.830s)\n",
            "[t-SNE] Iteration 400: error = 1.5201699, gradient norm = 0.0003260 (50 iterations in 2.363s)\n",
            "[t-SNE] Iteration 450: error = 1.4996790, gradient norm = 0.0006084 (50 iterations in 1.917s)\n",
            "[t-SNE] Iteration 500: error = 1.4895380, gradient norm = 0.0001655 (50 iterations in 1.816s)\n",
            "[t-SNE] Iteration 550: error = 1.4844116, gradient norm = 0.0001227 (50 iterations in 1.790s)\n",
            "[t-SNE] Iteration 600: error = 1.4800394, gradient norm = 0.0001249 (50 iterations in 1.825s)\n",
            "[t-SNE] Iteration 650: error = 1.4774568, gradient norm = 0.0001178 (50 iterations in 1.824s)\n",
            "[t-SNE] Iteration 700: error = 1.4758525, gradient norm = 0.0000751 (50 iterations in 1.772s)\n",
            "[t-SNE] Iteration 750: error = 1.4743744, gradient norm = 0.0000734 (50 iterations in 1.803s)\n",
            "[t-SNE] Iteration 800: error = 1.4734746, gradient norm = 0.0000691 (50 iterations in 1.781s)\n",
            "[t-SNE] Iteration 850: error = 1.4728400, gradient norm = 0.0000555 (50 iterations in 1.793s)\n",
            "[t-SNE] Iteration 900: error = 1.4720566, gradient norm = 0.0000588 (50 iterations in 1.817s)\n",
            "[t-SNE] Iteration 950: error = 1.4714915, gradient norm = 0.0000516 (50 iterations in 1.813s)\n",
            "[t-SNE] Iteration 1000: error = 1.4713039, gradient norm = 0.0000572 (50 iterations in 1.876s)\n",
            "[t-SNE] Error after 1000 iterations: 1.471304\n"
          ],
          "name": "stdout"
        },
        {
          "output_type": "stream",
          "text": [
            "/usr/local/lib/python3.6/dist-packages/sklearn/preprocessing/data.py:164: UserWarning: Numerical issues were encountered when centering the data and might not be solved. Dataset may contain too large values. You may need to prescale your features.\n",
            "  warnings.warn(\"Numerical issues were encountered \"\n"
          ],
          "name": "stderr"
        },
        {
          "output_type": "display_data",
          "data": {
            "text/html": [
              "\n",
              "    <div class=\"bk-root\">\n",
              "        <a href=\"https://bokeh.pydata.org\" target=\"_blank\" class=\"bk-logo bk-logo-small bk-logo-notebook\"></a>\n",
              "        <span id=\"2a5463ce-d9b6-408c-ba56-ad5e92f38ab8\">Loading BokehJS ...</span>\n",
              "    </div>"
            ]
          },
          "metadata": {
            "tags": []
          }
        },
        {
          "output_type": "display_data",
          "data": {
            "application/javascript": [
              "\n",
              "(function(root) {\n",
              "  function now() {\n",
              "    return new Date();\n",
              "  }\n",
              "\n",
              "  var force = true;\n",
              "\n",
              "  if (typeof (root._bokeh_onload_callbacks) === \"undefined\" || force === true) {\n",
              "    root._bokeh_onload_callbacks = [];\n",
              "    root._bokeh_is_loading = undefined;\n",
              "  }\n",
              "\n",
              "  var JS_MIME_TYPE = 'application/javascript';\n",
              "  var HTML_MIME_TYPE = 'text/html';\n",
              "  var EXEC_MIME_TYPE = 'application/vnd.bokehjs_exec.v0+json';\n",
              "  var CLASS_NAME = 'output_bokeh rendered_html';\n",
              "\n",
              "  /**\n",
              "   * Render data to the DOM node\n",
              "   */\n",
              "  function render(props, node) {\n",
              "    var script = document.createElement(\"script\");\n",
              "    node.appendChild(script);\n",
              "  }\n",
              "\n",
              "  /**\n",
              "   * Handle when an output is cleared or removed\n",
              "   */\n",
              "  function handleClearOutput(event, handle) {\n",
              "    var cell = handle.cell;\n",
              "\n",
              "    var id = cell.output_area._bokeh_element_id;\n",
              "    var server_id = cell.output_area._bokeh_server_id;\n",
              "    // Clean up Bokeh references\n",
              "    if (id != null && id in Bokeh.index) {\n",
              "      Bokeh.index[id].model.document.clear();\n",
              "      delete Bokeh.index[id];\n",
              "    }\n",
              "\n",
              "    if (server_id !== undefined) {\n",
              "      // Clean up Bokeh references\n",
              "      var cmd = \"from bokeh.io.state import curstate; print(curstate().uuid_to_server['\" + server_id + \"'].get_sessions()[0].document.roots[0]._id)\";\n",
              "      cell.notebook.kernel.execute(cmd, {\n",
              "        iopub: {\n",
              "          output: function(msg) {\n",
              "            var id = msg.content.text.trim();\n",
              "            if (id in Bokeh.index) {\n",
              "              Bokeh.index[id].model.document.clear();\n",
              "              delete Bokeh.index[id];\n",
              "            }\n",
              "          }\n",
              "        }\n",
              "      });\n",
              "      // Destroy server and session\n",
              "      var cmd = \"import bokeh.io.notebook as ion; ion.destroy_server('\" + server_id + \"')\";\n",
              "      cell.notebook.kernel.execute(cmd);\n",
              "    }\n",
              "  }\n",
              "\n",
              "  /**\n",
              "   * Handle when a new output is added\n",
              "   */\n",
              "  function handleAddOutput(event, handle) {\n",
              "    var output_area = handle.output_area;\n",
              "    var output = handle.output;\n",
              "\n",
              "    // limit handleAddOutput to display_data with EXEC_MIME_TYPE content only\n",
              "    if ((output.output_type != \"display_data\") || (!output.data.hasOwnProperty(EXEC_MIME_TYPE))) {\n",
              "      return\n",
              "    }\n",
              "\n",
              "    var toinsert = output_area.element.find(\".\" + CLASS_NAME.split(' ')[0]);\n",
              "\n",
              "    if (output.metadata[EXEC_MIME_TYPE][\"id\"] !== undefined) {\n",
              "      toinsert[toinsert.length - 1].firstChild.textContent = output.data[JS_MIME_TYPE];\n",
              "      // store reference to embed id on output_area\n",
              "      output_area._bokeh_element_id = output.metadata[EXEC_MIME_TYPE][\"id\"];\n",
              "    }\n",
              "    if (output.metadata[EXEC_MIME_TYPE][\"server_id\"] !== undefined) {\n",
              "      var bk_div = document.createElement(\"div\");\n",
              "      bk_div.innerHTML = output.data[HTML_MIME_TYPE];\n",
              "      var script_attrs = bk_div.children[0].attributes;\n",
              "      for (var i = 0; i < script_attrs.length; i++) {\n",
              "        toinsert[toinsert.length - 1].firstChild.setAttribute(script_attrs[i].name, script_attrs[i].value);\n",
              "      }\n",
              "      // store reference to server id on output_area\n",
              "      output_area._bokeh_server_id = output.metadata[EXEC_MIME_TYPE][\"server_id\"];\n",
              "    }\n",
              "  }\n",
              "\n",
              "  function register_renderer(events, OutputArea) {\n",
              "\n",
              "    function append_mime(data, metadata, element) {\n",
              "      // create a DOM node to render to\n",
              "      var toinsert = this.create_output_subarea(\n",
              "        metadata,\n",
              "        CLASS_NAME,\n",
              "        EXEC_MIME_TYPE\n",
              "      );\n",
              "      this.keyboard_manager.register_events(toinsert);\n",
              "      // Render to node\n",
              "      var props = {data: data, metadata: metadata[EXEC_MIME_TYPE]};\n",
              "      render(props, toinsert[toinsert.length - 1]);\n",
              "      element.append(toinsert);\n",
              "      return toinsert\n",
              "    }\n",
              "\n",
              "    /* Handle when an output is cleared or removed */\n",
              "    events.on('clear_output.CodeCell', handleClearOutput);\n",
              "    events.on('delete.Cell', handleClearOutput);\n",
              "\n",
              "    /* Handle when a new output is added */\n",
              "    events.on('output_added.OutputArea', handleAddOutput);\n",
              "\n",
              "    /**\n",
              "     * Register the mime type and append_mime function with output_area\n",
              "     */\n",
              "    OutputArea.prototype.register_mime_type(EXEC_MIME_TYPE, append_mime, {\n",
              "      /* Is output safe? */\n",
              "      safe: true,\n",
              "      /* Index of renderer in `output_area.display_order` */\n",
              "      index: 0\n",
              "    });\n",
              "  }\n",
              "\n",
              "  // register the mime type if in Jupyter Notebook environment and previously unregistered\n",
              "  if (root.Jupyter !== undefined) {\n",
              "    var events = require('base/js/events');\n",
              "    var OutputArea = require('notebook/js/outputarea').OutputArea;\n",
              "\n",
              "    if (OutputArea.prototype.mime_types().indexOf(EXEC_MIME_TYPE) == -1) {\n",
              "      register_renderer(events, OutputArea);\n",
              "    }\n",
              "  }\n",
              "\n",
              "  \n",
              "  if (typeof (root._bokeh_timeout) === \"undefined\" || force === true) {\n",
              "    root._bokeh_timeout = Date.now() + 5000;\n",
              "    root._bokeh_failed_load = false;\n",
              "  }\n",
              "\n",
              "  var NB_LOAD_WARNING = {'data': {'text/html':\n",
              "     \"<div style='background-color: #fdd'>\\n\"+\n",
              "     \"<p>\\n\"+\n",
              "     \"BokehJS does not appear to have successfully loaded. If loading BokehJS from CDN, this \\n\"+\n",
              "     \"may be due to a slow or bad network connection. Possible fixes:\\n\"+\n",
              "     \"</p>\\n\"+\n",
              "     \"<ul>\\n\"+\n",
              "     \"<li>re-rerun `output_notebook()` to attempt to load from CDN again, or</li>\\n\"+\n",
              "     \"<li>use INLINE resources instead, as so:</li>\\n\"+\n",
              "     \"</ul>\\n\"+\n",
              "     \"<code>\\n\"+\n",
              "     \"from bokeh.resources import INLINE\\n\"+\n",
              "     \"output_notebook(resources=INLINE)\\n\"+\n",
              "     \"</code>\\n\"+\n",
              "     \"</div>\"}};\n",
              "\n",
              "  function display_loaded() {\n",
              "    var el = document.getElementById(\"2a5463ce-d9b6-408c-ba56-ad5e92f38ab8\");\n",
              "    if (el != null) {\n",
              "      el.textContent = \"BokehJS is loading...\";\n",
              "    }\n",
              "    if (root.Bokeh !== undefined) {\n",
              "      if (el != null) {\n",
              "        el.textContent = \"BokehJS \" + root.Bokeh.version + \" successfully loaded.\";\n",
              "      }\n",
              "    } else if (Date.now() < root._bokeh_timeout) {\n",
              "      setTimeout(display_loaded, 100)\n",
              "    }\n",
              "  }\n",
              "\n",
              "\n",
              "  function run_callbacks() {\n",
              "    try {\n",
              "      root._bokeh_onload_callbacks.forEach(function(callback) { callback() });\n",
              "    }\n",
              "    finally {\n",
              "      delete root._bokeh_onload_callbacks\n",
              "    }\n",
              "    console.info(\"Bokeh: all callbacks have finished\");\n",
              "  }\n",
              "\n",
              "  function load_libs(js_urls, callback) {\n",
              "    root._bokeh_onload_callbacks.push(callback);\n",
              "    if (root._bokeh_is_loading > 0) {\n",
              "      console.log(\"Bokeh: BokehJS is being loaded, scheduling callback at\", now());\n",
              "      return null;\n",
              "    }\n",
              "    if (js_urls == null || js_urls.length === 0) {\n",
              "      run_callbacks();\n",
              "      return null;\n",
              "    }\n",
              "    console.log(\"Bokeh: BokehJS not loaded, scheduling load and callback at\", now());\n",
              "    root._bokeh_is_loading = js_urls.length;\n",
              "    for (var i = 0; i < js_urls.length; i++) {\n",
              "      var url = js_urls[i];\n",
              "      var s = document.createElement('script');\n",
              "      s.src = url;\n",
              "      s.async = false;\n",
              "      s.onreadystatechange = s.onload = function() {\n",
              "        root._bokeh_is_loading--;\n",
              "        if (root._bokeh_is_loading === 0) {\n",
              "          console.log(\"Bokeh: all BokehJS libraries loaded\");\n",
              "          run_callbacks()\n",
              "        }\n",
              "      };\n",
              "      s.onerror = function() {\n",
              "        console.warn(\"failed to load library \" + url);\n",
              "      };\n",
              "      console.log(\"Bokeh: injecting script tag for BokehJS library: \", url);\n",
              "      document.getElementsByTagName(\"head\")[0].appendChild(s);\n",
              "    }\n",
              "  };var element = document.getElementById(\"2a5463ce-d9b6-408c-ba56-ad5e92f38ab8\");\n",
              "  if (element == null) {\n",
              "    console.log(\"Bokeh: ERROR: autoload.js configured with elementid '2a5463ce-d9b6-408c-ba56-ad5e92f38ab8' but no matching script tag was found. \")\n",
              "    return false;\n",
              "  }\n",
              "\n",
              "  var js_urls = [\"https://cdn.pydata.org/bokeh/release/bokeh-0.13.0.min.js\", \"https://cdn.pydata.org/bokeh/release/bokeh-widgets-0.13.0.min.js\", \"https://cdn.pydata.org/bokeh/release/bokeh-tables-0.13.0.min.js\", \"https://cdn.pydata.org/bokeh/release/bokeh-gl-0.13.0.min.js\"];\n",
              "\n",
              "  var inline_js = [\n",
              "    function(Bokeh) {\n",
              "      Bokeh.set_log_level(\"info\");\n",
              "    },\n",
              "    \n",
              "    function(Bokeh) {\n",
              "      \n",
              "    },\n",
              "    function(Bokeh) {\n",
              "      console.log(\"Bokeh: injecting CSS: https://cdn.pydata.org/bokeh/release/bokeh-0.13.0.min.css\");\n",
              "      Bokeh.embed.inject_css(\"https://cdn.pydata.org/bokeh/release/bokeh-0.13.0.min.css\");\n",
              "      console.log(\"Bokeh: injecting CSS: https://cdn.pydata.org/bokeh/release/bokeh-widgets-0.13.0.min.css\");\n",
              "      Bokeh.embed.inject_css(\"https://cdn.pydata.org/bokeh/release/bokeh-widgets-0.13.0.min.css\");\n",
              "      console.log(\"Bokeh: injecting CSS: https://cdn.pydata.org/bokeh/release/bokeh-tables-0.13.0.min.css\");\n",
              "      Bokeh.embed.inject_css(\"https://cdn.pydata.org/bokeh/release/bokeh-tables-0.13.0.min.css\");\n",
              "    }\n",
              "  ];\n",
              "\n",
              "  function run_inline_js() {\n",
              "    \n",
              "    if ((root.Bokeh !== undefined) || (force === true)) {\n",
              "      for (var i = 0; i < inline_js.length; i++) {\n",
              "        inline_js[i].call(root, root.Bokeh);\n",
              "      }if (force === true) {\n",
              "        display_loaded();\n",
              "      }} else if (Date.now() < root._bokeh_timeout) {\n",
              "      setTimeout(run_inline_js, 100);\n",
              "    } else if (!root._bokeh_failed_load) {\n",
              "      console.log(\"Bokeh: BokehJS failed to load within specified timeout.\");\n",
              "      root._bokeh_failed_load = true;\n",
              "    } else if (force !== true) {\n",
              "      var cell = $(document.getElementById(\"2a5463ce-d9b6-408c-ba56-ad5e92f38ab8\")).parents('.cell').data().cell;\n",
              "      cell.output_area.append_execute_result(NB_LOAD_WARNING)\n",
              "    }\n",
              "\n",
              "  }\n",
              "\n",
              "  if (root._bokeh_is_loading === 0) {\n",
              "    console.log(\"Bokeh: BokehJS loaded, going straight to plotting\");\n",
              "    run_inline_js();\n",
              "  } else {\n",
              "    load_libs(js_urls, function() {\n",
              "      console.log(\"Bokeh: BokehJS plotting callback run at\", now());\n",
              "      run_inline_js();\n",
              "    });\n",
              "  }\n",
              "}(window));"
            ],
            "application/vnd.bokehjs_load.v0+json": "\n(function(root) {\n  function now() {\n    return new Date();\n  }\n\n  var force = true;\n\n  if (typeof (root._bokeh_onload_callbacks) === \"undefined\" || force === true) {\n    root._bokeh_onload_callbacks = [];\n    root._bokeh_is_loading = undefined;\n  }\n\n  \n\n  \n  if (typeof (root._bokeh_timeout) === \"undefined\" || force === true) {\n    root._bokeh_timeout = Date.now() + 5000;\n    root._bokeh_failed_load = false;\n  }\n\n  var NB_LOAD_WARNING = {'data': {'text/html':\n     \"<div style='background-color: #fdd'>\\n\"+\n     \"<p>\\n\"+\n     \"BokehJS does not appear to have successfully loaded. If loading BokehJS from CDN, this \\n\"+\n     \"may be due to a slow or bad network connection. Possible fixes:\\n\"+\n     \"</p>\\n\"+\n     \"<ul>\\n\"+\n     \"<li>re-rerun `output_notebook()` to attempt to load from CDN again, or</li>\\n\"+\n     \"<li>use INLINE resources instead, as so:</li>\\n\"+\n     \"</ul>\\n\"+\n     \"<code>\\n\"+\n     \"from bokeh.resources import INLINE\\n\"+\n     \"output_notebook(resources=INLINE)\\n\"+\n     \"</code>\\n\"+\n     \"</div>\"}};\n\n  function display_loaded() {\n    var el = document.getElementById(\"2a5463ce-d9b6-408c-ba56-ad5e92f38ab8\");\n    if (el != null) {\n      el.textContent = \"BokehJS is loading...\";\n    }\n    if (root.Bokeh !== undefined) {\n      if (el != null) {\n        el.textContent = \"BokehJS \" + root.Bokeh.version + \" successfully loaded.\";\n      }\n    } else if (Date.now() < root._bokeh_timeout) {\n      setTimeout(display_loaded, 100)\n    }\n  }\n\n\n  function run_callbacks() {\n    try {\n      root._bokeh_onload_callbacks.forEach(function(callback) { callback() });\n    }\n    finally {\n      delete root._bokeh_onload_callbacks\n    }\n    console.info(\"Bokeh: all callbacks have finished\");\n  }\n\n  function load_libs(js_urls, callback) {\n    root._bokeh_onload_callbacks.push(callback);\n    if (root._bokeh_is_loading > 0) {\n      console.log(\"Bokeh: BokehJS is being loaded, scheduling callback at\", now());\n      return null;\n    }\n    if (js_urls == null || js_urls.length === 0) {\n      run_callbacks();\n      return null;\n    }\n    console.log(\"Bokeh: BokehJS not loaded, scheduling load and callback at\", now());\n    root._bokeh_is_loading = js_urls.length;\n    for (var i = 0; i < js_urls.length; i++) {\n      var url = js_urls[i];\n      var s = document.createElement('script');\n      s.src = url;\n      s.async = false;\n      s.onreadystatechange = s.onload = function() {\n        root._bokeh_is_loading--;\n        if (root._bokeh_is_loading === 0) {\n          console.log(\"Bokeh: all BokehJS libraries loaded\");\n          run_callbacks()\n        }\n      };\n      s.onerror = function() {\n        console.warn(\"failed to load library \" + url);\n      };\n      console.log(\"Bokeh: injecting script tag for BokehJS library: \", url);\n      document.getElementsByTagName(\"head\")[0].appendChild(s);\n    }\n  };var element = document.getElementById(\"2a5463ce-d9b6-408c-ba56-ad5e92f38ab8\");\n  if (element == null) {\n    console.log(\"Bokeh: ERROR: autoload.js configured with elementid '2a5463ce-d9b6-408c-ba56-ad5e92f38ab8' but no matching script tag was found. \")\n    return false;\n  }\n\n  var js_urls = [\"https://cdn.pydata.org/bokeh/release/bokeh-0.13.0.min.js\", \"https://cdn.pydata.org/bokeh/release/bokeh-widgets-0.13.0.min.js\", \"https://cdn.pydata.org/bokeh/release/bokeh-tables-0.13.0.min.js\", \"https://cdn.pydata.org/bokeh/release/bokeh-gl-0.13.0.min.js\"];\n\n  var inline_js = [\n    function(Bokeh) {\n      Bokeh.set_log_level(\"info\");\n    },\n    \n    function(Bokeh) {\n      \n    },\n    function(Bokeh) {\n      console.log(\"Bokeh: injecting CSS: https://cdn.pydata.org/bokeh/release/bokeh-0.13.0.min.css\");\n      Bokeh.embed.inject_css(\"https://cdn.pydata.org/bokeh/release/bokeh-0.13.0.min.css\");\n      console.log(\"Bokeh: injecting CSS: https://cdn.pydata.org/bokeh/release/bokeh-widgets-0.13.0.min.css\");\n      Bokeh.embed.inject_css(\"https://cdn.pydata.org/bokeh/release/bokeh-widgets-0.13.0.min.css\");\n      console.log(\"Bokeh: injecting CSS: https://cdn.pydata.org/bokeh/release/bokeh-tables-0.13.0.min.css\");\n      Bokeh.embed.inject_css(\"https://cdn.pydata.org/bokeh/release/bokeh-tables-0.13.0.min.css\");\n    }\n  ];\n\n  function run_inline_js() {\n    \n    if ((root.Bokeh !== undefined) || (force === true)) {\n      for (var i = 0; i < inline_js.length; i++) {\n        inline_js[i].call(root, root.Bokeh);\n      }if (force === true) {\n        display_loaded();\n      }} else if (Date.now() < root._bokeh_timeout) {\n      setTimeout(run_inline_js, 100);\n    } else if (!root._bokeh_failed_load) {\n      console.log(\"Bokeh: BokehJS failed to load within specified timeout.\");\n      root._bokeh_failed_load = true;\n    } else if (force !== true) {\n      var cell = $(document.getElementById(\"2a5463ce-d9b6-408c-ba56-ad5e92f38ab8\")).parents('.cell').data().cell;\n      cell.output_area.append_execute_result(NB_LOAD_WARNING)\n    }\n\n  }\n\n  if (root._bokeh_is_loading === 0) {\n    console.log(\"Bokeh: BokehJS loaded, going straight to plotting\");\n    run_inline_js();\n  } else {\n    load_libs(js_urls, function() {\n      console.log(\"Bokeh: BokehJS plotting callback run at\", now());\n      run_inline_js();\n    });\n  }\n}(window));"
          },
          "metadata": {
            "tags": []
          }
        },
        {
          "output_type": "display_data",
          "data": {
            "text/html": [
              "\n",
              "\n",
              "\n",
              "\n",
              "\n",
              "\n",
              "  <div class=\"bk-root\" id=\"e3c5b9b4-e646-4577-bb36-d5e9cc8aa3c5\"></div>\n"
            ]
          },
          "metadata": {
            "tags": []
          }
        },
        {
          "output_type": "display_data",
          "data": {
            "application/javascript": [
              "(function(root) {\n",
              "  function embed_document(root) {\n",
              "    \n",
              "  var docs_json = {\"bc9e461a-f576-481c-bd0b-68c0f1737506\":{\"roots\":{\"references\":[{\"attributes\":{},\"id\":\"e967f79e-67ed-4eff-a225-0352430b6667\",\"type\":\"WheelZoomTool\"},{\"attributes\":{},\"id\":\"fc091d40-2404-45c6-8f12-df2ca71e0dd9\",\"type\":\"SaveTool\"},{\"attributes\":{\"overlay\":{\"id\":\"5ce95bee-04ac-4bc5-a44c-60f89ddb4daf\",\"type\":\"BoxAnnotation\"}},\"id\":\"08fe8017-1001-40c5-81b3-b82e7c638df9\",\"type\":\"BoxZoomTool\"},{\"attributes\":{},\"id\":\"371e59a0-a0da-4e5f-94da-ca243ad1d540\",\"type\":\"BasicTicker\"},{\"attributes\":{\"data_source\":{\"id\":\"ad8920f5-0809-4fe9-be2f-e58d8031e26e\",\"type\":\"ColumnDataSource\"},\"glyph\":{\"id\":\"49510092-356b-4f12-92a8-d89f35598d6e\",\"type\":\"Circle\"},\"hover_glyph\":null,\"muted_glyph\":null,\"nonselection_glyph\":{\"id\":\"3ac0bf9c-be9c-4b76-a398-5a6d1d6d63d6\",\"type\":\"Circle\"},\"selection_glyph\":null,\"view\":{\"id\":\"4612318a-dafb-43dd-ad57-78419c0b1bbd\",\"type\":\"CDSView\"}},\"id\":\"17ce9fa7-2ec5-47cf-a381-8bd9fc725cf8\",\"type\":\"GlyphRenderer\"},{\"attributes\":{\"fill_alpha\":{\"value\":0.1},\"fill_color\":{\"value\":\"#1f77b4\"},\"line_alpha\":{\"value\":0.1},\"line_color\":{\"value\":\"#1f77b4\"},\"size\":{\"units\":\"screen\",\"value\":10},\"x\":{\"field\":\"x\"},\"y\":{\"field\":\"y\"}},\"id\":\"3ac0bf9c-be9c-4b76-a398-5a6d1d6d63d6\",\"type\":\"Circle\"},{\"attributes\":{\"dimension\":1,\"plot\":{\"id\":\"b5e73eed-1ca6-4753-ac76-5ae896a9ca49\",\"subtype\":\"Figure\",\"type\":\"Plot\"},\"ticker\":{\"id\":\"371e59a0-a0da-4e5f-94da-ca243ad1d540\",\"type\":\"BasicTicker\"}},\"id\":\"34b56d54-5a9b-464a-82cd-92f3e60af2d2\",\"type\":\"Grid\"},{\"attributes\":{},\"id\":\"cfe42a1b-1d15-489c-aeb0-1ce8a3faee4c\",\"type\":\"BasicTickFormatter\"},{\"attributes\":{},\"id\":\"f91c31fc-3e5e-4652-b91c-c537421c60a9\",\"type\":\"LinearScale\"},{\"attributes\":{},\"id\":\"2be12aa7-5987-490a-a278-271e4cd8b50b\",\"type\":\"BasicTicker\"},{\"attributes\":{\"callback\":null,\"data\":{\"color\":[\"blue\",\"blue\",\"blue\",\"blue\",\"blue\",\"blue\",\"blue\",\"red\",\"red\",\"blue\",\"blue\",\"blue\",\"blue\",\"blue\",\"blue\",\"blue\",\"blue\",\"red\",\"blue\",\"blue\",\"blue\",\"blue\",\"blue\",\"blue\",\"blue\",\"blue\",\"blue\",\"blue\",\"blue\",\"blue\",\"blue\",\"blue\",\"blue\",\"blue\",\"blue\",\"blue\",\"blue\",\"blue\",\"blue\",\"blue\",\"blue\",\"blue\",\"blue\",\"blue\",\"blue\",\"blue\",\"blue\",\"blue\",\"red\",\"red\",\"blue\",\"blue\",\"blue\",\"blue\",\"blue\",\"blue\",\"blue\",\"blue\",\"blue\",\"blue\",\"blue\",\"blue\",\"blue\",\"blue\",\"blue\",\"blue\",\"red\",\"blue\",\"blue\",\"blue\",\"blue\",\"blue\",\"blue\",\"blue\",\"red\",\"red\",\"blue\",\"blue\",\"blue\",\"blue\",\"blue\",\"blue\",\"blue\",\"blue\",\"red\",\"blue\",\"blue\",\"red\",\"red\",\"blue\",\"blue\",\"blue\",\"blue\",\"blue\",\"blue\",\"blue\",\"blue\",\"blue\",\"blue\",\"blue\",\"blue\",\"blue\",\"blue\",\"blue\",\"blue\",\"blue\",\"blue\",\"blue\",\"blue\",\"blue\",\"blue\",\"blue\",\"blue\",\"blue\",\"red\",\"blue\",\"blue\",\"blue\",\"blue\",\"blue\",\"blue\",\"blue\",\"blue\",\"blue\",\"blue\",\"blue\",\"blue\",\"blue\",\"blue\",\"blue\",\"blue\",\"blue\",\"blue\",\"blue\",\"red\",\"blue\",\"blue\",\"blue\",\"blue\",\"red\",\"blue\",\"blue\",\"blue\",\"blue\",\"blue\",\"red\",\"blue\",\"blue\",\"blue\",\"blue\",\"blue\",\"blue\",\"blue\",\"blue\",\"blue\",\"blue\",\"blue\",\"blue\",\"blue\",\"blue\",\"blue\",\"blue\",\"blue\",\"blue\",\"blue\",\"blue\",\"blue\",\"red\",\"blue\",\"blue\",\"blue\",\"blue\",\"blue\",\"blue\",\"blue\",\"blue\",\"blue\",\"blue\",\"red\",\"red\",\"blue\",\"blue\",\"red\",\"blue\",\"blue\",\"blue\",\"blue\",\"blue\",\"blue\",\"blue\",\"blue\",\"blue\",\"blue\",\"blue\",\"blue\",\"red\",\"blue\",\"blue\",\"red\",\"blue\",\"blue\",\"blue\",\"blue\",\"blue\",\"blue\",\"blue\",\"red\",\"blue\",\"blue\",\"blue\",\"red\",\"blue\",\"blue\",\"blue\",\"blue\",\"red\",\"blue\",\"blue\",\"blue\",\"blue\",\"blue\",\"blue\",\"blue\",\"blue\",\"blue\",\"red\",\"blue\",\"blue\",\"blue\",\"blue\",\"blue\",\"blue\",\"blue\",\"blue\",\"blue\",\"blue\",\"blue\",\"blue\",\"blue\",\"blue\",\"blue\",\"red\",\"blue\",\"blue\",\"blue\",\"blue\",\"red\",\"blue\",\"blue\",\"blue\",\"red\",\"blue\",\"blue\",\"blue\",\"blue\",\"blue\",\"blue\",\"red\",\"blue\",\"blue\",\"blue\",\"blue\",\"blue\",\"blue\",\"blue\",\"blue\",\"blue\",\"blue\",\"blue\",\"blue\",\"blue\",\"blue\",\"blue\",\"blue\",\"blue\",\"blue\",\"red\",\"blue\",\"blue\",\"blue\",\"red\",\"blue\",\"blue\",\"blue\",\"blue\",\"blue\",\"blue\",\"blue\",\"blue\",\"blue\",\"blue\",\"blue\",\"blue\",\"blue\",\"blue\",\"blue\",\"blue\",\"red\",\"blue\",\"blue\",\"blue\",\"blue\",\"blue\",\"red\",\"blue\",\"blue\",\"blue\",\"blue\",\"blue\",\"blue\",\"red\",\"blue\",\"blue\",\"blue\",\"blue\",\"blue\",\"blue\",\"blue\",\"blue\",\"blue\",\"blue\",\"red\",\"blue\",\"blue\",\"blue\",\"blue\",\"blue\",\"blue\",\"red\",\"blue\",\"red\",\"blue\",\"red\",\"blue\",\"blue\",\"blue\",\"blue\",\"blue\",\"blue\",\"blue\",\"blue\",\"blue\",\"blue\",\"blue\",\"blue\",\"blue\",\"blue\",\"blue\",\"blue\",\"blue\",\"blue\",\"blue\",\"blue\",\"blue\",\"blue\",\"blue\",\"blue\",\"blue\",\"blue\",\"blue\",\"blue\",\"red\",\"blue\",\"blue\",\"blue\",\"blue\",\"blue\",\"blue\",\"blue\",\"blue\",\"blue\",\"blue\",\"blue\",\"blue\",\"blue\",\"blue\",\"blue\",\"blue\",\"blue\",\"blue\",\"blue\",\"blue\",\"blue\",\"blue\",\"blue\",\"blue\",\"blue\",\"blue\",\"blue\",\"blue\",\"blue\",\"blue\",\"blue\",\"blue\",\"blue\",\"blue\",\"blue\",\"blue\",\"blue\",\"blue\",\"blue\",\"blue\",\"blue\",\"blue\",\"blue\",\"blue\",\"blue\",\"red\",\"blue\",\"blue\",\"blue\",\"blue\",\"red\",\"blue\",\"blue\",\"blue\",\"blue\",\"red\",\"blue\",\"blue\",\"red\",\"blue\",\"blue\",\"blue\",\"red\",\"blue\",\"blue\",\"red\",\"blue\",\"blue\",\"blue\",\"blue\",\"blue\",\"blue\",\"blue\",\"blue\",\"blue\",\"blue\",\"blue\",\"blue\",\"blue\",\"blue\",\"blue\",\"blue\",\"blue\",\"blue\",\"blue\",\"blue\",\"blue\",\"blue\",\"blue\",\"blue\",\"blue\",\"red\",\"blue\",\"blue\",\"blue\",\"blue\",\"blue\",\"blue\",\"blue\",\"blue\",\"blue\",\"blue\",\"red\",\"blue\",\"blue\",\"blue\",\"red\",\"blue\",\"blue\",\"red\",\"blue\",\"blue\",\"blue\",\"blue\",\"blue\",\"blue\",\"blue\",\"blue\",\"blue\",\"blue\",\"blue\",\"blue\",\"red\",\"blue\",\"blue\",\"red\",\"blue\",\"red\",\"blue\",\"blue\",\"blue\",\"blue\",\"blue\",\"blue\",\"blue\",\"blue\",\"red\",\"blue\",\"blue\",\"red\",\"blue\",\"blue\",\"blue\",\"blue\",\"red\",\"blue\",\"blue\",\"blue\",\"blue\",\"blue\",\"blue\",\"blue\",\"blue\",\"red\",\"blue\",\"blue\",\"blue\",\"blue\",\"blue\",\"blue\",\"blue\",\"blue\",\"blue\",\"blue\",\"blue\",\"blue\",\"blue\",\"red\",\"blue\",\"red\",\"blue\",\"blue\",\"blue\",\"red\",\"blue\",\"blue\",\"blue\",\"blue\",\"blue\",\"red\",\"blue\",\"red\",\"blue\",\"blue\",\"blue\",\"blue\",\"blue\",\"blue\",\"blue\",\"blue\",\"blue\",\"blue\",\"red\",\"blue\",\"blue\",\"blue\",\"blue\",\"red\",\"blue\",\"blue\",\"blue\",\"blue\",\"red\",\"blue\",\"blue\",\"blue\",\"blue\",\"blue\",\"blue\",\"blue\",\"blue\",\"blue\",\"red\",\"blue\",\"blue\",\"blue\",\"blue\",\"blue\",\"blue\",\"red\",\"red\",\"blue\",\"blue\",\"blue\",\"blue\",\"blue\",\"blue\",\"blue\",\"blue\",\"blue\",\"blue\",\"blue\",\"blue\",\"blue\",\"blue\",\"blue\",\"blue\",\"blue\",\"red\",\"blue\",\"blue\",\"blue\",\"blue\",\"blue\",\"blue\",\"blue\",\"blue\",\"red\",\"blue\",\"blue\",\"blue\",\"blue\",\"blue\",\"blue\",\"blue\",\"blue\",\"blue\",\"blue\",\"blue\",\"blue\",\"red\",\"blue\",\"blue\",\"red\",\"blue\",\"blue\",\"blue\",\"blue\",\"blue\",\"blue\",\"blue\",\"blue\",\"blue\",\"blue\",\"blue\",\"blue\",\"red\",\"blue\",\"blue\",\"blue\",\"blue\",\"blue\",\"blue\",\"blue\",\"blue\",\"blue\",\"blue\",\"red\",\"blue\",\"blue\",\"blue\",\"blue\",\"blue\",\"blue\",\"blue\",\"blue\",\"blue\",\"blue\",\"blue\",\"blue\",\"red\",\"blue\",\"blue\",\"blue\",\"blue\",\"blue\",\"blue\",\"blue\",\"blue\",\"blue\",\"blue\",\"blue\",\"blue\",\"blue\",\"blue\",\"blue\",\"blue\",\"blue\",\"red\",\"red\",\"blue\",\"blue\",\"blue\",\"blue\",\"blue\",\"blue\",\"blue\",\"blue\",\"blue\",\"blue\",\"blue\",\"blue\",\"blue\",\"blue\",\"red\",\"blue\",\"red\",\"blue\",\"blue\",\"blue\",\"blue\",\"blue\",\"blue\",\"blue\",\"blue\",\"blue\",\"blue\",\"blue\",\"blue\",\"blue\",\"blue\",\"blue\",\"blue\",\"blue\",\"blue\",\"blue\",\"blue\",\"blue\",\"blue\",\"red\",\"blue\",\"blue\",\"blue\",\"blue\",\"blue\",\"blue\",\"blue\",\"blue\",\"blue\",\"red\",\"blue\",\"red\",\"blue\",\"blue\",\"blue\",\"blue\",\"blue\",\"blue\",\"blue\",\"blue\",\"blue\",\"blue\",\"blue\",\"blue\",\"blue\",\"blue\",\"blue\",\"blue\",\"blue\",\"red\",\"blue\",\"red\",\"blue\",\"blue\",\"blue\",\"blue\",\"blue\",\"blue\",\"blue\",\"blue\",\"red\",\"blue\",\"blue\",\"blue\",\"blue\",\"blue\",\"blue\",\"blue\",\"blue\",\"red\",\"blue\",\"blue\",\"blue\",\"blue\",\"red\",\"blue\",\"blue\",\"blue\",\"red\",\"blue\",\"blue\",\"blue\",\"blue\",\"red\",\"red\",\"blue\",\"blue\",\"blue\",\"blue\",\"blue\",\"blue\",\"blue\",\"blue\",\"blue\",\"blue\",\"blue\",\"blue\",\"blue\",\"blue\",\"blue\",\"blue\",\"blue\",\"blue\",\"blue\",\"blue\",\"blue\",\"blue\",\"blue\",\"blue\",\"blue\",\"blue\",\"blue\",\"blue\",\"blue\",\"blue\",\"blue\",\"blue\",\"blue\",\"blue\",\"blue\",\"blue\",\"blue\",\"blue\",\"blue\",\"blue\",\"blue\",\"blue\",\"blue\",\"blue\",\"blue\",\"blue\",\"blue\",\"blue\",\"blue\",\"blue\",\"blue\",\"red\",\"blue\",\"red\",\"blue\",\"blue\",\"red\",\"blue\",\"blue\",\"blue\",\"blue\",\"blue\",\"blue\",\"blue\",\"blue\",\"blue\",\"red\",\"blue\",\"blue\",\"blue\",\"blue\",\"blue\",\"blue\",\"blue\",\"blue\",\"red\",\"red\",\"blue\",\"blue\",\"blue\",\"red\",\"blue\",\"blue\",\"blue\",\"blue\",\"blue\",\"blue\",\"blue\",\"blue\",\"blue\",\"blue\",\"blue\",\"blue\",\"blue\",\"blue\",\"blue\",\"blue\",\"blue\",\"blue\",\"blue\",\"blue\",\"red\",\"blue\",\"blue\",\"blue\",\"blue\",\"red\",\"blue\",\"blue\",\"blue\",\"red\",\"blue\",\"red\",\"blue\",\"red\",\"blue\",\"blue\",\"blue\",\"blue\",\"red\",\"red\",\"blue\",\"blue\",\"red\",\"blue\",\"blue\",\"blue\",\"blue\",\"red\",\"blue\",\"blue\",\"blue\",\"blue\",\"blue\",\"blue\",\"blue\",\"blue\",\"blue\",\"blue\",\"red\",\"blue\",\"blue\",\"blue\",\"blue\",\"blue\",\"blue\",\"blue\",\"blue\",\"blue\",\"blue\",\"blue\",\"blue\",\"blue\",\"blue\",\"blue\",\"blue\",\"red\",\"blue\",\"blue\",\"blue\",\"blue\",\"red\",\"blue\",\"blue\",\"blue\",\"blue\",\"blue\",\"blue\",\"blue\",\"blue\",\"blue\",\"blue\",\"red\",\"blue\",\"blue\",\"blue\",\"red\",\"blue\",\"blue\",\"blue\",\"blue\",\"red\",\"blue\",\"blue\",\"blue\",\"blue\",\"blue\",\"red\",\"blue\",\"blue\",\"blue\",\"blue\",\"blue\",\"blue\",\"blue\",\"blue\",\"blue\",\"blue\",\"blue\",\"blue\",\"blue\",\"blue\",\"blue\",\"blue\",\"blue\",\"blue\",\"blue\",\"blue\",\"blue\",\"blue\",\"blue\",\"blue\",\"blue\"],\"token\":[\"\\u043b\\u0438\\u0442\\u0435\\u0440\\u0443\",\"\\u0418\\u041c\\u041f\\u0415\\u0420\\u0418\\u042f\",\"\\u041f\\u0410\\u0420\\u0410\",\"\\u041f\\u0440\\u043e\\u043a\\u0443\\u0440\\u0430\\u0442\\u0443\\u0440\\u0443\",\"\\u0411\\u0435\\u0440\\u0442\\u043e\\u044e\",\"\\u041d\\u0435\\u043b\\u0441\\u043e\\u043d\\u0430\",\"\\u041c\\u0430\\u0440\\u0438\\u0439\",\"\\u0420\\u0435\\u043b\\u0438\\u043d\\u0430\\u0445\",\"\\u0421\\u0435\\u0439\\u0442\\u0430\\u043b\\u0438\\u0435\\u0432\\u044b\\u043c\",\"\\u0430\\u043a\\u0446\\u0438\\u043e\\u043d\\u0435\\u0440\",\"\\u0444\\u0440\\u0430\\u0437\\u044b\",\"\\u0443\\u043f\\u043e\\u0432\\u0430\\u043d\\u0438\\u044f\",\"\\u041e\\u041a\\u0418\\u0421\\u041b\\u0415\\u041d\\u0418\\u042f\",\"\\u0434\\u0435\\u0440\\u0438\\u0432\\u0430\\u0446\\u0438\\u044f\\u0445\",\"\\u0440\\u0430\\u0441\\u043f\\u0443\\u0442\\u0438\\u0446\\u044b\",\"\\u0422\\u0440\\u043e\\u043f\\u0438\\u043d\\u043a\\u0430\",\"\\u043c\\u0435\\u0439\\u043d\\u0444\\u0440\\u0435\\u0439\\u043c\\u0430\\u0445\",\"\\u0413\\u0423\\u0414\",\"\\u0421\\u0423\\u0420\\u0413\\u0423\\u0422\\u041d\\u0415\\u0424\\u0422\\u0415\\u0413\\u0410\\u0417\",\"\\u043c\\u0435\\u0442\\u0430\\u0442\\u0435\\u043b\\u0438\",\"\\u0441\\u0443\\u0434\\u043e\\u0441\\u0442\\u0440\\u043e\\u0438\\u0442\\u0435\\u043b\\u044c\",\"\\u043a\\u0430\\u0442\\u0430\\u043a\\u043e\\u043c\\u0431\\u0430\",\"\\u0434\\u0435\\u0432\\u0443\\u0448\\u043a\\u0443\",\"\\u043f\\u0440\\u0438\\u0440\\u0430\\u0432\\u043d\\u0438\\u0432\\u0430\\u043d\\u0438\\u044f\",\"\\u042d\\u043c\\u0438\\u0441\\u0441\\u0438\\u044f\",\"\\u0411\\u041e\\u042e\",\"\\u043a\\u043b\\u0438\\u043d\\u0438\\u0446\\u0438\\u0441\\u0442\\u044b\",\"\\u043a\\u043e\\u043d\\u043a\\u0443\\u0440\\u0441\\u0430\\u043c\",\"\\u043c\\u0430\\u0445\\u043e\\u0440\\u043a\\u0443\",\"\\u0444\\u0430\\u0440\\u043c\\u0430\\u0446\\u0435\\u0432\\u0442\\u0438\\u043a\\u0430\",\"\\u0413\\u0438\\u0433\\u0430\\u043d\\u0442\\u043e\\u043c\",\"\\u0443\\u043d\\u0442\\u0435\\u0440\",\"\\u043d\\u0430\\u043b\\u0435\\u0442\\u0447\\u0438\\u043a\\u0430\\u043c\\u0438\",\"\\u0441\\u043e\\u0445\\u0440\\u0430\\u043d\\u043d\\u043e\\u0441\\u0442\\u044c\",\"\\u0444\\u0435\\u043a\\u0430\\u043b\\u0438\\u0438\",\"\\u0434\\u0435\\u0444\\u043e\\u0440\\u043c\\u0430\\u0446\\u0438\\u044f\\u043c\\u0438\",\"\\u0432\\u044b\\u0445\\u043e\\u0434\\u043a\\u0430\\u043c\",\"\\u0421\\u043f\\u043b\\u0435\\u0442\\u0435\\u043d\\u0438\\u044f\",\"\\u041e\\u0422\\u0414\\u042b\\u0425\\u0410\",\"\\u0410\\u0432\\u0433\",\"\\u0432\\u043e\\u0433\\u043d\\u0443\\u0442\\u043e\\u0441\\u0442\\u044c\\u044e\",\"\\u043f\\u043e\\u0436\\u0435\\u0440\\u0442\\u0432\\u043e\\u0432\\u0430\\u043d\\u0438\\u044f\\u043c\\u0438\",\"\\u041e\\u0442\\u0434\\u0435\\u043b\\u043a\\u0443\",\"\\u043f\\u043e\\u043b\\u0438\\u0441\\u043f\\u0430\\u0441\\u0442\",\"\\u043a\\u0430\\u043b\\u043e\\u0440\\u0438\\u0435\\u0439\",\"\\u0411\\u043e\\u0441\\u043d\\u0438\\u0439\\u0446\\u044b\",\"\\u0440\\u0435\\u0436\\u0438\\u043c\\u043e\\u043c\",\"\\u043e\\u0442\\u0432\\u0440\\u0430\\u0449\\u0435\\u043d\\u0438\\u044f\",\"\\u0421\\u0422\\u041e\\u0423\\u041d\",\"\\u0421\\u0422\\u0420\\u0410\\u0425\\u041e\\u0412\",\"\\u0422\\u0415\\u0410\\u0422\\u0420\\u041e\\u041c\",\"\\u0434\\u0438\\u0441\\u043a\\u043e\\u043d\\u0442\\u043e\\u043c\",\"\\u0422\\u0435\\u043c\\u043f\\u0435\\u0440\\u0430\\u0442\\u0443\\u0440\\u0430\",\"\\u0422\\u0435\\u043e\\u0444\\u0438\\u043b\\u044f\",\"\\u0414\\u0430\\u0440\\u0440\\u0435\\u043b\",\"\\u041a\\u0443\\u043a\\u0443\\u0440\\u0443\\u0437\\u0443\",\"\\u0441\\u043e\\u043e\\u0431\\u0449\\u0435\\u0441\\u0442\\u0432\",\"\\u0420\\u0415\\u0421\\u0423\\u0420\\u0421\",\"\\u0447\\u0430\\u0431\\u0440\\u0435\\u0446\\u043e\\u043c\",\"\\u0413\\u041e\\u0414\\u041e\\u0412\\u0429\\u0418\\u041d\",\"\\u043f\\u043e\\u043b\\u0443\\u043e\\u0441\\u0442\\u0440\\u043e\\u0432\\u043e\\u043c\",\"\\u0430\\u0433\\u0440\\u0435\\u0433\\u0430\\u0442\\u043e\\u0440\\u043e\\u0432\",\"\\u041a\\u043e\\u043c\\u043f\\u043b\\u0438\\u043c\\u0435\\u043d\\u0442\\u043e\\u0432\",\"\\u043a\\u043e\\u0442\\u0442\\u0435\\u0434\\u0436\\u0438\",\"\\u0428\\u0435\\u0441\\u0442\\u043d\\u0430\\u0434\\u0446\\u0430\\u0442\\u043e\\u0439\",\"\\u041f\\u0440\\u0435\\u0434\\u0430\\u0442\\u0435\\u043b\\u044c\\u0441\\u0442\\u0432\\u0430\",\"\\u0413\\u043e\\u043b\\u0443\\u0431\",\"\\u0418\\u0440\\u044d\\u043d\",\"\\u043f\\u0443\\u0434\\u0438\\u043d\\u0433\",\"\\u0411\\u0418\\u041e\\u042d\\u0422\\u0418\\u041a\\u0415\",\"\\u0440\\u0430\\u0437\\u0432\\u044f\\u0437\\u044b\\u0432\\u0430\\u043d\\u0438\\u044f\",\"\\u041f\\u0440\\u0430\\u0441\\u043a\\u043e\\u0432\\u044c\\u0438\",\"\\u0410\\u0432\\u0438\\u043e\\u043d\\u0438\\u043a\\u0443\",\"\\u0438\\u043d\\u0434\\u0438\\u0432\\u0438\\u0434\\u0443\\u0443\\u043c\\u044b\",\"\\u041a\\u0443\\u0431\\u0430\\u0445\\u0430\\u043d\\u0430\",\"\\u041a\\u043e\\u0441\\u043c\\u043e\\u0434\\u0435\\u043c\\u044c\\u044f\\u043d\\u0441\\u043a\\u0438\\u0445\",\"\\u041f\\u0440\\u0435\\u043f\\u043e\\u0434\\u0430\\u0432\\u0430\\u0442\\u0435\\u043b\\u044f\",\"\\u043f\\u0440\\u0438\\u0432\\u0430\\u0442\\u0438\\u0437\\u0430\\u0446\\u0438\\u044e\",\"\\u0438\\u0443\\u0434\\u044b\",\"\\u0410\\u0417\\u0415\\u0420\\u0411\\u0410\\u0419\\u0414\\u0416\\u0410\\u041d\\u041e\\u041c\",\"\\u0437\\u043d\\u0430\\u0447\\u043a\\u0443\",\"\\u0412\\u043e\\u0438\\u043d\\u0441\\u0442\\u0432\\u0435\\u043d\\u043d\\u043e\\u0441\\u0442\\u044c\",\"\\u0413\\u0438\\u043c\\u043d\\u0430\\u0441\\u0442\",\"\\u043e\\u0433\\u043d\\u0435\\u043c\\u0435\\u0442\\u0435\",\"\\u041f\\u0438\\u0440\\u0441\\u043a\\u0430\\u0439\",\"\\u0437\\u0430\\u043a\\u0440\\u044b\\u0442\\u0438\\u044f\",\"\\u043b\\u043e\\u043a\\u043e\\u0442\\u043a\\u043e\\u0432\",\"\\u0411\\u041e\\u0428\\u0410\\u0420\\u041e\\u0412\",\"\\u0422\\u0430\\u0440\\u0430\\u0441\\u044e\\u043a\",\"\\u043f\\u0435\\u0440\\u0435\\u0443\\u0441\\u0442\\u0443\\u043f\\u043a\\u043e\\u0439\",\"\\u0421\\u0423\\u0414\\u042c\\u0411\\u0415\",\"\\u043f\\u0440\\u0438\\u0432\\u044b\\u043a\\u0430\\u043d\\u0438\\u044f\",\"\\u041c\\u0430\\u043a\\u0440\\u043e\\u043a\\u043e\\u0441\\u043c\\u0435\",\"\\u0430\\u043d\\u0442\\u0438\\u043e\\u0445\\u0438\\u0439\\u0446\\u0435\\u0432\",\"\\u0448\\u0442\\u0443\\u043a\\u0430\\u0442\\u0443\\u0440\\u043a\\u0443\",\"\\u0418\\u0434\\u0435\\u0430\\u043b\\u0438\\u0441\\u0442\\u044b\",\"\\u0431\\u0443\\u0434\\u0443\\u0449\\u0435\\u043c\",\"\\u043c\\u0430\\u0442\\u0435\\u0440\\u0438\\u0430\\u043b\\u0438\\u0437\\u0430\\u0446\\u0438\\u0438\",\"\\u041e\\u0411\\u041e\\u0419\\u041c\\u0415\",\"\\u0410\\u0441\\u0442\\u0435\\u0440\\u043e\\u0438\\u0434\\u044b\",\"\\u043a\\u044d\\u0448\\u0438\\u0440\\u043e\\u0432\\u0430\\u043d\\u0438\\u044f\",\"\\u0423\\u041b\\u0418\\u0426\\u0410\\u041c\",\"\\u0414\\u0436\\u0435\\u0440\\u043e\\u043c\\u0443\",\"\\u0441\\u0442\\u0430\\u043b\\u0430\\u043a\\u0442\\u0438\\u0442\\u0430\\u043c\\u0438\",\"\\u0441\\u0431\\u0435\\u0440\\u0435\\u0436\\u0435\\u043d\\u0438\\u044f\",\"\\u043f\\u0440\\u0438\\u0432\\u0435\\u0440\\u0435\\u0434\\u043b\\u0438\\u0432\\u043e\\u0441\\u0442\\u044c\",\"\\u0441\\u0435\\u0431\\u044f\\u043b\\u044e\\u0431\\u0446\\u044b\",\"\\u0431\\u0438\\u043b\\u0431\\u043e\\u0440\\u0434\\u0430\\u043c\\u0438\",\"\\u044d\\u043a\\u0441\\u0442\\u0440\\u0430\\u0432\\u0435\\u0440\\u0442\\u0443\",\"\\u043f\\u0430\\u0440\\u0430\\u0448\\u044e\\u0442\\u0438\\u0437\\u043c\",\"\\u041c\\u0438\\u043b\\u0430\\u043d\\u044b\",\"\\u0431\\u0440\\u043e\\u043d\\u0435\\u0432\\u0438\\u043a\\u0443\",\"\\u0434\\u0438\\u0444\\u0444\\u0443\\u0437\\u043e\\u0440\\u0430\\u043c\\u0438\",\"\\u0432\\u044b\\u0441\\u0442\\u0443\\u043f\\u0435\",\"\\u041b\\u0443\\u043a\\u043e\\u043d\\u0438\\u043d\",\"\\u0421\\u0442\\u0435\\u043a\\u043b\\u043e\\u0432\\u043e\\u043b\\u043e\\u043a\\u043d\\u0430\",\"\\u0432\\u044b\\u043a\\u0438\\u0434\\u044b\\u0448\\u0430\\u043c\",\"\\u0414\\u0435\\u0440\\u0435\\u0432\\u0443\\u0448\\u043a\\u0430\",\"\\u0442\\u0440\\u0430\\u043a\\u0442\\u043e\\u0440\\u0438\\u0441\\u0442\\u043a\\u043e\\u0439\",\"\\u043f\\u043e\\u0434\\u0431\\u043e\\u0440\\u0430\\u043c\",\"\\u0430\\u043c\\u0444\\u0435\\u0442\\u0430\\u043c\\u0438\\u043d\\u044b\",\"\\u043f\\u043e\\u0440\\u0442\\u0430\\u043b\\u0430\\u043c\",\"\\u041b\\u043e\\u0436\\u044c\",\"\\u0443\\u0447\\u0451\\u043d\\u044b\\u0439\",\"\\u0440\\u0430\\u0434\\u0438\\u043e\\u044d\\u043b\\u0435\\u043a\\u0442\\u0440\\u043e\\u043d\\u0438\\u043a\\u0438\",\"\\u043f\\u0435\\u0440\\u0435\\u0437\\u0432\\u043e\\u043d\\u0430\",\"\\u044d\\u0433\\u043e\\u0438\\u0441\\u0442\\u044b\",\"\\u0441\\u0443\\u043f\\u0435\\u0440\\u0432\\u0438\\u0437\\u043e\\u0440\\u043e\\u0432\",\"\\u041f\\u0420\\u0418\\u0427\\u0423\\u0414\",\"\\u0443\\u043c\\u0430\\u043b\\u0435\\u043d\\u0438\\u0435\",\"\\u043a\\u043e\\u043c\\u0431\\u0430\\u043d\\u043a\",\"\\u0437\\u0430\\u0442\\u0435\\u043d\\u0435\\u043d\\u0438\\u044e\",\"\\u044d\\u043b\\u0435\\u043a\\u0442\\u0440\\u043e\\u043f\\u0438\\u0442\\u0430\\u043d\\u0438\\u0435\",\"\\u0413\\u041e\\u041a\\u0410\",\"\\u041f\\u0440\\u043e\\u0445\\u043e\\u0440\\u043e\\u0432\",\"\\u041a\\u0423\\u0412\\u0415\\u0419\\u0422\\u041e\\u041c\",\"\\u0432\\u043e\\u043b\\u0448\\u0435\\u0431\\u0441\\u0442\\u0432\\u043e\",\"\\u0431\\u043b\\u0435\\u0444\\u0435\",\"\\u041e\\u041f\\u0422\",\"\\u0433\\u0435\\u043d\\u0435\\u0440\\u0430\\u043b\\u0430\",\"\\u0445\\u0438\\u0449\\u0435\\u043d\\u0438\\u044e\",\"\\u043b\\u0438\\u043a\\u0451\\u0440\",\"\\u043a\\u0443\\u0440\\u043e\\u0441\\u043b\\u0435\\u043f\\u0430\",\"\\u0441\\u0430\\u0439\\u0435\\u043d\\u0442\\u043e\\u043b\\u043e\\u0433\\u043e\\u0432\",\"\\u0427\\u0435\\u0441\\u0430\\u043f\\u0438\\u043a\\u0430\",\"\\u0425\\u043e\\u043b\\u043b\\u043e\\u0432\",\"\\u0432\\u043e\\u0433\\u043d\\u0443\\u0442\\u043e\\u0441\\u0442\\u044f\\u0445\",\"\\u043a\\u043e\\u0434\\u0435\\u043a\\u0435\",\"\\u043d\\u0435\\u043f\\u0440\\u0430\\u0432\\u043e\\u0441\\u043f\\u043e\\u0441\\u043e\\u0431\\u043d\\u043e\\u0441\\u0442\\u0438\",\"\\u043e\\u0441\\u0432\\u0438\\u0434\\u0435\\u0442\\u0435\\u043b\\u044c\\u0441\\u0442\\u0432\\u043e\\u0432\\u0430\\u043d\\u0438\\u044e\",\"\\u043a\\u0432\\u0438\\u0442\\u0438\\u0440\\u043e\\u0432\\u0430\\u043d\\u0438\\u0435\",\"\\u0446\\u0438\\u0432\\u0438\\u043b\\u0438\\u0437\\u0430\\u0446\\u0438\\u044f\\u0445\",\"\\u0440\\u0430\\u0437\\u043d\\u043e\\u0447\\u0442\\u0435\\u043d\\u0438\\u044e\",\"\\u0423\\u0433\\u043e\\u0449\\u0435\\u043d\\u0438\\u0435\",\"\\u0422\\u041a\\u0410\\u041d\\u0415\\u0419\",\"\\u0433\\u0435\\u043d\\u0435\\u0442\\u0438\\u043a\\u043e\\u0432\",\"\\u0414\\u0436\\u0435\\u0440\\u0441\\u0438\",\"\\u0441\\u0430\\u043a\\u0441\\u0430\\u0443\\u043b\\u0430\",\"\\u043f\\u0435\\u0440\\u0435\\u0432\\u043e\\u0440\\u0430\\u0447\\u0438\\u0432\\u0430\\u043d\\u0438\\u0435\\u043c\",\"\\u0423\\u0447\\u0451\\u043d\\u044b\\u0445\",\"\\u043a\\u0440\\u0438\\u043f\\u0442\\u043e\\u0433\\u0440\\u0430\\u0444\\u0430\\u043c\",\"\\u0438\\u043c\\u0443\\u0449\\u0435\\u0441\\u0442\\u0432\\u0430\",\"\\u043e\\u043f\\u0430\\u0445\\u0430\\u043b\\u0430\\u043c\",\"\\u0417\\u0438\\u043d\\u0430\",\"\\u0440\\u0435\\u043f\\u043e\\u0440\\u0442\\u0430\\u0436\",\"\\u044d\\u043b\\u0438\\u0442\\u0430\\u043c\",\"\\u0424\\u0443\\u0440\\u0433\\u043e\\u043d\\u044b\",\"\\u0417\\u044f\\u0431\\u043a\\u043e\",\"\\u0421\\u0442\\u0430\\u0432\\u0440\\u0438\\u0434\\u0430\",\"\\u043a\\u043e\\u0430\\u0433\\u0443\\u043b\\u044f\\u043d\\u0442\\u043e\\u043c\",\"\\u043d\\u0435\\u043f\\u0440\\u0438\\u043b\\u0438\\u0447\\u0438\\u0435\\u043c\",\"\\u043f\\u0430\\u0441\\u0441\\u0438\\u0432\\u0430\\u0445\",\"\\u0430\\u0433\\u0440\\u043e\\u0442\\u0435\\u0445\\u043d\\u0438\\u043a\\u0430\",\"\\u043f\\u0430\\u0442\\u0440\\u0438\\u043e\\u0442\\u0438\\u0437\\u043c\\u0443\",\"\\u0444\\u043e\\u0442\\u043e\\u043c\\u0430\\u0442\\u0435\\u0440\\u0438\\u0430\\u043b\\u0430\",\"\\u0433\\u0430\\u043c\\u0438\\u043b\\u044c\\u0442\\u043e\\u043d\\u0438\\u0430\\u043d\",\"\\u041d\\u0430\\u0441\\u0442\\u043e\\u0439\\u043a\\u0438\",\"\\u0411\\u0438\\u043b\\u0435\\u0442\\u044b\",\"\\u0411\\u0430\\u0442\\u0430\\u043b\\u043e\\u0432\",\"\\u041f\\u044c\\u044f\\u043d\\u044b\\u0445\",\"\\u0424\\u043e\\u0441\\u0433\\u0435\\u043d\",\"\\u043b\\u0435\\u043c\\u043c\\u0438\\u043d\\u0433\",\"\\u0410\\u043d\\u0434\\u0440\\u0435\\u0435\\u0432\\u0430\",\"\\u041a\\u0423\\u041f\\u042e\\u0420\\u0410\\u0425\",\"\\u0411\\u0430\\u043d\\u043a\\u0443\",\"\\u0438\\u0437\\u0432\\u0438\\u043b\\u0438\\u043d\\u0435\",\"\\u041a\\u043e\\u043d\\u0442\\u0443\\u0437\\u0438\\u044f\",\"\\u043d\\u0435\\u043f\\u0440\\u0430\\u0432\\u0438\\u043b\\u044c\\u043d\\u043e\\u0441\\u0442\\u044c\\u044e\",\"\\u041c\\u0430\\u0434\\u0435\\u0439\\u0440\\u044b\",\"\\u0434\\u0435\\u043f\\u043e\\u0437\\u0438\\u0442\\u0430\\u0440\\u0438\\u044f\\u043c\\u0438\",\"\\u0433\\u0430\\u043b\\u043e\\u0433\\u0435\\u043d\\u043e\\u0432\",\"\\u041c\\u0430\\u043a\\u0434\\u043e\\u043d\\u0430\\u043b\\u0434\\u0441\\u0435\",\"\\u043d\\u0435\\u0430\\u043f\\u043e\\u043b\\u0438\\u0442\\u0430\\u043d\\u043a\\u0430\",\"\\u043a\\u043e\\u043d\\u0446\\u0435\\u043f\\u0442\\u043e\\u0432\",\"\\u0414\\u043d\\u0435\\u0432\\u0430\\u043b\\u044c\\u043d\\u044b\\u0439\",\"\\u041d\\u0410\\u0412\\u041e\\u0417\\u0410\\u0425\",\"\\u0414\\u0436\\u0438\\u043b\\u0438\",\"\\u041e\\u0433\\u043b\\u0430\\u0448\\u0435\\u043d\\u043d\\u044b\\u0435\",\"\\u0440\\u0430\\u043a\\u0438\\u0442\\u0441\\u043a\\u0438\\u0439\",\"\\u0433\\u0438\\u0434\\u0440\\u043e\\u0433\\u0435\\u043e\\u043b\\u043e\\u0433\\u0438\\u044f\",\"\\u0441\\u0442\\u0438\\u043b\\u044c\\u043d\\u043e\\u0441\\u0442\\u044c\\u044e\",\"\\u0446\\u0438\\u0441\\u0442\\u044b\",\"\\u043e\\u0442\\u0441\\u0440\\u043e\\u0447\\u043a\\u0430\\u043c\",\"\\u041c\\u0410\\u0424\\u0418\\u0418\",\"\\u043f\\u0440\\u0438\\u0432\\u043b\\u0435\\u0447\\u0435\\u043d\\u0438\\u0438\",\"\\u043f\\u043e\\u043b\\u0443\\u0448\\u0430\\u0440\\u0438\\u044f\\u043c\\u0438\",\"\\u0411\\u0435\\u043b\\u043b\\u0443\\u044f\\u0442\\u044c\",\"\\u042d\\u043a\\u0441\\u0442\\u0440\\u0430\\u043f\\u043e\\u043b\\u0438\\u0440\\u043e\\u0432\\u0430\\u043d\\u0438\\u0435\",\"\\u0448\\u0442\\u044b\\u0440\\u044c\\u043a\\u0430\",\"\\u0430\\u043f\\u0430\\u0442\\u0438\\u0442\\u043e\",\"\\u0411\\u043e\\u043b\\u0442\\u0443\\u0448\\u043a\\u0438\\u043d\\u043e\\u0439\",\"\\u041c\\u0430\\u043c\\u0431\\u0430\",\"\\u0442\\u0435\\u043e\\u0440\\u0435\\u043c\\u0435\",\"\\u041e\\u0431\\u043e\\u0441\\u0442\\u0440\\u0435\\u043d\\u0438\\u0435\",\"\\u043f\\u0435\\u0440\\u0435\\u043a\\u043b\\u044e\\u0447\\u0430\\u0442\\u0435\\u043b\\u044c\",\"\\u041b\\u0423\\u041a\\u042c\\u042f\\u041d\\u041e\\u0412\",\"\\u0431\\u0443\\u0444\\u0435\\u0440\\u0438\\u0440\\u043e\\u0432\\u0430\\u043d\\u0438\\u0435\\u043c\",\"\\u0432\\u043e\\u0437\\u043c\\u0443\\u0436\\u0430\\u043b\\u043e\\u0441\\u0442\\u0438\",\"\\u0430\\u043a\\u043a\\u0443\\u043c\\u0443\\u043b\\u044f\\u0442\\u043e\\u0440\\u0430\\u0445\",\"\\u0443\\u0449\\u0435\\u043b\\u044c\\u044f\",\"\\u043a\\u043b\\u0438\\u043d\\u0438\\u0446\\u0438\\u0441\\u0442\\u0430\\u043c\\u0438\",\"\\u0440\\u0430\\u0434\\u0438\\u043e\\u043d\\u0443\\u043a\\u043b\\u0438\\u0434\\u0430\\u043c\\u0438\",\"\\u0411\\u0443\\u0440\\u0433\\u043e\\u0441\\u0430\",\"\\u0440\\u0430\\u043c\\u043a\\u0435\",\"\\u043f\\u044c\\u044f\\u043d\\u0441\\u0442\\u0432\\u0443\",\"\\u0410\\u043b\\u044c\\u0442\\u0448\\u0443\\u043b\\u0435\\u0440\",\"\\u0424\\u0440\\u0430\\u043d\\u0446\\u0438\\u0441\\u043a\\u0435\",\"\\u0410\\u0440\\u043c\\u0438\\u044e\",\"\\u043f\\u0440\\u043e\\u0440\\u0435\\u0445\\u0438\",\"\\u0433\\u0440\\u0430\\u0444\\u0438\\u043a\\u0443\",\"\\u043b\\u0438\\u0434\\u0438\\u0439\\u0446\\u044b\",\"\\u0421\\u0432\\u0435\\u0442\\u0435\\u043b\\u043a\\u0438\",\"\\u0421\\u043e\\u044e\\u0437\\u043e\\u0432\",\"\\u0422\\u0440\\u0430\\u043f\\u0435\\u0446\\u0438\\u0438\",\"\\u0418\\u0417\\u041e\\u0411\\u0418\\u041b\\u0418\\u042f\",\"\\u041c\\u043e\\u043c\\u0435\\u043d\\u0442\\u0430\\u043c\\u0438\",\"\\u0412\\u0418\\u041a\\u0422\\u041e\\u0420\\u0410\",\"\\u041f\\u043e\\u0440\\u043e\\u0441\\u044f\\u0442\\u0430\",\"\\u0433\\u043e\\u043d\\u043a\\u0430\\u043c\",\"\\u041b\\u0436\\u0435\\u0446\\u0430\\u043c\",\"\\u041c\\u041d\\u0415\",\"\\u0413\\u0430\\u0444\\u0430\\u0440\\u043e\\u0432\\u0430\",\"\\u0441\\u0442\\u0430\\u0442\\u044c\\u0435\\u044e\",\"\\u043a\\u043e\\u043d\\u0441\\u0442\\u0430\\u043d\\u0442\\u043d\\u043e\\u0441\\u0442\\u044c\",\"\\u043a\\u043e\\u043d\\u0442\\u0440\\u043e\\u043b\\u043b\\u0435\\u0440\\u044b\",\"\\u0440\\u0430\\u0441\\u0447\\u0451\\u0442\\u0430\\u0445\",\"\\u0414\\u043e\\u043a\\u0443\\u0447\\u0430\\u0435\\u0432\",\"\\u041f\\u044d\\u043c\\u0430\",\"\\u043d\\u043e\\u0436\\u043a\\u0435\",\"\\u043a\\u0440\\u0430\\u0435\\u0432\\u0435\\u0434\\u043e\\u043c\",\"\\u0428\\u0443\\u0431\\u0438\\u043d\",\"\\u0434\\u0432\\u0443\\u0440\\u0443\\u0448\\u043d\\u0438\\u0447\\u0435\\u0441\\u0442\\u0432\\u043e\",\"\\u0421\\u043e\\u0441\\u043b\\u043e\\u0432\\u0438\\u0435\",\"\\u0430\\u0440\\u0442\\u0438\\u0441\\u0442\\u043a\\u043e\\u0439\",\"\\u043a\\u0430\\u043b\\u044c\\u043a\\u0443\\u043b\\u044f\\u0446\\u0438\\u044f\\u0445\",\"\\u043e\\u0442\\u0441\\u043e\\u0441\\u043e\\u0432\",\"\\u043a\\u0432\\u0430\\u0440\\u0442\\u0438\\u0440\\u0430\\u043d\\u0442\\u044b\",\"\\u0414\\u044e\\u043a\\u043e\\u043c\",\"\\u043e\\u0431\\u043e\\u0439\\u043c\\u0435\",\"\\u0432\\u0438\\u0430\\u0433\\u0440\\u0435\",\"\\u0413\\u043b\\u043e\\u0431\\u043e\",\"\\u0410\\u0420\\u0425\\u0418\\u0422\\u0415\\u041a\\u0422\\u0423\\u0420\\u042b\",\"\\u0425\\u0430\\u0439\\u0434\\u0435\\u043b\\u044c\\u0431\\u0435\\u0440\\u0433\\u0435\",\"\\u043d\\u0435\\u0432\\u0435\\u0434\\u0435\\u043d\\u044c\\u0435\",\"\\u0422\\u0430\\u043a\\u0441\\u043e\\u0444\\u043e\\u043d\",\"\\u043c\\u043e\\u043d\\u0438\\u0442\\u043e\\u0440\\u0430\",\"\\u043a\\u043d\\u0438\\u0436\\u0435\\u0447\\u0435\\u043a\",\"\\u0441\\u0435\\u043a\\u0443\\u043d\\u0434\\u043e\\u043c\\u0435\\u0440\\u0435\",\"\\u0441\\u0432\\u0435\\u0436\\u0435\\u0432\\u0430\\u043d\\u0438\\u0435\",\"\\u043d\\u0430\\u0440\\u0443\\u0447\\u043d\\u0438\\u043a\\u0430\\u043c\",\"\\u0440\\u043e\\u0434\\u043d\\u0451\\u0439\",\"\\u0433\\u0430\\u0437\\u043e\\u0445\\u0440\\u0430\\u043d\\u0438\\u043b\\u0438\\u0449\\u0430\\u043c\\u0438\",\"\\u0431\\u0430\\u0431\\u0435\\u043d\\u043a\\u0430\",\"\\u0431\\u0435\\u0441\\u0441\\u0438\\u0441\\u0442\\u0435\\u043c\\u043d\\u043e\\u0441\\u0442\\u044c\",\"\\u041a\\u043b\\u044f\\u0442\\u0432\\u043e\\u0439\",\"\\u041b\\u043e\\u0434\\u044b\\u0436\\u043a\\u0430\\u043c\",\"\\u0425\\u0410\\u041c\\u0415\\u041d\\u041e\\u0412\\u042b\\u0419\",\"\\u044f\\u0437\\u0432\\u0438\\u0442\\u0435\\u043b\\u044c\\u043d\\u043e\\u0441\\u0442\\u044c\",\"\\u043e\\u0440\\u0445\\u0438\\u0434\\u0435\\u044f\\u043c\",\"\\u0435\\u043b\\u043e\\u0447\\u043a\\u0430\\u043c\\u0438\",\"\\u041c\\u043e\\u0437\\u0435\\u0441\",\"\\u043e\\u0440\\u0430\\u043d\\u0436\\u0435\\u0440\\u0435\\u044f\\u043c\\u0438\",\"\\u043b\\u0435\\u0441\\u0435\\u043d\\u043e\\u043a\",\"\\u043d\\u0435\\u043c\\u0430\\u0442\\u0438\\u043a\",\"\\u0411\\u0418\\u0411\\u041b\\u0418\\u041e\\u0422\\u0415\\u041a\\u0410\",\"\\u0417\\u0410\\u0425\\u041e\\u0420\\u041e\\u041d\\u0415\\u041d\\u0418\\u0415\",\"\\u043e\\u0431\\u044a\\u0435\\u0434\\u0430\\u043b\",\"\\u0410\\u043b\\u043c\\u0430\\u0437\\u0435\",\"\\u0446\\u0430\\u0440\\u0441\\u0442\\u0432\\u0438\\u044f\",\"\\u041e\\u0411\\u0414\\u0423\\u041c\\u042b\\u0412\\u0410\\u041d\\u0418\\u0415\",\"\\u0438\\u0441\\u0447\\u0435\\u0440\\u043f\\u0430\\u043d\\u0438\\u0438\",\"\\u0432\\u0430\\u043b\\u043b\\u0438\\u0439\\u0446\\u044b\",\"\\u041a\\u041e\\u041d\\u042a\\u042e\\u041d\\u041a\\u0422\\u0418\\u0412\\u0418\\u0422\",\"\\u044d\\u043a\\u0441\\u0442\\u0440\\u0435\\u043c\\u0438\\u0441\\u0442\\u043e\\u0432\",\"\\u041f\\u044c\\u044f\\u043d\\u0438\\u0446\\u044b\",\"\\u043e\\u0442\\u043c\\u0435\\u0441\\u0442\\u043a\\u0438\",\"\\u0418\\u043c\\u043c\\u0443\\u043d\\u043e\\u0434\\u0435\\u0444\\u0438\\u0446\\u0438\\u0442\\u0430\",\"\\u0441\\u043e\\u0441\\u0442\\u0430\\u0432\",\"\\u043d\\u044e\\u043d\\u044f\",\"\\u0443\\u043a\\u043e\\u0440\\u0430\\u043c\\u0438\",\"\\u0420\\u0430\\u0437\\u0434\\u0435\\u043b\\u0438\\u0442\\u0435\\u043b\\u044c\",\"\\u0414\\u0438\\u0437\\u0430\\u0441\\u0441\\u0435\\u043c\\u0431\\u043b\\u0438\\u0440\\u043e\\u0432\\u0430\\u043d\\u0438\\u0435\",\"\\u041d\\u0435\\u043a\\u043e\\u043c\\u0443\",\"\\u0428\\u0430\\u043c\\u0430\\u043d\\u043e\\u0432\\u0430\",\"\\u041f\\u0440\\u0438\\u043d\\u0446\\u0435\\u0441\\u0441\\u0443\",\"\\u043f\\u0440\\u044f\\u043c\\u043e\\u0434\\u0443\\u0448\\u0438\\u0438\",\"\\u0420\\u043e\\u044f\\u043b\\u0438\\u0441\\u0442\\u044b\",\"\\u041d\\u0435\\u0441\\u0447\\u0435\\u0442\\u043d\\u043e\\u0441\\u0442\\u044c\",\"\\u041f\\u0420\\u041e\\u041a\\u041b\\u0410\\u0414\\u0427\\u0418\\u041a\\u0410\\u041c\\u0418\",\"\\u041e\\u0446\\u0435\\u043d\\u043e\\u043a\",\"\\u0412\\u044b\\u0433\\u043e\\u0434\\u0441\\u043a\\u0430\\u044f\",\"\\u0442\\u0451\\u0440\\u043d\\u043e\\u043c\",\"\\u0414\\u044d\\u043d\\u0432\\u0435\\u0440\\u0441\",\"\\u043d\\u0435\\u043f\\u043e\\u0447\\u0442\\u0435\\u043d\\u0438\\u0435\\u043c\",\"\\u043f\\u0435\\u043a\\u0430\\u0440\\u043d\\u044f\\u0445\",\"\\u041c\\u0435\\u0441\\u0442\",\"\\u041c\\u0435\\u0439\\u043a\\u043e\\u043d\\u0443\",\"\\u041b\\u0430\\u0431\\u043e\\u0440\\u0430\\u0442\\u043e\\u0440\\u0438\\u044f\",\"\\u043f\\u0440\\u043e\\u0435\\u043a\\u0446\\u0438\\u044f\\u043c\",\"\\u0410\\u043c\\u0435\\u0440\\u0438\\u043a\\u0430\\u043d\\u0446\\u0430\\u043c\",\"\\u041a\\u043e\\u043d\\u0432\\u0435\\u043d\\u0442\\u043e\\u043c\",\"\\u0413\\u043e\\u0440\\u0442\\u0443\\u043d\\u043e\\u0432\\u044b\\u0439\",\"\\u0448\\u0442\\u0430\\u0431-\\u043a\\u0432\\u0430\\u0440\\u0442\\u0438\\u0440\\u0443\",\"\\u043f\\u0438\\u0442\\u043e\\u043c\\u043d\\u0438\\u043a\\u0443\",\"\\u0440\\u0435\\u0448\\u0435\\u0442\\u043a\\u043e\",\"\\u043f\\u043b\\u043e\\u0434\\u043e\\u0440\\u043e\\u0434\\u0438\\u0435\\u043c\",\"\\u043f\\u043e\\u0445\\u0432\\u0430\\u043b\\u044c\\u0431\\u043e\\u0439\",\"\\u041d\\u0430\\u0440\\u044f\\u0434\",\"\\u041c\\u041e\\u0420\",\"\\u043a\\u0430\\u0440\\u0434\\u0438\\u043e\\u043b\\u043e\\u0433\\u0430\",\"\\u0411\\u0440\\u0438\\u0434\\u0436\\u043c\\u0435\\u043d\",\"\\u0422\\u0435\\u0433\\u0435\\u0440\\u0430\\u043d\\u0443\",\"\\u0411\\u0435\\u043b\\u043e\\u043a\\u0443\\u0440\\u043e\\u0432\\u0430\",\"\\u0427\\u0438\\u043c\\u0431\\u043e\\u0440\\u0430\\u0441\\u043e\",\"\\u0441\\u0435\\u0434\\u0430\\u0442\\u0438\\u0432\\u0430\\u0445\",\"\\u0442\\u0443\\u043d\\u043d\\u0435\\u043b\\u0438\\u0440\\u043e\\u0432\\u0430\\u043d\\u0438\\u0438\",\"\\u043a\\u0430\\u0440\\u0430\\u0442\\u0435\\u043b\\u044c\",\"\\u043a\\u0440\\u0438\\u043f\\u0442\\u043e\\u0433\\u0440\\u0430\\u0444\\u0438\\u0435\\u0439\",\"\\u043f\\u043e\\u0434\\u0447\\u0438\\u043d\\u0435\\u043d\\u0438\\u0438\",\"\\u0430\\u0441\\u0438\\u043c\\u043f\\u0442\\u043e\\u0442\\u0438\\u043a\\u0443\",\"\\u043b\\u044e\\u043c\\u0438\\u043d\\u043e\\u0444\\u043e\\u0440\\u0430\",\"\\u043c\\u0435\\u043c\\u0443\\u0430\\u0440\\u0438\\u0441\\u0442\\u043e\\u0432\",\"\\u0438\\u043c\\u0451\\u043d\",\"\\u043e\\u0433\\u043d\\u0435\\u043c\\u0435\\u0442\\u043e\\u043c\",\"\\u0415\\u043a\\u0430\\u0442\\u0435\\u0440\\u0438\\u043d\\u0431\\u0443\\u0440\\u0433\\u0435\",\"\\u0440\\u0430\\u0437\\u0440\\u0430\\u0441\\u0442\\u0430\\u043d\\u0438\\u044f\",\"\\u043a\\u043e\\u043b\\u043e\\u0440\\u0438\\u0442\\u043e\\u043c\",\"\\u0438\\u043b\\u043b\\u044e\\u0437\\u0438\\u043e\\u043d\\u0438\\u0441\\u0442\\u0430\",\"\\u043f\\u043e\\u0447\\u0432\\u043e\\u0439\",\"\\u0430\\u0440\\u0445\\u0438\\u043f\\u0435\\u043b\\u0430\\u0433\\u0430\\u043c\",\"\\u043e\\u0431\\u043e\\u043b\\u0432\\u0430\\u043d\\u0438\\u0432\\u0430\\u043d\\u0438\\u0435\",\"\\u0430\\u043d\\u0430\\u043c\\u043d\\u0435\\u0437\",\"\\u041c\\u041e\\u0422\\u041e\\u0426\\u0418\\u041a\\u041b\",\"\\u0420\\u0435\\u0433\\u0443\\u043b\\u0438\\u0440\\u043e\\u0432\\u0430\\u043d\\u0438\\u044e\",\"\\u0420\\u0415\\u041a\\u041e\\u041c\\u0415\\u041d\\u0414\\u0410\\u0426\\u0418\\u0419\",\"\\u041f\\u0430\\u044f\\u0446\\u0435\\u0432\",\"\\u0433\\u0432\\u0430\\u0442\\u0435\\u043c\\u0430\\u043b\\u044c\\u0446\\u0430\\u043c\",\"\\u043e\\u0442\\u0432\\u0435\\u0440\\u0436\\u0434\\u0435\\u043d\\u0438\\u0438\",\"\\u0441\\u043e\\u0431\\u043b\\u0430\\u0437\\u043d\\u044b\",\"\\u0417\\u0430\\u043a\\u0440\\u0430\\u0448\\u0438\\u0432\\u0430\\u043d\\u0438\\u0435\",\"\\u043d\\u0430\\u0433\\u043b\\u0435\\u0446\\u0430\\u043c\\u0438\",\"\\u0428\\u0435\\u0440\\u0432\\u0443\\u0434\",\"\\u0421\\u0435\\u0432\\u0435\\u0440\\u0441\\u0442\\u0430\\u043b\\u0438\",\"\\u041d\\u0415\\u041c\\u0415\\u0422\\u0410\\u041b\\u041b\\u042b\",\"\\u0424\\u0438\\u043b\\u0438\\u043f\\u043f\\u0438\\u043d\\u0430\\u043c\",\"\\u0434\\u0430\\u0440\\u043e\\u0432\\u0430\\u043d\\u0438\\u044e\",\"\\u043d\\u0430\\u0443\\u043a\\u0435\",\"\\u0412\\u0430\\u0437\\u0430\",\"\\u043a\\u0440\\u0430\\u0442\\u0435\\u0440\\u0430\\u0445\",\"\\u041f\\u043b\\u0430\\u0446\\u0434\\u0430\\u0440\\u043c\\u043e\\u043c\",\"\\u0417\\u0430\\u0436\\u0430\\u0442\\u0438\\u0435\",\"\\u041a\\u0430\\u0434\\u0440\\u0438\\u043b\\u044c\",\"\\u0437\\u0430\\u043c\\u0443\\u0436\\u0435\\u0441\\u0442\\u0432\\u0435\",\"\\u041b\\u0438\\u0442\\u0443\\u0440\\u0433\\u0438\\u0438\",\"\\u043c\\u0430\\u0440\\u043e\\u043a\\u043a\\u0430\\u043d\\u0446\\u0430\\u043c\\u0438\",\"\\u0412\\u00b7\\u0410\",\"\\u043b\\u0438\\u0446\\u0435\\u043d\\u0437\\u0438\\u044e\",\"\\u043e\\u0442\\u0431\\u044b\\u0432\\u0430\\u043d\\u0438\\u0435\",\"\\u041a\\u0410\\u041f\\u0418\\u041b\\u041b\\u042f\\u0420\\u0410\",\"\\u0430\\u043d\\u0430\\u0433\\u0440\\u0430\\u043c\\u043c\\u0430\\u043c\\u0438\",\"\\u041a\\u043e\\u0440\\u0430\\u0431\\u043b\\u0435\\u0439\",\"\\u043e\\u043f\\u0442\\u043e\\u0432\\u043e\\u043b\\u043e\\u043a\\u043d\\u043e\\u043c\",\"\\u043a\\u043e\\u0432\\u0440\\u043e\\u043b\\u0438\\u043d\",\"\\u043f\\u043e\\u0434\\u0441\\u043e\\u0437\\u043d\\u0430\\u0442\\u0435\\u043b\\u044c\\u043d\\u043e\\u0441\\u0442\\u044c\\u044e\",\"\\u041c\\u0410\\u0413\\u041d\\u0415\\u0422\\u0420\\u041e\\u041d\\u041e\\u0412\",\"\\u041f\\u0440\\u043e\\u0432\\u0438\\u0434\\u0435\\u043d\\u0441\",\"\\u0444\\u0430\\u043b\\u043b\\u043e\\u0441\\u043e\\u043c\",\"\\u041d\\u0430\\u0440\\u0438\\u043c\\u0430\\u043d\",\"\\u0431\\u0440\\u0430\\u043a\\u043e\\u0432\\u043a\\u0443\",\"\\u041a\\u0420\\u0418\\u0421\\u0423\",\"\\u041e\\u0441\\u043c\\u0430\\u043d\",\"\\u043e\\u0441\\u043d\\u043e\\u0432\\u0430\\u0442\\u0435\\u043b\\u044c\",\"\\u0435\\u0432\\u0440\\u043e\\u0434\\u043e\\u043b\\u043b\\u0430\\u0440\\u0443\",\"\\u0442\\u0440\\u0430\\u0434\\u0438\\u0446\\u0438\\u043e\\u043d\\u043d\\u043e\\u0441\\u0442\\u044c\\u044e\",\"\\u044d\\u043f\\u0438\\u0434\\u0435\\u0440\\u043c\\u0438\\u0441\\u0430\",\"\\u041f\\u0435\\u0440\\u0432\\u043e\\u0441\\u0432\\u044f\\u0449\\u0435\\u043d\\u043d\\u0438\\u043a\\u043e\\u0432\",\"\\u041a\\u041e\\u0420\\u0417\\u0418\\u041d\\u041e\\u0427\\u041a\\u0418\",\"\\u043f\\u0440\\u0430\\u0433\\u043c\\u0430\\u0442\\u0438\\u043a\\u0435\",\"\\u043c\\u0430\\u0441\\u0442\\u0435\\u0440\\u0438\\u043d\\u0433\\u0430\",\"\\u043b\\u0435\\u043a\\u0446\\u0438\\u044f\",\"\\u0432\\u043b\\u0430\\u0434\\u0435\\u043b\\u044c\\u0446\\u044b\",\"\\u044e\\u0441\\u0442\\u0438\\u0446\\u0438\\u044e\",\"\\u043c\\u0443\\u0434\\u0440\\u043e\\u0441\\u0442\\u044f\\u043c\",\"\\u0434\\u0435\\u0442\\u043e\\u043d\\u0430\\u0446\\u0438\\u044e\",\"\\u041a\\u0443\\u0440\\u0441\\u043a\\u044d\\u043d\\u0435\\u0440\\u0433\\u043e\",\"\\u041f\\u0415\\u0429\\u0415\\u0420\\u0415\",\"\\u0414\\u0438\\u043e\\u043d\\u0438\\u0441\\u0443\",\"\\u0418\\u0441\\u043c\\u0430\\u0438\\u043b\\u0437\\u0430\\u0434\\u0430\",\"\\u0421\\u043b\\u0438\\u043f\",\"\\u043c\\u0443\\u0437\\u044b\\u043a\\u043e\\u0432\\u0435\\u0434\\u0435\\u043d\\u0438\\u044f\",\"\\u0414\\u043e\\u043a\\u043b\\u0430\\u0434\\u0430\\u0445\",\"\\u041a\\u0432\\u0430\\u0441\\u0446\\u044b\",\"\\u0417\\u0430\\u0445\\u0430\\u0440\\u043a\\u043e\\u0432\\u0430\",\"\\u0436\\u0443\\u0440\\u043d\\u0430\\u043b\\u0438\\u0441\\u0442\\u0438\\u043a\\u043e\\u0439\",\"\\u043f\\u0438\\u0441\\u0430\\u043d\\u0438\\u043d\\u0430\",\"\\u0442\\u0440\\u0435\\u043b\\u044c\\u044f\\u0436\\u0443\",\"\\u043a\\u0430\\u0432\\u0430\\u043b\\u044c\\u043a\\u0430\\u0434\\u044b\",\"\\u041b\\u0435\\u0441\\u0431\\u0430\\u0435\\u0432\\u0443\",\"\\u0421\\u0430\\u043c\\u043e\\u043a\\u0440\\u0443\\u0442\\u043a\\u0430\",\"\\u0437\\u0430\\u043a\\u0443\\u0441\\u043e\\u043a\",\"\\u0418\\u0441\\u0430\\u0435\\u0432\\u0430\",\"\\u0430\\u043c\\u0438\\u043d\\u043e\\u043a\\u0438\\u0441\\u043b\\u043e\\u0442\\u043e\\u0439\",\"\\u0432\\u044b\\u0442\\u0430\\u0441\\u043a\\u0438\\u0432\\u0430\\u043d\\u0438\\u044f\\u0445\",\"\\u043e\\u0431\\u0448\\u0438\\u0432\\u043a\\u0435\",\"\\u041a\\u043e\\u043d\\u0442\\u043e\\u0440\\u0449\\u0438\\u043a\\u043e\\u0432\",\"\\u043a\\u0413\\u0446\",\"\\u043a\\u0440\\u0430\\u0441\\u043d\\u043e\\u043a\\u043e\\u0436\\u0438\\u043c\",\"\\u041a\\u043e\\u0441\\u043e\\u0432\\u0430\",\"\\u0441\\u043d\\u0435\\u0434\\u044c\",\"\\u0412\\u0435\\u0441\\u0442\\u043c\\u0438\\u043d\\u0441\\u0442\\u0435\\u0440\",\"\\u043f\\u0440\\u0435\\u0434\\u0441\\u0435\\u0440\\u0434\\u0438\\u0439\",\"\\u0441\\u043f\\u0440\\u044d\\u0434\\u0430\\u0445\",\"\\u0447\\u0435\\u043b\\u043d\",\"\\u041a\\u0430\\u043c\\u0435\\u0438\",\"\\u0430\\u0440\\u0433\\u0443\\u043c\\u0435\\u043d\\u0442\\u0438\\u0440\\u043e\\u0432\\u0430\\u043d\\u043d\\u043e\\u0441\\u0442\\u044c\",\"\\u0424\\u0435\\u0434\\u043e\\u0440\\u0435\",\"\\u0411\\u0430\\u043d\\u043a\\u043e\\u0440\",\"\\u043f\\u0443\\u043b\\u044c\\u0432\\u0435\\u0440\\u0438\\u0437\\u0430\\u0442\\u043e\\u0440\\u043e\\u0432\",\"\\u0411\\u042b\\u041a\\u0410\",\"\\u0440\\u0430\\u0440\\u0438\\u0442\\u0435\\u0442\\u0430\",\"\\u0418\\u0441\\u0442-\\u042d\\u043d\\u0434\",\"\\u0432\\u0438\\u043d\\u0442\\u0430\\u0436\\u0430\",\"\\u0420\\u043e\\u0436\\u0434\\u0435\\u043d\\u0438\\u0439\",\"\\u0440\\u0435\\u0446\\u0438\\u0434\\u0438\\u0432\\u0430\\u043c\",\"\\u041f\\u044f\\u0442\\u0438\\u0434\\u0435\\u0441\\u044f\\u0442\\u043d\\u0438\\u0446\\u0430\",\"\\u0412\\u043e\\u0441\\u0445\\u0438\\u0449\\u0435\\u043d\\u0438\\u044f\",\"\\u041c\\u043e\\u043c\\u0435\\u043d\\u0442\\u0435\",\"\\u043d\\u043e\\u043b\\u0435\\u043c\",\"\\u0438\\u043a\\u0440\\u0438\\u043d\\u043a\\u0430\\u043c\",\"\\u0441\\u0431\\u043e\\u0440\\u043d\\u044b\\u0445\",\"\\u041e\\u0442\\u043b\\u0430\\u0434\\u043a\\u0438\",\"\\u043f\\u0440\\u0435\\u0434\\u0432\\u043e\\u0434\\u0438\\u0442\\u0435\\u043b\\u044c\\u043d\\u0438\\u0446\\u044b\",\"\\u0424\\u0440\\u0430\\u043d\\u0446\\u0435\\u043c\",\"\\u0411\\u0430\\u043a\\u0430\\u043b\\u0438\\u043d\\u0441\\u043a\\u0438\\u0439\",\"\\u0430\\u0437\\u0430\\u043c\",\"\\u041e\\u041f\\u0420\\u0415\\u0414\\u0415\\u041b\\u0415\\u041d\\u0418\\u0418\",\"\\u0414\\u0435\\u0444\\u0438\\u0446\\u0438\\u0442\\u044b\",\"\\u0437\\u043c\\u0435\\u044e\\u0448\\u043d\\u0438\\u043a\",\"\\u042f\\u041c\\u041e\\u0419\",\"\\u0440\\u0435\\u043a\\u0440\\u0443\\u0442\\u0438\\u043d\\u0433\\u0443\",\"\\u0442\\u0438\\u0442\\u0440\\u043e\\u0432\\u0430\\u043d\\u0438\\u0439\",\"\\u0446\\u0432\\u0435\\u0440\\u0433\\u0443\",\"\\u043f\\u043e\\u0440\\u0446\\u0438\\u0439\",\"\\u0421\\u0430\\u043c\\u0443\\u0438\\u043b\\u0435\",\"\\u041c\\u043e\\u0440\\u0441\",\"\\u0444\\u043b\\u044e\\u0441\\u044b\",\"\\u041f\\u043e\\u043b\\u043e\\u0436\\u0435\\u043d\\u0438\\u0439\",\"\\u0434\\u0440\\u043e\\u0436\\u044c\\u044e\",\"\\u0414\\u0430\\u0432\\u0438\\u0434\\u043a\\u0435\\u0432\\u0438\\u0447\",\"\\u043b\\u043e\\u0448\\u0430\\u0434\\u0438\",\"\\u0416\\u0438\\u0442\\u0435\\u043b\\u044e\",\"\\u043c\\u0430\\u0434\\u043e\\u043d\\u043e\\u0432\\u044b\\u0439\",\"\\u0449\\u0451\\u043b\\u043a\\u043e\\u0439\",\"\\u0438\\u043d\\u0441\\u0442\\u0440\\u0443\\u043a\\u0442\\u0430\\u0436\\u0435\\u0439\",\"\\u043f\\u043e\\u0442\\u0440\\u0435\\u0431\\u043d\\u043e\\u0441\\u0442\\u0435\\u0439\",\"\\u0418\\u043b\\u044c\\u044f\\u0441\\u043e\\u043c\",\"\\u043d\\u0430\\u0440\\u0443\\u0447\\u043d\\u0438\\u043a\\u0430\",\"\\u0420\\u0415\\u0419\\u0422\\u0418\\u041d\\u0413\\u0423\",\"\\u0434\\u0435\\u0440\\u043c\\u0430\\u0442\\u0438\\u0442\\u044b\",\"\\u0441\\u0443\\u043b\\u0442\\u0430\\u043d\\u0443\",\"\\u0434\\u0435\\u043c\\u043e\\u043d\\u0442\\u0430\\u0436\\u043e\\u043c\",\"\\u0441\\u0435\\u043b\\u0443\",\"\\u0442\\u0435\\u0440\\u043d\\u0430\",\"\\u041f\\u0440\\u0438\\u043f\\u043e\\u044f\",\"\\u0421\\u0443\\u043b\\u0442\\u0430\\u043d\\u043b\",\"\\u041e\\u0417\\u0415\\u0420\\u0415\",\"\\u0431\\u0430\\u0440\\u0430\\u0445\\u043b\\u0435\",\"\\u0411\\u0435\\u0440\\u043b\\u0438\\u043d\\u0435\\u0440\\u043e\\u043c\",\"\\u043f\\u0440\\u043e\\u0438\\u0441\\u043a\\u0430\\u0445\",\"\\u0420\\u043e\\u0433\\u0430\\u0447\\u0435\\u0432\\u0443\",\"\\u041e\\u0440\\u0435\\u043c\\u0435\",\"\\u043a\\u043e\\u043b\\u0445\\u043e\\u0437\\u043d\\u0438\\u0446\",\"\\u0412\\u0437\\u043d\\u043e\\u0441\\u0430\\u043c\\u0438\",\"\\u0434\\u0435\\u0441\\u044f\\u0442\\u0438\\u0431\\u043e\\u0440\\u044c\\u0435\",\"\\u041c\\u0430\\u0445\\u0430\\u0442\\u0445\\u0438\\u0440\\u043e\\u043c\",\"\\u044d\\u043a\\u0441\\u043a\\u0440\\u0435\\u043c\\u0435\\u043d\\u0442\\u0430\\u043c\\u0438\",\"\\u0420\\u0430\\u0437\\u0431\\u0435\\u0433\",\"\\u0440\\u0430\\u0440\\u0438\\u0442\\u0435\\u0442\\u043e\\u0432\",\"\\u041f\\u043b\\u043e\\u0445\\u043e\\u0442\\u043d\\u0438\\u043a\\u043e\\u0432\",\"\\u0421\\u0410\\u041d\\u041a\\u0422-\\u041f\\u0415\\u0422\\u0415\\u0420\\u0411\\u0423\\u0420\\u0413\\u0423\",\"\\u0434\\u0430\\u0432\\u043b\\u0435\\u043d\\u0438\\u0435\",\"\\u0411\\u0430\\u0440\\u043c\\u044b\\u0448\\u0435\\u0432\\u0430\\u0445\",\"\\u0444\\u043b\\u0430\\u0433\\u043c\\u0430\\u043d\",\"\\u041b\\u0435\\u0441\\u0442\\u0435\\u0440\\u043e\\u043c\",\"\\u0424\\u0440\\u0435\\u0441\\u043a\\u0438\",\"\\u0411\\u0410\\u041d\\u041a\\u0410\",\"\\u041a\\u0438\\u0442\\u043e\\u043d\\u0435\",\"\\u043e\\u0431\\u0435\\u0441\\u043f\\u043e\\u043a\\u043e\\u0435\\u043d\\u043d\\u043e\\u0441\\u0442\\u044c\",\"\\u042d\\u0441\\u0435\\u0440\\u044b\",\"\\u041e\\u0442\\u0431\\u043e\\u0440\",\"\\u041f\\u041e\\u041b\\u042c\\u0417\\u041e\\u0412\\u0410\\u041d\\u0418\\u0415\",\"\\u042e\\u0434\\u0436\\u0438\\u043d\\u0430\",\"\\u0441\\u0430\\u043f\\u043e\\u0436\\u043d\\u0438\\u0447\\u0435\\u0441\\u0442\\u0432\\u043e\",\"\\u0433\\u0440\\u0443\\u043f\\u043f\\u0438\\u0440\\u043e\\u0432\\u043a\\u0430\\u043c\\u0438\",\"\\u0435\\u0433\\u0438\\u043f\\u0442\\u044f\\u043d\\u043a\\u0430\",\"\\u0410\\u0432\\u0441\\u0435\\u0435\\u043d\\u043a\\u043e\",\"\\u0442\\u0443\\u0440\\u043f\\u043e\\u0445\\u043e\\u0434\",\"\\u0431\\u0430\\u0434\\u043c\\u0438\\u043d\\u0442\\u043e\\u043d\\u043e\\u043c\",\"\\u0410\\u0431\\u0440\\u0430\\u043c\\u043e\\u043c\",\"\\u0436\\u0440\\u0435\\u0446\\u0435\",\"\\u0432\\u0435\\u043d\\u0442\\u0438\\u043b\\u0435\\u043c\",\"\\u041a\\u0430\\u043b\\u043b\\u0438\\u043a\\u0440\\u0430\\u0442\\u0430\",\"\\u0420\\u0415\\u0410\\u041a\\u0422\\u041e\\u0420\\u0410\\u041c\",\"\\u043c\\u0430\\u043d\\u0436\\u0435\\u0442\\u043e\\u0439\",\"\\u044f\\u0439\\u0446\\u0435\\u043a\\u043b\\u0435\\u0442\\u043a\\u0430\",\"\\u043f\\u0438\\u0442\\u0430\\u043d\\u0438\\u0435\\u043c\",\"\\u043f\\u0440\\u0435\\u0435\\u043c\\u043d\\u0438\\u043a\\u043e\\u043c\",\"\\u0432\\u0438\\u0434\\u0435\\u043e\\u0436\\u0443\\u0440\\u043d\\u0430\\u043b\\u0438\\u0441\\u0442\\u0438\\u043a\\u0435\",\"\\u0440\\u0435\\u0447\\u0443\\u0448\\u043a\\u0443\",\"\\u041f\\u0443\\u043a\\u0435\\u043c\",\"\\u0423\\u0442\\u0435\\u0448\\u0435\\u043d\\u0438\\u0435\\u043c\",\"\\u042d\\u043b\\u044c\",\"\\u043c\\u0438\\u043b\\u043b\\u0438\\u0430\\u0440\\u0434\\u043d\\u0443\\u044e\",\"\\u043f\\u0440\\u043e\\u044f\\u0441\\u043d\\u0435\\u043d\\u0438\\u0435\",\"\\u043a\\u043e\\u043d\\u0446\\u0435\\u0440\\u043d\\u0430\\u0445\",\"\\u0413\\u0430\\u0437\\u0438\\u0431\\u0430\\u0440\",\"\\u043e\\u0441\\u0442\\u0440\\u043e\\u043b\\u0438\\u0441\\u0442\\u043e\\u043c\",\"\\u043b\\u0438\\u0446\\u0430\\u043c\",\"\\u041c\\u0435\\u043b\\u043e\\u0434\\u0440\\u0430\\u043c\\u0430\",\"\\u0438\\u043d\\u0442\\u0435\\u043b\\u043b\\u0435\\u043a\\u0442\\u0443\\u0430\\u043b\",\"\\u044d\\u043a\\u0441\\u043b\\u0438\\u0431\\u0440\\u0438\\u0441\\u0430\\u0445\",\"\\u041c\\u0438\\u043d\\u043a\\u0438\\u043d\\u043e\\u0439\",\"\\u0421\\u043e\\u0441\\u043b\\u0443\\u0436\\u0438\\u0432\\u0438\\u0446\\u044b\",\"\\u041c\\u0430\\u043a\\u0433\\u0440\\u0430\\u0442\\u043e\\u043c\",\"\\u043f\\u0435\\u0440\\u0435\\u0434\\u0435\\u0440\\u0436\\u0435\\u043a\",\"\\u0438\\u0437\\u043b\\u0443\\u0447\\u0430\\u0442\\u0435\\u043b\\u0438\",\"\\u0440\\u0430\\u0437\\u043c\\u0435\\u0440\\u043d\\u043e\\u0441\\u0442\\u044f\\u043c\\u0438\",\"\\u0414\\u041e\\u0421\\u0422\\u0418\\u0416\\u0415\\u041d\\u0418\\u042e\",\"\\u0432\\u044b\\u043c\\u044b\\u0441\\u043b\\u0430\\u0445\",\"\\u0440\\u0435\\u043d\\u0435\\u0433\\u0430\\u0442\\u043e\\u0432\",\"\\u0423\\u0425\\u0423\\u0414\\u0428\\u0415\\u041d\\u0418\\u0415\",\"\\u0414\\u0435\\u043b\\u044c\\u0444\\u0438\\u043d\",\"\\u0422\\u0420\\u0410\\u041b\",\"\\u0441\\u043f\\u043b\\u0435\\u0442\\u0435\\u043d\\u0438\\u044f\\u043c\\u0438\",\"\\u0411\\u0440\\u0438\\u0436\\u0430\\u0442\\u0438\\u044f\\u0445\",\"\\u0434\\u0438\\u0430\\u043b\\u0435\\u043a\\u0442\\u0438\\u043a\\u0438\",\"\\u043c\\u0438\\u043d\\u043e\\u043c\\u0435\\u0442\",\"\\u041f\\u043e\\u043b\\u0443\\u0442\\u043e\\u043d\\u0438\\u0440\\u043e\\u0432\\u0430\\u043d\\u0438\\u0435\",\"\\u041a\\u043e\\u043b\\u043e\\u043c\\u0431\\u0438\\u043d\\u0430\",\"\\u0417\\u0410\\u0420\\u0423\\u0414\\u0421\\u041a\\u0418\\u0419\",\"\\u0421\\u0435\\u0442\\u044f\\u043c\",\"\\u0417\\u0415\\u041c\\u041b\\u0415\\u0414\\u0415\\u041b\\u042c\\u0426\\u0410\\u041c\\u0418\",\"\\u0442\\u0430\\u043d\\u0446\\u0443\\u043b\\u0435\\u043a\",\"\\u0423\\u0441\\u0438\\u043b\\u0438\\u044f\",\"\\u041a\\u0418\\u041d\\u0413\",\"\\u0438\\u043d\\u0432\\u0435\\u0440\\u0442\\u0438\\u0440\\u043e\\u0432\\u0430\\u043d\\u0438\\u044f\",\"\\u0427\\u0435\\u0431\\u043e\\u043a\\u0441\\u0430\\u0440\\u0430\\u0445\",\"\\u0442\\u0440\\u0430\\u043d\\u0441\\u0444\\u043e\\u043a\\u0430\\u0442\\u043e\\u0440\",\"\\u043e\\u0431\\u043b\\u0443\\u0447\\u0435\\u043d\\u0438\\u0435\\u043c\",\"\\u0434\\u0438\\u043a\\u0442\\u0430\\u0442\",\"\\u043f\\u043e\\u043b\\u0438\\u043c\\u0435\\u0440\\u0430\\u0445\",\"\\u0411\\u0435\\u043b\\u044c\\u0447\\u043e\\u043d\\u043a\\u0430\",\"\\u0410\\u0432\\u0438\\u0430\\u043f\\u043e\\u0447\\u0442\\u0430\",\"\\u0441\\u043e\\u0432\\u0435\\u0440\\u0448\\u0435\\u043d\\u0438\\u044f\",\"\\u0411\\u0435\\u043b\\u0435\\u0443\\u0448\\u0435\\u0432\\u0438\\u0447\\u0430\\u043c\\u0438\",\"\\u0411\\u043e\\u043c\\u0431\\u043e\\u0443\\u0431\\u0435\\u0436\\u0438\\u0449\\u0435\",\"\\u0442\\u0435\\u043b\\u0435\\u043f\\u0435\\u0440\\u0435\\u0434\\u0430\\u0447\\u0430\\u0445\",\"\\u0430\\u0437\\u0438\\u0430\\u0442\\u043a\\u0438\",\"\\u0421\\u0426\\u0415\\u041d\\u0410\\u0420\\u0418\\u0419\",\"\\u041f\\u0420\\u041e\\u0426\\u0415\\u0421\\u0421\\u042b\",\"\\u0437\\u0430\\u043a\\u043e\\u0440\\u0430\\u0447\\u0438\\u0432\\u0430\\u043d\\u0438\\u044f\",\"\\u0410\\u0440\\u0430\\u0444\\u0430\\u0442\\u0430\",\"\\u041d\\u0443\\u0440\\u0442\\u0430\\u0437\\u0430\\u0439\",\"\\u041c\\u0438\\u0433\\u0435\\u043b\\u044c\",\"\\u0441\\u0435\\u0441\\u0442\\u0451\\u0440\",\"\\u0441\\u043e\\u0441\\u0435\\u0434\\u0430\",\"\\u0434\\u0435\\u043d\\u0430\\u0442\\u0443\\u0440\\u0430\\u0442\",\"\\u0438\\u0437\\u0440\\u0430\\u0437\\u0446\\u0430\\u0445\",\"\\u043e\\u0441\\u0432\\u043e\\u0431\\u043e\\u0436\\u0434\\u0435\\u043d\\u0438\\u0438\",\"\\u0440\\u0430\\u0437\\u0434\\u0435\\u043b\\u0438\\u0442\\u0435\\u043b\\u044f\",\"\\u043f\\u0440\\u0430\\u043e\\u0442\\u0446\\u0430\",\"\\u043a\\u043e\\u043c\\u043f\\u0430\\u043d\\u0434\\u0435\\u0440\\u043e\\u0432\",\"\\u0428\\u0435\\u043b\\u044c\\u0434\\u0443\",\"\\u041f\\u0430\\u043b\\u0430\\u043d\\u043a\\u0438\\u043d\\u044b\",\"\\u044d\\u043c\\u043f\\u0438\\u0440\\u0438\\u043a\\u043e\\u0432\",\"\\u0417\\u0410\\u0414\\u041e\\u041b\\u0416\\u0415\\u041d\\u041d\\u041e\\u0421\\u0422\\u0418\",\"\\u0412\\u0437\\u0430\\u0438\\u043c\\u043e\\u0434\\u0435\\u0439\\u0441\\u0442\\u0432\\u0438\\u0439\",\"\\u043c\\u0430\\u0440\\u0430\\u0437\\u043c\\u0430\",\"\\u043a\\u043e\\u043d\\u0441\\u0435\\u0440\\u0432\\u0430\\u0442\\u043e\\u0440\\u0438\\u044f\\u0445\",\"\\u0448\\u0442\\u043e\\u043b\\u044c\\u043d\\u044f\",\"\\u0411\\u043e\\u0440\\u0438\\u0441\\u043e\\u0433\\u043b\\u0435\\u0431\\u0441\\u043a\\u0443\\u044e\",\"\\u0420\\u043e\\u0437\\u0430\\u0440\\u0438\\u0438\",\"\\u043a\\u0430\\u0440\\u0430\\u0442\\u0435\\u043b\\u0435\\u0439\",\"\\u043f\\u043e\\u0436\\u0430\\u0440\\u043e\\u0442\\u0443\\u0448\\u0435\\u043d\\u0438\\u044f\",\"\\u0414\\u0415\\u041a\\u041e\\u0414\\u0418\\u0420\\u041e\\u0412\\u0410\\u041d\\u0418\\u042f\",\"\\u0414\\u0438\\u0441\\u043f\\u043e\\u0437\\u0438\\u0446\\u0438\\u044e\",\"\\u041a\\u0435\\u043d\\u0443\",\"\\u0432\\u0437\\u043d\\u043e\\u0441\\u0430\\u043c\",\"\\u0420\\u0438\\u0437\\u043e\\u0439\",\"\\u0414\\u0430\\u0440\\u0438\\u043f\\u043e\\u0432\\u043d\\u0430\\u043c\\u0438\",\"\\u043a\\u0443\\u043b\\u0443\\u0430\\u0440\\u0430\\u0445\",\"\\u0441\\u0442\\u043e\\u043b\\u0431\\u0446\\u043e\\u0432\",\"\\u0417\\u0430\\u043a\\u0430\\u0447\\u043a\\u0430\",\"\\u043a\\u0435\\u0434\\u0430\",\"\\u044d\\u0444\\u0444\\u0435\\u043a\\u0442\\u0438\\u0432\\u043d\\u043e\\u0441\\u0442\\u0435\\u0439\",\"\\u043b\\u0438\\u0442\\u043e\\u0433\\u0440\\u0430\\u0444\\u0438\\u044f\",\"\\u043d\\u0435\\u0444\\u0442\\u0435\\u0445\\u0438\\u043c\\u0438\\u0435\\u0439\",\"\\u0445\\u043e\\u0440\\u0432\\u0430\\u0442\\u043a\\u043e\\u0439\",\"\\u0423\\u0429\\u0415\\u041c\\u041b\\u0415\\u041d\\u0418\\u042f\",\"\\u043a\\u043e\\u0441\\u0442\\u044f\\u0448\\u043a\\u0430\\u043c\",\"\\u0437\\u0430\\u043f\\u0438\\u0440\\u0430\\u043d\\u0438\\u0435\\u043c\",\"\\u041f\\u043b\\u0443\\u0442\\u043e\\u043d\",\"\\u041a\\u0440\\u043e\\u0443\\u0444\\u043e\\u0440\\u0434\\u0443\",\"\\u0414\\u0440\\u0430\\u0446\\u0435\\u043d\\u0430\",\"\\u0444\\u0438\\u043b\\u0430\\u043d\\u0442\\u0440\\u043e\\u043f\\u043e\\u0432\",\"\\u0427\\u0435\\u0445\\u0440\\u0430\\u043d\\u043e\\u0432\\u044b\\u0439\",\"\\u0434\\u0438\\u0432\\u0430\\u043d\\u0447\\u0438\\u043a\\u0443\",\"\\u041f\\u0410\\u041d\\u0410\\u041c\\u0410-\\u0421\\u0418\\u0422\\u0418\",\"\\u0418\\u0441\\u043f\\u043e\\u043b\\u043a\\u043e\\u043c\\u0430\",\"\\u0420\\u044b\\u0446\\u0430\\u0440\\u0441\\u0442\\u0432\\u043e\",\"\\u041f\\u043e\\u0442\\u043e\\u043c\\u043a\\u0438\",\"\\u0413\\u0415\\u041d\\u0414\\u0415\\u0420\",\"\\u0431\\u043e\\u043b\\u0438\\u0432\\u0438\\u0439\\u043a\\u0430\",\"\\u0431\\u0435\\u0440\\u0435\\u0437\\u043a\\u043e\\u0439\",\"\\u043a\\u0438\\u0441\\u043b\\u043e\\u0442\",\"\\u0420\\u0430\\u0441\\u043a\\u043e\\u043d\\u0441\\u0435\\u0440\\u0432\\u0430\\u0446\\u0438\\u044e\",\"\\u041f\\u0440\\u043e\\u043a\\u043b\\u0430\\u0434\\u0447\\u0438\\u043a\\u0438\",\"\\u0411\\u043e\\u0433\\u043e\\u0441\\u043b\\u0443\\u0436\\u0435\\u043d\\u0438\\u0435\",\"\\u0414\\u044e\\u0436\\u043e\\u0432\",\"\\u043e\\u0442\\u0440\\u0435\\u0448\\u0451\\u043d\\u043d\\u043e\\u0441\\u0442\\u044c\",\"\\u0430\\u043c\\u0435\\u0440\\u0438\\u0446\\u0438\\u044f\",\"\\u0441\\u043f\\u0430\\u0441\\u0438\\u0442\\u0435\\u043b\\u044f\",\"\\u0421\\u0442\\u044f\\u0436\\u043a\\u0430\",\"\\u0420\\u0423\\u041a\\u041e\\u042f\\u0422\\u041a\\u0423\",\"\\u043a\\u0438\\u043f\\u0435\\u043d\\u0438\\u0435\\u043c\",\"\\u041f\\u0443\\u043b\\u043e\\u0432\\u0435\\u0440\\u044b\",\"\\u0432\\u043e\\u043b\\u0435\\u0438\\u0437\\u044a\\u044f\\u0432\\u043b\\u0435\\u043d\\u0438\\u044e\",\"\\u044d\\u043d\\u0435\\u0440\\u0433\\u043e\\u043d\\u043e\\u0441\\u0438\\u0442\\u0435\\u043b\\u0438\",\"\\u041f\\u0410\\u0426\\u0418\\u0415\\u041d\\u0422\\u042b\",\"\\u0411\\u0435\\u0440\\u043d\\u0441\\u0435\",\"\\u044d\\u0440\\u0433\\u043e\\u043d\\u043e\\u043c\\u0438\\u043a\\u0443\",\"\\u043a\\u043b\\u0430\\u0443\\u0437\\u0443\\u043b\\u0430\",\"\\u043f\\u0440\\u0435\\u043b\\u044e\\u0431\\u043e\\u0434\\u0435\\u0435\\u043c\",\"\\u0421\\u043a\\u043e\\u0442\\u043e\\u0432\\u043e\\u0434\\u0441\\u0442\\u0432\\u043e\",\"\\u0441\\u043e\\u0432\\u0445\\u043e\\u0437\\u043e\\u0432\",\"\\u0441\\u043e\\u043e\\u0431\\u0440\\u0430\\u0437\\u0438\\u0442\\u0435\\u043b\\u044c\\u043d\\u043e\\u0441\\u0442\\u044c\\u044e\",\"\\u041b\\u0435\\u0432\\u0435\\u0440\\u043a\\u0443\\u0437\\u0435\\u043d\",\"\\u0424\\u0430\\u043b\\u043b\\u043e\\u0441\",\"\\u043a\\u0430\\u043b\\u044c\\u0432\\u0438\\u043d\\u0438\\u0441\\u0442\\u043e\\u0432\",\"\\u043d\\u0435\\u0434\\u043e\\u043f\\u043e\\u043d\\u0438\\u043c\\u0430\\u043d\\u0438\\u044e\",\"\\u0418\\u0443\\u0434\\u0430\\u0438\\u0437\\u043c\\u0430\",\"\\u0421\\u0415\\u041d\\u0421\\u0410\\u0426\\u0418\\u042f\",\"\\u0411\\u0440\\u0430\\u043c\\u0441\\u0435\",\"\\u041d\\u0410\\u0411\\u0415\\u0413\",\"\\u0420\\u0430\\u0437\\u0432\\u0435\\u0440\\u0442\\u043a\\u0430\",\"\\u043c\\u043e\\u043d\\u043e\\u043c\\u0435\\u0442\\u0430\\u043b\\u043b\\u0438\\u0437\\u043c\\u0435\",\"\\u041a\\u043e\\u043d\\u0441\\u0435\\u0440\\u0432\\u043e\\u0432\",\"\\u0444\\u0430\\u043b\\u0430\\u043d\\u0433\\u0430\\u043c\",\"\\u043f\\u043e\\u0442\\u0430\\u043a\\u0430\\u043d\\u0438\\u0435\\u043c\",\"\\u0417\\u0410\\u0415\\u041c\\u0429\\u0418\\u041a\\u0410\",\"\\u0441\\u0446\\u0435\\u043d\\u043a\\u0430\\u043c\",\"\\u043e\\u0442\\u0447\\u0435\\u0442\\u0430\\u043c\",\"\\u0433\\u0435\\u0440\\u043e\\u0438\\u0437\\u043c\\u0443\",\"\\u043f\\u0440\\u0435\\u0434\\u043b\\u043e\\u0433\\u043e\\u0432\",\"\\u041a\\u041e\\u041c\\u0410\\u041d\\u0414\\u041e\\u0412\\u0410\\u041d\\u0418\\u0415\\u041c\",\"\\u041c\\u0443\\u0445\\u0430\\u043c\\u0435\\u0434\",\"\\u043f\\u0440\\u043e\\u0451\\u043c\\u043e\\u043c\",\"\\u0418\\u0431\\u0438\\u0441\\u043e\\u043c\",\"\\u043d\\u0430\\u043f\\u0435\\u0440\\u0441\\u043d\\u0438\\u043a\\u0430\\u043c\\u0438\",\"\\u043f\\u0440\\u043e\\u0434\\u0432\\u0438\\u0436\\u0435\\u043d\\u0438\\u044e\",\"\\u0424\\u0440\\u0430\\u043d\\u043a\\u043b\\u0438\\u043d\\u043e\\u043c\",\"\\u0420\\u0438\\u0432\\u0435\\u0440\",\"\\u0421\\u0410\\u041c\\u041e\\u0421\\u041e\\u0417\\u041d\\u0410\\u041d\\u0418\\u0418\",\"\\u041a\\u043e\\u043d\\u0442\\u0440\\u043c\\u0435\\u0440\\u044b\",\"\\u0444\\u0440\\u0430\\u043d\\u043a\\u043e-\\u043f\\u043e\\u0440\\u0442\\u044b\",\"\\u0435\\u0434\\u0438\\u043d\\u043e\\u0431\\u043e\\u0440\\u0441\\u0442\\u0432\\u0430\\u043c\",\"\\u043c\\u0430\\u043d\\u0436\\u0435\\u0442\",\"\\u041a\\u043d\\u044f\\u0436\\u0435\\u0441\\u0442\\u0432\\u0430\",\"\\u041a\\u0410\\u0424\\u0415\\u0414\\u0420\\u0410\",\"\\u043f\\u043e\\u0442\\u0430\\u0441\\u043a\\u0443\\u0445\",\"\\u043d\\u0435\\u043f\\u043e\\u0434\\u0447\\u0438\\u043d\\u0435\\u043d\\u0438\\u0438\",\"\\u043c\\u043d\\u043e\\u0433\\u043e\\u0441\\u0442\\u043e\\u0440\\u043e\\u043d\\u043d\\u043e\\u0441\\u0442\\u044c\\u044e\",\"\\u0434\\u0438\\u0441\\u043f\\u0430\\u0448\\u0435\",\"\\u043c\\u043e\\u0448\\u043a\\u0430\\u0440\\u0430\",\"\\u0437\\u0430\\u0445\\u0432\\u0430\\u0442\\u0447\\u0438\\u043a\\u0430\",\"\\u0437\\u043e\\u043d\\u0434\\u0430\\u043c\",\"\\u041a\\u043b\\u044e\\u0435\\u0432\\u0443\",\"\\u041f\\u0440\\u0435\\u0442\\u0432\\u043e\\u0440\\u0435\\u043d\\u0438\\u0435\\u043c\",\"\\u041a\\u0410\\u0428\\u041b\\u0418\\u041a\",\"\\u043a\\u043e\\u043f\\u0438\\u0440\\u0430\\u0439\\u0442\",\"\\u043c\\u0438\\u0441\\u0442\\u0435\\u0440\",\"\\u0430\\u043a\\u0432\\u0430\\u043a\\u0443\\u043b\\u044c\\u0442\\u0443\\u0440\\u0443\",\"\\u043f\\u043e\\u0434\\u0435\\u043b\\u043a\\u0443\",\"\\u0431\\u043e\\u043b\\u044c\\u0448\\u0435\\u0432\\u0438\\u0437\\u043c\",\"\\u0421\\u0443\\u043c\\u0438\\u0442\\u043e\\u043c\\u043e\",\"\\u0440\\u0435\\u0433\\u0438\\u0441\\u0442\\u0440\\u0430\\u0442\\u043e\\u0440\\u043e\\u0432\",\"\\u0440\\u0430\\u0437\\u0434\\u0443\\u0432\\u0430\\u043d\\u0438\\u044e\",\"\\u043f\\u0440\\u0438\\u0431\\u0430\\u0443\\u0442\\u043a\\u043e\\u0439\",\"\\u041f\\u041e\\u0414\\u0420\\u0410\\u0417\\u0414\\u0415\\u041b\\u0415\\u041d\\u0418\\u0415\",\"\\u043e\\u0431\\u0435\\u0441\\u043a\\u0440\\u043e\\u0432\\u043b\\u0438\\u0432\\u0430\\u043d\\u0438\\u0435\",\"\\u043d\\u0430\\u043c\\u0435\\u0440\\u0435\\u043d\\u0438\\u0439\",\"\\u0441\\u0442\\u0430\\u0434\\u043e\",\"\\u0420\\u044b\\u0446\\u0430\\u0440\\u044e\",\"\\u0410\\u0440\\u0430\\u0431\\u0435\\u043b\\u043b\\u0430\",\"\\u043b\\u0435\\u0434\\u043e\\u043a\\u043e\\u043b\\u0430\\u043c\\u0438\",\"\\u0418\\u043d\\u0442\\u0440\\u043e\\u0432\\u0435\\u0440\\u0442\\u044b\",\"\\u0412\\u042b\\u0413\\u0420\\u0423\\u0417\\u041a\\u0410\",\"\\u043e\\u043a\\u0443\\u0440\\u043a\\u0430\",\"\\u0437\\u0430\\u043a\\u0430\\u0437\\u0447\\u0438\\u043a\\u0430\\u0445\",\"\\u041e\\u043f\\u0443\\u0449\\u0435\\u043d\\u0438\\u0435\\u043c\",\"\\u0430\\u0440\\u0442\\u0435\\u0444\\u0430\\u043a\\u0442\\u044b\",\"\\u041c\\u0430\\u0440\\u043a\\u0438\\u043d\",\"\\u0434\\u043e\\u043c\\u0438\\u043d\\u0438\\u043e\\u043d\\u0430\",\"\\u0424\\u0440\\u0435\\u0434\\u0435\",\"\\u0434\\u043e\\u0441\\u0430\\u0434\\u043e\\u0439\",\"\\u043c\\u043e\\u0437\\u0433\\u043b\\u044f\\u043a\\u0443\",\"\\u041b\\u0430\\u0440\\u0440\\u0438\",\"\\u043a\\u0430\\u0442\\u043e\\u0440\\u0436\\u043d\\u044b\\u043c\",\"\\u0434\\u0436\\u0438\\u043b\\u0430\\u043b\",\"\\u0441\\u0442\\u0432\\u043e\\u0440\\u043a\\u0430\\u043c\\u0438\",\"\\u043f\\u0440\\u0438\\u0440\\u0430\\u0449\\u0435\\u043d\\u0438\\u044f\",\"\\u0411\\u0430\\u0437\\u0430\\u0440\\u043e\\u0432\\u043e\\u0439\",\"\\u0442\\u0440\\u0430\\u043d\\u0441\\u043f\\u043b\\u0430\\u043d\\u0442\\u0430\\u0442\\u0430\\u043c\\u0438\",\"\\u0411\\u0430\\u0443\\u043c\\u0433\\u0435\\u0440\\u0442\\u043d\\u0435\\u0440\",\"\\u041d\\u0438\\u0433\\u0433\\u0435\\u0440\\u043e\\u043c\",\"\\u0411\\u0430\\u043d\\u043a\\u0435\\u0440-\\u0425\\u0438\\u043b\\u043b\\u0435\",\"\\u0425\\u0430\\u043a\\u0430\\u0441\\u0438\\u0438\",\"\\u041f\\u0420\\u041e\\u0424\\u0418\\u041b\\u0410\\u041a\\u0422\\u0418\\u041a\\u0415\",\"\\u0412\\u0430\\u0440\\u0438\\u0430\\u043d\\u0442\\u0430\\u043c\",\"\\u0420\\u043e\\u043c\\u0430\\u043d\\u043e\\u0432\\u043d\\u044b\",\"\\u042d\\u043b\\u0435\\u043a\\u0442\\u0440\\u043e\\u0441\\u0442\\u0430\\u043b\\u0438\",\"\\u0421\\u0410\\u041d\\u041e\\u041a\\u041e\",\"\\u0421\\u0416\\u0410\\u0422\\u0418\\u0415\\u041c\",\"\\u0441\\u0438\\u0433\\u043d\\u0430\\u043b\\u0438\\u0437\\u0430\\u0442\\u043e\\u0440\\u044b\",\"\\u0440\\u0435\\u043b\\u0438\\u0433\\u0438\\u044f\\u043c\\u0438\",\"\\u0410\\u0440\\u0435\\u0441\\u0442\\u0430\\u043d\\u0442\",\"\\u0442\\u0435\\u0445\\u043d\\u043e\\u043b\\u043e\\u0433\\u0438\\u044f\\u0445\",\"\\u043d\\u0430\\u0432\\u0435\\u0442\\u0430\\u043c\\u0438\",\"\\u043b\\u0430\\u0444\\u0435\\u0442\\u0430\\u0445\",\"\\u0430\\u0440\\u0445\\u0430\\u0440\\u043e\\u0432\\u0446\\u044b\",\"\\u0410\\u0432\\u0441\\u0442\\u0440\\u043e-\\u0412\\u0435\\u043d\\u0433\\u0440\\u0438\\u0438\",\"\\u041f\\u0410\\u041b\\u0422\\u0418\\u0415\",\"\\u041e\\u0422\\u0411\\u041e\\u0420\\u041e\\u041c\",\"\\u0414\\u0430\\u0441\\u0441\\u043b\\u0435\\u0440\\u0430\",\"\\u041b\\u0438\\u043b\\u043b\\u0435\",\"\\u041a\\u043b\\u0430\\u0432\\u0438\\u0448\\u0435\\u0439\",\"\\u0434\\u0435\\u0432\\u0438\\u0446\\u0435\",\"\\u0442\\u0440\\u0435\\u043f\\u043a\\u0435\",\"\\u0431\\u0435\\u043d\\u0437\\u043e\\u0432\\u043e\\u0437\\u044b\",\"\\u041b\\u044c\\u0434\\u044b\",\"\\u0441\\u0435\\u043a\\u0432\\u043e\\u0439\",\"\\u0435\\u0432\\u0430\\u043d\\u0433\\u0435\\u043b\\u0438\\u044f\\u043c\",\"\\u0414\\u0443\\u043a\\u043e\\u044f\\u043d\\u043e\\u043c\",\"\\u043f\\u043e\\u0434\\u0433\\u043e\\u0442\\u043e\\u0432\\u043a\\u0430\\u043c\",\"\\u041a\\u041e\\u041d\\u0424\\u041b\\u0418\\u041a\\u0422\\u0410\\u041c\\u0418\",\"\\u0441\\u0442\\u0440\\u0430\\u043d\\u043d\\u0438\\u043a\\u0443\",\"\\u043e\\u0433\\u0440\\u0430\\u043d\\u043a\\u0438\",\"\\u0421\\u043b\\u044e\\u043d\\u043e\\u043e\\u0442\\u0434\\u0435\\u043b\\u0435\\u043d\\u0438\\u0435\",\"\\u041a\\u041e\\u041e\\u0420\\u0414\\u0418\\u041d\\u0410\\u0426\\u0418\\u042f\",\"\\u0442\\u0440\\u0430\\u043d\\u0441\\u043f\\u043e\\u043d\\u0434\\u0435\\u0440\\u0435\",\"\\u042d\\u043b\\u0435\\u043a\\u0442\\u0440\\u043e\\u0434\\u044b\",\"\\u0422\\u043e\\u043c\\u0438\\u043d\\u0446\\u044b\",\"\\u043d\\u0430\\u0434\\u043b\\u043e\\u043c\\u043e\\u0432\",\"\\u043f\\u043b\\u0430\\u0442\\u0430\\u043d\\u043e\\u0432\",\"\\u0432\\u043e\\u0441\\u043f\\u043e\\u043c\\u0438\\u043d\\u0430\\u043d\\u044c\\u044f\",\"\\u0441\\u043e\\u0431\\u0430\\u0447\\u043a\\u0438\",\"\\u0410\\u0433\\u0430\\u0442\\u043e\\u0432\\u043e\\u0439\",\"\\u041f\\u0440\\u043e\\u0442\\u0438\\u0432\\u043e\\u0440\\u0435\\u0447\\u0438\\u0435\",\"\\u044d\\u043a\\u0438\\u043f\\u0438\\u0440\\u043e\\u0432\\u043a\\u0438\",\"\\u0444\\u043b\\u0438\\u0431\\u0443\\u0441\\u0442\\u044c\\u0435\\u0440\\u0430\",\"\\u041f\\u0430\\u0442\\u0440\\u0443\\u0448\\u0435\\u0432\\u044b\\u043c\",\"\\u043f\\u0440\\u043e\\u0438\\u0441\\u0448\\u0435\\u0441\\u0442\\u0432\\u0438\\u0438\",\"\\u041d\\u043e\\u0440\\u044c\\u0435\\u0433\\u0438\",\"\\u0430\\u0441\\u043f\\u0438\\u0440\\u0430\\u0446\\u0438\\u044e\",\"\\u043f\\u0435\\u0440\\u0444\\u043e\\u043b\\u0435\\u043d\\u0442\",\"\\u0414\\u0436\\u044d\\u043a\\u043e\\u043c\",\"\\u0412\\u0438\\u0434\\u0435\",\"\\u0414\\u044d\\u043d\\u0438\\u0435\\u043b\\u044f\",\"\\u0435\\u0441\\u0442\\u0435\\u0441\\u0442\\u0432\\u043e\\u0438\\u0441\\u043f\\u044b\\u0442\\u0430\\u0442\\u0435\\u043b\\u044c\",\"\\u041f\\u043e\\u0442\\u043e\\u043c\\u0441\\u0442\\u0432\\u0430\",\"\\u0416\\u0443\\u0440\\u043d\\u0430\\u043b\\u0438\\u0441\\u0442\\u043a\\u0438\",\"\\u0420\\u043e\\u0441\\u0441\\u0435\\u043b\\u044c\\u0445\\u043e\\u0437\\u0431\\u0430\\u043d\\u043a\",\"\\u043c\\u0430\\u0448\\u0438\\u043d\\u043e\\u0441\\u0442\\u0440\\u043e\\u0438\\u0442\\u0435\\u043b\\u044f\",\"\\u0443\\u0431\\u0438\\u0435\\u043d\\u0438\\u044e\",\"\\u0432\\u043e\\u0437\\u0432\\u044b\\u0448\\u0435\\u043d\\u043d\\u043e\\u0441\\u0442\\u044c\",\"\\u0441\\u043f\\u0430\\u0434\\u0430\\u0445\",\"\\u041a\\u043e\\u043c\\u0431\\u0438\\u043d\\u0430\\u0446\\u0438\\u0438\",\"\\u042d\\u043a\\u0441\\u043f\\u043e\\u043d\\u0430\\u0442\",\"\\u0432\\u043e\\u043e\\u0431\\u0440\\u0430\\u0436\\u0435\\u043d\\u0438\\u044e\",\"\\u0412\\u0418\\u041a\\u0422\\u041e\\u0420\",\"\\u0440\\u0430\\u0437\\u0440\\u0443\\u0448\\u0435\\u043d\\u0438\\u0435\",\"\\u043a\\u0430\\u0440\\u0430\\u0431\\u0438\\u043d\\u0443\",\"\\u041f\\u0430\\u043a\\u043b\\u0435\\u0439\",\"\\u0444\\u0438\\u0433\\u0443\\u0440\\u0438\\u0441\\u0442\\u0443\",\"\\u043a\\u043e\\u0431\\u0435\\u043b\\u044c\\u043a\\u043e\\u0432\",\"\\u043e\\u0441\\u0443\\u0436\\u0434\\u0435\\u043d\\u0438\\u044e\",\"\\u041d\\u0435\\u0432\\u044b\",\"\\u043b\\u0435\\u0441\\u043e\\u043f\\u0438\\u043b\\u043a\\u0430\\u043c\",\"\\u0441\\u043b\\u0430\\u043a\\u0441\\u044b\",\"\\u0410\\u043b\\u043b\\u0435\\u0440\\u0433\\u0438\\u0438\",\"\\u0441\\u0438\\u043c\\u043f\\u043e\\u0437\\u0438\\u0443\\u043c\\u0443\",\"\\u0411\\u0415\\u041d\\u041e\\u041c\",\"\\u043f\\u0440\\u0435\\u0434\\u0441\\u043a\\u0430\\u0437\\u0443\\u0435\\u043c\\u043e\\u0441\\u0442\\u0438\",\"\\u043e\\u0442\\u0432\\u043e\\u0435\\u0432\\u044b\\u0432\\u0430\\u043d\\u0438\\u044e\",\"\\u0440\\u0430\\u043a\\u0438\\u0442\\u043d\\u0438\\u043a\\u0435\",\"\\u0437\\u0430\\u0435\\u0434\\u0430\\u043d\\u0438\\u044e\",\"\\u041c\\u0443\\u0440\\u0430\\u0434\",\"\\u0420\\u0423\\u041a\\u041e\\u041f\\u041e\\u0416\\u0410\\u0422\\u0418\\u042f\",\"\\u0435\\u0434\\u0438\\u043d\\u043e\\u043c\\u044b\\u0448\\u043b\\u0435\\u043d\\u043d\\u0438\\u043a\\u043e\\u043c\",\"\\u043f\\u043e\\u0434\\u0430\\u0442\\u0447\\u0438\\u043a\\u0435\",\"\\u0434\\u0435\\u0440\\u0435\\u0432\\u043d\\u0435\\u0439\",\"\\u0441\\u0438\\u043c\\u043f\\u0442\\u043e\\u043c\\u0430\\u043c\",\"\\u042e\\u0440\\u0438\\u0441\\u0434\\u0438\\u043a\\u0446\\u0438\\u0435\\u0439\",\"\\u0421\\u0432\\u0430\\u0434\\u044c\\u0431\\u0430\",\"\\u043e\\u0442\\u0432\\u0435\\u0442\\u0432\\u043b\\u0435\\u043d\\u0438\\u044f\",\"\\u0443\\u043a\\u0440\\u0443\\u043f\\u043d\\u0435\\u043d\\u0438\\u0438\",\"\\u0428\\u041a\\u0418\\u0412\\u041e\\u0412\",\"\\u0440\\u0438\\u0430\\u043b\\u0430\",\"\\u0432\\u0438\\u043a\\u043e\\u043d\\u0442\\u0435\\u0441\\u0441\\u044b\",\"\\u043f\\u043e\\u0441\\u0442\\u043e\\u044f\\u043b\\u044c\\u0446\\u0435\",\"\\u0443\\u0442\\u043e\\u043b\\u0435\\u043d\\u0438\\u0435\",\"\\u0444\\u0430\\u0440\\u0438\\u0441\\u0435\\u044e\",\"\\u043e\\u0442\\u0431\\u0440\\u043e\\u0441\\u0430\\u0445\",\"\\u041f\\u043e\\u043f\\u0443\\u0440\\u0440\\u0438\",\"\\u0423\\u0421\\u041e\\u0412\\u0415\\u0420\\u0428\\u0415\\u041d\\u0421\\u0422\\u0412\\u041e\\u0412\\u0410\\u041d\\u0418\\u042f\",\"\\u0420\\u0435\\u0430\\u043a\\u0442\\u0438\\u0432\\u043d\\u043e\\u0441\\u0442\\u044c\",\"\\u041c\\u041e\\u0422\\u0418\\u0412\\u0410\\u0426\\u0418\\u0418\",\"\\u0433\\u0430\\u043b\\u043e\\u0433\\u0435\\u043d\\u0430\",\"\\u0413\\u0435\\u0431\\u0435\\u043b\\u044c\",\"\\u043f\\u0430\\u0440\\u043a\\u0438\\u043d\\u0433\\u0438\",\"\\u0423\\u0414\\u0418\\u041d\\u041e\\u0412\\u042b\\u0419\",\"\\u044d\\u043a\\u0441\\u0442\\u0440\\u0430\\u0434\\u0438\\u0446\\u0438\\u0435\\u0439\",\"\\u041c\\u0438\\u043d\\u0444\\u0438\\u043d\\u0435\",\"\\u041c\\u0443\\u043d\",\"\\u0442\\u0443\\u043c\\u0431\\u043b\\u0435\\u0440\\u043e\\u043c\",\"\\u0442\\u044e\\u043b\\u0435\\u043c\",\"\\u0425\\u0430\\u0431\\u0438\\u0442\\u0430\\u0442\",\"\\u0421\\u0438\\u043d\\u0430\\u043b\\u043e\\u0430\",\"\\u0431\\u0430\\u0442\\u0430\\u0440\\u0435\\u044e\",\"\\u0434\\u0438\\u0437\\u0430\\u0439\\u043d\\u043e\\u043c\",\"\\u0432\\u0435\\u0440\\u0435\\u0432\\u043e\\u043a\",\"\\u0421\\u0438\\u044f\\u0442\\u0435\\u043b\\u044c\\u0441\\u0442\\u0432\\u0430\\u043c\\u0438\",\"\\u044f\\u0431\\u043b\\u043e\\u043a\\u043e\",\"\\u043b\\u043e\\u043c\\u0430\\u0435\\u0432\\u0443\",\"\\u0425\\u0438\\u0437\\u0431\\u0430\\u043b\\u043b\\u0430\",\"\\u0440\\u0430\\u0441\\u043f\\u0440\\u0435\\u0434\\u0435\\u043b\\u0438\\u0442\\u0435\\u043b\\u044f\\u043c\",\"\\u0446\\u044d\\u0440\\u044d\\u0443\\u0448\\u043d\\u0438\\u043a\\u043e\\u043c\",\"\\u043f\\u0440\\u0435\\u0440\\u044b\\u0432\\u0438\\u0441\\u0442\\u043e\\u0441\\u0442\\u0438\",\"\\u0412\\u043e\\u0439\\u043b\\u043e\\u043a\",\"\\u041f\\u0420\\u0418\\u0415\\u041c\\u042b\",\"\\u0411\\u0423\\u0425\\u0410\\u0420\\u0415\\u0421\\u0422\\u0410\",\"\\u041f\\u041e\\u0421\\u0422\\u0410\\u0412\\u041a\\u0410\\u0425\",\"\\u041b\\u0430\\u0432\\u0440\\u0438\\u043d\\u0435\\u043d\\u043a\\u043e\",\"\\u041a\\u043e\\u043a\\u0430\\u0447\\u0435\\u0432\",\"\\u0414\\u043e\\u043c\\u0430\",\"\\u0434\\u0440\\u0443\\u0437\\u044c\\u044f\",\"\\u043d\\u0430\\u0442\\u0443\\u0440\\u0430\\u043b\\u0438\\u0437\\u043c\\u0430\",\"\\u0425\\u0410\\u0419\\u0425\\u0410\\u0420\",\"\\u041a\\u0438\\u0440\\u043e\\u043c\",\"\\u0420\\u0415\\u0428\\u0415\\u041d\\u0418\\u042e\",\"\\u0437\\u0430\\u0442\\u043e\\u0447\\u0435\\u043d\\u0438\\u044e\",\"\\u0444\\u043e\\u0440\\u043c\\u0438\\u0430\\u0442\\u043e\\u0432\",\"\\u041c\\u0435\\u0441\\u0442\\u043d\\u043e\\u0441\\u0442\\u0438\",\"\\u0430\\u0432\\u0430\\u043d\\u0442\\u044e\\u0440\\u0438\\u0441\\u0442\\u043a\\u043e\\u0439\",\"\\u043e\\u0434\\u043d\\u043e\\u043a\\u0443\\u0440\\u0441\\u043d\\u0438\\u0446\\u0435\\u0439\",\"\\u043c\\u043e\\u043d\\u0430\\u0448\\u043a\\u043e\\u0439\",\"\\u0421\\u0423\\u041c\\u041c\",\"\\u0430\\u043c\\u043f\\u0435\\u0440\\u0441\\u0430\\u043d\\u0442\",\"\\u0441\\u043e\\u043e\\u0442\\u0435\\u0447\\u0435\\u0441\\u0442\\u0432\\u0435\\u043d\\u043d\\u0438\\u043a\\u0438\",\"\\u0433\\u0430\\u0434\\u044e\\u0447\\u043d\\u0438\\u043a\\u0435\",\"\\u041f\\u043e\\u0432\\u0441\\u0435\\u0434\\u043d\\u0435\\u0432\\u043d\\u043e\\u0441\\u0442\\u044c\",\"\\u0432\\u0430\\u0440\\u0435\\u043d\\u0438\\u0435\",\"\\u0432\\u043e\\u043f\\u043b\\u043e\\u0449\\u0435\\u043d\\u0438\\u0435\",\"\\u0413\\u043e\\u043b\\u0430\\u043d\",\"\\u0441\\u0442\\u0438\\u0445\\u0438\\u0439\\u043d\\u043e\\u0441\\u0442\\u044c\",\"\\u0411\\u0438\\u0434\\u0434\\u0435\\u0440\",\"\\u0418\\u0441\\u043f\\u043e\\u043b\\u044c\\u0437\\u043e\\u0432\\u0430\\u043d\\u0438\\u0435\\u043c\",\"\\u0432\\u043e\\u0434\\u043e\\u043f\\u0440\\u043e\\u0432\\u043e\\u0434\",\"\\u0424\\u0440\\u0438\\u0434\\u043c\\u0430\\u043d\\u0443\",\"\\u0431\\u0430\\u043d\\u0434\\u0430\\u0436\\u0435\",\"\\u041b\\u0435\\u043d\\u043d\\u043e\\u043a\\u0441\\u043e\\u043c\",\"\\u043f\\u0440\\u0430\\u0432\\u043b\\u0435\\u043d\\u0438\\u044f\\u043c\",\"\\u0420\\u0410\\u0417\\u041b\\u0418\\u0427\\u0418\\u042f\\u041c\\u0418\",\"\\u0417\\u0430\\u043d\\u0433\\u0438\\u0440\\u043e\\u0432\",\"\\u043a\\u043e\\u043f\\u0438\\u0440\\u044b\",\"\\u041f\\u0440\\u0438\\u0432\\u044b\\u0447\\u043a\\u043e\\u0439\",\"\\u0437\\u0430\\u044f\\u0432\\u0438\\u0442\\u0435\\u043b\\u044f\\u043c\",\"\\u0410\\u043d\\u0430\\u043d\\u043a\\u043e\",\"\\u0432\\u0435\\u0440\\u043e\\u043e\\u0442\\u0441\\u0442\\u0443\\u043f\\u043d\\u0438\\u043a\\u0438\",\"\\u0422\\u0443\\u043c\\u043f\\u0430\\u0440\\u0430\\u043c\",\"\\u0412\\u0435\\u0434\\u043e\\u043c\\u043e\\u0441\\u0442\\u044f\\u0445\",\"\\u041c\\u0430\\u043b\\u0435\\u0440\\u0431\\u0430\",\"\\u041b\\u0435\\u043c\\u0438\\u043d\\u0433\\u0442\\u043e\\u043d\",\"\\u041f\\u041b\\u041e\\u0422\\u042c\\u042e\",\"\\u043f\\u0440\\u0438\\u043c\\u0430\\u0442\\u0430\",\"\\u043f\\u0443\\u0442\\u0435\\u0432\\u043e\\u0434\\u0438\\u0442\\u0435\\u043b\\u0438\",\"\\u0421\\u0418\\u041c\\u041a\\u0418\\u0418\",\"\\u0411\\u0438\\u0431\\u0438\\u0447\\u0435\\u0432\\u044b\\u043c\",\"\\u0440\\u0435\\u0430\\u043a\\u0442\\u043e\\u0440\\u044b\",\"\\u041d\\u0410\\u0417\\u041d\\u0410\\u0427\\u0415\\u041d\\u0418\\u042f\\u041c\\u0418\",\"\\u0411\\u0430\\u0435\\u0440\\u043e\\u043c\",\"\\u0432\\u0441\\u043f\\u043b\\u044b\\u0442\\u0438\\u0438\",\"\\u041a\\u0430\\u0440\\u043b\\u0445\\u0430\\u0439\\u043d\\u0446\",\"\\u043f\\u043e\\u043c\\u0435\\u0449\\u0435\\u043d\\u0438\\u0439\",\"\\u041f\\u041e\\u0414\\u0421\\u0427\\u0415\\u0422\\u0410\",\"\\u0411\\u0438\\u0431\\u043b\\u0438\\u044f\",\"\\u041c\\u043e\\u043b\\u043b\\u044e\\u0441\\u043a\\u043e\",\"\\u0438\\u043d\\u0442\\u0435\\u0440\\u043c\\u0435\\u0434\\u0438\\u0438\",\"\\u043c\\u043e\\u0439\\u043a\\u043e\\u0439\",\"\\u0441\\u043a\\u0440\\u0435\\u043f\\u043b\\u0435\\u043d\\u0438\\u0435\",\"\\u0424\\u043b\\u043e\\u0440\\u0438\\u0434\\u0443\",\"\\u0430\\u043c\\u043f\\u0435\\u0440\\u0430\\u0445\",\"\\u041c\\u0418\\u041d\\u041e\\u041c\\u0415\\u0422\",\"\\u0437\\u0430\\u0432\\u0435\\u0441\",\"\\u0420\\u043e\\u0437\\u043e\",\"\\u041f\\u0440\\u0430\\u0432\\u043e\\u0432\\u0435\\u0434\\u0435\\u043d\\u0438\\u0435\",\"\\u041f\\u041e\\u0412\\u0415\\u0420\\u0418\\u041d\\u041e\\u0412\",\"\\u041f\\u0430\\u043b\\u043b\\u0438\\u0430\\u0442\\u0438\\u0432\\u044b\",\"\\u0440\\u0430\\u0441\\u043f\\u0435\\u0447\\u0430\\u0442\\u044b\\u0432\\u0430\\u043d\\u0438\\u0438\",\"\\u043d\\u043e\\u0443\\u0442\\u0431\\u0443\\u043a\\u0430\\u043c\\u0438\",\"\\u0430\\u0434\\u0430\\u043f\\u0442\\u0435\\u0440\\u0443\",\"\\u0421\\u041e\\u041e\\u0411\\u0429\\u0415\\u0421\\u0422\\u0412\\u041e\",\"\\u0441\\u043c\\u0435\\u0442\\u043b\\u0438\\u0432\\u043e\\u0441\\u0442\\u044c\\u044e\",\"\\u043d\\u0451\\u043c\",\"\\u0442\\u0430\\u0438\\u043d\\u0441\\u0442\\u0432\\u0435\\u043d\\u043d\\u043e\\u0441\\u0442\\u044f\\u043c\",\"\\u0431\\u043b\\u0430\\u0433\\u043e\\u0432\\u0438\\u0434\\u043d\\u043e\\u0441\\u0442\\u0438\",\"\\u043e\\u0431\\u043e\\u0440\\u043e\\u043d\\u043e\\u0441\\u043f\\u043e\\u0441\\u043e\\u0431\\u043d\\u043e\\u0441\\u0442\\u044c\\u044e\",\"\\u0413\\u043b\\u0430\\u0448\\u043a\\u0443\",\"\\u043f\\u043e\\u0441\\u0442\\u0441\\u043a\\u0440\\u0438\\u043f\\u0442\\u0443\\u043c\",\"\\u041f\\u043e\\u0440\\u0438\\u0446\\u0430\\u043d\\u0438\\u044f\",\"\\u043e\\u043f\\u043f\\u043e\\u0437\\u0438\\u0446\\u0438\\u043e\\u043d\\u0435\\u0440\\u043e\\u043c\",\"\\u0417\\u0410\\u041a\\u0410\\u0417\\u041e\\u0412\",\"\\u043f\\u0441\\u0438\\u0445\\u043e\\u043b\\u043e\\u0433\\u0430\\u043c\\u0438\",\"\\u0424\\u0438\\u0433\\u0432\\u0430\\u043c\",\"\\u0444\\u0440\\u0430\\u043d\\u0447\\u0430\\u0439\\u0437\\u044b\",\"\\u0414\\u0415\\u041c\\u041e\\u041d\\u0421\\u0422\\u0420\\u0410\\u0426\\u0418\\u0418\",\"\\u0440\\u044b\\u0431\\u043e\\u043b\\u043e\\u0432\\u0441\\u0442\\u0432\\u0430\",\"\\u043f\\u043e\\u043b\\u043e\\u043d\\u0438\\u044e\",\"\\u0411\\u0430\\u0440\\u043a\\u0430\\u043d\\u0435\",\"\\u0442\\u043e\\u043f\\u043a\\u043e\\u0441\\u0442\\u0438\",\"\\u0440\\u0430\\u0441\\u0441\\u043c\\u043e\\u0442\\u0440\\u0435\\u043d\\u0438\\u044f\",\"\\u0417\\u041e\\u041d\\u0418\\u0420\\u041e\\u0412\\u0410\\u041d\\u0418\\u0415\",\"\\u0410\\u0422\\u041e\\u041b\\u041b\",\"\\u0434\\u0435\\u043b\\u044c\\u0442\\u0430\\u043f\\u043b\\u0430\\u043d\\u0430\\u0445\",\"\\u0430\\u043c\\u0438\\u043d\\u043e\\u043a\\u0438\\u0441\\u043b\\u043e\\u0442\\u0435\",\"\\u0433\\u043e\\u0441\\u0442\\u0435\\u043f\\u0440\\u0438\\u0438\\u043c\\u0441\\u0442\\u0432\\u0430\",\"\\u0437\\u0430\\u043c\\u0438\\u0440\\u0430\\u043d\\u0438\\u0435\\u043c\",\"\\u044d\\u043a\\u0440\\u0430\\u043d\",\"\\u043a\\u0443\\u0432\\u0448\\u0438\\u043d\\u0447\\u0438\\u043a\\u0443\",\"\\u041c\\u043e\\u0446\\u0430\\u0440\\u0442\\u0435\",\"\\u041f\\u0435\\u0442\\u0440\\u043e\\u0432\\u0438\\u0447\\u0430\",\"\\u0413\\u041b\\u041e\\u0411\\u0410\\u041b\\u0418\\u0417\\u0410\\u0426\\u0418\\u0418\",\"\\u043e\\u043a\\u0442\\u0430\\u044d\\u0434\\u0440\\u043e\\u043c\",\"\\u0422\\u043e\\u043c\\u0438\\u043b\\u043e\",\"\\u042d\\u043a\\u0438\\u043f\\u0430\\u0436\\u0438\",\"\\u041a\\u043e\\u043c\\u043f\\u044c\\u044e\\u0442\\u0435\\u0440\\u0430\\u0445\",\"\\u044d\\u043d\\u0435\\u0440\\u0433\\u043e\\u043d\\u043e\\u0441\\u0438\\u0442\\u0435\\u043b\\u044f\\u043c\\u0438\",\"\\u0428\\u0443\\u0440\\u043e\\u0439\",\"\\u0427\\u0435\\u0440\\u0432\\u044f\\u043a\",\"\\u0434\\u0435\\u0444\\u0438\\u0446\\u0438\\u0442\\u0435\",\"\\u0437\\u0430\\u043a\\u0432\\u0430\\u0441\\u043a\\u0443\",\"\\u0434\\u0438\\u043d\\u0430\\u043c\\u043e\\u043c\\u0435\\u0442\\u0440\\u0435\",\"\\u041f\\u0435\\u0442\\u0440\\u043e\\u043c\",\"\\u0421\\u0442\\u0435\\u0441\\u043d\\u0435\\u043d\\u043d\\u043e\\u0441\\u0442\\u044c\",\"\\u0427\\u0423\\u0411\\u041a\\u0410\",\"\\u0438\\u043c\\u043f\\u043b\\u0430\\u043d\\u0442\\u0430\\u0446\\u0438\\u044f\",\"\\u0438\\u043d\\u0442\\u0435\\u0440\\u043d\\u0435\\u0442\\u043e\\u043c\",\"\\u041c\\u0438\\u0442\\u0440\\u043e\\u043f\\u043e\\u043b\\u0438\\u0438\",\"\\u0433\\u0440\\u0430\\u0431\\u0435\\u0436\\u0435\",\"\\u0431\\u0435\\u043b\\u044c\\u044d\\u0442\\u0430\\u0436\\u0430\",\"\\u043a\\u043e\\u0440\\u043e\\u0442\\u043a\\u043e\\u043c\\u0435\\u0442\\u0440\\u0430\\u0436\\u043a\\u0443\",\"\\u0417\\u0430\\u0432\\u043b\\u0435\\u0447\\u0435\\u043d\\u0438\\u044f\",\"\\u041f\\u0420\\u0415\\u0414\\u041f\\u041e\\u041b\\u041e\\u0416\\u0415\\u041d\\u0418\\u0419\",\"\\u0433\\u043e\\u0434\\u043e\\u0432\\u0449\\u0438\\u043d\\u0430\\u0445\",\"\\u0423\\u044e\\u0442\",\"\\u041d\\u0430\\u0440\\u0435\\u0437\\u043a\\u0430\",\"\\u043f\\u043e\\u043c\\u0435\\u0441\\u0435\\u0439\",\"\\u043a\\u043e\\u043d\\u0446\\u0435\\u043d\\u0442\\u0440\\u0430\\u0442\\u043e\\u0440\\u0430\\u043c\\u0438\",\"\\u0417\\u0443\\u0440\\u0430\\u0431\\u0430\",\"\\u041f\\u043e\\u043b\\u0438\\u043a\\u043b\\u0438\\u043d\\u0438\\u043a\\u0435\",\"\\u043e\\u0441\\u0442\\u0440\\u043e\\u0443\\u043c\\u0438\\u044f\",\"\\u0420\\u0415\\u0417\\u042c\\u0411\\u041e\\u0419\",\"\\u0441\\u043e\\u043d\\u0430\\u0440\\u0430\\u043c\",\"\\u041e\\u0442\\u0434\\u0435\\u043b\\u044b\",\"\\u0418\\u041d\\u041d\\u041e\\u0412\\u0410\\u0426\\u0418\\u042f\\u041c\",\"\\u043c\\u0435\\u0447\\u0442\\u0430\\u043c\",\"\\u041c\\u0421\\u0423\\u0413\\u0421\",\"\\u0421\\u041e\\u0421\\u0422\\u041e\\u042f\\u0422\\u0415\\u041b\\u042c\\u041d\\u041e\\u0421\\u0422\\u042c\",\"\\u043a\\u043e\\u043d\\u0434\\u0438\\u0442\\u0435\\u0440\\u0441\\u043a\\u0438\\u0445\",\"\\u041b\\u043e\\u0443\\u0441\\u0442\\u043e\\u0444\\u0442\\u0430\"],\"x\":{\"__ndarray__\":\"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\",\"dtype\":\"float32\",\"shape\":[1000]},\"y\":{\"__ndarray__\":\"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\",\"dtype\":\"float32\",\"shape\":[1000]}},\"selected\":{\"id\":\"4435c988-db2d-46f1-b26b-369ccabda529\",\"type\":\"Selection\"},\"selection_policy\":{\"id\":\"9c0d483a-59a7-4216-a392-1ca6a39770a5\",\"type\":\"UnionRenderers\"}},\"id\":\"ad8920f5-0809-4fe9-be2f-e58d8031e26e\",\"type\":\"ColumnDataSource\"},{\"attributes\":{\"callback\":null},\"id\":\"d500e34b-0645-4cf2-9d3a-59b5dd22c0b4\",\"type\":\"DataRange1d\"},{\"attributes\":{\"callback\":null},\"id\":\"ea5a6911-1c5f-4052-82a5-5ae006b9acf5\",\"type\":\"DataRange1d\"},{\"attributes\":{},\"id\":\"b5548e18-df04-44ec-ab26-eb05acae3b66\",\"type\":\"LinearScale\"},{\"attributes\":{},\"id\":\"a455dba0-7f59-42f9-aed7-0e50f3197541\",\"type\":\"HelpTool\"},{\"attributes\":{\"plot\":null,\"text\":\"\"},\"id\":\"c29799a0-de1d-4e29-9dae-6f33c39afd0a\",\"type\":\"Title\"},{\"attributes\":{\"below\":[{\"id\":\"5d719f4a-26ab-419b-812c-b0bd223899af\",\"type\":\"LinearAxis\"}],\"left\":[{\"id\":\"550efecc-cf5b-40fc-9da9-4a36f8020742\",\"type\":\"LinearAxis\"}],\"plot_height\":400,\"renderers\":[{\"id\":\"5d719f4a-26ab-419b-812c-b0bd223899af\",\"type\":\"LinearAxis\"},{\"id\":\"99b2d445-2f9c-48af-8482-f31c4f570bcb\",\"type\":\"Grid\"},{\"id\":\"550efecc-cf5b-40fc-9da9-4a36f8020742\",\"type\":\"LinearAxis\"},{\"id\":\"34b56d54-5a9b-464a-82cd-92f3e60af2d2\",\"type\":\"Grid\"},{\"id\":\"5ce95bee-04ac-4bc5-a44c-60f89ddb4daf\",\"type\":\"BoxAnnotation\"},{\"id\":\"17ce9fa7-2ec5-47cf-a381-8bd9fc725cf8\",\"type\":\"GlyphRenderer\"}],\"title\":{\"id\":\"c29799a0-de1d-4e29-9dae-6f33c39afd0a\",\"type\":\"Title\"},\"toolbar\":{\"id\":\"a57ed85d-9c91-4d14-9aaf-326b1d56cf7b\",\"type\":\"Toolbar\"},\"x_range\":{\"id\":\"d500e34b-0645-4cf2-9d3a-59b5dd22c0b4\",\"type\":\"DataRange1d\"},\"x_scale\":{\"id\":\"f91c31fc-3e5e-4652-b91c-c537421c60a9\",\"type\":\"LinearScale\"},\"y_range\":{\"id\":\"ea5a6911-1c5f-4052-82a5-5ae006b9acf5\",\"type\":\"DataRange1d\"},\"y_scale\":{\"id\":\"b5548e18-df04-44ec-ab26-eb05acae3b66\",\"type\":\"LinearScale\"}},\"id\":\"b5e73eed-1ca6-4753-ac76-5ae896a9ca49\",\"subtype\":\"Figure\",\"type\":\"Plot\"},{\"attributes\":{},\"id\":\"9c0d483a-59a7-4216-a392-1ca6a39770a5\",\"type\":\"UnionRenderers\"},{\"attributes\":{\"source\":{\"id\":\"ad8920f5-0809-4fe9-be2f-e58d8031e26e\",\"type\":\"ColumnDataSource\"}},\"id\":\"4612318a-dafb-43dd-ad57-78419c0b1bbd\",\"type\":\"CDSView\"},{\"attributes\":{\"plot\":{\"id\":\"b5e73eed-1ca6-4753-ac76-5ae896a9ca49\",\"subtype\":\"Figure\",\"type\":\"Plot\"},\"ticker\":{\"id\":\"2be12aa7-5987-490a-a278-271e4cd8b50b\",\"type\":\"BasicTicker\"}},\"id\":\"99b2d445-2f9c-48af-8482-f31c4f570bcb\",\"type\":\"Grid\"},{\"attributes\":{},\"id\":\"86ef6ac9-fb01-434c-ab27-8ea75c593639\",\"type\":\"ResetTool\"},{\"attributes\":{\"formatter\":{\"id\":\"dead5e3f-dcb1-49fa-8a1f-6dfc21d9fba9\",\"type\":\"BasicTickFormatter\"},\"plot\":{\"id\":\"b5e73eed-1ca6-4753-ac76-5ae896a9ca49\",\"subtype\":\"Figure\",\"type\":\"Plot\"},\"ticker\":{\"id\":\"371e59a0-a0da-4e5f-94da-ca243ad1d540\",\"type\":\"BasicTicker\"}},\"id\":\"550efecc-cf5b-40fc-9da9-4a36f8020742\",\"type\":\"LinearAxis\"},{\"attributes\":{\"bottom_units\":\"screen\",\"fill_alpha\":{\"value\":0.5},\"fill_color\":{\"value\":\"lightgrey\"},\"left_units\":\"screen\",\"level\":\"overlay\",\"line_alpha\":{\"value\":1.0},\"line_color\":{\"value\":\"black\"},\"line_dash\":[4,4],\"line_width\":{\"value\":2},\"plot\":null,\"render_mode\":\"css\",\"right_units\":\"screen\",\"top_units\":\"screen\"},\"id\":\"5ce95bee-04ac-4bc5-a44c-60f89ddb4daf\",\"type\":\"BoxAnnotation\"},{\"attributes\":{},\"id\":\"a9261988-b3f6-42f4-9e90-1f74701ab823\",\"type\":\"PanTool\"},{\"attributes\":{},\"id\":\"4435c988-db2d-46f1-b26b-369ccabda529\",\"type\":\"Selection\"},{\"attributes\":{\"active_drag\":\"auto\",\"active_inspect\":\"auto\",\"active_multi\":null,\"active_scroll\":{\"id\":\"e967f79e-67ed-4eff-a225-0352430b6667\",\"type\":\"WheelZoomTool\"},\"active_tap\":\"auto\",\"tools\":[{\"id\":\"a9261988-b3f6-42f4-9e90-1f74701ab823\",\"type\":\"PanTool\"},{\"id\":\"e967f79e-67ed-4eff-a225-0352430b6667\",\"type\":\"WheelZoomTool\"},{\"id\":\"08fe8017-1001-40c5-81b3-b82e7c638df9\",\"type\":\"BoxZoomTool\"},{\"id\":\"fc091d40-2404-45c6-8f12-df2ca71e0dd9\",\"type\":\"SaveTool\"},{\"id\":\"86ef6ac9-fb01-434c-ab27-8ea75c593639\",\"type\":\"ResetTool\"},{\"id\":\"a455dba0-7f59-42f9-aed7-0e50f3197541\",\"type\":\"HelpTool\"},{\"id\":\"c4da4a75-cefd-4bc5-8b9a-9728eb3aa78a\",\"type\":\"HoverTool\"}]},\"id\":\"a57ed85d-9c91-4d14-9aaf-326b1d56cf7b\",\"type\":\"Toolbar\"},{\"attributes\":{},\"id\":\"dead5e3f-dcb1-49fa-8a1f-6dfc21d9fba9\",\"type\":\"BasicTickFormatter\"},{\"attributes\":{\"callback\":null,\"renderers\":\"auto\",\"tooltips\":[[\"token\",\"@token\"]]},\"id\":\"c4da4a75-cefd-4bc5-8b9a-9728eb3aa78a\",\"type\":\"HoverTool\"},{\"attributes\":{\"fill_alpha\":{\"value\":0.25},\"fill_color\":{\"field\":\"color\"},\"line_alpha\":{\"value\":0.25},\"line_color\":{\"field\":\"color\"},\"size\":{\"units\":\"screen\",\"value\":10},\"x\":{\"field\":\"x\"},\"y\":{\"field\":\"y\"}},\"id\":\"49510092-356b-4f12-92a8-d89f35598d6e\",\"type\":\"Circle\"},{\"attributes\":{\"formatter\":{\"id\":\"cfe42a1b-1d15-489c-aeb0-1ce8a3faee4c\",\"type\":\"BasicTickFormatter\"},\"plot\":{\"id\":\"b5e73eed-1ca6-4753-ac76-5ae896a9ca49\",\"subtype\":\"Figure\",\"type\":\"Plot\"},\"ticker\":{\"id\":\"2be12aa7-5987-490a-a278-271e4cd8b50b\",\"type\":\"BasicTicker\"}},\"id\":\"5d719f4a-26ab-419b-812c-b0bd223899af\",\"type\":\"LinearAxis\"}],\"root_ids\":[\"b5e73eed-1ca6-4753-ac76-5ae896a9ca49\"]},\"title\":\"Bokeh Application\",\"version\":\"0.13.0\"}};\n",
              "  var render_items = [{\"docid\":\"bc9e461a-f576-481c-bd0b-68c0f1737506\",\"roots\":{\"b5e73eed-1ca6-4753-ac76-5ae896a9ca49\":\"e3c5b9b4-e646-4577-bb36-d5e9cc8aa3c5\"}}];\n",
              "  root.Bokeh.embed.embed_items_notebook(docs_json, render_items);\n",
              "\n",
              "  }\n",
              "  if (root.Bokeh !== undefined) {\n",
              "    embed_document(root);\n",
              "  } else {\n",
              "    var attempts = 0;\n",
              "    var timer = setInterval(function(root) {\n",
              "      if (root.Bokeh !== undefined) {\n",
              "        embed_document(root);\n",
              "        clearInterval(timer);\n",
              "      }\n",
              "      attempts++;\n",
              "      if (attempts > 100) {\n",
              "        console.log(\"Bokeh: ERROR: Unable to run BokehJS code because BokehJS library is missing\")\n",
              "        clearInterval(timer);\n",
              "      }\n",
              "    }, 10, root)\n",
              "  }\n",
              "})(window);"
            ],
            "application/vnd.bokehjs_exec.v0+json": ""
          },
          "metadata": {
            "tags": [],
            "application/vnd.bokehjs_exec.v0+json": {
              "id": "b5e73eed-1ca6-4753-ac76-5ae896a9ca49"
            }
          }
        }
      ]
    },
    {
      "metadata": {
        "id": "xOt1tcOkvDBY",
        "colab_type": "text"
      },
      "cell_type": "markdown",
      "source": [
        "### Визуализация полученных свёрток"
      ]
    },
    {
      "metadata": {
        "id": "tljoUWceE2lH",
        "colab_type": "text"
      },
      "cell_type": "markdown",
      "source": [
        "Кроме всего прочего у нас тут логистическая регрессия сверху. Можно визуализировать ее также, как в eli5.\n",
        "\n",
        "**Задание** Добиться этого."
      ]
    },
    {
      "metadata": {
        "id": "mJpHT_YkLvCf",
        "colab_type": "code",
        "colab": {}
      },
      "cell_type": "code",
      "source": [
        "model.eval()\n",
        "\n",
        "word = 'Смирнов'"
      ],
      "execution_count": 0,
      "outputs": []
    },
    {
      "metadata": {
        "id": "LNMXpgh8FNIo",
        "colab_type": "text"
      },
      "cell_type": "markdown",
      "source": [
        "Посчитайте вероятность, что слово - фамилия."
      ]
    },
    {
      "metadata": {
        "id": "Hl-VZs1mFKxM",
        "colab_type": "code",
        "colab": {}
      },
      "cell_type": "code",
      "source": [
        "inputs = LongTensor(convert_data([word], len(word), char_index))\n",
        "prob = torch.sigmoid(model(inputs)).item()"
      ],
      "execution_count": 0,
      "outputs": []
    },
    {
      "metadata": {
        "id": "Y2SZi1FIFj6o",
        "colab_type": "text"
      },
      "cell_type": "markdown",
      "source": [
        "Посчитайте результат свертки и пулинга"
      ]
    },
    {
      "metadata": {
        "id": "-1SdKbDFFhOk",
        "colab_type": "code",
        "colab": {}
      },
      "cell_type": "code",
      "source": [
        "convs = model._conv3(model._embedding(inputs).unsqueeze(1))\n",
        "maxs, positions = convs.squeeze().max(-1)"
      ],
      "execution_count": 0,
      "outputs": []
    },
    {
      "metadata": {
        "id": "JLTu8mlfFtXJ",
        "colab_type": "text"
      },
      "cell_type": "markdown",
      "source": [
        "Домножьте выход пулинга на веса выходного слоя"
      ]
    },
    {
      "metadata": {
        "id": "ZRMkbFXdFwys",
        "colab_type": "code",
        "colab": {}
      },
      "cell_type": "code",
      "source": [
        "linear_weights = (maxs * model._out_layer.weight).cpu().detach().numpy()[0]"
      ],
      "execution_count": 0,
      "outputs": []
    },
    {
      "metadata": {
        "id": "qV3dK-IzGFXh",
        "colab_type": "text"
      },
      "cell_type": "markdown",
      "source": [
        "Посчитайте веса символов: каждый фильтр прикладывается к какой-то позиции - прибавим его вес к накрываемым символам."
      ]
    },
    {
      "metadata": {
        "id": "E0y8epEgGEU8",
        "colab_type": "code",
        "colab": {}
      },
      "cell_type": "code",
      "source": [
        "# We wrote our ConvNN with kernel_size == 4\n",
        "KERNEL_SIZE = 4\n",
        "\n",
        "symb_weights = np.zeros(len(word))\n",
        "for idx, position in enumerate(positions):\n",
        "    for i in range(KERNEL_SIZE):\n",
        "        symb_weights[position + i] += linear_weights[idx]"
      ],
      "execution_count": 0,
      "outputs": []
    },
    {
      "metadata": {
        "id": "GLx1YoUFnd4f",
        "colab_type": "code",
        "colab": {
          "base_uri": "https://localhost:8080/",
          "height": 51
        },
        "outputId": "585163f4-f15a-411f-d4ef-72e866cfb67c"
      },
      "cell_type": "code",
      "source": [
        "symb_weights"
      ],
      "execution_count": 377,
      "outputs": [
        {
          "output_type": "execute_result",
          "data": {
            "text/plain": [
              "array([ 2.31348729,  0.71361016, -0.27274263,  0.29698434, -2.01650295,\n",
              "       -0.41662582,  0.56972697])"
            ]
          },
          "metadata": {
            "tags": []
          },
          "execution_count": 377
        }
      ]
    },
    {
      "metadata": {
        "id": "utVltLCUGXTy",
        "colab_type": "text"
      },
      "cell_type": "markdown",
      "source": [
        "Визуализируем это:"
      ]
    },
    {
      "metadata": {
        "id": "I2UKjz86F7fz",
        "colab_type": "code",
        "colab": {
          "base_uri": "https://localhost:8080/",
          "height": 69
        },
        "outputId": "b1cba46e-cfe4-4e02-a73e-d3bba256571b"
      },
      "cell_type": "code",
      "source": [
        "from IPython.core.display import HTML\n",
        "\n",
        "def get_color_hex(weight):\n",
        "    cmap = plt.get_cmap(\"RdYlGn\")\n",
        "    rgba = cmap(weight, bytes=True)\n",
        "    return '#%02X%02X%02X' % rgba[:3]\n",
        "\n",
        "symb_template = '<span style=\"background-color: {color_hex}\">{symb}</span>'\n",
        "res = '<p>P(surname) = {:.2%}</p>'.format(prob)\n",
        "for symb, weight in zip(word, symb_weights):\n",
        "    res += symb_template.format(color_hex=get_color_hex(weight), symb=symb)\n",
        "res = '<p>' + res + '</p>'\n",
        "\n",
        "HTML(res)"
      ],
      "execution_count": 378,
      "outputs": [
        {
          "output_type": "execute_result",
          "data": {
            "text/html": [
              "<p><p>P(surname) = 55.27%</p><span style=\"background-color: #006837\">С</span><span style=\"background-color: #9DD569\">м</span><span style=\"background-color: #A50026\">и</span><span style=\"background-color: #FCAC60\">р</span><span style=\"background-color: #A50026\">н</span><span style=\"background-color: #A50026\">о</span><span style=\"background-color: #E4F49B\">в</span></p>"
            ],
            "text/plain": [
              "<IPython.core.display.HTML object>"
            ]
          },
          "metadata": {
            "tags": []
          },
          "execution_count": 378
        }
      ]
    },
    {
      "metadata": {
        "id": "mGhfZsleGZi0",
        "colab_type": "text"
      },
      "cell_type": "markdown",
      "source": [
        "Объединим все в функции:"
      ]
    },
    {
      "metadata": {
        "id": "PUi51X4fQIIT",
        "colab_type": "code",
        "colab": {
          "base_uri": "https://localhost:8080/",
          "height": 69
        },
        "outputId": "c3ef0eeb-5316-40b5-8742-75478750ef70"
      },
      "cell_type": "code",
      "source": [
        "def calc_weights(word):\n",
        "    inputs = LongTensor(convert_data([word], len(word), char_index))\n",
        "    prob = torch.sigmoid(model(inputs)).item()\n",
        "    \n",
        "    convs = model._conv3(model._embedding(inputs).unsqueeze(1))\n",
        "    maxs, positions = convs.squeeze().max(-1)\n",
        "    \n",
        "    linear_weights = (maxs * model._out_layer.weight).cpu().detach().numpy()[0]\n",
        "    \n",
        "    symb_weights = np.zeros(len(word))\n",
        "    for idx, position in enumerate(positions):\n",
        "        for i in range(KERNEL_SIZE):\n",
        "            symb_weights[position + i] += linear_weights[idx]\n",
        "    \n",
        "    return prob, symb_weights\n",
        "\n",
        "def visualize(word):\n",
        "    prob, symb_weights = calc_weights(word)\n",
        "    \n",
        "    symb_template = '<span style=\"background-color: {color_hex}\">{symb}</span>'\n",
        "    res = '<p>P(surname) = {:.2%}</p>'.format(prob)\n",
        "    for symb, weight in zip(word, symb_weights):\n",
        "        res += symb_template.format(color_hex=get_color_hex(weight), symb=symb)\n",
        "    res = '<p>' + res + '</p>'\n",
        "    return HTML(res)\n",
        "\n",
        "\n",
        "visualize('Королев')"
      ],
      "execution_count": 381,
      "outputs": [
        {
          "output_type": "execute_result",
          "data": {
            "text/html": [
              "<p><p>P(surname) = 94.97%</p><span style=\"background-color: #006837\">К</span><span style=\"background-color: #FEFDBB\">о</span><span style=\"background-color: #006837\">р</span><span style=\"background-color: #006837\">о</span><span style=\"background-color: #A50026\">л</span><span style=\"background-color: #006837\">е</span><span style=\"background-color: #006837\">в</span></p>"
            ],
            "text/plain": [
              "<IPython.core.display.HTML object>"
            ]
          },
          "metadata": {
            "tags": []
          },
          "execution_count": 381
        }
      ]
    },
    {
      "metadata": {
        "id": "eXee135DEJuy",
        "colab_type": "text"
      },
      "cell_type": "markdown",
      "source": [
        "## Улучшение модели"
      ]
    },
    {
      "metadata": {
        "id": "k2_8bNRyG3CF",
        "colab_type": "text"
      },
      "cell_type": "markdown",
      "source": [
        "**Задание** Для улучшение стабильности модели стоит добавить дропаут `nn.Dropout` - способ занулять часть весов на каждой эпохе для регуляризации модели. Попробуйте добавить его после эмбеддингов и после свертки (а можно еще где-нибудь).\n",
        "\n",
        "![](https://cdn-images-1.medium.com/max/1044/1*iWQzxhVlvadk6VAJjsgXgg.png =x300)"
      ]
    },
    {
      "metadata": {
        "id": "-QKDJnprMI7P",
        "colab_type": "code",
        "colab": {}
      },
      "cell_type": "code",
      "source": [
        "class ConvClassifier(nn.Module):\n",
        "    def __init__(self, vocab_size, emb_dim, filters_count):\n",
        "        super().__init__()\n",
        "        \n",
        "        self._embedding = nn.Embedding(vocab_size, emb_dim)\n",
        "        self._dropout = nn.Dropout(0.2)\n",
        "        self._conv3 = nn.Sequential(\n",
        "            nn.Conv2d(in_channels=1, out_channels=filters_count, kernel_size=(4, emb_dim)),\n",
        "            nn.ReLU(inplace=True)\n",
        "        )\n",
        "        self._out_layer = nn.Linear(filters_count, 1)\n",
        "        \n",
        "    def forward(self, inputs):\n",
        "        '''\n",
        "        inputs - LongTensor with shape (batch_size, max_word_len)\n",
        "        outputs - FloatTensor with shape (batch_size,)\n",
        "        '''\n",
        "        \n",
        "        outputs = self._dropout(self.embed(inputs))\n",
        "        return self._out_layer(outputs).squeeze(-1)\n",
        "    \n",
        "    def embed(self, inputs):\n",
        "        embs = self._dropout(self._embedding(inputs).unsqueeze(1))\n",
        "        return self._conv3(embs).squeeze(-1).max(-1)[0]"
      ],
      "execution_count": 0,
      "outputs": []
    },
    {
      "metadata": {
        "id": "kXzsFv01MVw2",
        "colab_type": "code",
        "colab": {
          "base_uri": "https://localhost:8080/",
          "height": 1397
        },
        "outputId": "ca498724-a309-4a7c-bb1b-519c8e8b3b41"
      },
      "cell_type": "code",
      "source": [
        "model = ConvClassifier(len(char_index) + 1, 24, 128).cuda()\n",
        "\n",
        "criterion = nn.BCEWithLogitsLoss().cuda()\n",
        "\n",
        "optimizer = optim.Adam([param for param in model.parameters() if param.requires_grad])\n",
        "\n",
        "fit(model, criterion, optimizer, train_data=(X_train, train_labels), epochs_count=80, \n",
        "    batch_size=512, val_data=(X_test, test_labels), val_batch_size=1024)"
      ],
      "execution_count": 205,
      "outputs": [
        {
          "output_type": "stream",
          "text": [
            "Epoch 1 / 80, Epoch Time = 2.45s: Train Loss = 0.3462, Precision = 0.95%, Recall = 15.90%, F1 = 1.79%, Val Loss = 0.3068, Precision = 3.29%, Recall = 63.16%, F1 = 6.26%\n",
            "Epoch 2 / 80, Epoch Time = 2.34s: Train Loss = 0.2967, Precision = 7.46%, Recall = 64.59%, F1 = 13.38%, Val Loss = 0.2729, Precision = 16.46%, Recall = 69.68%, F1 = 26.63%\n",
            "Epoch 3 / 80, Epoch Time = 2.34s: Train Loss = 0.2760, Precision = 18.95%, Recall = 66.94%, F1 = 29.54%, Val Loss = 0.2571, Precision = 36.10%, Recall = 65.70%, F1 = 46.60%\n",
            "Epoch 4 / 80, Epoch Time = 2.36s: Train Loss = 0.2618, Precision = 26.37%, Recall = 67.57%, F1 = 37.94%, Val Loss = 0.2408, Precision = 32.32%, Recall = 73.15%, F1 = 44.83%\n",
            "Epoch 5 / 80, Epoch Time = 2.36s: Train Loss = 0.2513, Precision = 31.24%, Recall = 67.85%, F1 = 42.79%, Val Loss = 0.2353, Precision = 45.06%, Recall = 69.13%, F1 = 54.56%\n",
            "Epoch 6 / 80, Epoch Time = 2.34s: Train Loss = 0.2469, Precision = 33.59%, Recall = 69.02%, F1 = 45.19%, Val Loss = 0.2290, Precision = 45.52%, Recall = 70.52%, F1 = 55.33%\n",
            "Epoch 7 / 80, Epoch Time = 2.36s: Train Loss = 0.2412, Precision = 36.13%, Recall = 69.52%, F1 = 47.55%, Val Loss = 0.2234, Precision = 44.79%, Recall = 73.67%, F1 = 55.71%\n",
            "Epoch 8 / 80, Epoch Time = 2.36s: Train Loss = 0.2374, Precision = 37.79%, Recall = 70.52%, F1 = 49.21%, Val Loss = 0.2219, Precision = 50.18%, Recall = 70.80%, F1 = 58.73%\n",
            "Epoch 9 / 80, Epoch Time = 2.37s: Train Loss = 0.2352, Precision = 38.68%, Recall = 71.00%, F1 = 50.07%, Val Loss = 0.2196, Precision = 51.16%, Recall = 70.89%, F1 = 59.43%\n",
            "Epoch 10 / 80, Epoch Time = 2.37s: Train Loss = 0.2304, Precision = 39.40%, Recall = 70.75%, F1 = 50.61%, Val Loss = 0.2163, Precision = 50.73%, Recall = 71.20%, F1 = 59.25%\n",
            "Epoch 11 / 80, Epoch Time = 2.36s: Train Loss = 0.2273, Precision = 41.04%, Recall = 71.53%, F1 = 52.15%, Val Loss = 0.2149, Precision = 53.84%, Recall = 70.05%, F1 = 60.89%\n",
            "Epoch 12 / 80, Epoch Time = 2.36s: Train Loss = 0.2268, Precision = 41.07%, Recall = 72.06%, F1 = 52.32%, Val Loss = 0.2166, Precision = 56.83%, Recall = 69.06%, F1 = 62.35%\n",
            "Epoch 13 / 80, Epoch Time = 2.35s: Train Loss = 0.2214, Precision = 42.95%, Recall = 72.28%, F1 = 53.88%, Val Loss = 0.2144, Precision = 58.60%, Recall = 68.77%, F1 = 63.28%\n",
            "Epoch 14 / 80, Epoch Time = 2.35s: Train Loss = 0.2226, Precision = 43.18%, Recall = 71.98%, F1 = 53.98%, Val Loss = 0.2099, Precision = 55.64%, Recall = 71.79%, F1 = 62.69%\n",
            "Epoch 15 / 80, Epoch Time = 2.34s: Train Loss = 0.2197, Precision = 43.86%, Recall = 73.03%, F1 = 54.80%, Val Loss = 0.2098, Precision = 57.87%, Recall = 69.65%, F1 = 63.21%\n",
            "Epoch 16 / 80, Epoch Time = 2.32s: Train Loss = 0.2184, Precision = 44.42%, Recall = 71.53%, F1 = 54.81%, Val Loss = 0.2077, Precision = 56.34%, Recall = 71.88%, F1 = 63.17%\n",
            "Epoch 17 / 80, Epoch Time = 2.34s: Train Loss = 0.2151, Precision = 45.34%, Recall = 73.17%, F1 = 55.99%, Val Loss = 0.2079, Precision = 59.12%, Recall = 70.53%, F1 = 64.32%\n",
            "Epoch 18 / 80, Epoch Time = 2.34s: Train Loss = 0.2127, Precision = 46.49%, Recall = 73.77%, F1 = 57.04%, Val Loss = 0.2018, Precision = 54.39%, Recall = 74.43%, F1 = 62.85%\n",
            "Epoch 19 / 80, Epoch Time = 2.39s: Train Loss = 0.2142, Precision = 44.91%, Recall = 72.78%, F1 = 55.55%, Val Loss = 0.2046, Precision = 57.32%, Recall = 71.59%, F1 = 63.66%\n",
            "Epoch 20 / 80, Epoch Time = 2.40s: Train Loss = 0.2114, Precision = 46.55%, Recall = 73.68%, F1 = 57.06%, Val Loss = 0.2046, Precision = 59.48%, Recall = 70.23%, F1 = 64.41%\n",
            "Epoch 21 / 80, Epoch Time = 2.38s: Train Loss = 0.2101, Precision = 47.44%, Recall = 73.96%, F1 = 57.80%, Val Loss = 0.2021, Precision = 58.17%, Recall = 72.16%, F1 = 64.42%\n",
            "Epoch 22 / 80, Epoch Time = 2.39s: Train Loss = 0.2112, Precision = 46.69%, Recall = 73.63%, F1 = 57.15%, Val Loss = 0.2010, Precision = 58.02%, Recall = 73.00%, F1 = 64.65%\n",
            "Epoch 23 / 80, Epoch Time = 2.37s: Train Loss = 0.2103, Precision = 47.67%, Recall = 73.18%, F1 = 57.73%, Val Loss = 0.1992, Precision = 56.77%, Recall = 74.27%, F1 = 64.35%\n",
            "Epoch 24 / 80, Epoch Time = 2.39s: Train Loss = 0.2081, Precision = 47.53%, Recall = 73.93%, F1 = 57.86%, Val Loss = 0.2030, Precision = 60.85%, Recall = 70.31%, F1 = 65.24%\n",
            "Epoch 25 / 80, Epoch Time = 2.38s: Train Loss = 0.2061, Precision = 47.99%, Recall = 74.06%, F1 = 58.24%, Val Loss = 0.2045, Precision = 62.44%, Recall = 69.10%, F1 = 65.60%\n",
            "Epoch 26 / 80, Epoch Time = 2.34s: Train Loss = 0.2064, Precision = 48.21%, Recall = 73.99%, F1 = 58.38%, Val Loss = 0.1992, Precision = 59.42%, Recall = 72.24%, F1 = 65.21%\n",
            "Epoch 27 / 80, Epoch Time = 2.33s: Train Loss = 0.2040, Precision = 48.91%, Recall = 74.18%, F1 = 58.95%, Val Loss = 0.1976, Precision = 59.42%, Recall = 72.21%, F1 = 65.19%\n",
            "Epoch 28 / 80, Epoch Time = 2.34s: Train Loss = 0.2059, Precision = 48.42%, Recall = 74.06%, F1 = 58.56%, Val Loss = 0.1956, Precision = 57.87%, Recall = 74.61%, F1 = 65.18%\n",
            "Epoch 29 / 80, Epoch Time = 2.33s: Train Loss = 0.2033, Precision = 49.28%, Recall = 74.46%, F1 = 59.31%, Val Loss = 0.1975, Precision = 58.66%, Recall = 73.32%, F1 = 65.18%\n",
            "Epoch 30 / 80, Epoch Time = 2.33s: Train Loss = 0.2022, Precision = 49.69%, Recall = 75.49%, F1 = 59.93%, Val Loss = 0.1984, Precision = 61.98%, Recall = 71.23%, F1 = 66.29%\n",
            "Epoch 31 / 80, Epoch Time = 2.37s: Train Loss = 0.2015, Precision = 50.32%, Recall = 74.87%, F1 = 60.19%, Val Loss = 0.1972, Precision = 60.24%, Recall = 72.67%, F1 = 65.88%\n",
            "Epoch 32 / 80, Epoch Time = 2.36s: Train Loss = 0.2001, Precision = 49.65%, Recall = 74.83%, F1 = 59.69%, Val Loss = 0.1997, Precision = 63.87%, Recall = 70.23%, F1 = 66.90%\n",
            "Epoch 33 / 80, Epoch Time = 2.32s: Train Loss = 0.2023, Precision = 49.59%, Recall = 74.58%, F1 = 59.57%, Val Loss = 0.2033, Precision = 65.46%, Recall = 68.59%, F1 = 66.99%\n",
            "Epoch 34 / 80, Epoch Time = 2.32s: Train Loss = 0.1988, Precision = 50.75%, Recall = 75.63%, F1 = 60.74%, Val Loss = 0.1975, Precision = 63.96%, Recall = 70.33%, F1 = 67.00%\n",
            "Epoch 35 / 80, Epoch Time = 2.34s: Train Loss = 0.1996, Precision = 50.37%, Recall = 75.22%, F1 = 60.33%, Val Loss = 0.1936, Precision = 61.31%, Recall = 73.45%, F1 = 66.83%\n",
            "Epoch 36 / 80, Epoch Time = 2.33s: Train Loss = 0.2001, Precision = 50.03%, Recall = 74.92%, F1 = 60.00%, Val Loss = 0.1917, Precision = 57.35%, Recall = 76.43%, F1 = 65.53%\n",
            "Epoch 37 / 80, Epoch Time = 2.33s: Train Loss = 0.1979, Precision = 50.77%, Recall = 76.23%, F1 = 60.95%, Val Loss = 0.1941, Precision = 61.07%, Recall = 72.34%, F1 = 66.23%\n",
            "Epoch 38 / 80, Epoch Time = 2.32s: Train Loss = 0.1979, Precision = 51.43%, Recall = 75.64%, F1 = 61.22%, Val Loss = 0.1940, Precision = 61.10%, Recall = 73.41%, F1 = 66.69%\n",
            "Epoch 39 / 80, Epoch Time = 2.33s: Train Loss = 0.1967, Precision = 52.19%, Recall = 75.86%, F1 = 61.84%, Val Loss = 0.1918, Precision = 57.87%, Recall = 75.44%, F1 = 65.49%\n",
            "Epoch 40 / 80, Epoch Time = 2.33s: Train Loss = 0.1962, Precision = 51.18%, Recall = 75.62%, F1 = 61.04%, Val Loss = 0.1968, Precision = 64.05%, Recall = 70.62%, F1 = 67.18%\n",
            "Epoch 41 / 80, Epoch Time = 2.32s: Train Loss = 0.1955, Precision = 52.42%, Recall = 76.46%, F1 = 62.20%, Val Loss = 0.1915, Precision = 59.94%, Recall = 74.13%, F1 = 66.28%\n",
            "Epoch 42 / 80, Epoch Time = 2.32s: Train Loss = 0.1948, Precision = 51.82%, Recall = 75.95%, F1 = 61.61%, Val Loss = 0.1909, Precision = 58.69%, Recall = 75.49%, F1 = 66.04%\n",
            "Epoch 43 / 80, Epoch Time = 2.33s: Train Loss = 0.1956, Precision = 51.46%, Recall = 75.56%, F1 = 61.22%, Val Loss = 0.1933, Precision = 61.52%, Recall = 72.93%, F1 = 66.74%\n",
            "Epoch 44 / 80, Epoch Time = 2.34s: Train Loss = 0.1942, Precision = 52.39%, Recall = 76.35%, F1 = 62.14%, Val Loss = 0.1931, Precision = 61.77%, Recall = 72.77%, F1 = 66.82%\n",
            "Epoch 45 / 80, Epoch Time = 2.33s: Train Loss = 0.1942, Precision = 51.85%, Recall = 75.76%, F1 = 61.57%, Val Loss = 0.1897, Precision = 58.90%, Recall = 75.71%, F1 = 66.26%\n",
            "Epoch 46 / 80, Epoch Time = 2.32s: Train Loss = 0.1946, Precision = 51.76%, Recall = 76.24%, F1 = 61.66%, Val Loss = 0.1929, Precision = 61.37%, Recall = 72.96%, F1 = 66.67%\n",
            "Epoch 47 / 80, Epoch Time = 2.32s: Train Loss = 0.1940, Precision = 52.39%, Recall = 75.42%, F1 = 61.83%, Val Loss = 0.1935, Precision = 63.17%, Recall = 72.04%, F1 = 67.32%\n",
            "Epoch 48 / 80, Epoch Time = 2.33s: Train Loss = 0.1924, Precision = 52.77%, Recall = 76.03%, F1 = 62.30%, Val Loss = 0.1924, Precision = 63.48%, Recall = 71.45%, F1 = 67.23%\n",
            "Epoch 49 / 80, Epoch Time = 2.33s: Train Loss = 0.1933, Precision = 52.87%, Recall = 75.87%, F1 = 62.31%, Val Loss = 0.1906, Precision = 61.25%, Recall = 74.02%, F1 = 67.03%\n",
            "Epoch 50 / 80, Epoch Time = 2.32s: Train Loss = 0.1914, Precision = 52.76%, Recall = 76.26%, F1 = 62.37%, Val Loss = 0.1960, Precision = 65.03%, Recall = 70.33%, F1 = 67.57%\n",
            "Epoch 51 / 80, Epoch Time = 2.33s: Train Loss = 0.1943, Precision = 52.45%, Recall = 75.66%, F1 = 61.95%, Val Loss = 0.2022, Precision = 67.59%, Recall = 67.53%, F1 = 67.56%\n",
            "Epoch 52 / 80, Epoch Time = 2.33s: Train Loss = 0.1931, Precision = 53.25%, Recall = 76.04%, F1 = 62.64%, Val Loss = 0.1941, Precision = 63.66%, Recall = 71.65%, F1 = 67.42%\n",
            "Epoch 53 / 80, Epoch Time = 2.34s: Train Loss = 0.1911, Precision = 53.33%, Recall = 76.52%, F1 = 62.85%, Val Loss = 0.1892, Precision = 58.32%, Recall = 76.46%, F1 = 66.17%\n",
            "Epoch 54 / 80, Epoch Time = 2.32s: Train Loss = 0.1919, Precision = 52.80%, Recall = 76.05%, F1 = 62.33%, Val Loss = 0.1885, Precision = 59.05%, Recall = 75.75%, F1 = 66.37%\n",
            "Epoch 55 / 80, Epoch Time = 2.34s: Train Loss = 0.1924, Precision = 52.97%, Recall = 76.10%, F1 = 62.46%, Val Loss = 0.1883, Precision = 57.74%, Recall = 77.09%, F1 = 66.03%\n",
            "Epoch 56 / 80, Epoch Time = 2.33s: Train Loss = 0.1893, Precision = 53.11%, Recall = 77.19%, F1 = 62.93%, Val Loss = 0.1921, Precision = 63.69%, Recall = 72.53%, F1 = 67.82%\n",
            "Epoch 57 / 80, Epoch Time = 2.32s: Train Loss = 0.1921, Precision = 53.02%, Recall = 75.79%, F1 = 62.39%, Val Loss = 0.1892, Precision = 61.43%, Recall = 74.99%, F1 = 67.54%\n",
            "Epoch 58 / 80, Epoch Time = 2.33s: Train Loss = 0.1898, Precision = 53.03%, Recall = 76.55%, F1 = 62.66%, Val Loss = 0.1918, Precision = 63.41%, Recall = 72.35%, F1 = 67.59%\n",
            "Epoch 59 / 80, Epoch Time = 2.33s: Train Loss = 0.1913, Precision = 53.26%, Recall = 75.53%, F1 = 62.47%, Val Loss = 0.1880, Precision = 61.31%, Recall = 75.37%, F1 = 67.62%\n",
            "Epoch 60 / 80, Epoch Time = 2.34s: Train Loss = 0.1893, Precision = 53.29%, Recall = 76.59%, F1 = 62.85%, Val Loss = 0.1885, Precision = 62.04%, Recall = 74.79%, F1 = 67.82%\n",
            "Epoch 61 / 80, Epoch Time = 2.33s: Train Loss = 0.1879, Precision = 53.88%, Recall = 76.95%, F1 = 63.38%, Val Loss = 0.1978, Precision = 67.65%, Recall = 68.98%, F1 = 68.31%\n",
            "Epoch 62 / 80, Epoch Time = 2.33s: Train Loss = 0.1888, Precision = 53.97%, Recall = 75.97%, F1 = 63.11%, Val Loss = 0.1865, Precision = 58.87%, Recall = 77.06%, F1 = 66.75%\n",
            "Epoch 63 / 80, Epoch Time = 2.32s: Train Loss = 0.1860, Precision = 54.70%, Recall = 77.34%, F1 = 64.08%, Val Loss = 0.1916, Precision = 65.03%, Recall = 72.09%, F1 = 68.38%\n",
            "Epoch 64 / 80, Epoch Time = 2.33s: Train Loss = 0.1871, Precision = 53.75%, Recall = 76.86%, F1 = 63.26%, Val Loss = 0.1884, Precision = 61.68%, Recall = 74.43%, F1 = 67.46%\n",
            "Epoch 65 / 80, Epoch Time = 2.33s: Train Loss = 0.1892, Precision = 53.75%, Recall = 76.78%, F1 = 63.24%, Val Loss = 0.1887, Precision = 61.71%, Recall = 74.44%, F1 = 67.48%\n",
            "Epoch 66 / 80, Epoch Time = 2.33s: Train Loss = 0.1866, Precision = 54.17%, Recall = 76.65%, F1 = 63.48%, Val Loss = 0.1877, Precision = 61.65%, Recall = 74.59%, F1 = 67.50%\n",
            "Epoch 67 / 80, Epoch Time = 2.35s: Train Loss = 0.1879, Precision = 53.80%, Recall = 76.48%, F1 = 63.16%, Val Loss = 0.1907, Precision = 64.57%, Recall = 72.26%, F1 = 68.20%\n",
            "Epoch 68 / 80, Epoch Time = 2.35s: Train Loss = 0.1864, Precision = 54.31%, Recall = 76.59%, F1 = 63.55%, Val Loss = 0.1913, Precision = 64.79%, Recall = 72.53%, F1 = 68.44%\n",
            "Epoch 69 / 80, Epoch Time = 2.32s: Train Loss = 0.1868, Precision = 54.96%, Recall = 76.58%, F1 = 64.00%, Val Loss = 0.1864, Precision = 60.24%, Recall = 75.97%, F1 = 67.20%\n",
            "Epoch 70 / 80, Epoch Time = 2.32s: Train Loss = 0.1856, Precision = 54.98%, Recall = 78.07%, F1 = 64.52%, Val Loss = 0.1891, Precision = 63.41%, Recall = 73.21%, F1 = 67.96%\n",
            "Epoch 71 / 80, Epoch Time = 2.33s: Train Loss = 0.1866, Precision = 54.37%, Recall = 77.03%, F1 = 63.74%, Val Loss = 0.1877, Precision = 61.74%, Recall = 74.45%, F1 = 67.50%\n",
            "Epoch 72 / 80, Epoch Time = 2.34s: Train Loss = 0.1856, Precision = 54.17%, Recall = 77.62%, F1 = 63.81%, Val Loss = 0.1877, Precision = 63.60%, Recall = 72.96%, F1 = 67.96%\n",
            "Epoch 73 / 80, Epoch Time = 2.33s: Train Loss = 0.1867, Precision = 54.80%, Recall = 77.40%, F1 = 64.17%, Val Loss = 0.1903, Precision = 65.21%, Recall = 71.68%, F1 = 68.30%\n",
            "Epoch 74 / 80, Epoch Time = 2.32s: Train Loss = 0.1868, Precision = 55.24%, Recall = 76.60%, F1 = 64.19%, Val Loss = 0.1886, Precision = 63.11%, Recall = 73.64%, F1 = 67.97%\n",
            "Epoch 75 / 80, Epoch Time = 2.33s: Train Loss = 0.1862, Precision = 54.77%, Recall = 76.40%, F1 = 63.80%, Val Loss = 0.1853, Precision = 53.75%, Recall = 80.47%, F1 = 64.45%\n",
            "Epoch 76 / 80, Epoch Time = 2.33s: Train Loss = 0.1856, Precision = 54.37%, Recall = 77.48%, F1 = 63.90%, Val Loss = 0.1879, Precision = 63.23%, Recall = 73.73%, F1 = 68.08%\n",
            "Epoch 77 / 80, Epoch Time = 2.35s: Train Loss = 0.1827, Precision = 56.33%, Recall = 77.93%, F1 = 65.39%, Val Loss = 0.1856, Precision = 60.58%, Recall = 75.41%, F1 = 67.19%\n",
            "Epoch 78 / 80, Epoch Time = 2.32s: Train Loss = 0.1856, Precision = 55.26%, Recall = 77.07%, F1 = 64.36%, Val Loss = 0.1898, Precision = 64.57%, Recall = 72.14%, F1 = 68.15%\n",
            "Epoch 79 / 80, Epoch Time = 2.33s: Train Loss = 0.1825, Precision = 55.87%, Recall = 77.41%, F1 = 64.90%, Val Loss = 0.1845, Precision = 59.30%, Recall = 76.57%, F1 = 66.84%\n",
            "Epoch 80 / 80, Epoch Time = 2.34s: Train Loss = 0.1860, Precision = 55.13%, Recall = 77.08%, F1 = 64.28%, Val Loss = 0.1876, Precision = 63.60%, Recall = 73.89%, F1 = 68.36%\n"
          ],
          "name": "stdout"
        }
      ]
    },
    {
      "metadata": {
        "id": "A8vRVjyxMEuP",
        "colab_type": "text"
      },
      "cell_type": "markdown",
      "source": [
        "**Задание** Другой способ регуляризовывать модель - использовать BatchNormalization (`nn.BatchNorm2d`). Попробуйте добавить его после свертки."
      ]
    },
    {
      "metadata": {
        "id": "vuMvZOBpMYMP",
        "colab_type": "code",
        "colab": {}
      },
      "cell_type": "code",
      "source": [
        "class ConvClassifier(nn.Module):\n",
        "    def __init__(self, vocab_size, emb_dim, filters_count):\n",
        "        super().__init__()\n",
        "        \n",
        "        self._embedding = nn.Embedding(vocab_size, emb_dim)\n",
        "        self._dropout = nn.Dropout(0.4)\n",
        "        self._conv3 = nn.Sequential(\n",
        "            nn.Conv2d(in_channels=1, out_channels=filters_count, kernel_size=(4, emb_dim)),\n",
        "            nn.ReLU(inplace=True),\n",
        "            nn.BatchNorm2d(filters_count)\n",
        "        )\n",
        "        self._out_layer = nn.Linear(filters_count, 1)\n",
        "        \n",
        "    def forward(self, inputs):\n",
        "        '''\n",
        "        inputs - LongTensor with shape (batch_size, max_word_len)\n",
        "        outputs - FloatTensor with shape (batch_size,)\n",
        "        '''\n",
        "        \n",
        "        outputs = self.embed(inputs)\n",
        "        return self._out_layer(outputs).squeeze(-1)\n",
        "    \n",
        "    def embed(self, inputs):\n",
        "        embs = self._dropout(self._embedding(inputs).unsqueeze(1))\n",
        "        return self._conv3(embs).squeeze(-1).max(-1)[0]"
      ],
      "execution_count": 0,
      "outputs": []
    },
    {
      "metadata": {
        "id": "r4QLULr4MZ6w",
        "colab_type": "code",
        "colab": {
          "base_uri": "https://localhost:8080/",
          "height": 1397
        },
        "outputId": "7294b12a-524a-49b4-b177-22add51314df"
      },
      "cell_type": "code",
      "source": [
        "model = ConvClassifier(len(char_index) + 1, 24, 128).cuda()\n",
        "\n",
        "criterion = nn.BCEWithLogitsLoss().cuda()\n",
        "\n",
        "optimizer = optim.Adam([param for param in model.parameters() if param.requires_grad])\n",
        "\n",
        "fit(model, criterion, optimizer, train_data=(X_train, train_labels), epochs_count=80, \n",
        "    batch_size=512, val_data=(X_test, test_labels), val_batch_size=1024)"
      ],
      "execution_count": 220,
      "outputs": [
        {
          "output_type": "stream",
          "text": [
            "Epoch 1 / 80, Epoch Time = 2.56s: Train Loss = 0.3347, Precision = 0.87%, Recall = 43.85%, F1 = 1.71%, Val Loss = 0.3132, Precision = 16.22%, Recall = 58.27%, F1 = 25.38%\n",
            "Epoch 2 / 80, Epoch Time = 2.44s: Train Loss = 0.2953, Precision = 9.93%, Recall = 66.87%, F1 = 17.29%, Val Loss = 0.2816, Precision = 38.45%, Recall = 61.30%, F1 = 47.26%\n",
            "Epoch 3 / 80, Epoch Time = 2.45s: Train Loss = 0.2771, Precision = 19.72%, Recall = 67.42%, F1 = 30.52%, Val Loss = 0.2766, Precision = 51.10%, Recall = 58.44%, F1 = 54.52%\n",
            "Epoch 4 / 80, Epoch Time = 2.45s: Train Loss = 0.2671, Precision = 24.10%, Recall = 67.54%, F1 = 35.53%, Val Loss = 0.2528, Precision = 50.85%, Recall = 63.64%, F1 = 56.53%\n",
            "Epoch 5 / 80, Epoch Time = 2.44s: Train Loss = 0.2570, Precision = 28.64%, Recall = 69.12%, F1 = 40.50%, Val Loss = 0.2443, Precision = 52.44%, Recall = 65.55%, F1 = 58.27%\n",
            "Epoch 6 / 80, Epoch Time = 2.45s: Train Loss = 0.2521, Precision = 30.39%, Recall = 68.95%, F1 = 42.18%, Val Loss = 0.2354, Precision = 54.02%, Recall = 66.07%, F1 = 59.44%\n",
            "Epoch 7 / 80, Epoch Time = 2.44s: Train Loss = 0.2453, Precision = 33.11%, Recall = 69.87%, F1 = 44.93%, Val Loss = 0.2331, Precision = 57.47%, Recall = 64.49%, F1 = 60.78%\n",
            "Epoch 8 / 80, Epoch Time = 2.45s: Train Loss = 0.2431, Precision = 34.81%, Recall = 69.76%, F1 = 46.45%, Val Loss = 0.2225, Precision = 54.63%, Recall = 68.19%, F1 = 60.66%\n",
            "Epoch 9 / 80, Epoch Time = 2.46s: Train Loss = 0.2407, Precision = 35.67%, Recall = 69.95%, F1 = 47.25%, Val Loss = 0.2223, Precision = 56.34%, Recall = 67.72%, F1 = 61.51%\n",
            "Epoch 10 / 80, Epoch Time = 2.43s: Train Loss = 0.2392, Precision = 36.04%, Recall = 69.83%, F1 = 47.54%, Val Loss = 0.2197, Precision = 57.13%, Recall = 67.48%, F1 = 61.88%\n",
            "Epoch 11 / 80, Epoch Time = 2.46s: Train Loss = 0.2351, Precision = 37.39%, Recall = 71.53%, F1 = 49.11%, Val Loss = 0.2185, Precision = 57.93%, Recall = 67.71%, F1 = 62.44%\n",
            "Epoch 12 / 80, Epoch Time = 2.45s: Train Loss = 0.2323, Precision = 38.42%, Recall = 71.38%, F1 = 49.95%, Val Loss = 0.2144, Precision = 57.41%, Recall = 68.82%, F1 = 62.60%\n",
            "Epoch 13 / 80, Epoch Time = 2.46s: Train Loss = 0.2330, Precision = 39.56%, Recall = 70.68%, F1 = 50.73%, Val Loss = 0.2107, Precision = 56.43%, Recall = 70.76%, F1 = 62.79%\n",
            "Epoch 14 / 80, Epoch Time = 2.45s: Train Loss = 0.2292, Precision = 39.95%, Recall = 70.65%, F1 = 51.04%, Val Loss = 0.2115, Precision = 57.20%, Recall = 69.64%, F1 = 62.81%\n",
            "Epoch 15 / 80, Epoch Time = 2.47s: Train Loss = 0.2295, Precision = 39.37%, Recall = 71.62%, F1 = 50.81%, Val Loss = 0.2157, Precision = 62.38%, Recall = 66.45%, F1 = 64.35%\n",
            "Epoch 16 / 80, Epoch Time = 2.46s: Train Loss = 0.2240, Precision = 41.66%, Recall = 73.77%, F1 = 53.25%, Val Loss = 0.2107, Precision = 60.76%, Recall = 68.37%, F1 = 64.34%\n",
            "Epoch 17 / 80, Epoch Time = 2.43s: Train Loss = 0.2241, Precision = 41.36%, Recall = 71.97%, F1 = 52.53%, Val Loss = 0.2075, Precision = 59.12%, Recall = 70.03%, F1 = 64.11%\n",
            "Epoch 18 / 80, Epoch Time = 2.42s: Train Loss = 0.2230, Precision = 42.26%, Recall = 72.77%, F1 = 53.47%, Val Loss = 0.2054, Precision = 59.60%, Recall = 70.91%, F1 = 64.77%\n",
            "Epoch 19 / 80, Epoch Time = 2.43s: Train Loss = 0.2226, Precision = 43.04%, Recall = 73.23%, F1 = 54.22%, Val Loss = 0.2090, Precision = 62.47%, Recall = 67.74%, F1 = 65.00%\n",
            "Epoch 20 / 80, Epoch Time = 2.45s: Train Loss = 0.2191, Precision = 43.21%, Recall = 72.76%, F1 = 54.22%, Val Loss = 0.2070, Precision = 61.55%, Recall = 67.89%, F1 = 64.57%\n",
            "Epoch 21 / 80, Epoch Time = 2.45s: Train Loss = 0.2206, Precision = 43.24%, Recall = 72.38%, F1 = 54.14%, Val Loss = 0.2076, Precision = 62.50%, Recall = 68.24%, F1 = 65.25%\n",
            "Epoch 22 / 80, Epoch Time = 2.44s: Train Loss = 0.2180, Precision = 44.56%, Recall = 73.81%, F1 = 55.57%, Val Loss = 0.2066, Precision = 62.74%, Recall = 67.70%, F1 = 65.13%\n",
            "Epoch 23 / 80, Epoch Time = 2.47s: Train Loss = 0.2158, Precision = 45.34%, Recall = 73.33%, F1 = 56.04%, Val Loss = 0.2024, Precision = 60.58%, Recall = 70.06%, F1 = 64.98%\n",
            "Epoch 24 / 80, Epoch Time = 2.46s: Train Loss = 0.2159, Precision = 43.95%, Recall = 73.05%, F1 = 54.88%, Val Loss = 0.2044, Precision = 63.26%, Recall = 68.08%, F1 = 65.58%\n",
            "Epoch 25 / 80, Epoch Time = 2.49s: Train Loss = 0.2181, Precision = 44.96%, Recall = 72.37%, F1 = 55.46%, Val Loss = 0.2057, Precision = 63.69%, Recall = 67.91%, F1 = 65.73%\n",
            "Epoch 26 / 80, Epoch Time = 2.46s: Train Loss = 0.2150, Precision = 45.36%, Recall = 73.19%, F1 = 56.01%, Val Loss = 0.2033, Precision = 63.75%, Recall = 68.38%, F1 = 65.98%\n",
            "Epoch 27 / 80, Epoch Time = 2.51s: Train Loss = 0.2137, Precision = 45.37%, Recall = 73.60%, F1 = 56.14%, Val Loss = 0.2001, Precision = 61.01%, Recall = 70.91%, F1 = 65.59%\n",
            "Epoch 28 / 80, Epoch Time = 2.47s: Train Loss = 0.2146, Precision = 45.59%, Recall = 72.93%, F1 = 56.11%, Val Loss = 0.1996, Precision = 62.32%, Recall = 70.05%, F1 = 65.96%\n",
            "Epoch 29 / 80, Epoch Time = 2.45s: Train Loss = 0.2139, Precision = 45.14%, Recall = 73.93%, F1 = 56.06%, Val Loss = 0.1974, Precision = 60.46%, Recall = 72.64%, F1 = 65.99%\n",
            "Epoch 30 / 80, Epoch Time = 2.47s: Train Loss = 0.2117, Precision = 46.15%, Recall = 73.63%, F1 = 56.74%, Val Loss = 0.1977, Precision = 61.13%, Recall = 71.43%, F1 = 65.88%\n",
            "Epoch 31 / 80, Epoch Time = 2.46s: Train Loss = 0.2131, Precision = 47.00%, Recall = 72.83%, F1 = 57.13%, Val Loss = 0.1951, Precision = 59.12%, Recall = 72.76%, F1 = 65.23%\n",
            "Epoch 32 / 80, Epoch Time = 2.46s: Train Loss = 0.2122, Precision = 46.14%, Recall = 73.58%, F1 = 56.72%, Val Loss = 0.1954, Precision = 60.76%, Recall = 72.68%, F1 = 66.19%\n",
            "Epoch 33 / 80, Epoch Time = 2.43s: Train Loss = 0.2099, Precision = 47.30%, Recall = 74.10%, F1 = 57.74%, Val Loss = 0.1980, Precision = 63.23%, Recall = 70.64%, F1 = 66.73%\n",
            "Epoch 34 / 80, Epoch Time = 2.46s: Train Loss = 0.2109, Precision = 47.06%, Recall = 73.73%, F1 = 57.45%, Val Loss = 0.1930, Precision = 56.92%, Recall = 75.40%, F1 = 64.87%\n",
            "Epoch 35 / 80, Epoch Time = 2.44s: Train Loss = 0.2093, Precision = 46.46%, Recall = 74.51%, F1 = 57.23%, Val Loss = 0.1962, Precision = 61.59%, Recall = 71.94%, F1 = 66.36%\n",
            "Epoch 36 / 80, Epoch Time = 2.47s: Train Loss = 0.2089, Precision = 48.25%, Recall = 73.71%, F1 = 58.33%, Val Loss = 0.1937, Precision = 58.84%, Recall = 74.09%, F1 = 65.59%\n",
            "Epoch 37 / 80, Epoch Time = 2.47s: Train Loss = 0.2095, Precision = 46.31%, Recall = 73.94%, F1 = 56.95%, Val Loss = 0.1928, Precision = 59.48%, Recall = 73.71%, F1 = 65.83%\n",
            "Epoch 38 / 80, Epoch Time = 2.48s: Train Loss = 0.2053, Precision = 48.04%, Recall = 74.32%, F1 = 58.36%, Val Loss = 0.1915, Precision = 57.71%, Recall = 74.88%, F1 = 65.19%\n",
            "Epoch 39 / 80, Epoch Time = 2.47s: Train Loss = 0.2057, Precision = 48.70%, Recall = 74.57%, F1 = 58.92%, Val Loss = 0.1939, Precision = 61.25%, Recall = 73.03%, F1 = 66.62%\n",
            "Epoch 40 / 80, Epoch Time = 2.44s: Train Loss = 0.2058, Precision = 47.92%, Recall = 73.82%, F1 = 58.11%, Val Loss = 0.1935, Precision = 62.56%, Recall = 71.70%, F1 = 66.82%\n",
            "Epoch 41 / 80, Epoch Time = 2.46s: Train Loss = 0.2071, Precision = 48.08%, Recall = 73.97%, F1 = 58.28%, Val Loss = 0.1916, Precision = 59.51%, Recall = 73.77%, F1 = 65.88%\n",
            "Epoch 42 / 80, Epoch Time = 2.47s: Train Loss = 0.2053, Precision = 48.12%, Recall = 74.60%, F1 = 58.50%, Val Loss = 0.1931, Precision = 59.73%, Recall = 73.12%, F1 = 65.75%\n",
            "Epoch 43 / 80, Epoch Time = 2.48s: Train Loss = 0.2044, Precision = 48.57%, Recall = 74.85%, F1 = 58.92%, Val Loss = 0.1905, Precision = 59.05%, Recall = 74.93%, F1 = 66.05%\n",
            "Epoch 44 / 80, Epoch Time = 2.47s: Train Loss = 0.2054, Precision = 48.67%, Recall = 74.47%, F1 = 58.86%, Val Loss = 0.1900, Precision = 60.09%, Recall = 74.18%, F1 = 66.40%\n",
            "Epoch 45 / 80, Epoch Time = 2.51s: Train Loss = 0.2063, Precision = 48.22%, Recall = 74.31%, F1 = 58.49%, Val Loss = 0.1955, Precision = 64.42%, Recall = 69.78%, F1 = 66.99%\n",
            "Epoch 46 / 80, Epoch Time = 2.45s: Train Loss = 0.2053, Precision = 48.96%, Recall = 74.60%, F1 = 59.12%, Val Loss = 0.1894, Precision = 58.96%, Recall = 74.85%, F1 = 65.96%\n",
            "Epoch 47 / 80, Epoch Time = 2.44s: Train Loss = 0.2050, Precision = 49.43%, Recall = 74.66%, F1 = 59.48%, Val Loss = 0.1964, Precision = 65.24%, Recall = 69.64%, F1 = 67.37%\n",
            "Epoch 48 / 80, Epoch Time = 2.44s: Train Loss = 0.2023, Precision = 49.36%, Recall = 75.05%, F1 = 59.55%, Val Loss = 0.1932, Precision = 62.93%, Recall = 70.90%, F1 = 66.68%\n",
            "Epoch 49 / 80, Epoch Time = 2.45s: Train Loss = 0.2016, Precision = 49.25%, Recall = 74.81%, F1 = 59.40%, Val Loss = 0.1907, Precision = 60.70%, Recall = 73.28%, F1 = 66.40%\n",
            "Epoch 50 / 80, Epoch Time = 2.42s: Train Loss = 0.2020, Precision = 49.45%, Recall = 74.47%, F1 = 59.43%, Val Loss = 0.1944, Precision = 63.23%, Recall = 70.16%, F1 = 66.52%\n",
            "Epoch 51 / 80, Epoch Time = 2.45s: Train Loss = 0.2005, Precision = 50.17%, Recall = 74.70%, F1 = 60.02%, Val Loss = 0.1916, Precision = 60.55%, Recall = 72.83%, F1 = 66.12%\n",
            "Epoch 52 / 80, Epoch Time = 2.44s: Train Loss = 0.2015, Precision = 49.40%, Recall = 75.12%, F1 = 59.60%, Val Loss = 0.1916, Precision = 62.99%, Recall = 72.77%, F1 = 67.53%\n",
            "Epoch 53 / 80, Epoch Time = 2.44s: Train Loss = 0.2023, Precision = 50.31%, Recall = 74.85%, F1 = 60.17%, Val Loss = 0.1918, Precision = 62.23%, Recall = 71.89%, F1 = 66.71%\n",
            "Epoch 54 / 80, Epoch Time = 2.44s: Train Loss = 0.2007, Precision = 49.75%, Recall = 74.80%, F1 = 59.76%, Val Loss = 0.1885, Precision = 60.88%, Recall = 75.08%, F1 = 67.24%\n",
            "Epoch 55 / 80, Epoch Time = 2.45s: Train Loss = 0.1988, Precision = 50.40%, Recall = 75.71%, F1 = 60.52%, Val Loss = 0.1892, Precision = 59.70%, Recall = 74.99%, F1 = 66.47%\n",
            "Epoch 56 / 80, Epoch Time = 2.45s: Train Loss = 0.2015, Precision = 50.57%, Recall = 75.19%, F1 = 60.47%, Val Loss = 0.1933, Precision = 64.02%, Recall = 71.26%, F1 = 67.45%\n",
            "Epoch 57 / 80, Epoch Time = 2.43s: Train Loss = 0.1996, Precision = 49.80%, Recall = 75.63%, F1 = 60.06%, Val Loss = 0.1902, Precision = 63.05%, Recall = 72.49%, F1 = 67.44%\n",
            "Epoch 58 / 80, Epoch Time = 2.44s: Train Loss = 0.2011, Precision = 50.08%, Recall = 74.78%, F1 = 59.99%, Val Loss = 0.1887, Precision = 61.95%, Recall = 74.27%, F1 = 67.55%\n",
            "Epoch 59 / 80, Epoch Time = 2.43s: Train Loss = 0.1982, Precision = 50.75%, Recall = 75.39%, F1 = 60.66%, Val Loss = 0.1901, Precision = 62.74%, Recall = 72.80%, F1 = 67.40%\n",
            "Epoch 60 / 80, Epoch Time = 2.46s: Train Loss = 0.1997, Precision = 51.00%, Recall = 75.23%, F1 = 60.79%, Val Loss = 0.1892, Precision = 63.11%, Recall = 72.50%, F1 = 67.48%\n",
            "Epoch 61 / 80, Epoch Time = 2.43s: Train Loss = 0.1979, Precision = 51.13%, Recall = 75.50%, F1 = 60.97%, Val Loss = 0.1877, Precision = 59.73%, Recall = 75.03%, F1 = 66.51%\n",
            "Epoch 62 / 80, Epoch Time = 2.44s: Train Loss = 0.1994, Precision = 51.01%, Recall = 75.03%, F1 = 60.73%, Val Loss = 0.1896, Precision = 62.99%, Recall = 72.47%, F1 = 67.40%\n",
            "Epoch 63 / 80, Epoch Time = 2.46s: Train Loss = 0.1997, Precision = 50.41%, Recall = 74.65%, F1 = 60.18%, Val Loss = 0.1934, Precision = 62.77%, Recall = 70.90%, F1 = 66.59%\n",
            "Epoch 64 / 80, Epoch Time = 2.44s: Train Loss = 0.1985, Precision = 50.84%, Recall = 75.53%, F1 = 60.77%, Val Loss = 0.1892, Precision = 62.77%, Recall = 73.22%, F1 = 67.60%\n",
            "Epoch 65 / 80, Epoch Time = 2.45s: Train Loss = 0.1989, Precision = 50.98%, Recall = 75.31%, F1 = 60.80%, Val Loss = 0.1906, Precision = 62.50%, Recall = 72.64%, F1 = 67.19%\n",
            "Epoch 66 / 80, Epoch Time = 2.45s: Train Loss = 0.1954, Precision = 52.19%, Recall = 75.72%, F1 = 61.79%, Val Loss = 0.1881, Precision = 60.00%, Recall = 75.00%, F1 = 66.67%\n",
            "Epoch 67 / 80, Epoch Time = 2.45s: Train Loss = 0.1977, Precision = 50.75%, Recall = 75.63%, F1 = 60.74%, Val Loss = 0.1901, Precision = 60.79%, Recall = 73.58%, F1 = 66.58%\n",
            "Epoch 68 / 80, Epoch Time = 2.51s: Train Loss = 0.1988, Precision = 50.78%, Recall = 75.99%, F1 = 60.88%, Val Loss = 0.1920, Precision = 64.76%, Recall = 71.18%, F1 = 67.82%\n",
            "Epoch 69 / 80, Epoch Time = 2.44s: Train Loss = 0.1978, Precision = 50.80%, Recall = 75.19%, F1 = 60.63%, Val Loss = 0.1873, Precision = 62.13%, Recall = 73.63%, F1 = 67.39%\n",
            "Epoch 70 / 80, Epoch Time = 2.46s: Train Loss = 0.1964, Precision = 52.04%, Recall = 75.00%, F1 = 61.44%, Val Loss = 0.1866, Precision = 60.21%, Recall = 75.35%, F1 = 66.94%\n",
            "Epoch 71 / 80, Epoch Time = 2.45s: Train Loss = 0.1964, Precision = 51.39%, Recall = 75.87%, F1 = 61.28%, Val Loss = 0.1888, Precision = 61.16%, Recall = 73.94%, F1 = 66.94%\n",
            "Epoch 72 / 80, Epoch Time = 2.45s: Train Loss = 0.1970, Precision = 50.98%, Recall = 75.17%, F1 = 60.76%, Val Loss = 0.1897, Precision = 62.50%, Recall = 72.75%, F1 = 67.24%\n",
            "Epoch 73 / 80, Epoch Time = 2.45s: Train Loss = 0.1952, Precision = 52.51%, Recall = 75.73%, F1 = 62.02%, Val Loss = 0.1862, Precision = 58.69%, Recall = 75.85%, F1 = 66.17%\n",
            "Epoch 74 / 80, Epoch Time = 2.48s: Train Loss = 0.1967, Precision = 51.98%, Recall = 76.11%, F1 = 61.77%, Val Loss = 0.1884, Precision = 62.77%, Recall = 73.96%, F1 = 67.91%\n",
            "Epoch 75 / 80, Epoch Time = 2.48s: Train Loss = 0.1942, Precision = 51.69%, Recall = 76.11%, F1 = 61.56%, Val Loss = 0.1885, Precision = 63.17%, Recall = 72.78%, F1 = 67.64%\n",
            "Epoch 76 / 80, Epoch Time = 2.48s: Train Loss = 0.1962, Precision = 51.64%, Recall = 75.75%, F1 = 61.41%, Val Loss = 0.1853, Precision = 60.21%, Recall = 76.05%, F1 = 67.21%\n",
            "Epoch 77 / 80, Epoch Time = 2.47s: Train Loss = 0.1964, Precision = 50.92%, Recall = 74.59%, F1 = 60.52%, Val Loss = 0.1901, Precision = 65.15%, Recall = 71.21%, F1 = 68.05%\n",
            "Epoch 78 / 80, Epoch Time = 2.48s: Train Loss = 0.1955, Precision = 51.46%, Recall = 74.69%, F1 = 60.93%, Val Loss = 0.1858, Precision = 59.79%, Recall = 75.80%, F1 = 66.85%\n",
            "Epoch 79 / 80, Epoch Time = 2.46s: Train Loss = 0.1937, Precision = 52.08%, Recall = 76.45%, F1 = 61.96%, Val Loss = 0.1898, Precision = 63.45%, Recall = 72.21%, F1 = 67.54%\n",
            "Epoch 80 / 80, Epoch Time = 2.47s: Train Loss = 0.1946, Precision = 51.95%, Recall = 75.55%, F1 = 61.56%, Val Loss = 0.1903, Precision = 62.32%, Recall = 73.26%, F1 = 67.35%\n"
          ],
          "name": "stdout"
        }
      ]
    },
    {
      "metadata": {
        "id": "bMAa6MDNMGmC",
        "colab_type": "text"
      },
      "cell_type": "markdown",
      "source": [
        "**Задание** Еще способ улучшить модель - добавить сверток. Реализуйте модель как на картинке в начале ноутбука: со свертками на 2, 3, 4 символа."
      ]
    },
    {
      "metadata": {
        "id": "FjZA4h7xRwjU",
        "colab_type": "code",
        "colab": {}
      },
      "cell_type": "code",
      "source": [
        "class ConvClassifier(nn.Module):\n",
        "    def __init__(self, vocab_size, emb_dim, filters_count):\n",
        "        super().__init__()\n",
        "        \n",
        "        self._embedding = nn.Embedding(vocab_size, emb_dim)\n",
        "        self._dropout = nn.Dropout(0.3)\n",
        "        self._conv32 = nn.Sequential(\n",
        "            nn.Conv2d(in_channels=1, out_channels=filters_count, kernel_size=(2, emb_dim)),\n",
        "            nn.ReLU(inplace=True),\n",
        "            nn.BatchNorm2d(filters_count)\n",
        "        )\n",
        "        self._conv33 = nn.Sequential(\n",
        "            nn.Conv2d(in_channels=1, out_channels=filters_count, kernel_size=(3, emb_dim)),\n",
        "            nn.ReLU(inplace=True),\n",
        "            nn.BatchNorm2d(filters_count)\n",
        "        )\n",
        "        self._conv34 = nn.Sequential(\n",
        "            nn.Conv2d(in_channels=1, out_channels=filters_count, kernel_size=(4, emb_dim)),\n",
        "            nn.ReLU(inplace=True),\n",
        "            nn.BatchNorm2d(filters_count)\n",
        "        )\n",
        "        self._out_layer = nn.Linear(filters_count * 3, 1)\n",
        "        \n",
        "    def forward(self, inputs):\n",
        "        '''\n",
        "        inputs - LongTensor with shape (batch_size, max_word_len)\n",
        "        outputs - FloatTensor with shape (batch_size,)\n",
        "        '''\n",
        "        \n",
        "        outputs = self.embed(inputs)\n",
        "        return self._out_layer(outputs).squeeze(-1)\n",
        "    \n",
        "    def embed(self, inputs):\n",
        "        embs = self._dropout(self._embedding(inputs).unsqueeze(1))\n",
        "        small = self._conv32(embs).squeeze(-1).max(-1)[0]\n",
        "        medium = self._conv33(embs).squeeze(-1).max(-1)[0]\n",
        "        large = self._conv34(embs).squeeze(-1).max(-1)[0]\n",
        "        return torch.cat((small, medium, large), 1)"
      ],
      "execution_count": 0,
      "outputs": []
    },
    {
      "metadata": {
        "id": "HnOL2cPHZvzP",
        "colab_type": "code",
        "colab": {
          "base_uri": "https://localhost:8080/",
          "height": 1397
        },
        "outputId": "b55978ea-28f7-4a3c-b89b-94ae53312476"
      },
      "cell_type": "code",
      "source": [
        "model = ConvClassifier(len(char_index) + 1, 24, 128).cuda()\n",
        "\n",
        "criterion = nn.BCEWithLogitsLoss().cuda()\n",
        "\n",
        "optimizer = optim.Adam([param for param in model.parameters() if param.requires_grad])\n",
        "\n",
        "fit(model, criterion, optimizer, train_data=(X_train, train_labels), epochs_count=80, \n",
        "    batch_size=512, val_data=(X_test, test_labels), val_batch_size=1024)"
      ],
      "execution_count": 224,
      "outputs": [
        {
          "output_type": "stream",
          "text": [
            "Epoch 1 / 80, Epoch Time = 4.10s: Train Loss = 0.3310, Precision = 2.62%, Recall = 31.78%, F1 = 4.84%, Val Loss = 0.2911, Precision = 18.99%, Recall = 60.78%, F1 = 28.94%\n",
            "Epoch 2 / 80, Epoch Time = 4.01s: Train Loss = 0.2786, Precision = 14.34%, Recall = 68.92%, F1 = 23.74%, Val Loss = 0.2568, Precision = 38.66%, Recall = 64.40%, F1 = 48.31%\n",
            "Epoch 3 / 80, Epoch Time = 4.01s: Train Loss = 0.2565, Precision = 26.62%, Recall = 69.42%, F1 = 38.48%, Val Loss = 0.2460, Precision = 54.09%, Recall = 62.55%, F1 = 58.01%\n",
            "Epoch 4 / 80, Epoch Time = 4.06s: Train Loss = 0.2442, Precision = 32.95%, Recall = 70.93%, F1 = 44.99%, Val Loss = 0.2382, Precision = 57.96%, Recall = 62.12%, F1 = 59.97%\n",
            "Epoch 5 / 80, Epoch Time = 4.02s: Train Loss = 0.2382, Precision = 36.21%, Recall = 71.00%, F1 = 47.96%, Val Loss = 0.2301, Precision = 58.48%, Recall = 63.91%, F1 = 61.07%\n",
            "Epoch 6 / 80, Epoch Time = 4.00s: Train Loss = 0.2317, Precision = 38.11%, Recall = 71.26%, F1 = 49.66%, Val Loss = 0.2265, Precision = 60.43%, Recall = 63.28%, F1 = 61.82%\n",
            "Epoch 7 / 80, Epoch Time = 4.06s: Train Loss = 0.2262, Precision = 40.64%, Recall = 71.77%, F1 = 51.89%, Val Loss = 0.2270, Precision = 63.41%, Recall = 62.52%, F1 = 62.96%\n",
            "Epoch 8 / 80, Epoch Time = 4.00s: Train Loss = 0.2231, Precision = 42.26%, Recall = 72.81%, F1 = 53.48%, Val Loss = 0.2295, Precision = 65.88%, Recall = 61.08%, F1 = 63.39%\n",
            "Epoch 9 / 80, Epoch Time = 4.02s: Train Loss = 0.2190, Precision = 43.43%, Recall = 73.99%, F1 = 54.73%, Val Loss = 0.2229, Precision = 65.95%, Recall = 62.86%, F1 = 64.37%\n",
            "Epoch 10 / 80, Epoch Time = 4.00s: Train Loss = 0.2164, Precision = 44.18%, Recall = 74.09%, F1 = 55.35%, Val Loss = 0.2229, Precision = 67.23%, Recall = 62.71%, F1 = 64.89%\n",
            "Epoch 11 / 80, Epoch Time = 3.97s: Train Loss = 0.2138, Precision = 46.09%, Recall = 73.38%, F1 = 56.62%, Val Loss = 0.2069, Precision = 61.31%, Recall = 69.15%, F1 = 65.00%\n",
            "Epoch 12 / 80, Epoch Time = 3.96s: Train Loss = 0.2099, Precision = 46.77%, Recall = 74.06%, F1 = 57.33%, Val Loss = 0.2144, Precision = 66.71%, Recall = 64.37%, F1 = 65.52%\n",
            "Epoch 13 / 80, Epoch Time = 3.99s: Train Loss = 0.2079, Precision = 47.78%, Recall = 74.79%, F1 = 58.31%, Val Loss = 0.2162, Precision = 68.08%, Recall = 63.13%, F1 = 65.51%\n",
            "Epoch 14 / 80, Epoch Time = 4.00s: Train Loss = 0.2049, Precision = 48.45%, Recall = 74.68%, F1 = 58.77%, Val Loss = 0.2136, Precision = 67.16%, Recall = 64.40%, F1 = 65.75%\n",
            "Epoch 15 / 80, Epoch Time = 3.99s: Train Loss = 0.2022, Precision = 49.13%, Recall = 75.47%, F1 = 59.51%, Val Loss = 0.2072, Precision = 65.88%, Recall = 66.64%, F1 = 66.26%\n",
            "Epoch 16 / 80, Epoch Time = 4.03s: Train Loss = 0.2021, Precision = 49.85%, Recall = 75.56%, F1 = 60.07%, Val Loss = 0.2170, Precision = 69.88%, Recall = 63.58%, F1 = 66.58%\n",
            "Epoch 17 / 80, Epoch Time = 4.04s: Train Loss = 0.2004, Precision = 49.77%, Recall = 75.69%, F1 = 60.05%, Val Loss = 0.2049, Precision = 66.68%, Recall = 66.05%, F1 = 66.36%\n",
            "Epoch 18 / 80, Epoch Time = 4.03s: Train Loss = 0.1979, Precision = 51.06%, Recall = 75.92%, F1 = 61.05%, Val Loss = 0.2020, Precision = 66.40%, Recall = 67.60%, F1 = 66.99%\n",
            "Epoch 19 / 80, Epoch Time = 4.04s: Train Loss = 0.1970, Precision = 51.47%, Recall = 76.15%, F1 = 61.42%, Val Loss = 0.2001, Precision = 66.37%, Recall = 68.03%, F1 = 67.19%\n",
            "Epoch 20 / 80, Epoch Time = 4.05s: Train Loss = 0.1975, Precision = 50.64%, Recall = 76.45%, F1 = 60.93%, Val Loss = 0.2039, Precision = 67.93%, Recall = 66.03%, F1 = 66.97%\n",
            "Epoch 21 / 80, Epoch Time = 4.01s: Train Loss = 0.1963, Precision = 51.20%, Recall = 76.26%, F1 = 61.26%, Val Loss = 0.2160, Precision = 71.71%, Recall = 62.82%, F1 = 66.97%\n",
            "Epoch 22 / 80, Epoch Time = 4.05s: Train Loss = 0.1923, Precision = 52.05%, Recall = 76.66%, F1 = 62.01%, Val Loss = 0.1992, Precision = 66.49%, Recall = 68.78%, F1 = 67.62%\n",
            "Epoch 23 / 80, Epoch Time = 4.08s: Train Loss = 0.1926, Precision = 52.68%, Recall = 77.00%, F1 = 62.56%, Val Loss = 0.1981, Precision = 66.34%, Recall = 68.58%, F1 = 67.44%\n",
            "Epoch 24 / 80, Epoch Time = 4.03s: Train Loss = 0.1892, Precision = 53.59%, Recall = 77.30%, F1 = 63.29%, Val Loss = 0.1997, Precision = 67.93%, Recall = 67.31%, F1 = 67.62%\n",
            "Epoch 25 / 80, Epoch Time = 4.02s: Train Loss = 0.1896, Precision = 53.52%, Recall = 76.87%, F1 = 63.11%, Val Loss = 0.1954, Precision = 65.58%, Recall = 70.36%, F1 = 67.89%\n",
            "Epoch 26 / 80, Epoch Time = 4.05s: Train Loss = 0.1905, Precision = 53.46%, Recall = 77.19%, F1 = 63.17%, Val Loss = 0.1969, Precision = 65.82%, Recall = 68.91%, F1 = 67.33%\n",
            "Epoch 27 / 80, Epoch Time = 4.04s: Train Loss = 0.1895, Precision = 53.62%, Recall = 77.39%, F1 = 63.35%, Val Loss = 0.2067, Precision = 71.46%, Recall = 64.59%, F1 = 67.85%\n",
            "Epoch 28 / 80, Epoch Time = 4.07s: Train Loss = 0.1877, Precision = 54.41%, Recall = 77.15%, F1 = 63.82%, Val Loss = 0.1927, Precision = 66.83%, Recall = 69.52%, F1 = 68.15%\n",
            "Epoch 29 / 80, Epoch Time = 4.01s: Train Loss = 0.1859, Precision = 54.23%, Recall = 76.68%, F1 = 63.53%, Val Loss = 0.1913, Precision = 65.76%, Recall = 70.56%, F1 = 68.08%\n",
            "Epoch 30 / 80, Epoch Time = 4.00s: Train Loss = 0.1847, Precision = 55.21%, Recall = 77.95%, F1 = 64.64%, Val Loss = 0.1985, Precision = 68.93%, Recall = 67.17%, F1 = 68.04%\n",
            "Epoch 31 / 80, Epoch Time = 4.00s: Train Loss = 0.1855, Precision = 54.73%, Recall = 76.21%, F1 = 63.71%, Val Loss = 0.1972, Precision = 68.72%, Recall = 67.67%, F1 = 68.19%\n",
            "Epoch 32 / 80, Epoch Time = 4.03s: Train Loss = 0.1830, Precision = 55.06%, Recall = 77.49%, F1 = 64.37%, Val Loss = 0.1931, Precision = 68.05%, Recall = 69.04%, F1 = 68.54%\n",
            "Epoch 33 / 80, Epoch Time = 4.06s: Train Loss = 0.1812, Precision = 56.63%, Recall = 78.22%, F1 = 65.70%, Val Loss = 0.1969, Precision = 69.12%, Recall = 67.96%, F1 = 68.53%\n",
            "Epoch 34 / 80, Epoch Time = 4.03s: Train Loss = 0.1788, Precision = 56.57%, Recall = 77.87%, F1 = 65.54%, Val Loss = 0.1965, Precision = 69.15%, Recall = 68.07%, F1 = 68.60%\n",
            "Epoch 35 / 80, Epoch Time = 4.10s: Train Loss = 0.1796, Precision = 56.70%, Recall = 78.44%, F1 = 65.82%, Val Loss = 0.2007, Precision = 71.59%, Recall = 66.10%, F1 = 68.74%\n",
            "Epoch 36 / 80, Epoch Time = 4.06s: Train Loss = 0.1777, Precision = 56.88%, Recall = 79.32%, F1 = 66.25%, Val Loss = 0.1991, Precision = 69.57%, Recall = 66.94%, F1 = 68.23%\n",
            "Epoch 37 / 80, Epoch Time = 4.05s: Train Loss = 0.1799, Precision = 57.62%, Recall = 77.88%, F1 = 66.23%, Val Loss = 0.1912, Precision = 67.80%, Recall = 70.25%, F1 = 69.00%\n",
            "Epoch 38 / 80, Epoch Time = 4.08s: Train Loss = 0.1789, Precision = 57.16%, Recall = 78.43%, F1 = 66.12%, Val Loss = 0.1939, Precision = 69.51%, Recall = 68.45%, F1 = 68.98%\n",
            "Epoch 39 / 80, Epoch Time = 4.04s: Train Loss = 0.1781, Precision = 57.36%, Recall = 78.49%, F1 = 66.28%, Val Loss = 0.1897, Precision = 67.47%, Recall = 70.05%, F1 = 68.74%\n",
            "Epoch 40 / 80, Epoch Time = 4.06s: Train Loss = 0.1775, Precision = 57.74%, Recall = 78.14%, F1 = 66.41%, Val Loss = 0.1863, Precision = 64.02%, Recall = 72.49%, F1 = 67.99%\n",
            "Epoch 41 / 80, Epoch Time = 4.03s: Train Loss = 0.1782, Precision = 56.97%, Recall = 77.85%, F1 = 65.79%, Val Loss = 0.1893, Precision = 67.44%, Recall = 69.85%, F1 = 68.62%\n",
            "Epoch 42 / 80, Epoch Time = 4.04s: Train Loss = 0.1764, Precision = 57.57%, Recall = 78.80%, F1 = 66.53%, Val Loss = 0.1898, Precision = 68.17%, Recall = 70.14%, F1 = 69.14%\n",
            "Epoch 43 / 80, Epoch Time = 4.01s: Train Loss = 0.1766, Precision = 58.38%, Recall = 78.30%, F1 = 66.89%, Val Loss = 0.1978, Precision = 71.49%, Recall = 66.34%, F1 = 68.82%\n",
            "Epoch 44 / 80, Epoch Time = 4.03s: Train Loss = 0.1745, Precision = 58.49%, Recall = 78.99%, F1 = 67.21%, Val Loss = 0.1923, Precision = 69.79%, Recall = 68.29%, F1 = 69.03%\n",
            "Epoch 45 / 80, Epoch Time = 4.02s: Train Loss = 0.1754, Precision = 58.32%, Recall = 79.37%, F1 = 67.24%, Val Loss = 0.2024, Precision = 72.50%, Recall = 65.03%, F1 = 68.56%\n",
            "Epoch 46 / 80, Epoch Time = 4.01s: Train Loss = 0.1727, Precision = 58.80%, Recall = 79.20%, F1 = 67.49%, Val Loss = 0.1966, Precision = 71.07%, Recall = 67.37%, F1 = 69.17%\n",
            "Epoch 47 / 80, Epoch Time = 4.00s: Train Loss = 0.1724, Precision = 58.99%, Recall = 78.84%, F1 = 67.49%, Val Loss = 0.1924, Precision = 69.70%, Recall = 68.46%, F1 = 69.07%\n",
            "Epoch 48 / 80, Epoch Time = 4.01s: Train Loss = 0.1731, Precision = 58.90%, Recall = 79.00%, F1 = 67.49%, Val Loss = 0.1858, Precision = 65.27%, Recall = 71.49%, F1 = 68.24%\n",
            "Epoch 49 / 80, Epoch Time = 4.02s: Train Loss = 0.1711, Precision = 59.45%, Recall = 79.33%, F1 = 67.97%, Val Loss = 0.1870, Precision = 67.93%, Recall = 70.66%, F1 = 69.27%\n",
            "Epoch 50 / 80, Epoch Time = 4.00s: Train Loss = 0.1716, Precision = 59.12%, Recall = 79.53%, F1 = 67.82%, Val Loss = 0.1939, Precision = 70.82%, Recall = 67.22%, F1 = 68.97%\n",
            "Epoch 51 / 80, Epoch Time = 4.01s: Train Loss = 0.1678, Precision = 59.49%, Recall = 79.45%, F1 = 68.03%, Val Loss = 0.1889, Precision = 67.80%, Recall = 69.59%, F1 = 68.68%\n",
            "Epoch 52 / 80, Epoch Time = 4.06s: Train Loss = 0.1694, Precision = 59.88%, Recall = 79.45%, F1 = 68.29%, Val Loss = 0.1985, Precision = 73.38%, Recall = 65.73%, F1 = 69.35%\n",
            "Epoch 53 / 80, Epoch Time = 4.12s: Train Loss = 0.1707, Precision = 59.82%, Recall = 79.71%, F1 = 68.35%, Val Loss = 0.1898, Precision = 69.05%, Recall = 69.89%, F1 = 69.47%\n",
            "Epoch 54 / 80, Epoch Time = 4.03s: Train Loss = 0.1699, Precision = 60.24%, Recall = 79.40%, F1 = 68.50%, Val Loss = 0.1836, Precision = 63.60%, Recall = 73.79%, F1 = 68.32%\n",
            "Epoch 55 / 80, Epoch Time = 4.03s: Train Loss = 0.1695, Precision = 60.14%, Recall = 79.16%, F1 = 68.36%, Val Loss = 0.1835, Precision = 66.01%, Recall = 72.46%, F1 = 69.08%\n",
            "Epoch 56 / 80, Epoch Time = 4.06s: Train Loss = 0.1697, Precision = 60.01%, Recall = 79.14%, F1 = 68.26%, Val Loss = 0.1856, Precision = 68.29%, Recall = 70.89%, F1 = 69.57%\n",
            "Epoch 57 / 80, Epoch Time = 4.02s: Train Loss = 0.1691, Precision = 60.07%, Recall = 78.45%, F1 = 68.04%, Val Loss = 0.1836, Precision = 60.40%, Recall = 76.69%, F1 = 67.58%\n",
            "Epoch 58 / 80, Epoch Time = 4.15s: Train Loss = 0.1690, Precision = 59.78%, Recall = 79.16%, F1 = 68.12%, Val Loss = 0.1850, Precision = 66.86%, Recall = 71.32%, F1 = 69.02%\n",
            "Epoch 59 / 80, Epoch Time = 4.03s: Train Loss = 0.1679, Precision = 60.50%, Recall = 79.45%, F1 = 68.69%, Val Loss = 0.1857, Precision = 68.54%, Recall = 70.58%, F1 = 69.54%\n",
            "Epoch 60 / 80, Epoch Time = 4.01s: Train Loss = 0.1670, Precision = 60.25%, Recall = 79.66%, F1 = 68.61%, Val Loss = 0.1865, Precision = 68.48%, Recall = 70.41%, F1 = 69.43%\n",
            "Epoch 61 / 80, Epoch Time = 4.01s: Train Loss = 0.1662, Precision = 60.93%, Recall = 79.57%, F1 = 69.01%, Val Loss = 0.1855, Precision = 68.11%, Recall = 71.12%, F1 = 69.58%\n",
            "Epoch 62 / 80, Epoch Time = 4.10s: Train Loss = 0.1671, Precision = 60.59%, Recall = 79.69%, F1 = 68.84%, Val Loss = 0.1865, Precision = 68.78%, Recall = 70.15%, F1 = 69.46%\n",
            "Epoch 63 / 80, Epoch Time = 4.01s: Train Loss = 0.1646, Precision = 61.66%, Recall = 80.43%, F1 = 69.81%, Val Loss = 0.1873, Precision = 69.97%, Recall = 70.03%, F1 = 70.00%\n",
            "Epoch 64 / 80, Epoch Time = 4.02s: Train Loss = 0.1666, Precision = 60.80%, Recall = 79.15%, F1 = 68.78%, Val Loss = 0.1811, Precision = 65.12%, Recall = 74.06%, F1 = 69.31%\n",
            "Epoch 65 / 80, Epoch Time = 4.00s: Train Loss = 0.1632, Precision = 61.28%, Recall = 80.17%, F1 = 69.46%, Val Loss = 0.1878, Precision = 69.88%, Recall = 69.52%, F1 = 69.70%\n",
            "Epoch 66 / 80, Epoch Time = 4.03s: Train Loss = 0.1646, Precision = 61.19%, Recall = 79.38%, F1 = 69.11%, Val Loss = 0.1858, Precision = 68.05%, Recall = 70.95%, F1 = 69.47%\n",
            "Epoch 67 / 80, Epoch Time = 4.04s: Train Loss = 0.1641, Precision = 61.46%, Recall = 79.60%, F1 = 69.36%, Val Loss = 0.1916, Precision = 71.68%, Recall = 67.73%, F1 = 69.65%\n",
            "Epoch 68 / 80, Epoch Time = 4.07s: Train Loss = 0.1638, Precision = 61.52%, Recall = 79.76%, F1 = 69.46%, Val Loss = 0.1889, Precision = 70.03%, Recall = 68.83%, F1 = 69.43%\n",
            "Epoch 69 / 80, Epoch Time = 4.04s: Train Loss = 0.1657, Precision = 61.86%, Recall = 79.52%, F1 = 69.59%, Val Loss = 0.1861, Precision = 69.30%, Recall = 70.02%, F1 = 69.66%\n",
            "Epoch 70 / 80, Epoch Time = 4.06s: Train Loss = 0.1614, Precision = 62.30%, Recall = 80.31%, F1 = 70.17%, Val Loss = 0.1841, Precision = 69.09%, Recall = 71.51%, F1 = 70.27%\n",
            "Epoch 71 / 80, Epoch Time = 4.01s: Train Loss = 0.1602, Precision = 62.47%, Recall = 80.43%, F1 = 70.32%, Val Loss = 0.1831, Precision = 67.01%, Recall = 72.02%, F1 = 69.43%\n",
            "Epoch 72 / 80, Epoch Time = 4.01s: Train Loss = 0.1612, Precision = 61.65%, Recall = 80.49%, F1 = 69.82%, Val Loss = 0.1920, Precision = 72.38%, Recall = 67.48%, F1 = 69.84%\n",
            "Epoch 73 / 80, Epoch Time = 4.02s: Train Loss = 0.1623, Precision = 62.69%, Recall = 80.14%, F1 = 70.35%, Val Loss = 0.1857, Precision = 69.15%, Recall = 70.63%, F1 = 69.88%\n",
            "Epoch 74 / 80, Epoch Time = 4.01s: Train Loss = 0.1632, Precision = 61.68%, Recall = 79.92%, F1 = 69.62%, Val Loss = 0.1865, Precision = 68.75%, Recall = 70.71%, F1 = 69.72%\n",
            "Epoch 75 / 80, Epoch Time = 4.02s: Train Loss = 0.1619, Precision = 61.49%, Recall = 80.31%, F1 = 69.65%, Val Loss = 0.1847, Precision = 69.54%, Recall = 70.82%, F1 = 70.17%\n",
            "Epoch 76 / 80, Epoch Time = 4.01s: Train Loss = 0.1602, Precision = 62.72%, Recall = 80.43%, F1 = 70.48%, Val Loss = 0.1934, Precision = 72.01%, Recall = 66.95%, F1 = 69.39%\n",
            "Epoch 77 / 80, Epoch Time = 3.99s: Train Loss = 0.1583, Precision = 63.18%, Recall = 80.20%, F1 = 70.68%, Val Loss = 0.1845, Precision = 67.80%, Recall = 71.19%, F1 = 69.46%\n",
            "Epoch 78 / 80, Epoch Time = 4.00s: Train Loss = 0.1600, Precision = 62.83%, Recall = 80.84%, F1 = 70.70%, Val Loss = 0.1822, Precision = 66.89%, Recall = 72.87%, F1 = 69.75%\n",
            "Epoch 79 / 80, Epoch Time = 4.02s: Train Loss = 0.1624, Precision = 62.15%, Recall = 79.34%, F1 = 69.70%, Val Loss = 0.1818, Precision = 66.52%, Recall = 73.37%, F1 = 69.78%\n",
            "Epoch 80 / 80, Epoch Time = 4.04s: Train Loss = 0.1594, Precision = 62.43%, Recall = 80.95%, F1 = 70.49%, Val Loss = 0.1898, Precision = 71.28%, Recall = 68.42%, F1 = 69.82%\n"
          ],
          "name": "stdout"
        }
      ]
    },
    {
      "metadata": {
        "id": "qstoDysVsSQ2",
        "colab_type": "text"
      },
      "cell_type": "markdown",
      "source": [
        "**Задание** Различают Narrow и Wide свёртки - по сути, добавляется ли нулевой паддинг или нет. Для текстов эта разница выглядит так:  \n",
        "![narrow_vs_wide](https://image.ibb.co/eqGZaS/2018_03_28_11_23_17.png)\n",
        "*From Neural Network Methods in Natural Language Processing.*\n",
        "\n",
        "Слева - паддинг отсутствует, справа - есть. Попробуйте добавить паддинг и посмотреть, что получится. Потенциально он поможет выучить хорошие префиксы слова."
      ]
    },
    {
      "metadata": {
        "id": "fyvTI2xtedQG",
        "colab_type": "code",
        "colab": {}
      },
      "cell_type": "code",
      "source": [
        "class ConvClassifier(nn.Module):\n",
        "    def __init__(self, vocab_size, emb_dim, filters_count):\n",
        "        super().__init__()\n",
        "        \n",
        "        self._embedding = nn.Embedding(vocab_size, emb_dim)\n",
        "        self._dropout = nn.Dropout(0.3)\n",
        "        self._conv32 = nn.Sequential(\n",
        "            nn.Conv2d(in_channels=1, out_channels=filters_count, kernel_size=(2, emb_dim), padding=(1, 0)),\n",
        "            nn.ReLU(inplace=True),\n",
        "            nn.BatchNorm2d(filters_count)\n",
        "        )\n",
        "        self._conv33 = nn.Sequential(\n",
        "            nn.Conv2d(in_channels=1, out_channels=filters_count, kernel_size=(3, emb_dim), padding=(1, 0)),\n",
        "            nn.ReLU(inplace=True),\n",
        "            nn.BatchNorm2d(filters_count)\n",
        "        )\n",
        "        self._conv34 = nn.Sequential(\n",
        "            nn.Conv2d(in_channels=1, out_channels=filters_count, kernel_size=(4, emb_dim), padding=(1, 0)),\n",
        "            nn.ReLU(inplace=True),\n",
        "            nn.BatchNorm2d(filters_count)\n",
        "        )\n",
        "        self._out_layer = nn.Linear(filters_count * 3, 1)\n",
        "        \n",
        "    def forward(self, inputs):\n",
        "        '''\n",
        "        inputs - LongTensor with shape (batch_size, max_word_len)\n",
        "        outputs - FloatTensor with shape (batch_size,)\n",
        "        '''\n",
        "        \n",
        "        outputs = self.embed(inputs)\n",
        "        return self._out_layer(outputs).squeeze(-1)\n",
        "    \n",
        "    def embed(self, inputs):\n",
        "        embs = self._dropout(self._embedding(inputs).unsqueeze(1))\n",
        "        small = self._conv32(embs).squeeze(-1).max(-1)[0]\n",
        "        medium = self._conv33(embs).squeeze(-1).max(-1)[0]\n",
        "        large = self._conv34(embs).squeeze(-1).max(-1)[0]\n",
        "        return torch.cat((small, medium, large), 1)"
      ],
      "execution_count": 0,
      "outputs": []
    },
    {
      "metadata": {
        "id": "NaixPiF2emVR",
        "colab_type": "code",
        "colab": {
          "base_uri": "https://localhost:8080/",
          "height": 1397
        },
        "outputId": "49e25d3e-03e4-4c16-d916-82c1cf1aa45f"
      },
      "cell_type": "code",
      "source": [
        "model = ConvClassifier(len(char_index) + 1, 24, 128).cuda()\n",
        "\n",
        "criterion = nn.BCEWithLogitsLoss().cuda()\n",
        "\n",
        "optimizer = optim.Adam([param for param in model.parameters() if param.requires_grad])\n",
        "\n",
        "fit(model, criterion, optimizer, train_data=(X_train, train_labels), epochs_count=80, \n",
        "    batch_size=512, val_data=(X_test, test_labels), val_batch_size=1024)"
      ],
      "execution_count": 310,
      "outputs": [
        {
          "output_type": "stream",
          "text": [
            "Epoch 1 / 80, Epoch Time = 4.15s: Train Loss = 0.3207, Precision = 2.79%, Recall = 58.90%, F1 = 5.33%, Val Loss = 0.2932, Precision = 26.62%, Recall = 58.67%, F1 = 36.62%\n",
            "Epoch 2 / 80, Epoch Time = 4.10s: Train Loss = 0.2785, Precision = 16.00%, Recall = 66.29%, F1 = 25.77%, Val Loss = 0.2661, Precision = 44.51%, Recall = 59.84%, F1 = 51.05%\n",
            "Epoch 3 / 80, Epoch Time = 4.02s: Train Loss = 0.2602, Precision = 24.33%, Recall = 66.03%, F1 = 35.56%, Val Loss = 0.2571, Precision = 55.55%, Recall = 58.68%, F1 = 57.07%\n",
            "Epoch 4 / 80, Epoch Time = 4.03s: Train Loss = 0.2498, Precision = 30.46%, Recall = 69.10%, F1 = 42.28%, Val Loss = 0.2368, Precision = 51.34%, Recall = 64.08%, F1 = 57.01%\n",
            "Epoch 5 / 80, Epoch Time = 4.02s: Train Loss = 0.2397, Precision = 34.52%, Recall = 70.38%, F1 = 46.32%, Val Loss = 0.2332, Precision = 57.74%, Recall = 63.92%, F1 = 60.68%\n",
            "Epoch 6 / 80, Epoch Time = 4.04s: Train Loss = 0.2346, Precision = 37.47%, Recall = 70.87%, F1 = 49.02%, Val Loss = 0.2174, Precision = 52.47%, Recall = 69.03%, F1 = 59.62%\n",
            "Epoch 7 / 80, Epoch Time = 4.01s: Train Loss = 0.2313, Precision = 38.20%, Recall = 72.11%, F1 = 49.94%, Val Loss = 0.2291, Precision = 63.81%, Recall = 61.96%, F1 = 62.87%\n",
            "Epoch 8 / 80, Epoch Time = 4.01s: Train Loss = 0.2271, Precision = 40.71%, Recall = 71.62%, F1 = 51.91%, Val Loss = 0.2230, Precision = 63.08%, Recall = 63.37%, F1 = 63.22%\n",
            "Epoch 9 / 80, Epoch Time = 4.02s: Train Loss = 0.2239, Precision = 41.71%, Recall = 72.09%, F1 = 52.84%, Val Loss = 0.2155, Precision = 61.25%, Recall = 65.89%, F1 = 63.49%\n",
            "Epoch 10 / 80, Epoch Time = 4.03s: Train Loss = 0.2184, Precision = 43.12%, Recall = 74.19%, F1 = 54.54%, Val Loss = 0.2181, Precision = 63.87%, Recall = 64.78%, F1 = 64.32%\n",
            "Epoch 11 / 80, Epoch Time = 4.01s: Train Loss = 0.2158, Precision = 44.10%, Recall = 72.90%, F1 = 54.96%, Val Loss = 0.2217, Precision = 67.35%, Recall = 62.63%, F1 = 64.90%\n",
            "Epoch 12 / 80, Epoch Time = 4.03s: Train Loss = 0.2147, Precision = 45.45%, Recall = 73.40%, F1 = 56.14%, Val Loss = 0.2271, Precision = 69.85%, Recall = 59.83%, F1 = 64.45%\n",
            "Epoch 13 / 80, Epoch Time = 4.07s: Train Loss = 0.2110, Precision = 45.80%, Recall = 73.42%, F1 = 56.41%, Val Loss = 0.1989, Precision = 54.33%, Recall = 74.47%, F1 = 62.82%\n",
            "Epoch 14 / 80, Epoch Time = 4.04s: Train Loss = 0.2123, Precision = 46.22%, Recall = 73.49%, F1 = 56.75%, Val Loss = 0.2061, Precision = 65.58%, Recall = 67.83%, F1 = 66.69%\n",
            "Epoch 15 / 80, Epoch Time = 4.02s: Train Loss = 0.2081, Precision = 47.70%, Recall = 73.96%, F1 = 58.00%, Val Loss = 0.2150, Precision = 67.74%, Recall = 63.74%, F1 = 65.68%\n",
            "Epoch 16 / 80, Epoch Time = 4.00s: Train Loss = 0.2049, Precision = 47.67%, Recall = 74.84%, F1 = 58.24%, Val Loss = 0.2052, Precision = 66.49%, Recall = 67.09%, F1 = 66.79%\n",
            "Epoch 17 / 80, Epoch Time = 4.01s: Train Loss = 0.2064, Precision = 47.66%, Recall = 74.31%, F1 = 58.07%, Val Loss = 0.2062, Precision = 66.80%, Recall = 66.07%, F1 = 66.43%\n",
            "Epoch 18 / 80, Epoch Time = 4.01s: Train Loss = 0.2035, Precision = 48.73%, Recall = 75.32%, F1 = 59.17%, Val Loss = 0.2152, Precision = 70.34%, Recall = 62.44%, F1 = 66.15%\n",
            "Epoch 19 / 80, Epoch Time = 4.01s: Train Loss = 0.2001, Precision = 49.66%, Recall = 74.95%, F1 = 59.74%, Val Loss = 0.2222, Precision = 72.32%, Recall = 60.51%, F1 = 65.89%\n",
            "Epoch 20 / 80, Epoch Time = 4.02s: Train Loss = 0.2003, Precision = 49.77%, Recall = 75.34%, F1 = 59.94%, Val Loss = 0.2026, Precision = 66.65%, Recall = 67.57%, F1 = 67.11%\n",
            "Epoch 21 / 80, Epoch Time = 4.04s: Train Loss = 0.1996, Precision = 49.88%, Recall = 74.98%, F1 = 59.91%, Val Loss = 0.2247, Precision = 72.93%, Recall = 60.27%, F1 = 66.00%\n",
            "Epoch 22 / 80, Epoch Time = 4.01s: Train Loss = 0.1978, Precision = 50.87%, Recall = 75.23%, F1 = 60.70%, Val Loss = 0.2102, Precision = 69.30%, Recall = 64.35%, F1 = 66.74%\n",
            "Epoch 23 / 80, Epoch Time = 4.02s: Train Loss = 0.1951, Precision = 51.50%, Recall = 76.51%, F1 = 61.56%, Val Loss = 0.2023, Precision = 68.38%, Recall = 66.78%, F1 = 67.57%\n",
            "Epoch 24 / 80, Epoch Time = 4.01s: Train Loss = 0.1949, Precision = 52.19%, Recall = 76.28%, F1 = 61.98%, Val Loss = 0.2017, Precision = 67.74%, Recall = 66.89%, F1 = 67.31%\n",
            "Epoch 25 / 80, Epoch Time = 4.03s: Train Loss = 0.1933, Precision = 52.25%, Recall = 76.42%, F1 = 62.07%, Val Loss = 0.1983, Precision = 67.23%, Recall = 68.27%, F1 = 67.74%\n",
            "Epoch 26 / 80, Epoch Time = 4.02s: Train Loss = 0.1936, Precision = 52.07%, Recall = 76.41%, F1 = 61.93%, Val Loss = 0.1967, Precision = 67.07%, Recall = 68.69%, F1 = 67.87%\n",
            "Epoch 27 / 80, Epoch Time = 4.01s: Train Loss = 0.1915, Precision = 52.48%, Recall = 76.50%, F1 = 62.26%, Val Loss = 0.1944, Precision = 64.88%, Recall = 69.98%, F1 = 67.33%\n",
            "Epoch 28 / 80, Epoch Time = 4.03s: Train Loss = 0.1912, Precision = 53.33%, Recall = 77.30%, F1 = 63.11%, Val Loss = 0.2016, Precision = 69.54%, Recall = 66.72%, F1 = 68.10%\n",
            "Epoch 29 / 80, Epoch Time = 4.03s: Train Loss = 0.1912, Precision = 53.63%, Recall = 76.82%, F1 = 63.17%, Val Loss = 0.1955, Precision = 66.52%, Recall = 69.25%, F1 = 67.86%\n",
            "Epoch 30 / 80, Epoch Time = 4.00s: Train Loss = 0.1872, Precision = 54.00%, Recall = 77.72%, F1 = 63.73%, Val Loss = 0.2121, Precision = 71.28%, Recall = 63.50%, F1 = 67.16%\n",
            "Epoch 31 / 80, Epoch Time = 4.02s: Train Loss = 0.1883, Precision = 54.44%, Recall = 77.02%, F1 = 63.79%, Val Loss = 0.1963, Precision = 67.41%, Recall = 68.60%, F1 = 68.00%\n",
            "Epoch 32 / 80, Epoch Time = 4.00s: Train Loss = 0.1857, Precision = 54.61%, Recall = 77.71%, F1 = 64.15%, Val Loss = 0.1899, Precision = 65.40%, Recall = 71.86%, F1 = 68.48%\n",
            "Epoch 33 / 80, Epoch Time = 4.00s: Train Loss = 0.1852, Precision = 54.01%, Recall = 77.07%, F1 = 63.51%, Val Loss = 0.2044, Precision = 71.59%, Recall = 65.02%, F1 = 68.15%\n",
            "Epoch 34 / 80, Epoch Time = 4.02s: Train Loss = 0.1864, Precision = 54.31%, Recall = 77.06%, F1 = 63.71%, Val Loss = 0.2027, Precision = 70.12%, Recall = 65.77%, F1 = 67.88%\n",
            "Epoch 35 / 80, Epoch Time = 4.02s: Train Loss = 0.1862, Precision = 55.13%, Recall = 77.54%, F1 = 64.45%, Val Loss = 0.1950, Precision = 67.96%, Recall = 69.66%, F1 = 68.80%\n",
            "Epoch 36 / 80, Epoch Time = 4.04s: Train Loss = 0.1843, Precision = 55.21%, Recall = 76.95%, F1 = 64.29%, Val Loss = 0.2036, Precision = 72.53%, Recall = 64.56%, F1 = 68.31%\n",
            "Epoch 37 / 80, Epoch Time = 4.05s: Train Loss = 0.1845, Precision = 55.44%, Recall = 77.91%, F1 = 64.78%, Val Loss = 0.2036, Precision = 71.10%, Recall = 65.49%, F1 = 68.18%\n",
            "Epoch 38 / 80, Epoch Time = 4.03s: Train Loss = 0.1833, Precision = 55.75%, Recall = 77.75%, F1 = 64.94%, Val Loss = 0.2061, Precision = 72.87%, Recall = 64.21%, F1 = 68.27%\n",
            "Epoch 39 / 80, Epoch Time = 4.02s: Train Loss = 0.1820, Precision = 56.33%, Recall = 78.06%, F1 = 65.44%, Val Loss = 0.1977, Precision = 70.30%, Recall = 66.46%, F1 = 68.33%\n",
            "Epoch 40 / 80, Epoch Time = 4.03s: Train Loss = 0.1810, Precision = 56.68%, Recall = 78.49%, F1 = 65.82%, Val Loss = 0.1980, Precision = 68.57%, Recall = 68.15%, F1 = 68.36%\n",
            "Epoch 41 / 80, Epoch Time = 4.06s: Train Loss = 0.1783, Precision = 56.28%, Recall = 78.62%, F1 = 65.60%, Val Loss = 0.1905, Precision = 67.56%, Recall = 70.69%, F1 = 69.09%\n",
            "Epoch 42 / 80, Epoch Time = 4.06s: Train Loss = 0.1789, Precision = 57.20%, Recall = 78.21%, F1 = 66.08%, Val Loss = 0.2005, Precision = 71.68%, Recall = 65.85%, F1 = 68.64%\n",
            "Epoch 43 / 80, Epoch Time = 4.07s: Train Loss = 0.1790, Precision = 57.46%, Recall = 78.40%, F1 = 66.32%, Val Loss = 0.2029, Precision = 72.50%, Recall = 64.60%, F1 = 68.32%\n",
            "Epoch 44 / 80, Epoch Time = 4.11s: Train Loss = 0.1803, Precision = 56.73%, Recall = 77.56%, F1 = 65.53%, Val Loss = 0.2003, Precision = 71.68%, Recall = 66.32%, F1 = 68.89%\n",
            "Epoch 45 / 80, Epoch Time = 4.01s: Train Loss = 0.1766, Precision = 58.41%, Recall = 78.52%, F1 = 66.99%, Val Loss = 0.1898, Precision = 66.22%, Recall = 71.78%, F1 = 68.89%\n",
            "Epoch 46 / 80, Epoch Time = 4.00s: Train Loss = 0.1772, Precision = 57.60%, Recall = 78.62%, F1 = 66.49%, Val Loss = 0.2011, Precision = 71.04%, Recall = 66.01%, F1 = 68.43%\n",
            "Epoch 47 / 80, Epoch Time = 4.00s: Train Loss = 0.1771, Precision = 58.06%, Recall = 77.80%, F1 = 66.50%, Val Loss = 0.1987, Precision = 70.82%, Recall = 66.79%, F1 = 68.75%\n",
            "Epoch 48 / 80, Epoch Time = 4.00s: Train Loss = 0.1755, Precision = 58.31%, Recall = 78.93%, F1 = 67.07%, Val Loss = 0.1952, Precision = 69.91%, Recall = 67.68%, F1 = 68.78%\n",
            "Epoch 49 / 80, Epoch Time = 4.03s: Train Loss = 0.1756, Precision = 57.51%, Recall = 78.63%, F1 = 66.43%, Val Loss = 0.1949, Precision = 70.46%, Recall = 67.53%, F1 = 68.96%\n",
            "Epoch 50 / 80, Epoch Time = 4.01s: Train Loss = 0.1733, Precision = 58.81%, Recall = 79.18%, F1 = 67.49%, Val Loss = 0.1876, Precision = 65.55%, Recall = 72.10%, F1 = 68.67%\n",
            "Epoch 51 / 80, Epoch Time = 4.02s: Train Loss = 0.1736, Precision = 58.75%, Recall = 79.13%, F1 = 67.43%, Val Loss = 0.2007, Precision = 72.74%, Recall = 65.50%, F1 = 68.93%\n",
            "Epoch 52 / 80, Epoch Time = 4.02s: Train Loss = 0.1732, Precision = 58.89%, Recall = 78.35%, F1 = 67.24%, Val Loss = 0.1962, Precision = 70.73%, Recall = 67.25%, F1 = 68.95%\n",
            "Epoch 53 / 80, Epoch Time = 4.02s: Train Loss = 0.1742, Precision = 58.31%, Recall = 78.89%, F1 = 67.05%, Val Loss = 0.1945, Precision = 69.51%, Recall = 68.28%, F1 = 68.89%\n",
            "Epoch 54 / 80, Epoch Time = 4.01s: Train Loss = 0.1735, Precision = 58.61%, Recall = 79.13%, F1 = 67.34%, Val Loss = 0.1946, Precision = 71.01%, Recall = 68.18%, F1 = 69.56%\n",
            "Epoch 55 / 80, Epoch Time = 4.01s: Train Loss = 0.1743, Precision = 58.99%, Recall = 79.12%, F1 = 67.59%, Val Loss = 0.1999, Precision = 72.77%, Recall = 65.13%, F1 = 68.74%\n",
            "Epoch 56 / 80, Epoch Time = 4.04s: Train Loss = 0.1704, Precision = 59.27%, Recall = 79.90%, F1 = 68.06%, Val Loss = 0.1948, Precision = 71.43%, Recall = 67.68%, F1 = 69.50%\n",
            "Epoch 57 / 80, Epoch Time = 4.10s: Train Loss = 0.1751, Precision = 58.86%, Recall = 78.87%, F1 = 67.41%, Val Loss = 0.2213, Precision = 75.95%, Recall = 60.89%, F1 = 67.59%\n",
            "Epoch 58 / 80, Epoch Time = 4.02s: Train Loss = 0.1733, Precision = 59.45%, Recall = 78.78%, F1 = 67.77%, Val Loss = 0.1997, Precision = 73.38%, Recall = 66.20%, F1 = 69.61%\n",
            "Epoch 59 / 80, Epoch Time = 4.07s: Train Loss = 0.1713, Precision = 60.07%, Recall = 79.11%, F1 = 68.29%, Val Loss = 0.1909, Precision = 69.33%, Recall = 69.33%, F1 = 69.33%\n",
            "Epoch 60 / 80, Epoch Time = 4.06s: Train Loss = 0.1692, Precision = 59.90%, Recall = 79.53%, F1 = 68.33%, Val Loss = 0.1963, Precision = 71.40%, Recall = 67.14%, F1 = 69.21%\n",
            "Epoch 61 / 80, Epoch Time = 4.11s: Train Loss = 0.1714, Precision = 59.61%, Recall = 79.15%, F1 = 68.00%, Val Loss = 0.1864, Precision = 66.55%, Recall = 73.18%, F1 = 69.71%\n",
            "Epoch 62 / 80, Epoch Time = 4.03s: Train Loss = 0.1704, Precision = 59.93%, Recall = 79.57%, F1 = 68.37%, Val Loss = 0.2016, Precision = 73.63%, Recall = 64.69%, F1 = 68.87%\n",
            "Epoch 63 / 80, Epoch Time = 4.01s: Train Loss = 0.1704, Precision = 60.50%, Recall = 78.77%, F1 = 68.43%, Val Loss = 0.1956, Precision = 71.68%, Recall = 67.71%, F1 = 69.64%\n",
            "Epoch 64 / 80, Epoch Time = 4.03s: Train Loss = 0.1668, Precision = 60.48%, Recall = 80.00%, F1 = 68.88%, Val Loss = 0.1948, Precision = 70.64%, Recall = 68.11%, F1 = 69.35%\n",
            "Epoch 65 / 80, Epoch Time = 4.02s: Train Loss = 0.1686, Precision = 60.24%, Recall = 79.21%, F1 = 68.43%, Val Loss = 0.1873, Precision = 69.42%, Recall = 70.93%, F1 = 70.17%\n",
            "Epoch 66 / 80, Epoch Time = 4.04s: Train Loss = 0.1657, Precision = 61.35%, Recall = 80.05%, F1 = 69.47%, Val Loss = 0.1967, Precision = 71.98%, Recall = 66.88%, F1 = 69.34%\n",
            "Epoch 67 / 80, Epoch Time = 4.03s: Train Loss = 0.1708, Precision = 60.14%, Recall = 79.68%, F1 = 68.55%, Val Loss = 0.1977, Precision = 72.90%, Recall = 65.90%, F1 = 69.22%\n",
            "Epoch 68 / 80, Epoch Time = 3.99s: Train Loss = 0.1666, Precision = 60.59%, Recall = 79.86%, F1 = 68.90%, Val Loss = 0.1894, Precision = 70.40%, Recall = 70.05%, F1 = 70.23%\n",
            "Epoch 69 / 80, Epoch Time = 4.00s: Train Loss = 0.1662, Precision = 60.89%, Recall = 80.59%, F1 = 69.37%, Val Loss = 0.1974, Precision = 73.60%, Recall = 66.23%, F1 = 69.72%\n",
            "Epoch 70 / 80, Epoch Time = 4.02s: Train Loss = 0.1673, Precision = 60.36%, Recall = 79.56%, F1 = 68.64%, Val Loss = 0.2004, Precision = 73.84%, Recall = 66.05%, F1 = 69.73%\n",
            "Epoch 71 / 80, Epoch Time = 4.01s: Train Loss = 0.1671, Precision = 60.94%, Recall = 80.38%, F1 = 69.32%, Val Loss = 0.1914, Precision = 70.73%, Recall = 69.17%, F1 = 69.94%\n",
            "Epoch 72 / 80, Epoch Time = 4.05s: Train Loss = 0.1650, Precision = 61.40%, Recall = 80.01%, F1 = 69.48%, Val Loss = 0.1906, Precision = 71.31%, Recall = 68.73%, F1 = 70.00%\n",
            "Epoch 73 / 80, Epoch Time = 4.01s: Train Loss = 0.1670, Precision = 60.88%, Recall = 79.16%, F1 = 68.83%, Val Loss = 0.2034, Precision = 75.21%, Recall = 63.75%, F1 = 69.01%\n",
            "Epoch 74 / 80, Epoch Time = 4.02s: Train Loss = 0.1654, Precision = 61.58%, Recall = 79.54%, F1 = 69.42%, Val Loss = 0.1903, Precision = 70.52%, Recall = 68.61%, F1 = 69.55%\n",
            "Epoch 75 / 80, Epoch Time = 4.03s: Train Loss = 0.1660, Precision = 60.96%, Recall = 79.20%, F1 = 68.89%, Val Loss = 0.1914, Precision = 71.16%, Recall = 68.61%, F1 = 69.86%\n",
            "Epoch 76 / 80, Epoch Time = 4.04s: Train Loss = 0.1643, Precision = 61.65%, Recall = 80.19%, F1 = 69.70%, Val Loss = 0.1890, Precision = 70.76%, Recall = 69.43%, F1 = 70.09%\n",
            "Epoch 77 / 80, Epoch Time = 4.00s: Train Loss = 0.1626, Precision = 62.11%, Recall = 80.51%, F1 = 70.12%, Val Loss = 0.1990, Precision = 73.35%, Recall = 65.97%, F1 = 69.47%\n",
            "Epoch 78 / 80, Epoch Time = 4.01s: Train Loss = 0.1637, Precision = 61.75%, Recall = 79.99%, F1 = 69.70%, Val Loss = 0.1956, Precision = 72.53%, Recall = 67.39%, F1 = 69.87%\n",
            "Epoch 79 / 80, Epoch Time = 4.02s: Train Loss = 0.1626, Precision = 61.54%, Recall = 80.13%, F1 = 69.61%, Val Loss = 0.1974, Precision = 72.26%, Recall = 66.52%, F1 = 69.27%\n",
            "Epoch 80 / 80, Epoch Time = 4.01s: Train Loss = 0.1634, Precision = 62.04%, Recall = 80.08%, F1 = 69.92%, Val Loss = 0.1889, Precision = 70.03%, Recall = 70.76%, F1 = 70.40%\n"
          ],
          "name": "stdout"
        }
      ]
    },
    {
      "metadata": {
        "id": "GGExTM-SoSqu",
        "colab_type": "text"
      },
      "cell_type": "markdown",
      "source": [
        "Как видим, самая последняя сетка \"*Dropout + Batch Normalization + 3 Convolution Layers*\" превосходит успех модели \"*Logistic Regression + New Feature*\"."
      ]
    },
    {
      "metadata": {
        "id": "5JwcvGNSIJs4",
        "colab_type": "text"
      },
      "cell_type": "markdown",
      "source": [
        "# Сдача задания\n",
        "\n",
        "[Форма](https://goo.gl/forms/FfMnyNGI2P4xo0QD3)"
      ]
    }
  ]
}